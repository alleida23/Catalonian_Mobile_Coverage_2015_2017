{
 "cells": [
  {
   "cell_type": "markdown",
   "id": "8ab8563e",
   "metadata": {},
   "source": [
    "# SQL Data Cleaning for Mobile Coverage Dataset"
   ]
  },
  {
   "cell_type": "markdown",
   "id": "d7d258d8",
   "metadata": {},
   "source": [
    "### Purpose:\n",
    "\n",
    "This SQL code is designed to clean and prepare a public dataset of mobile coverage data in Google BigQuery.\n",
    "\n",
    "The primary goal is data cleaning, which includes creating a new table, normalizing categorical features, handling missing data, and removing outliers from numerical features.\n",
    "\n",
    "This process is essential for ensuring data quality and reliability for subsequent analysis."
   ]
  },
  {
   "cell_type": "code",
   "execution_count": null,
   "id": "4b0c3753",
   "metadata": {},
   "outputs": [],
   "source": []
  },
  {
   "cell_type": "markdown",
   "id": "65c636ad",
   "metadata": {},
   "source": [
    "### Import libraries and modules"
   ]
  },
  {
   "cell_type": "code",
   "execution_count": null,
   "id": "cc027d0c",
   "metadata": {},
   "outputs": [],
   "source": [
    "import pandas as pd\n",
    "from google.cloud import bigquery"
   ]
  },
  {
   "cell_type": "code",
   "execution_count": null,
   "id": "7f6ee88c",
   "metadata": {},
   "outputs": [],
   "source": []
  },
  {
   "cell_type": "markdown",
   "id": "9efb65ae",
   "metadata": {},
   "source": [
    "### Import function: Interactive SQL Query to Pandas DataFrame Converter"
   ]
  },
  {
   "cell_type": "code",
   "execution_count": null,
   "id": "ae31a221",
   "metadata": {},
   "outputs": [],
   "source": [
    "# Import the custom query_df and run_query functions for executing BigQuery queries\n",
    "from query_functions import query_df  # Execute the query and return the output as a DataFrame\n",
    "from query_functions import run_query  # Execute the query without returning a DataFrame, used for INSERT, UPDATE, DELETE, etc."
   ]
  },
  {
   "cell_type": "code",
   "execution_count": null,
   "id": "0ed997ae",
   "metadata": {},
   "outputs": [],
   "source": []
  },
  {
   "cell_type": "markdown",
   "id": "22930ba2",
   "metadata": {},
   "source": [
    "### Datasets and Tables paths to Google BigQuery"
   ]
  },
  {
   "cell_type": "code",
   "execution_count": null,
   "id": "9c1cfe11",
   "metadata": {},
   "outputs": [],
   "source": [
    "# Catalonian mobile coverage eu (2015-2017) --> mobile_data_2015_2017_cleaned\n",
    "mobile_data_cleaned = \"bq-analyst-230590.project_cat_mobile_coverage_2015_2017.mobile_data_2015_2017_cleaned\""
   ]
  },
  {
   "cell_type": "code",
   "execution_count": null,
   "id": "9187dbc5",
   "metadata": {},
   "outputs": [],
   "source": []
  },
  {
   "cell_type": "markdown",
   "id": "e06eb08f",
   "metadata": {},
   "source": [
    "### Creating Table and Columns"
   ]
  },
  {
   "cell_type": "markdown",
   "id": "571f6ffa",
   "metadata": {},
   "source": [
    "This following code creates a **copy of the 'mobile_data_2015_2017' table** by selecting specific columns and saves it as 'mobile_data_2015_2017_cleaned"
   ]
  },
  {
   "cell_type": "code",
   "execution_count": null,
   "id": "30598c39",
   "metadata": {},
   "outputs": [],
   "source": [
    "# Datasets: {mobile_data_cleaned}\n",
    "\n",
    "# SQL query:\n",
    "query = f\"\"\"\n",
    "CREATE TABLE IF NOT EXISTS `{mobile_data_cleaned}` AS\n",
    "SELECT\n",
    "    date,\n",
    "    hour,\n",
    "    lat,\n",
    "    long,\n",
    "    signal,\n",
    "    network,\n",
    "    operator,\n",
    "    status,\n",
    "    description,\n",
    "    net,\n",
    "    speed,\n",
    "    satellites,\n",
    "    precission,\n",
    "    provider,\n",
    "    activity,\n",
    "    downloadSpeed,\n",
    "    uploadSpeed,\n",
    "    postal_code,\n",
    "    town_name,\n",
    "    position_geom\n",
    "FROM\n",
    "  `bigquery-public-data.catalonian_mobile_coverage_eu.mobile_data_2015_2017`\n",
    "    \"\"\"\n",
    "\n",
    "# Execute the query\n",
    "run_query(query)"
   ]
  },
  {
   "cell_type": "markdown",
   "id": "3b17b934",
   "metadata": {},
   "source": [
    "    - Preview"
   ]
  },
  {
   "cell_type": "code",
   "execution_count": null,
   "id": "33b19103",
   "metadata": {},
   "outputs": [],
   "source": [
    "# Datasets: {mobile_data_cleaned}\n",
    "\n",
    "# SQL query:\n",
    "query = f\"\"\"\n",
    "SELECT *\n",
    "FROM `{mobile_data_cleaned}` \n",
    "WHERE\n",
    "    network IS NOT NULL\n",
    "    AND postal_code IS NOT NULL\n",
    "LIMIT 10\n",
    "    \"\"\"\n",
    "\n",
    "# Execute the query\n",
    "raw_data = query_df(query)\n",
    "\n",
    "# Display data\n",
    "raw_data"
   ]
  },
  {
   "cell_type": "code",
   "execution_count": null,
   "id": "f72a70aa",
   "metadata": {},
   "outputs": [],
   "source": [
    "raw_data.columns"
   ]
  },
  {
   "cell_type": "markdown",
   "id": "1907fe9d",
   "metadata": {},
   "source": [
    "    - Add 'province' new column"
   ]
  },
  {
   "cell_type": "markdown",
   "id": "b6253329",
   "metadata": {},
   "source": [
    "A new column, **province** is being added to the BigQuery dataset to include province values, enhancing the dataset for regional analysis.\n",
    "\n",
    "This new column is currently empty and will be populated based on the structure of Spanish **postal codes**, with the first two digits determining the province name. If the 'postal_code' doesn't match any of these values, it assigns 'Not defined'. Existing rows with pre-defined province values will not be affected by this update."
   ]
  },
  {
   "cell_type": "code",
   "execution_count": null,
   "id": "ed6b2ef9",
   "metadata": {},
   "outputs": [],
   "source": [
    "# Datasets: {mobile_data_cleaned}\n",
    "\n",
    "# SQL query: create and add 'province' column\n",
    "query = f\"\"\"\n",
    "ALTER TABLE `{mobile_data_cleaned}`\n",
    "ADD COLUMN province STRING;\n",
    "    \"\"\"\n",
    "\n",
    "# Execute the query\n",
    "run_query(query)"
   ]
  },
  {
   "cell_type": "markdown",
   "id": "b897e8e3",
   "metadata": {},
   "source": [
    "    - Populate 'province' values"
   ]
  },
  {
   "cell_type": "code",
   "execution_count": null,
   "id": "f7f288bc",
   "metadata": {},
   "outputs": [],
   "source": [
    "# Datasets: {mobile_data_cleaned}\n",
    "\n",
    "# SQL query: populate 'province' values\n",
    "query = f\"\"\"\n",
    "UPDATE `{mobile_data_cleaned}`\n",
    "SET province = CASE\n",
    "  # First two digits condition (LEFT) for postal code using CAST to maintain a consistent string data type.\n",
    "  WHEN LEFT(CAST(postal_code AS STRING), 2) = '08' THEN 'Barcelona'\n",
    "  WHEN LEFT(CAST(postal_code AS STRING), 2) = '25' THEN 'Lleida'\n",
    "  WHEN LEFT(CAST(postal_code AS STRING), 2) = '17' THEN 'Girona'\n",
    "  WHEN LEFT(CAST(postal_code AS STRING), 2) = '43' THEN 'Tarragona'\n",
    "  ELSE 'Not defined'\n",
    "END\n",
    "WHERE province IS NULL\n",
    "    \"\"\"\n",
    "\n",
    "# Execute the query\n",
    "run_query(query)"
   ]
  },
  {
   "cell_type": "markdown",
   "id": "09ccf139",
   "metadata": {},
   "source": [
    "    - Rename columns to avoid confusion and fix typos"
   ]
  },
  {
   "cell_type": "markdown",
   "id": "d8c665bc",
   "metadata": {},
   "source": [
    "In the original dataset, there were three key columns: 'net,' 'network,' and 'operator.' These columns contained information about the type of network (e.g., 4G, 3G, 2G), the network provider (e.g., Movistar, Orange), and the specific operator (e.g., Movistar, Orange, ONO, Lowi) associated with the data.\n",
    "\n",
    "To avoid potential confusion, especially between the 'net' and 'network' columns, the following SQL code is designed to **rename the 'network' column to 'net_provider.'** This renaming ensures that the purpose and meaning of each column are clear and helps improve the overall clarity of the dataset."
   ]
  },
  {
   "cell_type": "code",
   "execution_count": null,
   "id": "fc4143ae",
   "metadata": {},
   "outputs": [],
   "source": [
    "# Datasets: {mobile_data_cleaned}\n",
    "\n",
    "# SQL query: rename 'network' for 'net_provider'\n",
    "query = f\"\"\"\n",
    "ALTER TABLE `{mobile_data_cleaned}`\n",
    "RENAME COLUMN network TO net_provider\n",
    "    \"\"\"\n",
    "\n",
    "# Execute the query\n",
    "run_query(query)"
   ]
  },
  {
   "cell_type": "code",
   "execution_count": null,
   "id": "33812ab4",
   "metadata": {},
   "outputs": [],
   "source": [
    "# Datasets: {mobile_data_cleaned}\n",
    "\n",
    "# SQL query: rename 'network' for 'net_provider'\n",
    "query = f\"\"\"\n",
    "ALTER TABLE `{mobile_data_cleaned}`\n",
    "RENAME COLUMN precission TO precision\n",
    "    \"\"\"\n",
    "\n",
    "# Execute the query\n",
    "run_query(query)"
   ]
  },
  {
   "cell_type": "markdown",
   "id": "2706920e",
   "metadata": {},
   "source": [
    "    - Column types"
   ]
  },
  {
   "cell_type": "code",
   "execution_count": null,
   "id": "9a2b2483",
   "metadata": {},
   "outputs": [],
   "source": [
    "raw_data.info()"
   ]
  },
  {
   "cell_type": "markdown",
   "id": "16ba6175",
   "metadata": {},
   "source": [
    "In this case, '**date**' and '**hour**' have been transformed to 'object' types. However, in the original Google BigQuery dataset, their formats are 'date' and 'time,' respectively. \n",
    "\n",
    "Just in case you need to update these formats in the original table in BigQuery, here are the required queries.\n",
    "\n",
    "(Please note that we are displaying this data as a Python DataFrame for reference, but the actual changes must be made in the original BigQuery dataset as we will be directly querying it. We won't be working with this DataFrame for further analysis.)"
   ]
  },
  {
   "cell_type": "code",
   "execution_count": null,
   "id": "9756fddc",
   "metadata": {},
   "outputs": [],
   "source": [
    "# SQL query: in BigQuery,convert 'date' to date format and 'hour' to time format\n",
    "query = f\"\"\"\n",
    "    # Convert 'date' column to date data type\n",
    "    UPDATE `{mobile_data_cleaned}`\n",
    "    SET date = CAST(date AS DATE)\n",
    "    \"\"\"\n",
    "# Execute the query\n",
    "# run_query(query)\n",
    "\n",
    "\n",
    "query = f\"\"\"\n",
    "    # Convert 'date' column to date data type\n",
    "    UPDATE `{mobile_data_cleaned}`\n",
    "    SET hour = CAST(hour AS TIME)\n",
    "    \"\"\"\n",
    "\n",
    "# Execute the query\n",
    "# run_query(query)"
   ]
  },
  {
   "cell_type": "code",
   "execution_count": null,
   "id": "4dfae7aa",
   "metadata": {},
   "outputs": [],
   "source": []
  },
  {
   "cell_type": "markdown",
   "id": "d332ebab",
   "metadata": {},
   "source": [
    "### Categorical Features"
   ]
  },
  {
   "cell_type": "markdown",
   "id": "4ad8b82e",
   "metadata": {},
   "source": [
    "#### Standardize data names"
   ]
  },
  {
   "cell_type": "code",
   "execution_count": null,
   "id": "272d0db4",
   "metadata": {},
   "outputs": [],
   "source": []
  },
  {
   "cell_type": "markdown",
   "id": "0314d92a",
   "metadata": {},
   "source": [
    "**Net provider**"
   ]
  },
  {
   "cell_type": "code",
   "execution_count": null,
   "id": "83346213",
   "metadata": {},
   "outputs": [],
   "source": [
    "# Datasets: {mobile_data_cleaned}\n",
    "\n",
    "# SQL query: original count of unique net_provider\n",
    "query = f\"\"\"\n",
    "SELECT\n",
    " COUNT(DISTINCT(net_provider)) original_unique_net_provider\n",
    "FROM `{mobile_data_cleaned}`\n",
    "    \"\"\"\n",
    "\n",
    "# Execute the query\n",
    "query_df(query)"
   ]
  },
  {
   "cell_type": "code",
   "execution_count": null,
   "id": "ff2a71c8",
   "metadata": {},
   "outputs": [],
   "source": [
    "# Datasets: {mobile_data_cleaned}\n",
    "\n",
    "# SQL query: example of net_provider names not standardized (Movistar)\n",
    "query = f\"\"\"\n",
    "SELECT\n",
    " DISTINCT(net_provider)\n",
    "FROM `{mobile_data_cleaned}`\n",
    "WHERE\n",
    " UPPER(net_provider) LIKE 'MO%IS%'\n",
    "    \"\"\"\n",
    "\n",
    "# Execute the query\n",
    "query_df(query)"
   ]
  },
  {
   "cell_type": "markdown",
   "id": "2d181ce8",
   "metadata": {},
   "source": [
    "    - Unusual characters"
   ]
  },
  {
   "cell_type": "code",
   "execution_count": null,
   "id": "8067701a",
   "metadata": {},
   "outputs": [],
   "source": [
    "# Datasets: {mobile_data_cleaned}\n",
    "\n",
    "# SQL query: unusual characters to take into account\n",
    "query = f\"\"\"\n",
    "SELECT DISTINCT net_provider\n",
    "FROM `{mobile_data_cleaned}`\n",
    "# Filter out net_provider values that contain non-alphanumeric characters (letters, digits, and spaces).\n",
    "WHERE REGEXP_CONTAINS(net_provider, r'[^a-zA-Z0-9 ]')\n",
    "    \"\"\"\n",
    "\n",
    "# Execute the query\n",
    "query_df(query)"
   ]
  },
  {
   "cell_type": "markdown",
   "id": "af1d23e3",
   "metadata": {},
   "source": [
    "This following code standardizes the 'net_provider' names in the table. It employs various functions like UPPER (to convert to uppercase), TRIM (to remove leading/trailing spaces), and '=' or LIKE (with % wildcard for pattern matching) to recognize and group similar operator names under a common name.\n",
    "\n",
    "For example, 'movistar' and 'Mobistar' are both categorized as 'Movistar'. It ensures uniformity in the 'net_provider' column, making the data more consistent and easier to work with."
   ]
  },
  {
   "cell_type": "markdown",
   "id": "25953d07",
   "metadata": {},
   "source": [
    "    - Standardize net_provider names"
   ]
  },
  {
   "cell_type": "code",
   "execution_count": null,
   "id": "5812df7e",
   "metadata": {},
   "outputs": [],
   "source": [
    "# Datasets: {mobile_data_cleaned}\n",
    "\n",
    "# SQL query: Update net_provider names\n",
    "query = f\"\"\"\n",
    "UPDATE `{mobile_data_cleaned}`\n",
    "SET net_provider = CASE\n",
    "    # WHEN UPPER(TRIM(net_provider)) = '3' THEN 'Three'\n",
    "    WHEN UPPER(TRIM(net_provider)) LIKE '3%' THEN 'Three'\n",
    "    #WHEN UPPER(TRIM(net_provider)) = 'BITEL' THEN 'Bytel'\n",
    "    WHEN UPPER(TRIM(net_provider)) LIKE '%AIRTEL%' THEN 'Airtel'\n",
    "    WHEN UPPER(TRIM(net_provider)) LIKE '%B%TEL%' THEN 'Bytel'\n",
    "    WHEN UPPER(TRIM(net_provider)) LIKE '%BOUYGUES%' THEN 'Bouygues Telecom'\n",
    "    WHEN UPPER(TRIM(net_provider)) LIKE 'BUSCANDO %' THEN 'Sense Servei'\n",
    "    WHEN UPPER(TRIM(net_provider)) = 'CABLE MOVIL' THEN 'Cable Movil'\n",
    "    WHEN UPPER(TRIM(net_provider)) = 'CABLEMOVIL' THEN 'Cable Movil'\n",
    "    WHEN UPPER(TRIM(net_provider)) LIKE 'CLARO%' THEN 'Claro'\n",
    "    WHEN UPPER(TRIM(net_provider)) LIKE 'CUBACEL%' THEN 'Cubacel'\n",
    "    WHEN UPPER(TRIM(net_provider)) LIKE 'E-%' THEN 'EE'\n",
    "    WHEN UPPER(TRIM(net_provider)) LIKE '%EMER%' THEN 'Nomes Trucades Emergencies'\n",
    "    WHEN UPPER(TRIM(net_provider)) LIKE 'JAZZTEL%' THEN 'Jazztel'\n",
    "    WHEN UPPER(TRIM(net_provider)) LIKE 'LOWI%' THEN 'Lowi'\n",
    "    WHEN LEFT(UPPER(TRIM(net_provider)), 14) = 'FRANCE TELECOM' THEN 'France Telcom Espana SA'\n",
    "    WHEN UPPER(TRIM(net_provider)) LIKE 'MASMOVIL%' THEN 'Masmovil'\n",
    "    WHEN UPPER(TRIM(net_provider)) LIKE '%MOBILAND%' THEN 'Mobiland'\n",
    "    WHEN UPPER(TRIM(net_provider)) LIKE 'MOVILNET%' THEN 'Movilnet'\n",
    "    WHEN UPPER(TRIM(net_provider)) LIKE '%MO%ISTAR%' THEN 'Movistar'\n",
    "    # WHEN UPPER(TRIM(net_provider)) LIKE 'MOBISTAR%' THEN 'Movistar'\n",
    "    # WHEN UPPER(TRIM(net_provider)) LIKE '%MOBISTAR%' THEN 'Movistar'\n",
    "    # WHEN UPPER(TRIM(net_provider)) LIKE 'MOVISTAR%' THEN 'Movistar'\n",
    "    WHEN UPPER(TRIM(net_provider)) LIKE 'MTS%' THEN 'MTS'\n",
    "    WHEN UPPER(TRIM(net_provider)) LIKE '%ORANGE%' THEN 'Orange'\n",
    "    WHEN UPPER(TRIM(net_provider)) = 'A1' THEN 'Orange'\n",
    "    WHEN UPPER(TRIM(net_provider)) LIKE 'O2%' THEN 'O2'\n",
    "    WHEN UPPER(TRIM(net_provider)) LIKE 'PE%EPHONE' THEN 'Pepephone'\n",
    "    # WHEN UPPER(TRIM(net_provider)) = 'PELEPHONE' THEN 'Pepephone'\n",
    "    # WHEN UPPER(TRIM(net_provider)) = 'PEPEPHONE' THEN 'Pepephone'\n",
    "    WHEN UPPER(TRIM(net_provider)) = 'PROXIMUS' THEN 'Proximus'\n",
    "    WHEN UPPER(TRIM(net_provider)) LIKE 'REPUBLICA%' THEN 'Republica Movil'\n",
    "    WHEN UPPER(TRIM(net_provider)) LIKE 'SENSE %' THEN 'Sense Servei'\n",
    "    WHEN UPPER(TRIM(net_provider)) LIKE 'SIMYO%' THEN 'Simyo'\n",
    "    WHEN UPPER(TRIM(net_provider)) LIKE 'SIN %' THEN 'Sense Servei'\n",
    "    WHEN UPPER(TRIM(net_provider)) LIKE 'TIGO%' THEN 'TIGO'\n",
    "    WHEN UPPER(TRIM(net_provider)) LIKE 'TIM%' THEN 'TIM'\n",
    "    WHEN UPPER(TRIM(net_provider)) LIKE 'TELEF%' THEN 'Movistar'\n",
    "    # WHEN (TRIM(network)) = 'Telefonica Moviles Espana' THEN 'Movistar'\n",
    "    # WHEN (TRIM(network)) = 'Telef├│nica M├│viles Espa├▒a' THEN 'Movistar'\n",
    "    WHEN UPPER(TRIM(net_provider)) LIKE 'TDC%' THEN 'TDC Mobile'\n",
    "    WHEN UPPER(TRIM(net_provider)) LIKE 'TELEKOM%' THEN 'Telekom'\n",
    "    WHEN UPPER(TRIM(net_provider)) LIKE '%TELENOR%' THEN 'Telenor'\n",
    "    WHEN UPPER(TRIM(net_provider)) LIKE '%T-MOBILE%' THEN 'T-Mobile'\n",
    "    WHEN UPPER(TRIM(net_provider)) LIKE 'VIVO%' THEN 'Vivo'\n",
    "    WHEN UPPER(TRIM(net_provider)) LIKE '%VODAFONE%' THEN 'Vodafone'\n",
    "    WHEN UPPER(TRIM(net_provider)) = 'VF ES' THEN 'Vodafone'\n",
    "    WHEN UPPER(TRIM(net_provider)) LIKE 'VODACOM%' THEN 'Vodacom'\n",
    "    WHEN UPPER(TRIM(net_provider)) LIKE 'YOIGO%' THEN 'Yoigo'\n",
    "    ELSE net_provider\n",
    "END\n",
    "WHERE net_provider IS NOT NULL;\n",
    "\n",
    "    \"\"\"\n",
    "\n",
    "# Execute the query\n",
    "run_query(query)"
   ]
  },
  {
   "cell_type": "markdown",
   "id": "98852ad4",
   "metadata": {},
   "source": [
    "    - Null values in net_provider"
   ]
  },
  {
   "cell_type": "code",
   "execution_count": null,
   "id": "9f932ddc",
   "metadata": {},
   "outputs": [],
   "source": [
    "# Datasets: {mobile_data_cleaned}\n",
    "\n",
    "# SQL query: Count null values and calculate the percentage\n",
    "query = f\"\"\"\n",
    "WITH NetProviderCount AS (\n",
    " SELECT\n",
    "   COUNT(*) AS total_count_net_provider\n",
    " FROM `{mobile_data_cleaned}`\n",
    "),\n",
    "NullProviderCount AS (\n",
    " SELECT\n",
    "   COUNT(*) AS null_count_net_provider\n",
    " FROM `{mobile_data_cleaned}`\n",
    " WHERE\n",
    "   net_provider IS NULL\n",
    "   OR net_provider = 'null'\n",
    ")\n",
    "\n",
    "SELECT\n",
    " null_count_net_provider,\n",
    " CONCAT(ROUND((null_count_net_provider/total_count_net_provider)*100, 2), \" %\") AS perc_null_net_provider\n",
    "FROM NetProviderCount, NullProviderCount\n",
    "\"\"\"\n",
    "\n",
    "# Execute the query\n",
    "query_df(query)"
   ]
  },
  {
   "cell_type": "markdown",
   "id": "65c202b5",
   "metadata": {},
   "source": [
    "     - Remove rows with specified net_provider values and NULL net_providers from the table."
   ]
  },
  {
   "cell_type": "code",
   "execution_count": null,
   "id": "3a979826",
   "metadata": {},
   "outputs": [],
   "source": [
    "# Datasets: {mobile_data_cleaned}\n",
    "\n",
    "# SQL query: drop specific rows\n",
    "query = f\"\"\"\n",
    "DELETE FROM `{mobile_data_cleaned}`\n",
    "WHERE\n",
    " net_provider IS NULL\n",
    " OR net_provider IN ('000000', '21303', '21401', '23866', '90118', '?????', 'null')\n",
    "    \"\"\"\n",
    "\n",
    "# Execute the query\n",
    "run_query(query)"
   ]
  },
  {
   "cell_type": "markdown",
   "id": "3616ca73",
   "metadata": {},
   "source": [
    "    - Remove rows where the activity count for each net_provider is less than 10"
   ]
  },
  {
   "cell_type": "code",
   "execution_count": null,
   "id": "1ab2d3ce",
   "metadata": {},
   "outputs": [],
   "source": [
    "# Datasets: {mobile_data_cleaned}\n",
    "\n",
    "# SQL query: drop specific rows\n",
    "query = f\"\"\"\n",
    "DELETE FROM `{mobile_data_cleaned}`\n",
    "WHERE net_provider IN (\n",
    "    SELECT net_provider\n",
    "    FROM `{mobile_data_cleaned}`\n",
    "    GROUP BY net_provider\n",
    "    HAVING COUNT(*) < 10\n",
    ")\n",
    "    \"\"\"\n",
    "# Execute the query\n",
    "run_query(query)"
   ]
  },
  {
   "cell_type": "code",
   "execution_count": null,
   "id": "b4207949",
   "metadata": {},
   "outputs": [],
   "source": [
    "# Datasets: {mobile_data_cleaned}\n",
    "\n",
    "# SQL query: final count of unique net_provider\n",
    "query = f\"\"\"\n",
    "SELECT\n",
    " COUNT(DISTINCT(net_provider)) final_unique_net_provider\n",
    "FROM `{mobile_data_cleaned}`\n",
    "    \"\"\"\n",
    "\n",
    "# Execute the query\n",
    "query_df(query)"
   ]
  },
  {
   "cell_type": "code",
   "execution_count": null,
   "id": "b8d54fd3",
   "metadata": {},
   "outputs": [],
   "source": [
    "# Datasets: {mobile_data_cleaned}\n",
    "\n",
    "# SQL query: \n",
    "query = f\"\"\"\n",
    "SELECT\n",
    " net_provider,\n",
    " COUNT(*) activity_count\n",
    "FROM `{mobile_data_cleaned}`\n",
    "GROUP BY 1\n",
    "ORDER BY 2 DESC\n",
    "LIMIT 20\n",
    "\"\"\"\n",
    "\n",
    "# Execute the query \n",
    "query_df(query)"
   ]
  },
  {
   "cell_type": "code",
   "execution_count": null,
   "id": "2691d5d4",
   "metadata": {},
   "outputs": [],
   "source": []
  },
  {
   "cell_type": "markdown",
   "id": "93575b5e",
   "metadata": {},
   "source": [
    "**Operator**"
   ]
  },
  {
   "cell_type": "code",
   "execution_count": null,
   "id": "9b45c53d",
   "metadata": {},
   "outputs": [],
   "source": [
    "# Datasets: {mobile_data_cleaned}\n",
    "\n",
    "# SQL query: original count of unique net_provider\n",
    "query = f\"\"\"\n",
    "SELECT\n",
    " COUNT(DISTINCT(operator)) original_unique_net_operator\n",
    "FROM `{mobile_data_cleaned}`\n",
    "    \"\"\"\n",
    "\n",
    "# Execute the query\n",
    "query_df(query)"
   ]
  },
  {
   "cell_type": "markdown",
   "id": "69e68461",
   "metadata": {},
   "source": [
    "    - Standardize operator names"
   ]
  },
  {
   "cell_type": "code",
   "execution_count": null,
   "id": "e9a14513",
   "metadata": {},
   "outputs": [],
   "source": [
    "# Datasets: {mobile_data_cleaned}\n",
    "\n",
    "# SQL query: Update operator names\n",
    "query = f\"\"\"\n",
    "UPDATE `{mobile_data_cleaned}`\n",
    "SET operator = CASE\n",
    "    # WHEN UPPER(TRIM(operator)) = '3' THEN 'Three'\n",
    "    WHEN UPPER(TRIM(operator)) LIKE '3%' THEN 'Three'\n",
    "    # WHEN UPPER(TRIM(operator)) = 'BITEL' THEN 'Bytel'\n",
    "    WHEN UPPER(TRIM(operator)) LIKE '%AIRTEL%' THEN 'Airtel'\n",
    "    WHEN UPPER(TRIM(operator)) LIKE '%B%TEL%' THEN 'Bytel'\n",
    "    WHEN UPPER(TRIM(operator)) LIKE '%BOUYGUES%' THEN 'Bouygues Telecom'\n",
    "    WHEN UPPER(TRIM(operator)) LIKE 'BUSCANDO %' THEN 'Sense Servei'\n",
    "    WHEN UPPER(TRIM(operator)) = 'CABLE MOVIL' THEN 'Cable Movil'\n",
    "    WHEN UPPER(TRIM(operator)) = 'CABLEMOVIL' THEN 'Cable Movil'\n",
    "    WHEN UPPER(TRIM(operator)) LIKE 'CLARO%' THEN 'Claro'\n",
    "    WHEN UPPER(TRIM(operator)) LIKE 'CUBACEL%' THEN 'Cubacel'\n",
    "    WHEN UPPER(TRIM(operator)) LIKE 'E-%' THEN 'EE'\n",
    "    WHEN UPPER(TRIM(operator)) LIKE '%EMER%' THEN 'Nomes Trucades Emergencies'\n",
    "    WHEN UPPER(TRIM(operator)) LIKE 'JAZZTEL%' THEN 'Jazztel'\n",
    "    WHEN UPPER(TRIM(operator)) LIKE 'LOWI%' THEN 'Lowi'\n",
    "    WHEN LEFT(UPPER(TRIM(operator)), 14) = 'FRANCE TELECOM' THEN 'France Telcom Espana SA'\n",
    "    WHEN UPPER(TRIM(operator)) LIKE 'MASMOVIL%' THEN 'Masmovil'\n",
    "    WHEN UPPER(TRIM(operator)) LIKE '%MOBILAND%' THEN 'Mobiland'\n",
    "    WHEN UPPER(TRIM(operator)) LIKE 'MOVILNET%' THEN 'Movilnet'\n",
    "    WHEN UPPER(TRIM(operator)) LIKE '%MO%ISTAR%' THEN 'Movistar'\n",
    "    # WHEN UPPER(TRIM(operator)) LIKE 'MOBISTAR%' THEN 'Movistar'\n",
    "    # WHEN UPPER(TRIM(operator)) LIKE '%MOBISTAR%' THEN 'Movistar'\n",
    "    # WHEN UPPER(TRIM(operator)) LIKE 'MOVISTAR%' THEN 'Movistar'\n",
    "    WHEN UPPER(TRIM(operator)) LIKE 'MTS%' THEN 'MTS'\n",
    "    WHEN UPPER(TRIM(operator)) LIKE '%ORANGE%' THEN 'Orange'\n",
    "    WHEN UPPER(TRIM(operator)) = 'A1' THEN 'Orange'\n",
    "    WHEN UPPER(TRIM(operator)) LIKE 'O2%' THEN 'O2'\n",
    "    WHEN UPPER(TRIM(operator)) LIKE 'PE%EPHONE' THEN 'Pepephone'\n",
    "    # WHEN UPPER(TRIM(operator)) = 'PELEPHONE' THEN 'Pepephone'\n",
    "    # WHEN UPPER(TRIM(operator)) = 'PEPEPHONE' THEN 'Pepephone'\n",
    "    WHEN UPPER(TRIM(operator)) = 'PROXIMUS' THEN 'Proximus'\n",
    "    WHEN UPPER(TRIM(operator)) LIKE 'REPUBLICA%' THEN 'Republica Movil'\n",
    "    WHEN UPPER(TRIM(operator)) LIKE 'SENSE %' THEN 'Sense Servei'\n",
    "    WHEN UPPER(TRIM(operator)) LIKE 'SIMYO%' THEN 'Simyo'\n",
    "    WHEN UPPER(TRIM(operator)) LIKE 'SIN %' THEN 'Sense Servei'\n",
    "    WHEN UPPER(TRIM(operator)) LIKE 'TIGO%' THEN 'TIGO'\n",
    "    WHEN UPPER(TRIM(operator)) LIKE 'TIM%' THEN 'TIM'\n",
    "    WHEN UPPER(TRIM(operator)) LIKE 'TELEF%' THEN 'Movistar'\n",
    "    # WHEN (TRIM(network)) = 'Telefonica Moviles Espana' THEN 'Movistar'\n",
    "    # WHEN (TRIM(network)) = 'Telef├│nica M├│viles Espa├▒a' THEN 'Movistar'\n",
    "    WHEN UPPER(TRIM(operator)) LIKE 'TDC%' THEN 'TDC Mobile'\n",
    "    WHEN UPPER(TRIM(operator)) LIKE 'TELEKOM%' THEN 'Telekom'\n",
    "    WHEN UPPER(TRIM(operator)) LIKE '%TELENOR%' THEN 'Telenor'\n",
    "    WHEN UPPER(TRIM(operator)) LIKE '%T-MOBILE%' THEN 'T-Mobile'\n",
    "    WHEN UPPER(TRIM(operator)) LIKE 'VIVO%' THEN 'Vivo'\n",
    "    WHEN UPPER(TRIM(operator)) LIKE '%VODAFONE%' THEN 'Vodafone'\n",
    "    WHEN UPPER(TRIM(operator)) = 'VF ES' THEN 'Vodafone'\n",
    "    WHEN UPPER(TRIM(operator)) LIKE 'VODACOM%' THEN 'Vodacom'\n",
    "    WHEN UPPER(TRIM(operator)) LIKE 'YOIGO%' THEN 'Yoigo'\n",
    "    ELSE operator\n",
    "END\n",
    "WHERE operator IS NOT NULL;\n",
    "    \"\"\"\n",
    "\n",
    "# Execute the query\n",
    "run_query(query)"
   ]
  },
  {
   "cell_type": "markdown",
   "id": "49a1bfb1",
   "metadata": {},
   "source": [
    "    - Null values in operator"
   ]
  },
  {
   "cell_type": "code",
   "execution_count": null,
   "id": "c9ffe678",
   "metadata": {},
   "outputs": [],
   "source": [
    "# Datasets: {mobile_data_cleaned}\n",
    "\n",
    "# SQL query: Count null values and calculate the percentage\n",
    "query = f\"\"\"\n",
    "WITH NetOperatorCount AS (\n",
    " SELECT\n",
    "   COUNT(*) AS total_count_operator\n",
    " FROM `{mobile_data_cleaned}`\n",
    "),\n",
    "NullOperatorCount AS (\n",
    " SELECT\n",
    "   COUNT(*) AS null_count_operator\n",
    " FROM `{mobile_data_cleaned}`\n",
    " WHERE\n",
    "   operator IS NULL\n",
    "   OR operator = 'null'\n",
    ")\n",
    "\n",
    "SELECT\n",
    " null_count_operator,\n",
    " CONCAT(ROUND((null_count_operator/total_count_operator)*100, 2), \" %\") AS perc_null_operator\n",
    "FROM NetOperatorCount, NullOperatorCount\n",
    "\"\"\"\n",
    "\n",
    "# Execute the query\n",
    "query_df(query)"
   ]
  },
  {
   "cell_type": "code",
   "execution_count": null,
   "id": "9bb1ee63",
   "metadata": {},
   "outputs": [],
   "source": [
    "# Datasets: {mobile_data_cleaned}\n",
    "\n",
    "# SQL query: final count of unique operator\n",
    "query = f\"\"\"\n",
    "SELECT\n",
    " COUNT(DISTINCT(net_provider)) final_unique_operator\n",
    "FROM `{mobile_data_cleaned}`\n",
    "    \"\"\"\n",
    "\n",
    "# Execute the query\n",
    "query_df(query)"
   ]
  },
  {
   "cell_type": "code",
   "execution_count": null,
   "id": "63de05bb",
   "metadata": {},
   "outputs": [],
   "source": [
    "# Datasets: {mobile_data_cleaned}\n",
    "\n",
    "# SQL query: \n",
    "query = f\"\"\"\n",
    "SELECT\n",
    " operator,\n",
    " COUNT(*) activity_count\n",
    "FROM `{mobile_data_cleaned}`\n",
    "GROUP BY 1\n",
    "ORDER BY 2 DESC\n",
    "LIMIT 20\n",
    "\"\"\"\n",
    "\n",
    "# Execute the query \n",
    "query_df(query)"
   ]
  },
  {
   "cell_type": "code",
   "execution_count": null,
   "id": "1bc3e28b",
   "metadata": {},
   "outputs": [],
   "source": []
  },
  {
   "cell_type": "markdown",
   "id": "3222bf80",
   "metadata": {},
   "source": [
    "**Net**"
   ]
  },
  {
   "cell_type": "code",
   "execution_count": null,
   "id": "508f277a",
   "metadata": {},
   "outputs": [],
   "source": [
    "# Datasets: {mobile_data_cleaned}\n",
    "\n",
    "# SQL query: \n",
    "query = f\"\"\"\n",
    "SELECT\n",
    " net,\n",
    " COUNT(*) activity_record\n",
    "FROM `{mobile_data_cleaned}`\n",
    "GROUP BY 1\n",
    "\"\"\"\n",
    "\n",
    "# Execute the query \n",
    "query_df(query)"
   ]
  },
  {
   "cell_type": "markdown",
   "id": "08cce458",
   "metadata": {},
   "source": [
    "    - Replace null values for 'Undefined Net'"
   ]
  },
  {
   "cell_type": "code",
   "execution_count": null,
   "id": "3d033a29",
   "metadata": {},
   "outputs": [],
   "source": [
    "# Datasets: {mobile_data_cleaned}\n",
    "\n",
    "# SQL query: \n",
    "query = f\"\"\"\n",
    "UPDATE `{mobile_data_cleaned}`\n",
    "SET net = CASE\n",
    "  WHEN net IS NULL THEN 'Undefined net'\n",
    "  ELSE net\n",
    "END\n",
    "WHERE net IS NULL\n",
    "\"\"\"\n",
    "\n",
    "# Execute the query \n",
    "run_query(query)"
   ]
  },
  {
   "cell_type": "code",
   "execution_count": null,
   "id": "c03378a6",
   "metadata": {},
   "outputs": [],
   "source": []
  },
  {
   "cell_type": "markdown",
   "id": "ed687c6f",
   "metadata": {},
   "source": [
    "**Provider**"
   ]
  },
  {
   "cell_type": "code",
   "execution_count": null,
   "id": "0899ceda",
   "metadata": {},
   "outputs": [],
   "source": [
    "# Datasets: {mobile_data_cleaned}\n",
    "\n",
    "# SQL query: \n",
    "query = f\"\"\"\n",
    "SELECT\n",
    " provider,\n",
    " COUNT(*) activity_record\n",
    "FROM `{mobile_data_cleaned}`\n",
    "GROUP BY 1\n",
    "\"\"\"\n",
    "\n",
    "# Execute the query \n",
    "query_df(query)"
   ]
  },
  {
   "cell_type": "code",
   "execution_count": null,
   "id": "2165ee78",
   "metadata": {},
   "outputs": [],
   "source": [
    "# Datasets: {mobile_data_cleaned}\n",
    "\n",
    "# SQL query: \n",
    "query = f\"\"\"\n",
    "UPDATE `{mobile_data_cleaned}`\n",
    "SET provider = CASE\n",
    "    WHEN UPPER(TRIM(provider)) LIKE '%GPS%' THEN 'GPS'\n",
    "    WHEN UPPER(TRIM(provider)) LIKE '%FUSED%' THEN 'Fused'\n",
    "    WHEN UPPER(TRIM(provider)) LIKE '%NETWORK%' THEN 'Network'\n",
    "    WHEN provider IS NULL THEN 'Undefined Provider'\n",
    "    ELSE 'Undefined Provider'\n",
    "END\n",
    "WHERE provider IS NOT NULL\n",
    "\"\"\"\n",
    "\n",
    "# Execute the query \n",
    "run_query(query)"
   ]
  },
  {
   "cell_type": "code",
   "execution_count": null,
   "id": "30d75fb1",
   "metadata": {},
   "outputs": [],
   "source": [
    "# Datasets: {mobile_data_cleaned}\n",
    "\n",
    "# SQL query: \n",
    "query = f\"\"\"\n",
    "SELECT\n",
    " provider,\n",
    " COUNT(*) activity_record\n",
    "FROM `{mobile_data_cleaned}`\n",
    "GROUP BY 1\n",
    "\"\"\"\n",
    "\n",
    "# Execute the query \n",
    "query_df(query)"
   ]
  },
  {
   "cell_type": "code",
   "execution_count": null,
   "id": "e740a78a",
   "metadata": {},
   "outputs": [],
   "source": []
  },
  {
   "cell_type": "markdown",
   "id": "5946b733",
   "metadata": {},
   "source": [
    "**Postal Code** and **Town Names**"
   ]
  },
  {
   "cell_type": "markdown",
   "id": "fbb0afa6",
   "metadata": {},
   "source": [
    "This part ensures that there are no discrepancies between postal codes and town names, and removes rows with missing values in both columns."
   ]
  },
  {
   "cell_type": "code",
   "execution_count": null,
   "id": "7908c761",
   "metadata": {},
   "outputs": [],
   "source": [
    "# Datasets: {mobile_data_cleaned}\n",
    "\n",
    "# SQL query:\n",
    "query = f\"\"\"\n",
    "SELECT\n",
    " COUNT(*) one_valid_one_null\n",
    "FROM `{mobile_data_cleaned}`\n",
    "WHERE\n",
    "    (postal_code IS NULL AND town_name IS NOT NULL)\n",
    "    OR (postal_code IS NOT NULL AND town_name IS NULL)\n",
    "\"\"\"\n",
    "\n",
    "# Execute the query\n",
    "query_df(query)"
   ]
  },
  {
   "cell_type": "code",
   "execution_count": null,
   "id": "d8a947b1",
   "metadata": {},
   "outputs": [],
   "source": [
    "# Datasets: {mobile_data_cleaned}\n",
    "\n",
    "# SQL query:\n",
    "query = f\"\"\"\n",
    "SELECT\n",
    " COUNT(*) both_features_null\n",
    "FROM `{mobile_data_cleaned}`\n",
    "WHERE\n",
    "    postal_code IS NULL AND town_name IS NULL\n",
    "\"\"\"\n",
    "\n",
    "# Execute the query\n",
    "query_df(query)"
   ]
  },
  {
   "cell_type": "markdown",
   "id": "3bc39f0f",
   "metadata": {},
   "source": [
    "    - This means that all null values in postal_code correspond to null values in `town_name. Therefore, we are going to drop all rows with null values in both features."
   ]
  },
  {
   "cell_type": "code",
   "execution_count": null,
   "id": "7ec40b93",
   "metadata": {},
   "outputs": [],
   "source": [
    "# Datasets: {mobile_data_cleaned}\n",
    "\n",
    "# SQL query: delete specific rows\n",
    "query = f\"\"\"\n",
    "DELETE FROM `{mobile_data_cleaned}`\n",
    "WHERE postal_code IS NULL AND town_name IS NULL\n",
    "\"\"\"\n",
    "\n",
    "# Execute the query \n",
    "run_query(query)"
   ]
  },
  {
   "cell_type": "code",
   "execution_count": null,
   "id": "891046f0",
   "metadata": {},
   "outputs": [],
   "source": []
  },
  {
   "cell_type": "markdown",
   "id": "8b472e2e",
   "metadata": {},
   "source": [
    "**Download Speed** and **Upload Speed**"
   ]
  },
  {
   "cell_type": "code",
   "execution_count": null,
   "id": "eabac3ae",
   "metadata": {},
   "outputs": [],
   "source": [
    "# Datasets: {mobile_data_cleaned}\n",
    "\n",
    "# SQL query:\n",
    "query = f\"\"\"\n",
    "SELECT\n",
    " DISTINCT(downloadSpeed)\n",
    "FROM `{mobile_data_cleaned}`\n",
    "LIMIT 60\n",
    "\"\"\"\n",
    "\n",
    "# Execute the query\n",
    "query_df(query)"
   ]
  },
  {
   "cell_type": "code",
   "execution_count": null,
   "id": "17b311c7",
   "metadata": {},
   "outputs": [],
   "source": [
    "# Datasets: {mobile_data_cleaned}\n",
    "\n",
    "# SQL query:\n",
    "query = f\"\"\"\n",
    "SELECT\n",
    " DISTINCT(uploadSpeed)\n",
    "FROM `{mobile_data_cleaned}`\n",
    "LIMIT 60\n",
    "\"\"\"\n",
    "\n",
    "# Execute the query\n",
    "query_df(query)"
   ]
  },
  {
   "cell_type": "markdown",
   "id": "60eaaef1",
   "metadata": {},
   "source": [
    "    - Both columns have no recorded data and only contain null values. Since they do not provide any information, we are going to drop both columns."
   ]
  },
  {
   "cell_type": "code",
   "execution_count": null,
   "id": "a2b65680",
   "metadata": {},
   "outputs": [],
   "source": [
    "# Datasets: {mobile_data_cleaned}\n",
    "\n",
    "# SQL query: delete specific rows\n",
    "query = f\"\"\"\n",
    "ALTER TABLE `{mobile_data_cleaned}`\n",
    "DROP COLUMN downloadSpeed,\n",
    "DROP COLUMN uploadSpeed\n",
    "\"\"\"\n",
    "\n",
    "# Execute the query \n",
    "run_query(query)"
   ]
  },
  {
   "cell_type": "code",
   "execution_count": null,
   "id": "9b12d43f",
   "metadata": {},
   "outputs": [],
   "source": []
  },
  {
   "cell_type": "markdown",
   "id": "6bd17cbb",
   "metadata": {},
   "source": [
    "**Description** and **Activity**"
   ]
  },
  {
   "cell_type": "code",
   "execution_count": null,
   "id": "e15ff787",
   "metadata": {},
   "outputs": [],
   "source": [
    "# Datasets: {mobile_data_cleaned}\n",
    "\n",
    "# SQL query:\n",
    "query = f\"\"\"\n",
    "SELECT\n",
    " description,\n",
    " COUNT(*) activity_record\n",
    "FROM `{mobile_data_cleaned}`\n",
    "GROUP BY 1\n",
    "LIMIT 60\n",
    "\"\"\"\n",
    "\n",
    "# Execute the query\n",
    "query_df(query)"
   ]
  },
  {
   "cell_type": "code",
   "execution_count": null,
   "id": "e152b988",
   "metadata": {},
   "outputs": [],
   "source": [
    "# Datasets: {mobile_data_cleaned}\n",
    "\n",
    "# SQL query:\n",
    "query = f\"\"\"\n",
    "SELECT\n",
    " activity,\n",
    " COUNT(*) activity_record\n",
    "FROM `{mobile_data_cleaned}`\n",
    "GROUP BY 1\n",
    "LIMIT 60\n",
    "\"\"\"\n",
    "\n",
    "# Execute the query\n",
    "query_df(query)"
   ]
  },
  {
   "cell_type": "markdown",
   "id": "1393c67b",
   "metadata": {},
   "source": [
    "    - Update null values as 'UNKNOWN' activity"
   ]
  },
  {
   "cell_type": "code",
   "execution_count": null,
   "id": "6c96d9b4",
   "metadata": {},
   "outputs": [],
   "source": [
    "# Datasets: {mobile_data_cleaned}\n",
    "\n",
    "# SQL query: update NULL values\n",
    "query = f\"\"\"\n",
    "UPDATE `{mobile_data_cleaned}`\n",
    "SET activity = CASE \n",
    "  WHEN activity IS NULL THEN 'UNKNOWN' \n",
    "END\n",
    "WHERE activity IS NULL\n",
    "\"\"\"\n",
    "\n",
    "# Execute the query \n",
    "run_query(query)"
   ]
  },
  {
   "cell_type": "code",
   "execution_count": null,
   "id": "a5e61c37",
   "metadata": {},
   "outputs": [],
   "source": []
  },
  {
   "cell_type": "markdown",
   "id": "1f537d4c",
   "metadata": {},
   "source": [
    "### Numerical Features"
   ]
  },
  {
   "cell_type": "markdown",
   "id": "0cbd2b5a",
   "metadata": {},
   "source": [
    "#### Summary Statistics"
   ]
  },
  {
   "cell_type": "code",
   "execution_count": null,
   "id": "878a4c12",
   "metadata": {},
   "outputs": [],
   "source": [
    "# Datasets: {mobile_data_cleaned}\n",
    "\n",
    "# SQL query:\n",
    "query = f\"\"\"\n",
    "SELECT\n",
    " status,\n",
    " speed,\n",
    " precision,\n",
    " signal,\n",
    " satellites\n",
    "FROM `{mobile_data_cleaned}`\n",
    "LIMIT 10\n",
    "\"\"\"\n",
    "\n",
    "# Execute the query\n",
    "query_df(query)"
   ]
  },
  {
   "cell_type": "markdown",
   "id": "5c3cf001",
   "metadata": {},
   "source": [
    "    - As 'status' values are directly related to the 'description' (categorical) values, we will drop the 'status' column."
   ]
  },
  {
   "cell_type": "code",
   "execution_count": null,
   "id": "8281b91f",
   "metadata": {},
   "outputs": [],
   "source": [
    "# Datasets: {mobile_data_cleaned}\n",
    "\n",
    "# SQL query: delete specific rows\n",
    "query = f\"\"\"\n",
    "ALTER TABLE `{mobile_data_cleaned}`\n",
    "DROP COLUMN status\n",
    "\"\"\"\n",
    "\n",
    "# Execute the query \n",
    "run_query(query)"
   ]
  },
  {
   "cell_type": "markdown",
   "id": "ad499c38",
   "metadata": {},
   "source": [
    "Despite the option to load the entire dataset into a DataFrame and later apply the pandas .describe() function to obtain all the summary statistics for numerical features, we are going to manually calculate some of them using SQL commands."
   ]
  },
  {
   "cell_type": "code",
   "execution_count": null,
   "id": "d3ac8c8e",
   "metadata": {},
   "outputs": [],
   "source": [
    "# Datasets: {mobile_data_cleaned}\n",
    "\n",
    "# SQL query:\n",
    "query = f\"\"\"\n",
    "SELECT\n",
    "  'speed' AS metric,\n",
    "  MIN(speed) AS min_value,\n",
    "  CAST(MAX(speed) AS INT64) AS max_value, -- Cast as INT64\n",
    "  ROUND(AVG(speed), 2) AS avg_value,\n",
    "  CAST(ROUND(STDDEV_POP(speed), 2) AS INT64) AS std_value -- Cast as INT64\n",
    "FROM `{mobile_data_cleaned}`\n",
    "\n",
    "UNION ALL\n",
    "\n",
    "SELECT\n",
    "  'satellites' AS metric,\n",
    "  MIN(satellites) AS min_value,\n",
    "  CAST(MAX(satellites) AS INT64) AS max_value, -- Cast as INT64\n",
    "  ROUND(AVG(satellites), 2) AS avg_value,\n",
    "  CAST(ROUND(STDDEV_POP(satellites), 2) AS INT64) AS std_value -- Cast as INT64\n",
    "FROM `{mobile_data_cleaned}`\n",
    "\n",
    "UNION ALL\n",
    "\n",
    "SELECT\n",
    "  'precision' AS metric,\n",
    "  MIN(precision) AS min_value,\n",
    "  CAST(MAX(precision) AS INT64) AS max_value, -- Cast as INT64\n",
    "  ROUND(AVG(precision), 2) AS avg_value,\n",
    "  CAST(ROUND(STDDEV_POP(precision), 2) AS INT64) AS std_value -- Cast as INT64\n",
    "FROM `{mobile_data_cleaned}`\n",
    "\n",
    "UNION ALL\n",
    "\n",
    "SELECT\n",
    "  'signal' AS metric,\n",
    "  MIN(signal) AS min_value,\n",
    "  CAST(MAX(signal) AS INT64) AS max_value, -- Cast as INT64\n",
    "  ROUND(AVG(signal), 2) AS avg_value,\n",
    "  CAST(ROUND(STDDEV_POP(signal), 2) AS INT64) AS std_value -- Cast as INT64\n",
    "FROM `{mobile_data_cleaned}`\n",
    "\"\"\"\n",
    "\n",
    "# Execute the query\n",
    "query_df(query)"
   ]
  },
  {
   "cell_type": "markdown",
   "id": "a62d623a",
   "metadata": {},
   "source": [
    "    - Handling 'precision' and 'satellites' possible outliers "
   ]
  },
  {
   "cell_type": "code",
   "execution_count": null,
   "id": "524e3f42",
   "metadata": {},
   "outputs": [],
   "source": [
    "# Datasets: {mobile_data_cleaned}\n",
    "\n",
    "# SQL query: precision values ordered DESC to check maximum values\n",
    "query = f\"\"\"\n",
    "SELECT\n",
    " CAST(precision AS INT64) precision\n",
    "FROM `{mobile_data_cleaned}`\n",
    "ORDER BY 1 DESC\n",
    "LIMIT 10\n",
    "\"\"\"\n",
    "\n",
    "# Execute the query\n",
    "query_df(query)"
   ]
  },
  {
   "cell_type": "code",
   "execution_count": null,
   "id": "9eddf654",
   "metadata": {},
   "outputs": [],
   "source": [
    "# Datasets: {mobile_data_cleaned}\n",
    "\n",
    "# SQL query: satellites values ordered DESC to check maximum values\n",
    "query = f\"\"\"\n",
    "SELECT\n",
    " CAST(satellites AS INT64) satellites\n",
    "FROM `{mobile_data_cleaned}`\n",
    "ORDER BY 1 DESC\n",
    "LIMIT 10\n",
    "\"\"\"\n",
    "\n",
    "# Execute the query\n",
    "query_df(query)"
   ]
  },
  {
   "cell_type": "markdown",
   "id": "609e230b",
   "metadata": {},
   "source": [
    "    - Handling outliers in 'precision' colum"
   ]
  },
  {
   "cell_type": "markdown",
   "id": "a5922a44",
   "metadata": {},
   "source": [
    "Now we are going to calculate various percentiles (25th, 50th, 75th, 90th, 95th, 99th) for the 'precission' column in the table and display their values."
   ]
  },
  {
   "cell_type": "code",
   "execution_count": null,
   "id": "3b42ffd8",
   "metadata": {},
   "outputs": [],
   "source": [
    "# Datasets: {mobile_data_cleaned}\n",
    "\n",
    "# SQL query: satellites values ordered DESC to check maximum values\n",
    "query = f\"\"\"\n",
    "WITH Percentiles AS (\n",
    "  SELECT\n",
    "    APPROX_QUANTILES(precision, 100)[OFFSET(25)] AS percentile_25,\n",
    "    APPROX_QUANTILES(precision, 100)[OFFSET(50)] AS median,\n",
    "    APPROX_QUANTILES(precision, 100)[OFFSET(75)] AS percentile_75,\n",
    "    APPROX_QUANTILES(precision, 100)[OFFSET(90)] AS percentile_90,\n",
    "    APPROX_QUANTILES(precision, 100)[OFFSET(95)] AS percentile_95,\n",
    "    APPROX_QUANTILES(precision, 100)[OFFSET(99)] AS percentile_99\n",
    "  FROM `{mobile_data_cleaned}`\n",
    ")\n",
    "SELECT percentile_25, median, percentile_75, percentile_90, percentile_95, percentile_99\n",
    "FROM Percentiles;\n",
    "\"\"\"\n",
    "\n",
    "# Execute the query\n",
    "query_df(query)"
   ]
  },
  {
   "cell_type": "code",
   "execution_count": null,
   "id": "b6e82ba4",
   "metadata": {},
   "outputs": [],
   "source": [
    "# Datasets: {mobile_data_cleaned}\n",
    "\n",
    "# SQL query: \n",
    "query = f\"\"\"\n",
    "SELECT\n",
    " COUNT(*) precision_g_t_121_count\n",
    "FROM `{mobile_data_cleaned}`\n",
    "WHERE precision > 121\n",
    "\"\"\"\n",
    "\n",
    "# Execute the query\n",
    "query_df(query)"
   ]
  },
  {
   "cell_type": "markdown",
   "id": "ec68e6a2",
   "metadata": {},
   "source": [
    "    - Percentile 99: the top 1% of values (106577 rows) have precision values greater than 121.\n",
    "\n",
    "    - How would the removal of these outliers affect the data distribution, and would this impact be consistent across different provinces?\n",
    "\n",
    "This following query calculates and compares outlier percentages in different provinces based on the 'precision' column, where values above 121 are considered outliers. It provides insights into how outliers are distributed among provinces."
   ]
  },
  {
   "cell_type": "code",
   "execution_count": null,
   "id": "718ca12b",
   "metadata": {},
   "outputs": [],
   "source": [
    "# Datasets: {mobile_data_cleaned}\n",
    "\n",
    "# SQL query: \n",
    "query = f\"\"\"\n",
    "SELECT\n",
    "  province,\n",
    "  COUNT(*) AS province_records,\n",
    "  SUM(CASE WHEN precision > 121 THEN 1 ELSE 0 END) AS province_outliers,\n",
    "  ROUND((SUM(CASE WHEN precision > 121 THEN 1 ELSE 0 END) / COUNT(*)) * 100, 2) AS percentage_outliers\n",
    "FROM `{mobile_data_cleaned}`\n",
    "GROUP BY 1\n",
    "ORDER BY 1\n",
    "\"\"\"\n",
    "\n",
    "# Execute the query\n",
    "query_df(query)"
   ]
  },
  {
   "cell_type": "markdown",
   "id": "a26181d2",
   "metadata": {},
   "source": [
    "    - Barcelona, Girona and Tarragona would have a similar impact (around 1.05% of their data) if these outliers are removed. Only Lleida would have a smaller impact (0.44%).\n",
    "    \n",
    "    - We are going to proceed with the deletion of 'precision' values higher than 121."
   ]
  },
  {
   "cell_type": "code",
   "execution_count": null,
   "id": "11414046",
   "metadata": {},
   "outputs": [],
   "source": [
    "# Datasets: {mobile_data_cleaned}\n",
    "\n",
    "# SQL query: delete outliers in 'precision' column\n",
    "query = f\"\"\"\n",
    "DELETE FROM `{mobile_data_cleaned}`\n",
    "WHERE precision > 121\n",
    "\"\"\"\n",
    "\n",
    "# Execute the query\n",
    "run_query(query)"
   ]
  },
  {
   "cell_type": "markdown",
   "id": "fde1491c",
   "metadata": {},
   "source": [
    "    - As a result of removing the 'precision' outliers, the outlier in the 'satellites' column, which had a value of 11503299477926, has also been eliminated from the dataset."
   ]
  },
  {
   "cell_type": "code",
   "execution_count": null,
   "id": "313006fe",
   "metadata": {},
   "outputs": [],
   "source": [
    "# Datasets: {mobile_data_cleaned}\n",
    "\n",
    "# SQL query: satellites values ordered DESC to check maximum values\n",
    "query = f\"\"\"\n",
    "SELECT\n",
    " CAST(satellites AS INT64) satellites\n",
    "FROM `{mobile_data_cleaned}`\n",
    "ORDER BY 1 DESC\n",
    "LIMIT 10\n",
    "\"\"\"\n",
    "\n",
    "# Execute the query\n",
    "query_df(query)"
   ]
  },
  {
   "cell_type": "code",
   "execution_count": null,
   "id": "fc61e572",
   "metadata": {},
   "outputs": [],
   "source": []
  },
  {
   "cell_type": "markdown",
   "id": "b9e0a7ca",
   "metadata": {},
   "source": [
    "### Save Cleaned Table"
   ]
  },
  {
   "cell_type": "markdown",
   "id": "c264bf4c",
   "metadata": {},
   "source": [
    "If required, the fully cleaned dataset could be stored under the name 'mobile_data_2015_2017_cleaned_final' for use in subsequent analysis and reporting."
   ]
  },
  {
   "cell_type": "code",
   "execution_count": null,
   "id": "b62455a7",
   "metadata": {},
   "outputs": [],
   "source": [
    "# Datasets: {mobile_data_cleaned}\n",
    "\n",
    "# SQL query: \n",
    "query = f\"\"\"\n",
    "CREATE OR REPLACE TABLE `bq-analyst-230590.project_cat_mobile_coverage_2015_2017.mobile_data_2015_2017_cleaned_final`\n",
    "AS\n",
    "SELECT *\n",
    "FROM `{mobile_data_cleaned}`\n",
    "\"\"\"\n",
    "\n",
    "# Execute the query\n",
    "# run_query(query)"
   ]
  },
  {
   "cell_type": "code",
   "execution_count": null,
   "id": "1dba5501",
   "metadata": {},
   "outputs": [],
   "source": []
  },
  {
   "cell_type": "markdown",
   "id": "c41ef866",
   "metadata": {},
   "source": [
    "### Cleaned Table"
   ]
  },
  {
   "cell_type": "code",
   "execution_count": null,
   "id": "21bb7133",
   "metadata": {},
   "outputs": [],
   "source": [
    "# Datasets: {mobile_data_cleaned}\n",
    "\n",
    "# SQL query: \n",
    "query = f\"\"\"\n",
    "SELECT *\n",
    "FROM `{mobile_data_cleaned}`\n",
    "#LIMIT 20\n",
    "\"\"\"\n",
    "\n",
    "# Execute the query\n",
    "cleaned_data = query_df(query)\n",
    "\n",
    "# Display data\n",
    "display(cleaned_data.head(), cleaned_data.tail(), cleaned_data.shape, cleaned_data.info())"
   ]
  },
  {
   "cell_type": "code",
   "execution_count": null,
   "id": "b01ddd13",
   "metadata": {},
   "outputs": [],
   "source": []
  }
 ],
 "metadata": {
  "kernelspec": {
   "display_name": "Python 3 (ipykernel)",
   "language": "python",
   "name": "python3"
  },
  "language_info": {
   "codemirror_mode": {
    "name": "ipython",
    "version": 3
   },
   "file_extension": ".py",
   "mimetype": "text/x-python",
   "name": "python",
   "nbconvert_exporter": "python",
   "pygments_lexer": "ipython3",
   "version": "3.9.13"
  }
 },
 "nbformat": 4,
 "nbformat_minor": 5
}

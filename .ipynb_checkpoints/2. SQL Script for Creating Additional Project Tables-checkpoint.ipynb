{
 "cells": [
  {
   "cell_type": "markdown",
   "id": "8d073c9d",
   "metadata": {},
   "source": [
    "# SQL Script for Creating Additional Project Tables"
   ]
  },
  {
   "cell_type": "markdown",
   "id": "6fa55d8c",
   "metadata": {},
   "source": [
    "This SQL script creates two project tables in Google BigQuery, **'cat_pop_by_province_2015_2017'** and **'cat_percapita_income_by_province_2015_2017'**. These tables are populated with data related to population, area, density, and per capita income by province for the years 2015, 2016, and 2017.\n",
    "\n",
    "Unlike our previous kernel focused on data cleaning, this kernel's purpose is **table creation**. These tables are essential for future analysis, especially for practicing **SQL join queries**. They provide a strong foundation for combining and analyzing data from diverse sources, demonstrating the power of SQL joins.\""
   ]
  },
  {
   "cell_type": "code",
   "execution_count": null,
   "id": "2d1f50e0",
   "metadata": {},
   "outputs": [],
   "source": []
  },
  {
   "cell_type": "markdown",
   "id": "9876534d",
   "metadata": {},
   "source": [
    "### Import libraries and modules"
   ]
  },
  {
   "cell_type": "code",
   "execution_count": 1,
   "id": "9ce0dfc7",
   "metadata": {},
   "outputs": [],
   "source": [
    "import pandas as pd\n",
    "from google.cloud import bigquery"
   ]
  },
  {
   "cell_type": "code",
   "execution_count": null,
   "id": "3bd02b45",
   "metadata": {},
   "outputs": [],
   "source": []
  },
  {
   "cell_type": "markdown",
   "id": "da7bbbac",
   "metadata": {},
   "source": [
    "### Import function: Interactive SQL Query to Pandas DataFrame Converter"
   ]
  },
  {
   "cell_type": "markdown",
   "id": "e3283c4f",
   "metadata": {},
   "source": [
    "Import the custom query_df and run_query functions from the 'query_functions.py' file to execute SQL queries using a pre-configured BigQuery client object."
   ]
  },
  {
   "cell_type": "code",
   "execution_count": 2,
   "id": "9089241d",
   "metadata": {},
   "outputs": [],
   "source": [
    "from query_functions import query_df  # Execute the query and return the output as a DataFrame\n",
    "from query_functions import run_query  # Execute the query without returning a DataFrame, used for INSERT, UPDATE, DELETE, etc."
   ]
  },
  {
   "cell_type": "code",
   "execution_count": null,
   "id": "8621edd9",
   "metadata": {},
   "outputs": [],
   "source": []
  },
  {
   "cell_type": "markdown",
   "id": "23ff5b7e",
   "metadata": {},
   "source": [
    "### Datasets and Tables paths to Google BigQuery"
   ]
  },
  {
   "cell_type": "code",
   "execution_count": 3,
   "id": "8ff876f3",
   "metadata": {},
   "outputs": [],
   "source": [
    "# Catalan population and density by province (2015-2017)\n",
    "pop_density = \"bq-analyst-230590.project_cat_mobile_coverage_2015_2017.cat_pop_by_province_2015_2017\"\n",
    "\n",
    "# Per capita income by catalan province (2015-2017)\n",
    "percapita_income = \"bq-analyst-230590.project_cat_mobile_coverage_2015_2017.cat_percapita_income_by_province_2015_2017\""
   ]
  },
  {
   "cell_type": "code",
   "execution_count": null,
   "id": "1e5a9f53",
   "metadata": {},
   "outputs": [],
   "source": []
  },
  {
   "cell_type": "markdown",
   "id": "2d4b2437",
   "metadata": {},
   "source": [
    "### Create the cat_pop_by_province_2015_2017 Table"
   ]
  },
  {
   "cell_type": "code",
   "execution_count": 4,
   "id": "aaa64ad5",
   "metadata": {},
   "outputs": [
    {
     "name": "stdout",
     "output_type": "stream",
     "text": [
      "Query successfully executed, and the table has been updated.\n"
     ]
    }
   ],
   "source": [
    "# Datasets: {pop_density}\n",
    "\n",
    "# SQL query:\n",
    "query = f\"\"\"\n",
    "CREATE TABLE IF NOT EXISTS `{pop_density}` (\n",
    "  `province` STRING,\n",
    "  `year` INT64,\n",
    "  `population` INT64,\n",
    "  `sq_km` INT64,\n",
    "  `density_per_sq_km` FLOAT64\n",
    ")\n",
    "    \"\"\"\n",
    "\n",
    "# Execute the query\n",
    "run_query(query)"
   ]
  },
  {
   "cell_type": "markdown",
   "id": "433489b9",
   "metadata": {},
   "source": [
    "    - Insert and update pop_density values"
   ]
  },
  {
   "cell_type": "code",
   "execution_count": 5,
   "id": "a992c309",
   "metadata": {},
   "outputs": [
    {
     "name": "stdout",
     "output_type": "stream",
     "text": [
      "Query successfully executed, and the table has been updated.\n"
     ]
    }
   ],
   "source": [
    "# Datasets: {pop_density}\n",
    "\n",
    "# SQL query: fill with province, year and population values\n",
    "query = f\"\"\"\n",
    "INSERT INTO `{pop_density}` (\n",
    "  `province`,\n",
    "  `year`,\n",
    "  `population`\n",
    ") VALUES\n",
    "  ('Barcelona', 2015, 5618162),\n",
    "  ('Barcelona', 2016, 5635085),\n",
    "  ('Barcelona', 2017, 5652301),\n",
    "  ('Lleida', 2015, 742138),\n",
    "  ('Lleida', 2016, 742099),\n",
    "  ('Lleida', 2017, 741884),\n",
    "  ('Girona', 2015, 765783),\n",
    "  ('Girona', 2016, 766273),\n",
    "  ('Girona', 2017, 766705),\n",
    "  ('Tarragona', 2015, 811089),\n",
    "  ('Tarragona', 2016, 810947),\n",
    "  ('Tarragona', 2017, 810600)\n",
    "    \"\"\"\n",
    "\n",
    "# Execute the query\n",
    "run_query(query)"
   ]
  },
  {
   "cell_type": "code",
   "execution_count": 6,
   "id": "7b3da5a8",
   "metadata": {},
   "outputs": [
    {
     "name": "stdout",
     "output_type": "stream",
     "text": [
      "Query successfully executed, and the table has been updated.\n"
     ]
    }
   ],
   "source": [
    "# Datasets: {pop_density}\n",
    "\n",
    "# SQL query: add same sq_km for each province\n",
    "query = f\"\"\"\n",
    "UPDATE `{pop_density}`\n",
    "SET\n",
    "  `sq_km` = CASE\n",
    "    WHEN province = 'Barcelona' THEN 7726\n",
    "    WHEN province = 'Lleida' THEN 12172\n",
    "    WHEN province = 'Girona' THEN 5908\n",
    "    WHEN province = 'Tarragona' THEN 6303\n",
    "  END\n",
    "WHERE sq_km IS NULL\n",
    "    \"\"\"\n",
    "\n",
    "# Execute the query\n",
    "run_query(query)"
   ]
  },
  {
   "cell_type": "code",
   "execution_count": 7,
   "id": "b623bdc4",
   "metadata": {},
   "outputs": [
    {
     "name": "stdout",
     "output_type": "stream",
     "text": [
      "Query successfully executed, and the table has been updated.\n"
     ]
    }
   ],
   "source": [
    "# Datasets: {pop_density}\n",
    "\n",
    "# SQL query: update density_per_sq_km value\n",
    "query = f\"\"\"\n",
    "UPDATE `{pop_density}`\n",
    "SET density_per_sq_km = ROUND(population / sq_km,1)\n",
    "WHERE density_per_sq_km IS NULL\n",
    "    \"\"\"\n",
    "\n",
    "# Execute the query\n",
    "run_query(query)"
   ]
  },
  {
   "cell_type": "markdown",
   "id": "7cd18238",
   "metadata": {},
   "source": [
    "    - pop_density table:"
   ]
  },
  {
   "cell_type": "code",
   "execution_count": 8,
   "id": "080b2fa4",
   "metadata": {},
   "outputs": [
    {
     "data": {
      "text/html": [
       "<div>\n",
       "<style scoped>\n",
       "    .dataframe tbody tr th:only-of-type {\n",
       "        vertical-align: middle;\n",
       "    }\n",
       "\n",
       "    .dataframe tbody tr th {\n",
       "        vertical-align: top;\n",
       "    }\n",
       "\n",
       "    .dataframe thead th {\n",
       "        text-align: right;\n",
       "    }\n",
       "</style>\n",
       "<table border=\"1\" class=\"dataframe\">\n",
       "  <thead>\n",
       "    <tr style=\"text-align: right;\">\n",
       "      <th></th>\n",
       "      <th>province</th>\n",
       "      <th>year</th>\n",
       "      <th>population</th>\n",
       "      <th>sq_km</th>\n",
       "      <th>density_per_sq_km</th>\n",
       "    </tr>\n",
       "  </thead>\n",
       "  <tbody>\n",
       "    <tr>\n",
       "      <th>0</th>\n",
       "      <td>Girona</td>\n",
       "      <td>2016</td>\n",
       "      <td>766273</td>\n",
       "      <td>5908</td>\n",
       "      <td>129.7</td>\n",
       "    </tr>\n",
       "    <tr>\n",
       "      <th>1</th>\n",
       "      <td>Girona</td>\n",
       "      <td>2017</td>\n",
       "      <td>766705</td>\n",
       "      <td>5908</td>\n",
       "      <td>129.8</td>\n",
       "    </tr>\n",
       "    <tr>\n",
       "      <th>2</th>\n",
       "      <td>Girona</td>\n",
       "      <td>2015</td>\n",
       "      <td>765783</td>\n",
       "      <td>5908</td>\n",
       "      <td>129.6</td>\n",
       "    </tr>\n",
       "    <tr>\n",
       "      <th>3</th>\n",
       "      <td>Lleida</td>\n",
       "      <td>2015</td>\n",
       "      <td>742138</td>\n",
       "      <td>12172</td>\n",
       "      <td>61.0</td>\n",
       "    </tr>\n",
       "    <tr>\n",
       "      <th>4</th>\n",
       "      <td>Lleida</td>\n",
       "      <td>2016</td>\n",
       "      <td>742099</td>\n",
       "      <td>12172</td>\n",
       "      <td>61.0</td>\n",
       "    </tr>\n",
       "    <tr>\n",
       "      <th>5</th>\n",
       "      <td>Lleida</td>\n",
       "      <td>2017</td>\n",
       "      <td>741884</td>\n",
       "      <td>12172</td>\n",
       "      <td>61.0</td>\n",
       "    </tr>\n",
       "    <tr>\n",
       "      <th>6</th>\n",
       "      <td>Barcelona</td>\n",
       "      <td>2015</td>\n",
       "      <td>5618162</td>\n",
       "      <td>7726</td>\n",
       "      <td>727.2</td>\n",
       "    </tr>\n",
       "    <tr>\n",
       "      <th>7</th>\n",
       "      <td>Barcelona</td>\n",
       "      <td>2016</td>\n",
       "      <td>5635085</td>\n",
       "      <td>7726</td>\n",
       "      <td>729.4</td>\n",
       "    </tr>\n",
       "    <tr>\n",
       "      <th>8</th>\n",
       "      <td>Barcelona</td>\n",
       "      <td>2017</td>\n",
       "      <td>5652301</td>\n",
       "      <td>7726</td>\n",
       "      <td>731.6</td>\n",
       "    </tr>\n",
       "    <tr>\n",
       "      <th>9</th>\n",
       "      <td>Tarragona</td>\n",
       "      <td>2015</td>\n",
       "      <td>811089</td>\n",
       "      <td>6303</td>\n",
       "      <td>128.7</td>\n",
       "    </tr>\n",
       "    <tr>\n",
       "      <th>10</th>\n",
       "      <td>Tarragona</td>\n",
       "      <td>2016</td>\n",
       "      <td>810947</td>\n",
       "      <td>6303</td>\n",
       "      <td>128.7</td>\n",
       "    </tr>\n",
       "    <tr>\n",
       "      <th>11</th>\n",
       "      <td>Tarragona</td>\n",
       "      <td>2017</td>\n",
       "      <td>810600</td>\n",
       "      <td>6303</td>\n",
       "      <td>128.6</td>\n",
       "    </tr>\n",
       "  </tbody>\n",
       "</table>\n",
       "</div>"
      ],
      "text/plain": [
       "     province  year  population  sq_km  density_per_sq_km\n",
       "0      Girona  2016      766273   5908              129.7\n",
       "1      Girona  2017      766705   5908              129.8\n",
       "2      Girona  2015      765783   5908              129.6\n",
       "3      Lleida  2015      742138  12172               61.0\n",
       "4      Lleida  2016      742099  12172               61.0\n",
       "5      Lleida  2017      741884  12172               61.0\n",
       "6   Barcelona  2015     5618162   7726              727.2\n",
       "7   Barcelona  2016     5635085   7726              729.4\n",
       "8   Barcelona  2017     5652301   7726              731.6\n",
       "9   Tarragona  2015      811089   6303              128.7\n",
       "10  Tarragona  2016      810947   6303              128.7\n",
       "11  Tarragona  2017      810600   6303              128.6"
      ]
     },
     "execution_count": 8,
     "metadata": {},
     "output_type": "execute_result"
    }
   ],
   "source": [
    "# Datasets: {pop_density}\n",
    "\n",
    "# SQL query: update density_per_sq_km value\n",
    "query = f\"\"\"\n",
    "SELECT * \n",
    "FROM `{pop_density}`\n",
    "    \"\"\"\n",
    "\n",
    "# Execute the query and display output\n",
    "query_df(query)"
   ]
  },
  {
   "cell_type": "code",
   "execution_count": null,
   "id": "bb1c890d",
   "metadata": {},
   "outputs": [],
   "source": []
  },
  {
   "cell_type": "markdown",
   "id": "315ee98a",
   "metadata": {},
   "source": [
    "### Create the cat_percapita_income_by_province_2015_2017 Table"
   ]
  },
  {
   "cell_type": "code",
   "execution_count": 9,
   "id": "dba6dcbe",
   "metadata": {},
   "outputs": [
    {
     "name": "stdout",
     "output_type": "stream",
     "text": [
      "Query successfully executed, and the table has been updated.\n"
     ]
    }
   ],
   "source": [
    "# Datasets: {pop_density}, {percapita_income}\n",
    "\n",
    "# SQL query:\n",
    "query = f\"\"\"\n",
    "CREATE TABLE IF NOT EXISTS `{percapita_income}` (\n",
    "  `year` INT64,\n",
    "  `province` STRING,\n",
    "  `per_capita_income` INT64\n",
    ")\n",
    "    \"\"\"\n",
    "\n",
    "# Execute the query\n",
    "run_query(query)"
   ]
  },
  {
   "cell_type": "markdown",
   "id": "216e6882",
   "metadata": {},
   "source": [
    "    - Insert percapita_income values"
   ]
  },
  {
   "cell_type": "code",
   "execution_count": 10,
   "id": "87c66437",
   "metadata": {},
   "outputs": [
    {
     "name": "stdout",
     "output_type": "stream",
     "text": [
      "Query successfully executed, and the table has been updated.\n"
     ]
    }
   ],
   "source": [
    "# Datasets: {pop_density}, {percapita_income}\n",
    "\n",
    "# SQL query:\n",
    "query = f\"\"\"\n",
    "INSERT INTO `{percapita_income}` (\n",
    "  `year`,\n",
    "  `province`,\n",
    "  `per_capita_income`\n",
    ") VALUES\n",
    "  (2015, 'Barcelona', 27214),\n",
    "  (2016, 'Barcelona', 27913),\n",
    "  (2017, 'Barcelona', 28481),\n",
    "  (2015, 'Tarragona', 22486),\n",
    "  (2016, 'Tarragona', 23130),\n",
    "  (2017, 'Tarragona', 23534),\n",
    "  (2015, 'Lleida', 20136),\n",
    "  (2016, 'Lleida', 20713),\n",
    "  (2017, 'Lleida', 21091),\n",
    "  (2015, 'Girona', 25200),\n",
    "  (2016, 'Girona', 25598),\n",
    "  (2017, 'Girona', 25992)\n",
    "    \"\"\"\n",
    "\n",
    "# Execute the query\n",
    "run_query(query)"
   ]
  },
  {
   "cell_type": "markdown",
   "id": "080bbb1a",
   "metadata": {},
   "source": [
    "    - percapita_income table:"
   ]
  },
  {
   "cell_type": "code",
   "execution_count": 11,
   "id": "3fcfe880",
   "metadata": {},
   "outputs": [
    {
     "data": {
      "text/html": [
       "<div>\n",
       "<style scoped>\n",
       "    .dataframe tbody tr th:only-of-type {\n",
       "        vertical-align: middle;\n",
       "    }\n",
       "\n",
       "    .dataframe tbody tr th {\n",
       "        vertical-align: top;\n",
       "    }\n",
       "\n",
       "    .dataframe thead th {\n",
       "        text-align: right;\n",
       "    }\n",
       "</style>\n",
       "<table border=\"1\" class=\"dataframe\">\n",
       "  <thead>\n",
       "    <tr style=\"text-align: right;\">\n",
       "      <th></th>\n",
       "      <th>year</th>\n",
       "      <th>province</th>\n",
       "      <th>per_capita_income</th>\n",
       "    </tr>\n",
       "  </thead>\n",
       "  <tbody>\n",
       "    <tr>\n",
       "      <th>0</th>\n",
       "      <td>2017</td>\n",
       "      <td>Barcelona</td>\n",
       "      <td>28481</td>\n",
       "    </tr>\n",
       "    <tr>\n",
       "      <th>1</th>\n",
       "      <td>2016</td>\n",
       "      <td>Barcelona</td>\n",
       "      <td>27913</td>\n",
       "    </tr>\n",
       "    <tr>\n",
       "      <th>2</th>\n",
       "      <td>2015</td>\n",
       "      <td>Barcelona</td>\n",
       "      <td>27214</td>\n",
       "    </tr>\n",
       "    <tr>\n",
       "      <th>3</th>\n",
       "      <td>2017</td>\n",
       "      <td>Girona</td>\n",
       "      <td>25992</td>\n",
       "    </tr>\n",
       "    <tr>\n",
       "      <th>4</th>\n",
       "      <td>2016</td>\n",
       "      <td>Girona</td>\n",
       "      <td>25598</td>\n",
       "    </tr>\n",
       "    <tr>\n",
       "      <th>5</th>\n",
       "      <td>2015</td>\n",
       "      <td>Girona</td>\n",
       "      <td>25200</td>\n",
       "    </tr>\n",
       "    <tr>\n",
       "      <th>6</th>\n",
       "      <td>2017</td>\n",
       "      <td>Tarragona</td>\n",
       "      <td>23534</td>\n",
       "    </tr>\n",
       "    <tr>\n",
       "      <th>7</th>\n",
       "      <td>2016</td>\n",
       "      <td>Tarragona</td>\n",
       "      <td>23130</td>\n",
       "    </tr>\n",
       "    <tr>\n",
       "      <th>8</th>\n",
       "      <td>2015</td>\n",
       "      <td>Tarragona</td>\n",
       "      <td>22486</td>\n",
       "    </tr>\n",
       "    <tr>\n",
       "      <th>9</th>\n",
       "      <td>2017</td>\n",
       "      <td>Lleida</td>\n",
       "      <td>21091</td>\n",
       "    </tr>\n",
       "    <tr>\n",
       "      <th>10</th>\n",
       "      <td>2016</td>\n",
       "      <td>Lleida</td>\n",
       "      <td>20713</td>\n",
       "    </tr>\n",
       "    <tr>\n",
       "      <th>11</th>\n",
       "      <td>2015</td>\n",
       "      <td>Lleida</td>\n",
       "      <td>20136</td>\n",
       "    </tr>\n",
       "  </tbody>\n",
       "</table>\n",
       "</div>"
      ],
      "text/plain": [
       "    year   province  per_capita_income\n",
       "0   2017  Barcelona              28481\n",
       "1   2016  Barcelona              27913\n",
       "2   2015  Barcelona              27214\n",
       "3   2017     Girona              25992\n",
       "4   2016     Girona              25598\n",
       "5   2015     Girona              25200\n",
       "6   2017  Tarragona              23534\n",
       "7   2016  Tarragona              23130\n",
       "8   2015  Tarragona              22486\n",
       "9   2017     Lleida              21091\n",
       "10  2016     Lleida              20713\n",
       "11  2015     Lleida              20136"
      ]
     },
     "execution_count": 11,
     "metadata": {},
     "output_type": "execute_result"
    }
   ],
   "source": [
    "# Datasets: {pop_density}, {percapita_income}\n",
    "\n",
    "# SQL query:\n",
    "query = f\"\"\"\n",
    "SELECT *\n",
    "FROM `{percapita_income}`\n",
    "ORDER BY per_capita_income DESC\n",
    "    \"\"\"\n",
    "\n",
    "# Execute the query\n",
    "query_df(query)"
   ]
  },
  {
   "cell_type": "code",
   "execution_count": null,
   "id": "38090313",
   "metadata": {},
   "outputs": [],
   "source": []
  },
  {
   "cell_type": "markdown",
   "id": "6c806628",
   "metadata": {},
   "source": [
    "### Joining Population Density and Per Capita Income Data by Province and Year"
   ]
  },
  {
   "cell_type": "code",
   "execution_count": 14,
   "id": "ee755617",
   "metadata": {},
   "outputs": [
    {
     "data": {
      "text/html": [
       "<div>\n",
       "<style scoped>\n",
       "    .dataframe tbody tr th:only-of-type {\n",
       "        vertical-align: middle;\n",
       "    }\n",
       "\n",
       "    .dataframe tbody tr th {\n",
       "        vertical-align: top;\n",
       "    }\n",
       "\n",
       "    .dataframe thead th {\n",
       "        text-align: right;\n",
       "    }\n",
       "</style>\n",
       "<table border=\"1\" class=\"dataframe\">\n",
       "  <thead>\n",
       "    <tr style=\"text-align: right;\">\n",
       "      <th></th>\n",
       "      <th>province</th>\n",
       "      <th>year</th>\n",
       "      <th>population</th>\n",
       "      <th>sq_km</th>\n",
       "      <th>density_per_sq_km</th>\n",
       "      <th>per_capita_income</th>\n",
       "    </tr>\n",
       "  </thead>\n",
       "  <tbody>\n",
       "    <tr>\n",
       "      <th>0</th>\n",
       "      <td>Barcelona</td>\n",
       "      <td>2017</td>\n",
       "      <td>5652301</td>\n",
       "      <td>7726</td>\n",
       "      <td>731.6</td>\n",
       "      <td>28481</td>\n",
       "    </tr>\n",
       "    <tr>\n",
       "      <th>1</th>\n",
       "      <td>Barcelona</td>\n",
       "      <td>2016</td>\n",
       "      <td>5635085</td>\n",
       "      <td>7726</td>\n",
       "      <td>729.4</td>\n",
       "      <td>27913</td>\n",
       "    </tr>\n",
       "    <tr>\n",
       "      <th>2</th>\n",
       "      <td>Barcelona</td>\n",
       "      <td>2015</td>\n",
       "      <td>5618162</td>\n",
       "      <td>7726</td>\n",
       "      <td>727.2</td>\n",
       "      <td>27214</td>\n",
       "    </tr>\n",
       "    <tr>\n",
       "      <th>3</th>\n",
       "      <td>Girona</td>\n",
       "      <td>2017</td>\n",
       "      <td>766705</td>\n",
       "      <td>5908</td>\n",
       "      <td>129.8</td>\n",
       "      <td>25992</td>\n",
       "    </tr>\n",
       "    <tr>\n",
       "      <th>4</th>\n",
       "      <td>Girona</td>\n",
       "      <td>2016</td>\n",
       "      <td>766273</td>\n",
       "      <td>5908</td>\n",
       "      <td>129.7</td>\n",
       "      <td>25598</td>\n",
       "    </tr>\n",
       "    <tr>\n",
       "      <th>5</th>\n",
       "      <td>Girona</td>\n",
       "      <td>2015</td>\n",
       "      <td>765783</td>\n",
       "      <td>5908</td>\n",
       "      <td>129.6</td>\n",
       "      <td>25200</td>\n",
       "    </tr>\n",
       "    <tr>\n",
       "      <th>6</th>\n",
       "      <td>Tarragona</td>\n",
       "      <td>2017</td>\n",
       "      <td>810600</td>\n",
       "      <td>6303</td>\n",
       "      <td>128.6</td>\n",
       "      <td>23534</td>\n",
       "    </tr>\n",
       "    <tr>\n",
       "      <th>7</th>\n",
       "      <td>Tarragona</td>\n",
       "      <td>2016</td>\n",
       "      <td>810947</td>\n",
       "      <td>6303</td>\n",
       "      <td>128.7</td>\n",
       "      <td>23130</td>\n",
       "    </tr>\n",
       "    <tr>\n",
       "      <th>8</th>\n",
       "      <td>Tarragona</td>\n",
       "      <td>2015</td>\n",
       "      <td>811089</td>\n",
       "      <td>6303</td>\n",
       "      <td>128.7</td>\n",
       "      <td>22486</td>\n",
       "    </tr>\n",
       "    <tr>\n",
       "      <th>9</th>\n",
       "      <td>Lleida</td>\n",
       "      <td>2017</td>\n",
       "      <td>741884</td>\n",
       "      <td>12172</td>\n",
       "      <td>61.0</td>\n",
       "      <td>21091</td>\n",
       "    </tr>\n",
       "    <tr>\n",
       "      <th>10</th>\n",
       "      <td>Lleida</td>\n",
       "      <td>2016</td>\n",
       "      <td>742099</td>\n",
       "      <td>12172</td>\n",
       "      <td>61.0</td>\n",
       "      <td>20713</td>\n",
       "    </tr>\n",
       "    <tr>\n",
       "      <th>11</th>\n",
       "      <td>Lleida</td>\n",
       "      <td>2015</td>\n",
       "      <td>742138</td>\n",
       "      <td>12172</td>\n",
       "      <td>61.0</td>\n",
       "      <td>20136</td>\n",
       "    </tr>\n",
       "  </tbody>\n",
       "</table>\n",
       "</div>"
      ],
      "text/plain": [
       "     province  year  population  sq_km  density_per_sq_km  per_capita_income\n",
       "0   Barcelona  2017     5652301   7726              731.6              28481\n",
       "1   Barcelona  2016     5635085   7726              729.4              27913\n",
       "2   Barcelona  2015     5618162   7726              727.2              27214\n",
       "3      Girona  2017      766705   5908              129.8              25992\n",
       "4      Girona  2016      766273   5908              129.7              25598\n",
       "5      Girona  2015      765783   5908              129.6              25200\n",
       "6   Tarragona  2017      810600   6303              128.6              23534\n",
       "7   Tarragona  2016      810947   6303              128.7              23130\n",
       "8   Tarragona  2015      811089   6303              128.7              22486\n",
       "9      Lleida  2017      741884  12172               61.0              21091\n",
       "10     Lleida  2016      742099  12172               61.0              20713\n",
       "11     Lleida  2015      742138  12172               61.0              20136"
      ]
     },
     "execution_count": 14,
     "metadata": {},
     "output_type": "execute_result"
    }
   ],
   "source": [
    "# Datasets: {pop_density}, {percapita_income}\n",
    "\n",
    "# SQL query:\n",
    "query = f\"\"\"\n",
    "SELECT\n",
    "    p.province,\n",
    "    p.year,\n",
    "    p.population,\n",
    "    p.sq_km,\n",
    "    p.density_per_sq_km,\n",
    "    c.per_capita_income\n",
    "FROM `{pop_density}` p\n",
    "JOIN `{percapita_income}` c\n",
    "    ON p.province = c.province\n",
    "    AND p.year = c.year\n",
    "ORDER BY 6 DESC\n",
    "\"\"\"\n",
    "\n",
    "# Execute the query\n",
    "query_df(query)"
   ]
  },
  {
   "cell_type": "code",
   "execution_count": null,
   "id": "60908d71",
   "metadata": {},
   "outputs": [],
   "source": []
  }
 ],
 "metadata": {
  "kernelspec": {
   "display_name": "Python 3 (ipykernel)",
   "language": "python",
   "name": "python3"
  },
  "language_info": {
   "codemirror_mode": {
    "name": "ipython",
    "version": 3
   },
   "file_extension": ".py",
   "mimetype": "text/x-python",
   "name": "python",
   "nbconvert_exporter": "python",
   "pygments_lexer": "ipython3",
   "version": "3.9.13"
  }
 },
 "nbformat": 4,
 "nbformat_minor": 5
}

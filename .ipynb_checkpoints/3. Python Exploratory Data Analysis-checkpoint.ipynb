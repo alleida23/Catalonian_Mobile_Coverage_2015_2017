{
 "cells": [
  {
   "cell_type": "code",
   "execution_count": 1,
   "id": "dd359141",
   "metadata": {},
   "outputs": [],
   "source": [
    "import pandas as pd\n",
    "from google.cloud import bigquery\n",
    "from IPython.display import display\n",
    "from IPython.display import Markdown\n",
    "\n",
    "import matplotlib.pyplot as plt\n",
    "import seaborn as sns"
   ]
  },
  {
   "cell_type": "markdown",
   "id": "25f637e6",
   "metadata": {},
   "source": [
    "### Import function: Interactive SQL Query to Pandas DataFrame Converter"
   ]
  },
  {
   "cell_type": "code",
   "execution_count": 2,
   "id": "afb82a93",
   "metadata": {},
   "outputs": [],
   "source": [
    "# Import the custom query_df function for executing BigQuery queries\n",
    "from query_functions import query_df\n",
    "from query_functions import run_query # just run the query, no df no print [INSERT, UPDATE, DELETE...}]"
   ]
  },
  {
   "cell_type": "markdown",
   "id": "c580c853",
   "metadata": {},
   "source": [
    "### Datasets and Tables"
   ]
  },
  {
   "cell_type": "code",
   "execution_count": 3,
   "id": "3e6bbe21",
   "metadata": {},
   "outputs": [],
   "source": [
    "# Catalonian mobile coverage (2015-2017)\n",
    "mobile_data_cleaned = \"bq-analyst-230590.project_cat_mobile_coverage_2015_2017.mobile_data_2015_2017_cleaned\"\n",
    "\n",
    "# Per capita income by catalan province (2015-2017)\n",
    "percapita_income = \"bq-analyst-230590.project_cat_mobile_coverage_2015_2017.cat_percapita_income_by_province_2015_2017\"\n",
    "\n",
    "# Catalan population and density by province (2015-2017)\n",
    "pop_density = \"bq-analyst-230590.project_cat_mobile_coverage_2015_2017.cat_pop_by_province_2015_2017\""
   ]
  },
  {
   "cell_type": "markdown",
   "id": "5ea7497a",
   "metadata": {},
   "source": [
    "### Preview datasets"
   ]
  },
  {
   "cell_type": "markdown",
   "id": "c26067d5",
   "metadata": {},
   "source": [
    "Mobile Data Cleaned"
   ]
  },
  {
   "cell_type": "code",
   "execution_count": 4,
   "id": "0f318f96",
   "metadata": {},
   "outputs": [
    {
     "data": {
      "text/markdown": [
       "Query: "
      ],
      "text/plain": [
       "<IPython.core.display.Markdown object>"
      ]
     },
     "metadata": {},
     "output_type": "display_data"
    },
    {
     "name": "stdout",
     "output_type": "stream",
     "text": [
      "\n",
      "    SELECT *\n",
      "    FROM `bq-analyst-230590.project_cat_mobile_coverage_2015_2017.mobile_data_2015_2017_cleaned`\n",
      "    LIMIT 100\n",
      "    \n"
     ]
    },
    {
     "data": {
      "text/markdown": [
       "Dataframe: **mob_cov_data**"
      ],
      "text/plain": [
       "<IPython.core.display.Markdown object>"
      ]
     },
     "metadata": {},
     "output_type": "display_data"
    },
    {
     "data": {
      "text/html": [
       "<div>\n",
       "<style scoped>\n",
       "    .dataframe tbody tr th:only-of-type {\n",
       "        vertical-align: middle;\n",
       "    }\n",
       "\n",
       "    .dataframe tbody tr th {\n",
       "        vertical-align: top;\n",
       "    }\n",
       "\n",
       "    .dataframe thead th {\n",
       "        text-align: right;\n",
       "    }\n",
       "</style>\n",
       "<table border=\"1\" class=\"dataframe\">\n",
       "  <thead>\n",
       "    <tr style=\"text-align: right;\">\n",
       "      <th></th>\n",
       "      <th>date</th>\n",
       "      <th>hour</th>\n",
       "      <th>lat</th>\n",
       "      <th>long</th>\n",
       "      <th>signal</th>\n",
       "      <th>network</th>\n",
       "      <th>operator</th>\n",
       "      <th>status</th>\n",
       "      <th>description</th>\n",
       "      <th>net</th>\n",
       "      <th>...</th>\n",
       "      <th>precission</th>\n",
       "      <th>provider</th>\n",
       "      <th>activity</th>\n",
       "      <th>postal_code</th>\n",
       "      <th>town_name</th>\n",
       "      <th>position_geom</th>\n",
       "      <th>province</th>\n",
       "      <th>year</th>\n",
       "      <th>month</th>\n",
       "      <th>hour_24h</th>\n",
       "    </tr>\n",
       "  </thead>\n",
       "  <tbody>\n",
       "    <tr>\n",
       "      <th>0</th>\n",
       "      <td>2015-09-10</td>\n",
       "      <td>06:18:21</td>\n",
       "      <td>41.64901</td>\n",
       "      <td>2.43350</td>\n",
       "      <td>7</td>\n",
       "      <td>EE</td>\n",
       "      <td>EE</td>\n",
       "      <td>2</td>\n",
       "      <td>STATE_EMERGENCY_ONLY</td>\n",
       "      <td>2G</td>\n",
       "      <td>...</td>\n",
       "      <td>20.0</td>\n",
       "      <td>GPS</td>\n",
       "      <td>IN_VEHICLE</td>\n",
       "      <td>081069</td>\n",
       "      <td>Llinars del Vallès</td>\n",
       "      <td>POINT(2.4335 41.64901)</td>\n",
       "      <td>Barcelona</td>\n",
       "      <td>2015</td>\n",
       "      <td>9</td>\n",
       "      <td>6</td>\n",
       "    </tr>\n",
       "    <tr>\n",
       "      <th>1</th>\n",
       "      <td>2015-11-13</td>\n",
       "      <td>11:46:51</td>\n",
       "      <td>41.29062</td>\n",
       "      <td>2.08105</td>\n",
       "      <td>27</td>\n",
       "      <td>EE</td>\n",
       "      <td>EE</td>\n",
       "      <td>0</td>\n",
       "      <td>STATE_IN_SERVICE</td>\n",
       "      <td>Undefined net</td>\n",
       "      <td>...</td>\n",
       "      <td>10.0</td>\n",
       "      <td>GPS</td>\n",
       "      <td>ON_FOOT</td>\n",
       "      <td>081691</td>\n",
       "      <td>el Prat de Llobregat</td>\n",
       "      <td>POINT(2.08105 41.29062)</td>\n",
       "      <td>Barcelona</td>\n",
       "      <td>2015</td>\n",
       "      <td>11</td>\n",
       "      <td>11</td>\n",
       "    </tr>\n",
       "    <tr>\n",
       "      <th>2</th>\n",
       "      <td>2015-09-08</td>\n",
       "      <td>23:23:39</td>\n",
       "      <td>41.69770</td>\n",
       "      <td>2.74608</td>\n",
       "      <td>19</td>\n",
       "      <td>EE</td>\n",
       "      <td>EE</td>\n",
       "      <td>2</td>\n",
       "      <td>STATE_EMERGENCY_ONLY</td>\n",
       "      <td>2G</td>\n",
       "      <td>...</td>\n",
       "      <td>29.0</td>\n",
       "      <td>GPS</td>\n",
       "      <td>IN_VEHICLE</td>\n",
       "      <td>082845</td>\n",
       "      <td>Tordera</td>\n",
       "      <td>POINT(2.74608 41.6977)</td>\n",
       "      <td>Barcelona</td>\n",
       "      <td>2015</td>\n",
       "      <td>9</td>\n",
       "      <td>23</td>\n",
       "    </tr>\n",
       "    <tr>\n",
       "      <th>3</th>\n",
       "      <td>2015-09-10</td>\n",
       "      <td>06:17:19</td>\n",
       "      <td>41.65941</td>\n",
       "      <td>2.45505</td>\n",
       "      <td>7</td>\n",
       "      <td>EE</td>\n",
       "      <td>EE</td>\n",
       "      <td>2</td>\n",
       "      <td>STATE_EMERGENCY_ONLY</td>\n",
       "      <td>3G</td>\n",
       "      <td>...</td>\n",
       "      <td>31.0</td>\n",
       "      <td>GPS</td>\n",
       "      <td>IN_VEHICLE</td>\n",
       "      <td>082943</td>\n",
       "      <td>Vallgorguina</td>\n",
       "      <td>POINT(2.45505 41.65941)</td>\n",
       "      <td>Barcelona</td>\n",
       "      <td>2015</td>\n",
       "      <td>9</td>\n",
       "      <td>6</td>\n",
       "    </tr>\n",
       "    <tr>\n",
       "      <th>4</th>\n",
       "      <td>2015-09-09</td>\n",
       "      <td>19:31:21</td>\n",
       "      <td>41.80497</td>\n",
       "      <td>2.77780</td>\n",
       "      <td>4</td>\n",
       "      <td>EE</td>\n",
       "      <td>EE</td>\n",
       "      <td>0</td>\n",
       "      <td>STATE_IN_SERVICE</td>\n",
       "      <td>2G</td>\n",
       "      <td>...</td>\n",
       "      <td>30.0</td>\n",
       "      <td>GPS</td>\n",
       "      <td>STILL</td>\n",
       "      <td>171931</td>\n",
       "      <td>Sils</td>\n",
       "      <td>POINT(2.7778 41.80497)</td>\n",
       "      <td>Girona</td>\n",
       "      <td>2015</td>\n",
       "      <td>9</td>\n",
       "      <td>19</td>\n",
       "    </tr>\n",
       "    <tr>\n",
       "      <th>...</th>\n",
       "      <td>...</td>\n",
       "      <td>...</td>\n",
       "      <td>...</td>\n",
       "      <td>...</td>\n",
       "      <td>...</td>\n",
       "      <td>...</td>\n",
       "      <td>...</td>\n",
       "      <td>...</td>\n",
       "      <td>...</td>\n",
       "      <td>...</td>\n",
       "      <td>...</td>\n",
       "      <td>...</td>\n",
       "      <td>...</td>\n",
       "      <td>...</td>\n",
       "      <td>...</td>\n",
       "      <td>...</td>\n",
       "      <td>...</td>\n",
       "      <td>...</td>\n",
       "      <td>...</td>\n",
       "      <td>...</td>\n",
       "      <td>...</td>\n",
       "    </tr>\n",
       "    <tr>\n",
       "      <th>95</th>\n",
       "      <td>2015-06-09</td>\n",
       "      <td>23:56:09</td>\n",
       "      <td>41.40220</td>\n",
       "      <td>2.20595</td>\n",
       "      <td>18</td>\n",
       "      <td>Movistar</td>\n",
       "      <td>ONO</td>\n",
       "      <td>0</td>\n",
       "      <td>STATE_IN_SERVICE</td>\n",
       "      <td>2G</td>\n",
       "      <td>...</td>\n",
       "      <td>29.0</td>\n",
       "      <td>Fused</td>\n",
       "      <td>STILL</td>\n",
       "      <td>080193</td>\n",
       "      <td>Barcelona</td>\n",
       "      <td>POINT(2.20595 41.4022)</td>\n",
       "      <td>Barcelona</td>\n",
       "      <td>2015</td>\n",
       "      <td>6</td>\n",
       "      <td>23</td>\n",
       "    </tr>\n",
       "    <tr>\n",
       "      <th>96</th>\n",
       "      <td>2015-05-23</td>\n",
       "      <td>18:27:09</td>\n",
       "      <td>41.43917</td>\n",
       "      <td>2.20023</td>\n",
       "      <td>14</td>\n",
       "      <td>Movistar</td>\n",
       "      <td>ONO</td>\n",
       "      <td>2</td>\n",
       "      <td>STATE_EMERGENCY_ONLY</td>\n",
       "      <td>3G</td>\n",
       "      <td>...</td>\n",
       "      <td>8.0</td>\n",
       "      <td>GPS</td>\n",
       "      <td>ON_FOOT</td>\n",
       "      <td>080193</td>\n",
       "      <td>Barcelona</td>\n",
       "      <td>POINT(2.20023 41.43917)</td>\n",
       "      <td>Barcelona</td>\n",
       "      <td>2015</td>\n",
       "      <td>5</td>\n",
       "      <td>18</td>\n",
       "    </tr>\n",
       "    <tr>\n",
       "      <th>97</th>\n",
       "      <td>2015-07-03</td>\n",
       "      <td>16:47:57</td>\n",
       "      <td>41.40286</td>\n",
       "      <td>2.14791</td>\n",
       "      <td>11</td>\n",
       "      <td>Movistar</td>\n",
       "      <td>ONO</td>\n",
       "      <td>2</td>\n",
       "      <td>STATE_EMERGENCY_ONLY</td>\n",
       "      <td>3G</td>\n",
       "      <td>...</td>\n",
       "      <td>12.0</td>\n",
       "      <td>GPS</td>\n",
       "      <td>IN_VEHICLE</td>\n",
       "      <td>080193</td>\n",
       "      <td>Barcelona</td>\n",
       "      <td>POINT(2.14791 41.40286)</td>\n",
       "      <td>Barcelona</td>\n",
       "      <td>2015</td>\n",
       "      <td>7</td>\n",
       "      <td>16</td>\n",
       "    </tr>\n",
       "    <tr>\n",
       "      <th>98</th>\n",
       "      <td>2015-03-12</td>\n",
       "      <td>15:08:17</td>\n",
       "      <td>41.41197</td>\n",
       "      <td>2.21703</td>\n",
       "      <td>25</td>\n",
       "      <td>Movistar</td>\n",
       "      <td>ONO</td>\n",
       "      <td>0</td>\n",
       "      <td>STATE_IN_SERVICE</td>\n",
       "      <td>2G</td>\n",
       "      <td>...</td>\n",
       "      <td>8.0</td>\n",
       "      <td>GPS</td>\n",
       "      <td>STILL</td>\n",
       "      <td>080193</td>\n",
       "      <td>Barcelona</td>\n",
       "      <td>POINT(2.21703 41.41197)</td>\n",
       "      <td>Barcelona</td>\n",
       "      <td>2015</td>\n",
       "      <td>3</td>\n",
       "      <td>15</td>\n",
       "    </tr>\n",
       "    <tr>\n",
       "      <th>99</th>\n",
       "      <td>2015-03-31</td>\n",
       "      <td>21:07:14</td>\n",
       "      <td>41.43041</td>\n",
       "      <td>2.18616</td>\n",
       "      <td>13</td>\n",
       "      <td>Movistar</td>\n",
       "      <td>ONO</td>\n",
       "      <td>2</td>\n",
       "      <td>STATE_EMERGENCY_ONLY</td>\n",
       "      <td>2G</td>\n",
       "      <td>...</td>\n",
       "      <td>39.0</td>\n",
       "      <td>GPS</td>\n",
       "      <td>STILL</td>\n",
       "      <td>080193</td>\n",
       "      <td>Barcelona</td>\n",
       "      <td>POINT(2.18616 41.43041)</td>\n",
       "      <td>Barcelona</td>\n",
       "      <td>2015</td>\n",
       "      <td>3</td>\n",
       "      <td>21</td>\n",
       "    </tr>\n",
       "  </tbody>\n",
       "</table>\n",
       "<p>100 rows × 22 columns</p>\n",
       "</div>"
      ],
      "text/plain": [
       "          date      hour       lat     long  signal   network operator  \\\n",
       "0   2015-09-10  06:18:21  41.64901  2.43350       7        EE       EE   \n",
       "1   2015-11-13  11:46:51  41.29062  2.08105      27        EE       EE   \n",
       "2   2015-09-08  23:23:39  41.69770  2.74608      19        EE       EE   \n",
       "3   2015-09-10  06:17:19  41.65941  2.45505       7        EE       EE   \n",
       "4   2015-09-09  19:31:21  41.80497  2.77780       4        EE       EE   \n",
       "..         ...       ...       ...      ...     ...       ...      ...   \n",
       "95  2015-06-09  23:56:09  41.40220  2.20595      18  Movistar      ONO   \n",
       "96  2015-05-23  18:27:09  41.43917  2.20023      14  Movistar      ONO   \n",
       "97  2015-07-03  16:47:57  41.40286  2.14791      11  Movistar      ONO   \n",
       "98  2015-03-12  15:08:17  41.41197  2.21703      25  Movistar      ONO   \n",
       "99  2015-03-31  21:07:14  41.43041  2.18616      13  Movistar      ONO   \n",
       "\n",
       "    status           description            net  ...  precission  provider  \\\n",
       "0        2  STATE_EMERGENCY_ONLY             2G  ...        20.0       GPS   \n",
       "1        0      STATE_IN_SERVICE  Undefined net  ...        10.0       GPS   \n",
       "2        2  STATE_EMERGENCY_ONLY             2G  ...        29.0       GPS   \n",
       "3        2  STATE_EMERGENCY_ONLY             3G  ...        31.0       GPS   \n",
       "4        0      STATE_IN_SERVICE             2G  ...        30.0       GPS   \n",
       "..     ...                   ...            ...  ...         ...       ...   \n",
       "95       0      STATE_IN_SERVICE             2G  ...        29.0     Fused   \n",
       "96       2  STATE_EMERGENCY_ONLY             3G  ...         8.0       GPS   \n",
       "97       2  STATE_EMERGENCY_ONLY             3G  ...        12.0       GPS   \n",
       "98       0      STATE_IN_SERVICE             2G  ...         8.0       GPS   \n",
       "99       2  STATE_EMERGENCY_ONLY             2G  ...        39.0       GPS   \n",
       "\n",
       "      activity postal_code             town_name            position_geom  \\\n",
       "0   IN_VEHICLE      081069    Llinars del Vallès   POINT(2.4335 41.64901)   \n",
       "1      ON_FOOT      081691  el Prat de Llobregat  POINT(2.08105 41.29062)   \n",
       "2   IN_VEHICLE      082845               Tordera   POINT(2.74608 41.6977)   \n",
       "3   IN_VEHICLE      082943          Vallgorguina  POINT(2.45505 41.65941)   \n",
       "4        STILL      171931                  Sils   POINT(2.7778 41.80497)   \n",
       "..         ...         ...                   ...                      ...   \n",
       "95       STILL      080193             Barcelona   POINT(2.20595 41.4022)   \n",
       "96     ON_FOOT      080193             Barcelona  POINT(2.20023 41.43917)   \n",
       "97  IN_VEHICLE      080193             Barcelona  POINT(2.14791 41.40286)   \n",
       "98       STILL      080193             Barcelona  POINT(2.21703 41.41197)   \n",
       "99       STILL      080193             Barcelona  POINT(2.18616 41.43041)   \n",
       "\n",
       "     province  year month  hour_24h  \n",
       "0   Barcelona  2015     9         6  \n",
       "1   Barcelona  2015    11        11  \n",
       "2   Barcelona  2015     9        23  \n",
       "3   Barcelona  2015     9         6  \n",
       "4      Girona  2015     9        19  \n",
       "..        ...   ...   ...       ...  \n",
       "95  Barcelona  2015     6        23  \n",
       "96  Barcelona  2015     5        18  \n",
       "97  Barcelona  2015     7        16  \n",
       "98  Barcelona  2015     3        15  \n",
       "99  Barcelona  2015     3        21  \n",
       "\n",
       "[100 rows x 22 columns]"
      ]
     },
     "execution_count": 4,
     "metadata": {},
     "output_type": "execute_result"
    }
   ],
   "source": [
    "# SQL query:\n",
    "query = f\"\"\"\n",
    "    SELECT *\n",
    "    FROM `{mobile_data_cleaned}`\n",
    "    LIMIT 100\n",
    "    \"\"\"\n",
    "# DataFrame name\n",
    "df_name = \"mob_cov_data\"\n",
    "\n",
    "# Execute the query and store the result in the DataFrame\n",
    "query_df(query, df_name)"
   ]
  },
  {
   "cell_type": "code",
   "execution_count": 5,
   "id": "95cd0fe2",
   "metadata": {},
   "outputs": [
    {
     "data": {
      "text/markdown": [
       "Query: "
      ],
      "text/plain": [
       "<IPython.core.display.Markdown object>"
      ]
     },
     "metadata": {},
     "output_type": "display_data"
    },
    {
     "name": "stdout",
     "output_type": "stream",
     "text": [
      "\n",
      "    SELECT *\n",
      "    FROM `bq-analyst-230590.project_cat_mobile_coverage_2015_2017.mobile_data_2015_2017_cleaned`\n",
      "    LIMIT 100\n",
      "    \n"
     ]
    },
    {
     "data": {
      "text/markdown": [
       "Dataframe: **mob_cov_data**"
      ],
      "text/plain": [
       "<IPython.core.display.Markdown object>"
      ]
     },
     "metadata": {},
     "output_type": "display_data"
    },
    {
     "data": {
      "text/plain": [
       "Index(['date', 'hour', 'lat', 'long', 'signal', 'network', 'operator',\n",
       "       'status', 'description', 'net', 'speed', 'satellites', 'precission',\n",
       "       'provider', 'activity', 'postal_code', 'town_name', 'position_geom',\n",
       "       'province', 'year', 'month', 'hour_24h'],\n",
       "      dtype='object')"
      ]
     },
     "execution_count": 5,
     "metadata": {},
     "output_type": "execute_result"
    }
   ],
   "source": [
    "mobdata = query_df(query, df_name)\n",
    "mobdata.columns"
   ]
  },
  {
   "cell_type": "code",
   "execution_count": 6,
   "id": "7cd6c54b",
   "metadata": {},
   "outputs": [
    {
     "data": {
      "text/markdown": [
       "Query: "
      ],
      "text/plain": [
       "<IPython.core.display.Markdown object>"
      ]
     },
     "metadata": {},
     "output_type": "display_data"
    },
    {
     "name": "stdout",
     "output_type": "stream",
     "text": [
      "\n",
      "    SELECT COUNT(*) total_rows\n",
      "    FROM `bq-analyst-230590.project_cat_mobile_coverage_2015_2017.mobile_data_2015_2017_cleaned`\n",
      "    \n"
     ]
    },
    {
     "data": {
      "text/markdown": [
       "Dataframe: **count_data**"
      ],
      "text/plain": [
       "<IPython.core.display.Markdown object>"
      ]
     },
     "metadata": {},
     "output_type": "display_data"
    },
    {
     "data": {
      "text/html": [
       "<div>\n",
       "<style scoped>\n",
       "    .dataframe tbody tr th:only-of-type {\n",
       "        vertical-align: middle;\n",
       "    }\n",
       "\n",
       "    .dataframe tbody tr th {\n",
       "        vertical-align: top;\n",
       "    }\n",
       "\n",
       "    .dataframe thead th {\n",
       "        text-align: right;\n",
       "    }\n",
       "</style>\n",
       "<table border=\"1\" class=\"dataframe\">\n",
       "  <thead>\n",
       "    <tr style=\"text-align: right;\">\n",
       "      <th></th>\n",
       "      <th>total_rows</th>\n",
       "    </tr>\n",
       "  </thead>\n",
       "  <tbody>\n",
       "    <tr>\n",
       "      <th>0</th>\n",
       "      <td>10643906</td>\n",
       "    </tr>\n",
       "  </tbody>\n",
       "</table>\n",
       "</div>"
      ],
      "text/plain": [
       "   total_rows\n",
       "0    10643906"
      ]
     },
     "execution_count": 6,
     "metadata": {},
     "output_type": "execute_result"
    }
   ],
   "source": [
    "# SQL query: count total rows\n",
    "query = f\"\"\"\n",
    "    SELECT COUNT(*) total_rows\n",
    "    FROM `{mobile_data_cleaned}`\n",
    "    \"\"\"\n",
    "# DataFrame name\n",
    "df_name = \"count_data\"\n",
    "\n",
    "# Execute the query and store the result in the DataFrame\n",
    "query_df(query, df_name)"
   ]
  },
  {
   "cell_type": "markdown",
   "id": "2030d65d",
   "metadata": {},
   "source": [
    "Per Capita Income"
   ]
  },
  {
   "cell_type": "code",
   "execution_count": 7,
   "id": "0017ba4e",
   "metadata": {},
   "outputs": [
    {
     "data": {
      "text/markdown": [
       "Query: "
      ],
      "text/plain": [
       "<IPython.core.display.Markdown object>"
      ]
     },
     "metadata": {},
     "output_type": "display_data"
    },
    {
     "name": "stdout",
     "output_type": "stream",
     "text": [
      "\n",
      "    SELECT *\n",
      "    FROM `bq-analyst-230590.project_cat_mobile_coverage_2015_2017.cat_percapita_income_by_province_2015_2017`\n",
      "    \n"
     ]
    },
    {
     "data": {
      "text/markdown": [
       "Dataframe: **percapita_income**"
      ],
      "text/plain": [
       "<IPython.core.display.Markdown object>"
      ]
     },
     "metadata": {},
     "output_type": "display_data"
    },
    {
     "data": {
      "text/html": [
       "<div>\n",
       "<style scoped>\n",
       "    .dataframe tbody tr th:only-of-type {\n",
       "        vertical-align: middle;\n",
       "    }\n",
       "\n",
       "    .dataframe tbody tr th {\n",
       "        vertical-align: top;\n",
       "    }\n",
       "\n",
       "    .dataframe thead th {\n",
       "        text-align: right;\n",
       "    }\n",
       "</style>\n",
       "<table border=\"1\" class=\"dataframe\">\n",
       "  <thead>\n",
       "    <tr style=\"text-align: right;\">\n",
       "      <th></th>\n",
       "      <th>year</th>\n",
       "      <th>province</th>\n",
       "      <th>per_capita_income</th>\n",
       "    </tr>\n",
       "  </thead>\n",
       "  <tbody>\n",
       "    <tr>\n",
       "      <th>0</th>\n",
       "      <td>2015</td>\n",
       "      <td>Girona</td>\n",
       "      <td>25200</td>\n",
       "    </tr>\n",
       "    <tr>\n",
       "      <th>1</th>\n",
       "      <td>2015</td>\n",
       "      <td>Lleida</td>\n",
       "      <td>20136</td>\n",
       "    </tr>\n",
       "    <tr>\n",
       "      <th>2</th>\n",
       "      <td>2015</td>\n",
       "      <td>Tarragona</td>\n",
       "      <td>22486</td>\n",
       "    </tr>\n",
       "    <tr>\n",
       "      <th>3</th>\n",
       "      <td>2015</td>\n",
       "      <td>Barcelona</td>\n",
       "      <td>27214</td>\n",
       "    </tr>\n",
       "    <tr>\n",
       "      <th>4</th>\n",
       "      <td>2016</td>\n",
       "      <td>Barcelona</td>\n",
       "      <td>27913</td>\n",
       "    </tr>\n",
       "    <tr>\n",
       "      <th>5</th>\n",
       "      <td>2016</td>\n",
       "      <td>Girona</td>\n",
       "      <td>25598</td>\n",
       "    </tr>\n",
       "    <tr>\n",
       "      <th>6</th>\n",
       "      <td>2016</td>\n",
       "      <td>Tarragona</td>\n",
       "      <td>23130</td>\n",
       "    </tr>\n",
       "    <tr>\n",
       "      <th>7</th>\n",
       "      <td>2016</td>\n",
       "      <td>Lleida</td>\n",
       "      <td>20713</td>\n",
       "    </tr>\n",
       "    <tr>\n",
       "      <th>8</th>\n",
       "      <td>2017</td>\n",
       "      <td>Barcelona</td>\n",
       "      <td>28481</td>\n",
       "    </tr>\n",
       "    <tr>\n",
       "      <th>9</th>\n",
       "      <td>2017</td>\n",
       "      <td>Lleida</td>\n",
       "      <td>21091</td>\n",
       "    </tr>\n",
       "    <tr>\n",
       "      <th>10</th>\n",
       "      <td>2017</td>\n",
       "      <td>Tarragona</td>\n",
       "      <td>23534</td>\n",
       "    </tr>\n",
       "    <tr>\n",
       "      <th>11</th>\n",
       "      <td>2017</td>\n",
       "      <td>Girona</td>\n",
       "      <td>25992</td>\n",
       "    </tr>\n",
       "  </tbody>\n",
       "</table>\n",
       "</div>"
      ],
      "text/plain": [
       "    year   province  per_capita_income\n",
       "0   2015     Girona              25200\n",
       "1   2015     Lleida              20136\n",
       "2   2015  Tarragona              22486\n",
       "3   2015  Barcelona              27214\n",
       "4   2016  Barcelona              27913\n",
       "5   2016     Girona              25598\n",
       "6   2016  Tarragona              23130\n",
       "7   2016     Lleida              20713\n",
       "8   2017  Barcelona              28481\n",
       "9   2017     Lleida              21091\n",
       "10  2017  Tarragona              23534\n",
       "11  2017     Girona              25992"
      ]
     },
     "execution_count": 7,
     "metadata": {},
     "output_type": "execute_result"
    }
   ],
   "source": [
    "# SQL query:\n",
    "query = f\"\"\"\n",
    "    SELECT *\n",
    "    FROM `{percapita_income}`\n",
    "    \"\"\"\n",
    "# DataFrame name\n",
    "df_name = \"percapita_income\"\n",
    "\n",
    "# Execute the query and store the result in the DataFrame\n",
    "query_df(query, df_name)"
   ]
  },
  {
   "cell_type": "markdown",
   "id": "8ff912d8",
   "metadata": {},
   "source": [
    "Pop Density"
   ]
  },
  {
   "cell_type": "code",
   "execution_count": 8,
   "id": "9e14ac65",
   "metadata": {},
   "outputs": [
    {
     "data": {
      "text/markdown": [
       "Query: "
      ],
      "text/plain": [
       "<IPython.core.display.Markdown object>"
      ]
     },
     "metadata": {},
     "output_type": "display_data"
    },
    {
     "name": "stdout",
     "output_type": "stream",
     "text": [
      "\n",
      "    SELECT *\n",
      "    FROM `bq-analyst-230590.project_cat_mobile_coverage_2015_2017.cat_pop_by_province_2015_2017`\n",
      "    LIMIT 100\n",
      "    \n"
     ]
    },
    {
     "data": {
      "text/markdown": [
       "Dataframe: **population_density**"
      ],
      "text/plain": [
       "<IPython.core.display.Markdown object>"
      ]
     },
     "metadata": {},
     "output_type": "display_data"
    },
    {
     "data": {
      "text/html": [
       "<div>\n",
       "<style scoped>\n",
       "    .dataframe tbody tr th:only-of-type {\n",
       "        vertical-align: middle;\n",
       "    }\n",
       "\n",
       "    .dataframe tbody tr th {\n",
       "        vertical-align: top;\n",
       "    }\n",
       "\n",
       "    .dataframe thead th {\n",
       "        text-align: right;\n",
       "    }\n",
       "</style>\n",
       "<table border=\"1\" class=\"dataframe\">\n",
       "  <thead>\n",
       "    <tr style=\"text-align: right;\">\n",
       "      <th></th>\n",
       "      <th>province</th>\n",
       "      <th>year</th>\n",
       "      <th>population</th>\n",
       "      <th>sq_km</th>\n",
       "      <th>density_per_sq_km</th>\n",
       "    </tr>\n",
       "  </thead>\n",
       "  <tbody>\n",
       "    <tr>\n",
       "      <th>0</th>\n",
       "      <td>None</td>\n",
       "      <td>2017</td>\n",
       "      <td>385000.0</td>\n",
       "      <td>380</td>\n",
       "      <td>NaN</td>\n",
       "    </tr>\n",
       "    <tr>\n",
       "      <th>1</th>\n",
       "      <td>None</td>\n",
       "      <td>2017</td>\n",
       "      <td>385000.0</td>\n",
       "      <td>380</td>\n",
       "      <td>NaN</td>\n",
       "    </tr>\n",
       "    <tr>\n",
       "      <th>2</th>\n",
       "      <td>None</td>\n",
       "      <td>2017</td>\n",
       "      <td>385000.0</td>\n",
       "      <td>380</td>\n",
       "      <td>NaN</td>\n",
       "    </tr>\n",
       "    <tr>\n",
       "      <th>3</th>\n",
       "      <td>None</td>\n",
       "      <td>2016</td>\n",
       "      <td>420000.0</td>\n",
       "      <td>400</td>\n",
       "      <td>NaN</td>\n",
       "    </tr>\n",
       "    <tr>\n",
       "      <th>4</th>\n",
       "      <td>None</td>\n",
       "      <td>2016</td>\n",
       "      <td>420000.0</td>\n",
       "      <td>400</td>\n",
       "      <td>NaN</td>\n",
       "    </tr>\n",
       "    <tr>\n",
       "      <th>5</th>\n",
       "      <td>None</td>\n",
       "      <td>2016</td>\n",
       "      <td>420000.0</td>\n",
       "      <td>400</td>\n",
       "      <td>NaN</td>\n",
       "    </tr>\n",
       "    <tr>\n",
       "      <th>6</th>\n",
       "      <td>None</td>\n",
       "      <td>2014</td>\n",
       "      <td>530000.0</td>\n",
       "      <td>490</td>\n",
       "      <td>NaN</td>\n",
       "    </tr>\n",
       "    <tr>\n",
       "      <th>7</th>\n",
       "      <td>None</td>\n",
       "      <td>2014</td>\n",
       "      <td>530000.0</td>\n",
       "      <td>490</td>\n",
       "      <td>NaN</td>\n",
       "    </tr>\n",
       "    <tr>\n",
       "      <th>8</th>\n",
       "      <td>None</td>\n",
       "      <td>2014</td>\n",
       "      <td>530000.0</td>\n",
       "      <td>490</td>\n",
       "      <td>NaN</td>\n",
       "    </tr>\n",
       "    <tr>\n",
       "      <th>9</th>\n",
       "      <td>None</td>\n",
       "      <td>2015</td>\n",
       "      <td>600000.0</td>\n",
       "      <td>500</td>\n",
       "      <td>NaN</td>\n",
       "    </tr>\n",
       "    <tr>\n",
       "      <th>10</th>\n",
       "      <td>None</td>\n",
       "      <td>2015</td>\n",
       "      <td>600000.0</td>\n",
       "      <td>500</td>\n",
       "      <td>NaN</td>\n",
       "    </tr>\n",
       "    <tr>\n",
       "      <th>11</th>\n",
       "      <td>None</td>\n",
       "      <td>2015</td>\n",
       "      <td>600000.0</td>\n",
       "      <td>500</td>\n",
       "      <td>NaN</td>\n",
       "    </tr>\n",
       "    <tr>\n",
       "      <th>12</th>\n",
       "      <td>Girona</td>\n",
       "      <td>2017</td>\n",
       "      <td>766705.0</td>\n",
       "      <td>5908</td>\n",
       "      <td>129.8</td>\n",
       "    </tr>\n",
       "    <tr>\n",
       "      <th>13</th>\n",
       "      <td>Girona</td>\n",
       "      <td>2016</td>\n",
       "      <td>766273.0</td>\n",
       "      <td>5908</td>\n",
       "      <td>129.7</td>\n",
       "    </tr>\n",
       "    <tr>\n",
       "      <th>14</th>\n",
       "      <td>Girona</td>\n",
       "      <td>2015</td>\n",
       "      <td>765783.0</td>\n",
       "      <td>5908</td>\n",
       "      <td>129.6</td>\n",
       "    </tr>\n",
       "    <tr>\n",
       "      <th>15</th>\n",
       "      <td>Lleida</td>\n",
       "      <td>2017</td>\n",
       "      <td>741884.0</td>\n",
       "      <td>12172</td>\n",
       "      <td>61.0</td>\n",
       "    </tr>\n",
       "    <tr>\n",
       "      <th>16</th>\n",
       "      <td>Lleida</td>\n",
       "      <td>2016</td>\n",
       "      <td>742099.0</td>\n",
       "      <td>12172</td>\n",
       "      <td>61.0</td>\n",
       "    </tr>\n",
       "    <tr>\n",
       "      <th>17</th>\n",
       "      <td>Lleida</td>\n",
       "      <td>2015</td>\n",
       "      <td>742138.0</td>\n",
       "      <td>12172</td>\n",
       "      <td>61.0</td>\n",
       "    </tr>\n",
       "    <tr>\n",
       "      <th>18</th>\n",
       "      <td>Pirineus</td>\n",
       "      <td>2015</td>\n",
       "      <td>NaN</td>\n",
       "      <td>10000</td>\n",
       "      <td>NaN</td>\n",
       "    </tr>\n",
       "    <tr>\n",
       "      <th>19</th>\n",
       "      <td>Pirineus</td>\n",
       "      <td>2015</td>\n",
       "      <td>NaN</td>\n",
       "      <td>10000</td>\n",
       "      <td>NaN</td>\n",
       "    </tr>\n",
       "    <tr>\n",
       "      <th>20</th>\n",
       "      <td>Barcelona</td>\n",
       "      <td>2016</td>\n",
       "      <td>5635085.0</td>\n",
       "      <td>7726</td>\n",
       "      <td>729.4</td>\n",
       "    </tr>\n",
       "    <tr>\n",
       "      <th>21</th>\n",
       "      <td>Barcelona</td>\n",
       "      <td>2015</td>\n",
       "      <td>5618162.0</td>\n",
       "      <td>7726</td>\n",
       "      <td>727.2</td>\n",
       "    </tr>\n",
       "    <tr>\n",
       "      <th>22</th>\n",
       "      <td>Barcelona</td>\n",
       "      <td>2017</td>\n",
       "      <td>5652301.0</td>\n",
       "      <td>7726</td>\n",
       "      <td>731.6</td>\n",
       "    </tr>\n",
       "    <tr>\n",
       "      <th>23</th>\n",
       "      <td>Tarragona</td>\n",
       "      <td>2015</td>\n",
       "      <td>811089.0</td>\n",
       "      <td>6303</td>\n",
       "      <td>128.7</td>\n",
       "    </tr>\n",
       "    <tr>\n",
       "      <th>24</th>\n",
       "      <td>Tarragona</td>\n",
       "      <td>2017</td>\n",
       "      <td>810600.0</td>\n",
       "      <td>6303</td>\n",
       "      <td>128.6</td>\n",
       "    </tr>\n",
       "    <tr>\n",
       "      <th>25</th>\n",
       "      <td>Tarragona</td>\n",
       "      <td>2016</td>\n",
       "      <td>810947.0</td>\n",
       "      <td>6303</td>\n",
       "      <td>128.7</td>\n",
       "    </tr>\n",
       "    <tr>\n",
       "      <th>26</th>\n",
       "      <td>Costa Brava</td>\n",
       "      <td>2017</td>\n",
       "      <td>NaN</td>\n",
       "      <td>678</td>\n",
       "      <td>NaN</td>\n",
       "    </tr>\n",
       "    <tr>\n",
       "      <th>27</th>\n",
       "      <td>Costa Brava</td>\n",
       "      <td>2017</td>\n",
       "      <td>NaN</td>\n",
       "      <td>678</td>\n",
       "      <td>NaN</td>\n",
       "    </tr>\n",
       "  </tbody>\n",
       "</table>\n",
       "</div>"
      ],
      "text/plain": [
       "       province  year  population  sq_km  density_per_sq_km\n",
       "0          None  2017    385000.0    380                NaN\n",
       "1          None  2017    385000.0    380                NaN\n",
       "2          None  2017    385000.0    380                NaN\n",
       "3          None  2016    420000.0    400                NaN\n",
       "4          None  2016    420000.0    400                NaN\n",
       "5          None  2016    420000.0    400                NaN\n",
       "6          None  2014    530000.0    490                NaN\n",
       "7          None  2014    530000.0    490                NaN\n",
       "8          None  2014    530000.0    490                NaN\n",
       "9          None  2015    600000.0    500                NaN\n",
       "10         None  2015    600000.0    500                NaN\n",
       "11         None  2015    600000.0    500                NaN\n",
       "12       Girona  2017    766705.0   5908              129.8\n",
       "13       Girona  2016    766273.0   5908              129.7\n",
       "14       Girona  2015    765783.0   5908              129.6\n",
       "15       Lleida  2017    741884.0  12172               61.0\n",
       "16       Lleida  2016    742099.0  12172               61.0\n",
       "17       Lleida  2015    742138.0  12172               61.0\n",
       "18     Pirineus  2015         NaN  10000                NaN\n",
       "19     Pirineus  2015         NaN  10000                NaN\n",
       "20    Barcelona  2016   5635085.0   7726              729.4\n",
       "21    Barcelona  2015   5618162.0   7726              727.2\n",
       "22    Barcelona  2017   5652301.0   7726              731.6\n",
       "23    Tarragona  2015    811089.0   6303              128.7\n",
       "24    Tarragona  2017    810600.0   6303              128.6\n",
       "25    Tarragona  2016    810947.0   6303              128.7\n",
       "26  Costa Brava  2017         NaN    678                NaN\n",
       "27  Costa Brava  2017         NaN    678                NaN"
      ]
     },
     "execution_count": 8,
     "metadata": {},
     "output_type": "execute_result"
    }
   ],
   "source": [
    "# SQL query:\n",
    "query = f\"\"\"\n",
    "    SELECT *\n",
    "    FROM `{pop_density}`\n",
    "    LIMIT 100\n",
    "    \"\"\"\n",
    "# DataFrame name\n",
    "df_name = \"population_density\"\n",
    "\n",
    "# Execute the query and store the result in the DataFrame\n",
    "query_df(query, df_name)"
   ]
  },
  {
   "cell_type": "code",
   "execution_count": null,
   "id": "69c2d397",
   "metadata": {},
   "outputs": [],
   "source": []
  },
  {
   "cell_type": "markdown",
   "id": "edb77823",
   "metadata": {},
   "source": [
    "### Execute queries: Exploratory Data Analysis (EDA)"
   ]
  },
  {
   "cell_type": "markdown",
   "id": "f3748e69",
   "metadata": {},
   "source": [
    "**Category 1: Filtering and Sorting**\n",
    "1. Retrieve records from the '{mobile_2015_2017}' table for the year 2016 and sort them in descending order based on the 'signal' column.\n",
    "2. Retrieve all records from the '{mobile_2015_2017}' table for the year 2016 where the signal strength is above a threshold of 80.\n",
    "3. Retrieve records from the '{mobile_2015_2017}' table for the year 2017 where 'network' is '4G,' 'status' is 'connected,' and 'speed' is greater than 10.\n",
    "\n",
    "**Category 2: Aggregation**\n",
    "1. Calculate the average 'speed' of mobile data in the '{mobile_2015_2017}' table for the year 2017.\n",
    "2. Calculate the average signal strength (signal) for each month in the year 2017 and order the results in descending order.\n",
    "3. Calculate the percentage of records where the status is 'connected' in the '{mobile_2015_2017}' table for the year 2017.\n",
    "\n",
    "**Category 3: Join Operations**\n",
    "1. Join the '{mobile_2015_2017}' table with the '{pop_density}' table to retrieve records from both tables for the year 2016.\n",
    "2. Calculate the average signal strength (signal) for each province in the year 2016. Join this data with the \"{pop_density}\" table to find the population density for each province in 2016.\n",
    "3. Find the province with the best 4G network coverage (highest number of records with '4G' in the network column) in the year 2015.\n",
    "4. Find the province with the highest average signal strength (signal) in the year 2017. Then, join this result with the \"{percapita_income}\" table to get the per capita income for that province in 2017.\n",
    "5. Calculate the correlation coefficient between the average signal strength (signal) and population density in the year 2016 for all provinces.\n",
    "6. Calculate the correlation coefficient between the average signal strength (signal) and per capita income for all provinces in the year 2017.\n",
    "7. Group the data in the '{mobile_2015_2017}' table by network type (e.g., 2G, 3G, 4G) and calculate the average signal strength for each type. Join this data with the \"{percapita_income}\" table to compare the per capita income by network type in the year 2017.\n",
    "\n",
    "**Category 4: Subqueries**\n",
    "1. Write a SQL subquery to find the provinces in the '{pop_density}' table where the population in 2016 is higher than the average population for all provinces.\n",
    "\n",
    "**Category 5: Grouping and Aggregation**\n",
    "1. Group the '{mobile_2015_2017}' table by 'network' type and calculate the average 'signal' strength and the maximum 'speed' for each network type in the year 2017.\n",
    "\n",
    "**Category 6: Complex Filtering**\n",
    "1. Retrieve records from the '{mobile_2015_2017}' table for the year 2017 where 'network' is '4G,' 'status' is 'connected,' and 'speed' is greater than 10.\n",
    "\n",
    "**Category 7: Data Validation**\n",
    "1. Identify and list all records in the '{mobile_2015_2017}' table with missing values in the 'provider' column.\n",
    "\n",
    "**Category 8: Case Statements**\n",
    "1. Update the 'status' column in the '{mobile_2015_2017}' table, setting it to 'high' when the 'signal' is above 70, 'medium' when between 50 and 70, and 'low' when below 50.\n",
    "\n",
    "**Category 9: Statistical Aggregate Functions**\n",
    "1. Calculate the Pearson correlation coefficient between 'signal' strength and 'speed' in the '{mobile_2015_2017}' table for the year 2017.\n",
    "2. Calculate the covariance between 'signal' strength and 'speed' in the '{mobile_2015_2017}' table for the year 2017.\n",
    "3. Calculate the standard deviation of 'signal' strength in the '{mobile_2015_2017}' table for the year 2017.\n",
    "4. Calculate the variance of 'signal' strength in the '{mobile_2015_2017}' table for the year 2017.\n",
    "\n",
    "**Category 10: Window Functions**\n",
    "1. Rank the provinces in the '{pop_density}' table based on population density in descending order for the year 2016.\n",
    "2. Calculate the dense rank of provinces in the '{percapita_income}' table based on per capita income in ascending order for the year 2017.\n",
    "3. Divide the provinces in the '{mobile_2015_2017}' table into quartiles based on 'speed' in the year 2017 using the ntile() window function."
   ]
  },
  {
   "cell_type": "code",
   "execution_count": null,
   "id": "9f128a02",
   "metadata": {},
   "outputs": [],
   "source": []
  },
  {
   "cell_type": "markdown",
   "id": "05ad297b",
   "metadata": {},
   "source": [
    "#### 1. Filtering and Sorting"
   ]
  },
  {
   "cell_type": "markdown",
   "id": "10a9430e",
   "metadata": {},
   "source": [
    "1. Retrieve records from the '{mobile_2015_2017}' table for the year 2016 and sort them in descending order based on the 'signal' column."
   ]
  },
  {
   "cell_type": "code",
   "execution_count": 9,
   "id": "5eeae934",
   "metadata": {},
   "outputs": [
    {
     "data": {
      "text/markdown": [
       "Query: "
      ],
      "text/plain": [
       "<IPython.core.display.Markdown object>"
      ]
     },
     "metadata": {},
     "output_type": "display_data"
    },
    {
     "name": "stdout",
     "output_type": "stream",
     "text": [
      "\n",
      "    SELECT *\n",
      "    FROM `bq-analyst-230590.project_cat_mobile_coverage_2015_2017.mobile_data_2015_2017_cleaned`\n",
      "    WHERE year = 2016\n",
      "    ORDER BY signal DESC\n",
      "    LIMIT 1000\n",
      "    \n"
     ]
    },
    {
     "data": {
      "text/markdown": [
       "Dataframe: **mob_data_2016**"
      ],
      "text/plain": [
       "<IPython.core.display.Markdown object>"
      ]
     },
     "metadata": {},
     "output_type": "display_data"
    },
    {
     "data": {
      "text/html": [
       "<div>\n",
       "<style scoped>\n",
       "    .dataframe tbody tr th:only-of-type {\n",
       "        vertical-align: middle;\n",
       "    }\n",
       "\n",
       "    .dataframe tbody tr th {\n",
       "        vertical-align: top;\n",
       "    }\n",
       "\n",
       "    .dataframe thead th {\n",
       "        text-align: right;\n",
       "    }\n",
       "</style>\n",
       "<table border=\"1\" class=\"dataframe\">\n",
       "  <thead>\n",
       "    <tr style=\"text-align: right;\">\n",
       "      <th></th>\n",
       "      <th>date</th>\n",
       "      <th>hour</th>\n",
       "      <th>lat</th>\n",
       "      <th>long</th>\n",
       "      <th>signal</th>\n",
       "      <th>network</th>\n",
       "      <th>operator</th>\n",
       "      <th>status</th>\n",
       "      <th>description</th>\n",
       "      <th>net</th>\n",
       "      <th>...</th>\n",
       "      <th>precission</th>\n",
       "      <th>provider</th>\n",
       "      <th>activity</th>\n",
       "      <th>postal_code</th>\n",
       "      <th>town_name</th>\n",
       "      <th>position_geom</th>\n",
       "      <th>province</th>\n",
       "      <th>year</th>\n",
       "      <th>month</th>\n",
       "      <th>hour_24h</th>\n",
       "    </tr>\n",
       "  </thead>\n",
       "  <tbody>\n",
       "    <tr>\n",
       "      <th>0</th>\n",
       "      <td>2016-09-30</td>\n",
       "      <td>18:28:15</td>\n",
       "      <td>41.45074</td>\n",
       "      <td>2.18854</td>\n",
       "      <td>99</td>\n",
       "      <td>Movistar</td>\n",
       "      <td>Movistar</td>\n",
       "      <td>2</td>\n",
       "      <td>STATE_EMERGENCY_ONLY</td>\n",
       "      <td>3G</td>\n",
       "      <td>...</td>\n",
       "      <td>17.0</td>\n",
       "      <td>GPS</td>\n",
       "      <td>IN_VEHICLE</td>\n",
       "      <td>080193</td>\n",
       "      <td>Barcelona</td>\n",
       "      <td>POINT(2.18854 41.45074)</td>\n",
       "      <td>Barcelona</td>\n",
       "      <td>2016</td>\n",
       "      <td>9</td>\n",
       "      <td>18</td>\n",
       "    </tr>\n",
       "    <tr>\n",
       "      <th>1</th>\n",
       "      <td>2016-06-22</td>\n",
       "      <td>22:06:43</td>\n",
       "      <td>41.46159</td>\n",
       "      <td>2.17073</td>\n",
       "      <td>99</td>\n",
       "      <td>Orange</td>\n",
       "      <td>Jazztel</td>\n",
       "      <td>2</td>\n",
       "      <td>STATE_EMERGENCY_ONLY</td>\n",
       "      <td>3G</td>\n",
       "      <td>...</td>\n",
       "      <td>12.0</td>\n",
       "      <td>GPS</td>\n",
       "      <td>STILL</td>\n",
       "      <td>080193</td>\n",
       "      <td>Barcelona</td>\n",
       "      <td>POINT(2.17073 41.46159)</td>\n",
       "      <td>Barcelona</td>\n",
       "      <td>2016</td>\n",
       "      <td>6</td>\n",
       "      <td>22</td>\n",
       "    </tr>\n",
       "    <tr>\n",
       "      <th>2</th>\n",
       "      <td>2016-10-05</td>\n",
       "      <td>20:16:29</td>\n",
       "      <td>41.41717</td>\n",
       "      <td>2.21349</td>\n",
       "      <td>99</td>\n",
       "      <td>Movistar</td>\n",
       "      <td>Movistar</td>\n",
       "      <td>2</td>\n",
       "      <td>STATE_EMERGENCY_ONLY</td>\n",
       "      <td>3G</td>\n",
       "      <td>...</td>\n",
       "      <td>8.0</td>\n",
       "      <td>GPS</td>\n",
       "      <td>IN_VEHICLE</td>\n",
       "      <td>080193</td>\n",
       "      <td>Barcelona</td>\n",
       "      <td>POINT(2.21349 41.41717)</td>\n",
       "      <td>Barcelona</td>\n",
       "      <td>2016</td>\n",
       "      <td>10</td>\n",
       "      <td>20</td>\n",
       "    </tr>\n",
       "    <tr>\n",
       "      <th>3</th>\n",
       "      <td>2016-10-01</td>\n",
       "      <td>15:28:40</td>\n",
       "      <td>41.53609</td>\n",
       "      <td>2.08220</td>\n",
       "      <td>99</td>\n",
       "      <td>Movistar</td>\n",
       "      <td>Movistar</td>\n",
       "      <td>2</td>\n",
       "      <td>STATE_EMERGENCY_ONLY</td>\n",
       "      <td>2G</td>\n",
       "      <td>...</td>\n",
       "      <td>13.0</td>\n",
       "      <td>GPS</td>\n",
       "      <td>STILL</td>\n",
       "      <td>082384</td>\n",
       "      <td>Sant Quirze del Vallès</td>\n",
       "      <td>POINT(2.0822 41.53609)</td>\n",
       "      <td>Barcelona</td>\n",
       "      <td>2016</td>\n",
       "      <td>10</td>\n",
       "      <td>15</td>\n",
       "    </tr>\n",
       "    <tr>\n",
       "      <th>4</th>\n",
       "      <td>2016-09-30</td>\n",
       "      <td>18:50:43</td>\n",
       "      <td>41.42698</td>\n",
       "      <td>2.22696</td>\n",
       "      <td>99</td>\n",
       "      <td>Movistar</td>\n",
       "      <td>Movistar</td>\n",
       "      <td>2</td>\n",
       "      <td>STATE_EMERGENCY_ONLY</td>\n",
       "      <td>2G</td>\n",
       "      <td>...</td>\n",
       "      <td>18.0</td>\n",
       "      <td>GPS</td>\n",
       "      <td>TILTING</td>\n",
       "      <td>081944</td>\n",
       "      <td>Sant Adrià de Besòs</td>\n",
       "      <td>POINT(2.22696 41.42698)</td>\n",
       "      <td>Barcelona</td>\n",
       "      <td>2016</td>\n",
       "      <td>9</td>\n",
       "      <td>18</td>\n",
       "    </tr>\n",
       "    <tr>\n",
       "      <th>...</th>\n",
       "      <td>...</td>\n",
       "      <td>...</td>\n",
       "      <td>...</td>\n",
       "      <td>...</td>\n",
       "      <td>...</td>\n",
       "      <td>...</td>\n",
       "      <td>...</td>\n",
       "      <td>...</td>\n",
       "      <td>...</td>\n",
       "      <td>...</td>\n",
       "      <td>...</td>\n",
       "      <td>...</td>\n",
       "      <td>...</td>\n",
       "      <td>...</td>\n",
       "      <td>...</td>\n",
       "      <td>...</td>\n",
       "      <td>...</td>\n",
       "      <td>...</td>\n",
       "      <td>...</td>\n",
       "      <td>...</td>\n",
       "      <td>...</td>\n",
       "    </tr>\n",
       "    <tr>\n",
       "      <th>995</th>\n",
       "      <td>2016-09-28</td>\n",
       "      <td>18:55:17</td>\n",
       "      <td>41.44715</td>\n",
       "      <td>2.18903</td>\n",
       "      <td>99</td>\n",
       "      <td>Movistar</td>\n",
       "      <td>Movistar</td>\n",
       "      <td>2</td>\n",
       "      <td>STATE_EMERGENCY_ONLY</td>\n",
       "      <td>3G</td>\n",
       "      <td>...</td>\n",
       "      <td>20.0</td>\n",
       "      <td>GPS</td>\n",
       "      <td>IN_VEHICLE</td>\n",
       "      <td>080193</td>\n",
       "      <td>Barcelona</td>\n",
       "      <td>POINT(2.18903 41.44715)</td>\n",
       "      <td>Barcelona</td>\n",
       "      <td>2016</td>\n",
       "      <td>9</td>\n",
       "      <td>18</td>\n",
       "    </tr>\n",
       "    <tr>\n",
       "      <th>996</th>\n",
       "      <td>2016-10-05</td>\n",
       "      <td>19:35:28</td>\n",
       "      <td>41.43449</td>\n",
       "      <td>2.18351</td>\n",
       "      <td>99</td>\n",
       "      <td>Movistar</td>\n",
       "      <td>Movistar</td>\n",
       "      <td>2</td>\n",
       "      <td>STATE_EMERGENCY_ONLY</td>\n",
       "      <td>2G</td>\n",
       "      <td>...</td>\n",
       "      <td>13.0</td>\n",
       "      <td>GPS</td>\n",
       "      <td>IN_VEHICLE</td>\n",
       "      <td>080193</td>\n",
       "      <td>Barcelona</td>\n",
       "      <td>POINT(2.18351 41.43449)</td>\n",
       "      <td>Barcelona</td>\n",
       "      <td>2016</td>\n",
       "      <td>10</td>\n",
       "      <td>19</td>\n",
       "    </tr>\n",
       "    <tr>\n",
       "      <th>997</th>\n",
       "      <td>2016-09-30</td>\n",
       "      <td>17:36:41</td>\n",
       "      <td>41.46220</td>\n",
       "      <td>2.17078</td>\n",
       "      <td>99</td>\n",
       "      <td>Movistar</td>\n",
       "      <td>Movistar</td>\n",
       "      <td>2</td>\n",
       "      <td>STATE_EMERGENCY_ONLY</td>\n",
       "      <td>2G</td>\n",
       "      <td>...</td>\n",
       "      <td>7.0</td>\n",
       "      <td>GPS</td>\n",
       "      <td>TILTING</td>\n",
       "      <td>081252</td>\n",
       "      <td>Montcada i Reixac</td>\n",
       "      <td>POINT(2.17078 41.4622)</td>\n",
       "      <td>Barcelona</td>\n",
       "      <td>2016</td>\n",
       "      <td>9</td>\n",
       "      <td>17</td>\n",
       "    </tr>\n",
       "    <tr>\n",
       "      <th>998</th>\n",
       "      <td>2016-10-05</td>\n",
       "      <td>13:42:43</td>\n",
       "      <td>41.40514</td>\n",
       "      <td>2.19042</td>\n",
       "      <td>99</td>\n",
       "      <td>Movistar</td>\n",
       "      <td>Movistar</td>\n",
       "      <td>2</td>\n",
       "      <td>STATE_EMERGENCY_ONLY</td>\n",
       "      <td>2G</td>\n",
       "      <td>...</td>\n",
       "      <td>12.0</td>\n",
       "      <td>GPS</td>\n",
       "      <td>TILTING</td>\n",
       "      <td>080193</td>\n",
       "      <td>Barcelona</td>\n",
       "      <td>POINT(2.19042 41.40514)</td>\n",
       "      <td>Barcelona</td>\n",
       "      <td>2016</td>\n",
       "      <td>10</td>\n",
       "      <td>13</td>\n",
       "    </tr>\n",
       "    <tr>\n",
       "      <th>999</th>\n",
       "      <td>2016-10-01</td>\n",
       "      <td>11:31:00</td>\n",
       "      <td>41.43167</td>\n",
       "      <td>2.18368</td>\n",
       "      <td>99</td>\n",
       "      <td>Movistar</td>\n",
       "      <td>Movistar</td>\n",
       "      <td>2</td>\n",
       "      <td>STATE_EMERGENCY_ONLY</td>\n",
       "      <td>3G</td>\n",
       "      <td>...</td>\n",
       "      <td>11.0</td>\n",
       "      <td>GPS</td>\n",
       "      <td>STILL</td>\n",
       "      <td>080193</td>\n",
       "      <td>Barcelona</td>\n",
       "      <td>POINT(2.18368 41.43167)</td>\n",
       "      <td>Barcelona</td>\n",
       "      <td>2016</td>\n",
       "      <td>10</td>\n",
       "      <td>11</td>\n",
       "    </tr>\n",
       "  </tbody>\n",
       "</table>\n",
       "<p>1000 rows × 22 columns</p>\n",
       "</div>"
      ],
      "text/plain": [
       "           date      hour       lat     long  signal   network  operator  \\\n",
       "0    2016-09-30  18:28:15  41.45074  2.18854      99  Movistar  Movistar   \n",
       "1    2016-06-22  22:06:43  41.46159  2.17073      99    Orange   Jazztel   \n",
       "2    2016-10-05  20:16:29  41.41717  2.21349      99  Movistar  Movistar   \n",
       "3    2016-10-01  15:28:40  41.53609  2.08220      99  Movistar  Movistar   \n",
       "4    2016-09-30  18:50:43  41.42698  2.22696      99  Movistar  Movistar   \n",
       "..          ...       ...       ...      ...     ...       ...       ...   \n",
       "995  2016-09-28  18:55:17  41.44715  2.18903      99  Movistar  Movistar   \n",
       "996  2016-10-05  19:35:28  41.43449  2.18351      99  Movistar  Movistar   \n",
       "997  2016-09-30  17:36:41  41.46220  2.17078      99  Movistar  Movistar   \n",
       "998  2016-10-05  13:42:43  41.40514  2.19042      99  Movistar  Movistar   \n",
       "999  2016-10-01  11:31:00  41.43167  2.18368      99  Movistar  Movistar   \n",
       "\n",
       "     status           description net  ...  precission  provider    activity  \\\n",
       "0         2  STATE_EMERGENCY_ONLY  3G  ...        17.0       GPS  IN_VEHICLE   \n",
       "1         2  STATE_EMERGENCY_ONLY  3G  ...        12.0       GPS       STILL   \n",
       "2         2  STATE_EMERGENCY_ONLY  3G  ...         8.0       GPS  IN_VEHICLE   \n",
       "3         2  STATE_EMERGENCY_ONLY  2G  ...        13.0       GPS       STILL   \n",
       "4         2  STATE_EMERGENCY_ONLY  2G  ...        18.0       GPS     TILTING   \n",
       "..      ...                   ...  ..  ...         ...       ...         ...   \n",
       "995       2  STATE_EMERGENCY_ONLY  3G  ...        20.0       GPS  IN_VEHICLE   \n",
       "996       2  STATE_EMERGENCY_ONLY  2G  ...        13.0       GPS  IN_VEHICLE   \n",
       "997       2  STATE_EMERGENCY_ONLY  2G  ...         7.0       GPS     TILTING   \n",
       "998       2  STATE_EMERGENCY_ONLY  2G  ...        12.0       GPS     TILTING   \n",
       "999       2  STATE_EMERGENCY_ONLY  3G  ...        11.0       GPS       STILL   \n",
       "\n",
       "    postal_code               town_name            position_geom   province  \\\n",
       "0        080193               Barcelona  POINT(2.18854 41.45074)  Barcelona   \n",
       "1        080193               Barcelona  POINT(2.17073 41.46159)  Barcelona   \n",
       "2        080193               Barcelona  POINT(2.21349 41.41717)  Barcelona   \n",
       "3        082384  Sant Quirze del Vallès   POINT(2.0822 41.53609)  Barcelona   \n",
       "4        081944     Sant Adrià de Besòs  POINT(2.22696 41.42698)  Barcelona   \n",
       "..          ...                     ...                      ...        ...   \n",
       "995      080193               Barcelona  POINT(2.18903 41.44715)  Barcelona   \n",
       "996      080193               Barcelona  POINT(2.18351 41.43449)  Barcelona   \n",
       "997      081252       Montcada i Reixac   POINT(2.17078 41.4622)  Barcelona   \n",
       "998      080193               Barcelona  POINT(2.19042 41.40514)  Barcelona   \n",
       "999      080193               Barcelona  POINT(2.18368 41.43167)  Barcelona   \n",
       "\n",
       "     year month  hour_24h  \n",
       "0    2016     9        18  \n",
       "1    2016     6        22  \n",
       "2    2016    10        20  \n",
       "3    2016    10        15  \n",
       "4    2016     9        18  \n",
       "..    ...   ...       ...  \n",
       "995  2016     9        18  \n",
       "996  2016    10        19  \n",
       "997  2016     9        17  \n",
       "998  2016    10        13  \n",
       "999  2016    10        11  \n",
       "\n",
       "[1000 rows x 22 columns]"
      ]
     },
     "execution_count": 9,
     "metadata": {},
     "output_type": "execute_result"
    }
   ],
   "source": [
    "# Datasets: {mobile_data_cleaned}, {pop_density}, {percapita_income}\n",
    "\n",
    "query = f\"\"\"\n",
    "    SELECT *\n",
    "    FROM `{mobile_data_cleaned}`\n",
    "    WHERE year = 2016\n",
    "    ORDER BY signal DESC\n",
    "    LIMIT 1000\n",
    "    \"\"\"\n",
    "# DataFrame name\n",
    "df_name = \"mob_data_2016\"\n",
    "\n",
    "# Execute the query and store the result in the DataFrame\n",
    "query_df(query, df_name)    "
   ]
  },
  {
   "cell_type": "markdown",
   "id": "2cde966a",
   "metadata": {},
   "source": [
    "2. Retrieve all records from the '{mobile_2015_2017}' table for the year 2016 where the signal strength is above a threshold of 100 and net is not undefined."
   ]
  },
  {
   "cell_type": "code",
   "execution_count": 10,
   "id": "6dddc182",
   "metadata": {},
   "outputs": [
    {
     "data": {
      "text/markdown": [
       "Query: "
      ],
      "text/plain": [
       "<IPython.core.display.Markdown object>"
      ]
     },
     "metadata": {},
     "output_type": "display_data"
    },
    {
     "name": "stdout",
     "output_type": "stream",
     "text": [
      "\n",
      "    SELECT \n",
      "        date,\n",
      "        operator,\n",
      "        net,\n",
      "        signal\n",
      "    FROM `bq-analyst-230590.project_cat_mobile_coverage_2015_2017.mobile_data_2015_2017_cleaned`\n",
      "    WHERE \n",
      "        year = 2016\n",
      "        AND signal > 50\n",
      "        AND NET != 'Undefined net'\n",
      "    ORDER BY signal DESC\n",
      "    LIMIT 1000\n",
      "    \n"
     ]
    },
    {
     "data": {
      "text/markdown": [
       "Dataframe: **mob_data_2016_greater_t_50**"
      ],
      "text/plain": [
       "<IPython.core.display.Markdown object>"
      ]
     },
     "metadata": {},
     "output_type": "display_data"
    },
    {
     "data": {
      "text/html": [
       "<div>\n",
       "<style scoped>\n",
       "    .dataframe tbody tr th:only-of-type {\n",
       "        vertical-align: middle;\n",
       "    }\n",
       "\n",
       "    .dataframe tbody tr th {\n",
       "        vertical-align: top;\n",
       "    }\n",
       "\n",
       "    .dataframe thead th {\n",
       "        text-align: right;\n",
       "    }\n",
       "</style>\n",
       "<table border=\"1\" class=\"dataframe\">\n",
       "  <thead>\n",
       "    <tr style=\"text-align: right;\">\n",
       "      <th></th>\n",
       "      <th>date</th>\n",
       "      <th>operator</th>\n",
       "      <th>net</th>\n",
       "      <th>signal</th>\n",
       "    </tr>\n",
       "  </thead>\n",
       "  <tbody>\n",
       "    <tr>\n",
       "      <th>0</th>\n",
       "      <td>2016-06-23</td>\n",
       "      <td>Jazztel</td>\n",
       "      <td>3G</td>\n",
       "      <td>99</td>\n",
       "    </tr>\n",
       "    <tr>\n",
       "      <th>1</th>\n",
       "      <td>2016-10-01</td>\n",
       "      <td>Movistar</td>\n",
       "      <td>2G</td>\n",
       "      <td>99</td>\n",
       "    </tr>\n",
       "    <tr>\n",
       "      <th>2</th>\n",
       "      <td>2016-09-30</td>\n",
       "      <td>Movistar</td>\n",
       "      <td>2G</td>\n",
       "      <td>99</td>\n",
       "    </tr>\n",
       "    <tr>\n",
       "      <th>3</th>\n",
       "      <td>2016-10-01</td>\n",
       "      <td>Movistar</td>\n",
       "      <td>2G</td>\n",
       "      <td>99</td>\n",
       "    </tr>\n",
       "    <tr>\n",
       "      <th>4</th>\n",
       "      <td>2016-06-23</td>\n",
       "      <td>Jazztel</td>\n",
       "      <td>3G</td>\n",
       "      <td>99</td>\n",
       "    </tr>\n",
       "    <tr>\n",
       "      <th>...</th>\n",
       "      <td>...</td>\n",
       "      <td>...</td>\n",
       "      <td>...</td>\n",
       "      <td>...</td>\n",
       "    </tr>\n",
       "    <tr>\n",
       "      <th>995</th>\n",
       "      <td>2016-03-06</td>\n",
       "      <td>Movistar</td>\n",
       "      <td>3G</td>\n",
       "      <td>65</td>\n",
       "    </tr>\n",
       "    <tr>\n",
       "      <th>996</th>\n",
       "      <td>2016-01-28</td>\n",
       "      <td>Movistar</td>\n",
       "      <td>4G</td>\n",
       "      <td>65</td>\n",
       "    </tr>\n",
       "    <tr>\n",
       "      <th>997</th>\n",
       "      <td>2016-09-30</td>\n",
       "      <td>Movistar</td>\n",
       "      <td>3G</td>\n",
       "      <td>65</td>\n",
       "    </tr>\n",
       "    <tr>\n",
       "      <th>998</th>\n",
       "      <td>2016-11-20</td>\n",
       "      <td>Vodafone</td>\n",
       "      <td>4G</td>\n",
       "      <td>65</td>\n",
       "    </tr>\n",
       "    <tr>\n",
       "      <th>999</th>\n",
       "      <td>2016-09-17</td>\n",
       "      <td>Movistar</td>\n",
       "      <td>4G</td>\n",
       "      <td>65</td>\n",
       "    </tr>\n",
       "  </tbody>\n",
       "</table>\n",
       "<p>1000 rows × 4 columns</p>\n",
       "</div>"
      ],
      "text/plain": [
       "           date  operator net  signal\n",
       "0    2016-06-23   Jazztel  3G      99\n",
       "1    2016-10-01  Movistar  2G      99\n",
       "2    2016-09-30  Movistar  2G      99\n",
       "3    2016-10-01  Movistar  2G      99\n",
       "4    2016-06-23   Jazztel  3G      99\n",
       "..          ...       ...  ..     ...\n",
       "995  2016-03-06  Movistar  3G      65\n",
       "996  2016-01-28  Movistar  4G      65\n",
       "997  2016-09-30  Movistar  3G      65\n",
       "998  2016-11-20  Vodafone  4G      65\n",
       "999  2016-09-17  Movistar  4G      65\n",
       "\n",
       "[1000 rows x 4 columns]"
      ]
     },
     "execution_count": 10,
     "metadata": {},
     "output_type": "execute_result"
    }
   ],
   "source": [
    "# Datasets: {mobile_data_cleaned}, {pop_density}, {percapita_income}\n",
    "\n",
    "query = f\"\"\"\n",
    "    SELECT \n",
    "        date,\n",
    "        operator,\n",
    "        net,\n",
    "        signal\n",
    "    FROM `{mobile_data_cleaned}`\n",
    "    WHERE \n",
    "        year = 2016\n",
    "        AND signal > 50\n",
    "        AND NET != 'Undefined net'\n",
    "    ORDER BY signal DESC\n",
    "    LIMIT 1000\n",
    "    \"\"\"\n",
    "# DataFrame name\n",
    "df_name = \"mob_data_2016_greater_t_50\"\n",
    "\n",
    "# Execute the query and store the result in the DataFrame\n",
    "query_df(query, df_name)    "
   ]
  },
  {
   "cell_type": "markdown",
   "id": "1cdd1689",
   "metadata": {},
   "source": [
    "3. Retrieve records from the '{mobile_2015_2017}' table for the year 2017 where 'net' is '4G,' 'description' is 'STATE_IN_SERVICE,' and 'speed' is greater than 100."
   ]
  },
  {
   "cell_type": "code",
   "execution_count": 11,
   "id": "084f60f6",
   "metadata": {},
   "outputs": [
    {
     "data": {
      "text/markdown": [
       "Query: "
      ],
      "text/plain": [
       "<IPython.core.display.Markdown object>"
      ]
     },
     "metadata": {},
     "output_type": "display_data"
    },
    {
     "name": "stdout",
     "output_type": "stream",
     "text": [
      "\n",
      "    SELECT\n",
      "      date,\n",
      "      operator,\n",
      "      net,\n",
      "      description,\n",
      "      signal,\n",
      "      speed\n",
      "    FROM `bq-analyst-230590.project_cat_mobile_coverage_2015_2017.mobile_data_2015_2017_cleaned`\n",
      "    WHERE\n",
      "      year = 2017\n",
      "      AND net = '4G'\n",
      "      AND description = 'STATE_IN_SERVICE'\n",
      "      AND speed > 100.0\n",
      "    ORDER BY 6 DESC\n",
      "    LIMIT 1000;\n",
      "    \n"
     ]
    },
    {
     "data": {
      "text/markdown": [
       "Dataframe: **filtered_data**"
      ],
      "text/plain": [
       "<IPython.core.display.Markdown object>"
      ]
     },
     "metadata": {},
     "output_type": "display_data"
    },
    {
     "data": {
      "text/html": [
       "<div>\n",
       "<style scoped>\n",
       "    .dataframe tbody tr th:only-of-type {\n",
       "        vertical-align: middle;\n",
       "    }\n",
       "\n",
       "    .dataframe tbody tr th {\n",
       "        vertical-align: top;\n",
       "    }\n",
       "\n",
       "    .dataframe thead th {\n",
       "        text-align: right;\n",
       "    }\n",
       "</style>\n",
       "<table border=\"1\" class=\"dataframe\">\n",
       "  <thead>\n",
       "    <tr style=\"text-align: right;\">\n",
       "      <th></th>\n",
       "      <th>date</th>\n",
       "      <th>operator</th>\n",
       "      <th>net</th>\n",
       "      <th>description</th>\n",
       "      <th>signal</th>\n",
       "      <th>speed</th>\n",
       "    </tr>\n",
       "  </thead>\n",
       "  <tbody>\n",
       "    <tr>\n",
       "      <th>0</th>\n",
       "      <td>2017-07-24</td>\n",
       "      <td>Movistar</td>\n",
       "      <td>4G</td>\n",
       "      <td>STATE_IN_SERVICE</td>\n",
       "      <td>26</td>\n",
       "      <td>253.1</td>\n",
       "    </tr>\n",
       "    <tr>\n",
       "      <th>1</th>\n",
       "      <td>2017-05-28</td>\n",
       "      <td>Vodafone</td>\n",
       "      <td>4G</td>\n",
       "      <td>STATE_IN_SERVICE</td>\n",
       "      <td>23</td>\n",
       "      <td>244.6</td>\n",
       "    </tr>\n",
       "    <tr>\n",
       "      <th>2</th>\n",
       "      <td>2017-02-22</td>\n",
       "      <td>Orange</td>\n",
       "      <td>4G</td>\n",
       "      <td>STATE_IN_SERVICE</td>\n",
       "      <td>14</td>\n",
       "      <td>242.6</td>\n",
       "    </tr>\n",
       "    <tr>\n",
       "      <th>3</th>\n",
       "      <td>2017-03-31</td>\n",
       "      <td>Orange</td>\n",
       "      <td>4G</td>\n",
       "      <td>STATE_IN_SERVICE</td>\n",
       "      <td>19</td>\n",
       "      <td>239.6</td>\n",
       "    </tr>\n",
       "    <tr>\n",
       "      <th>4</th>\n",
       "      <td>2017-05-10</td>\n",
       "      <td>Masmovil</td>\n",
       "      <td>4G</td>\n",
       "      <td>STATE_IN_SERVICE</td>\n",
       "      <td>13</td>\n",
       "      <td>229.5</td>\n",
       "    </tr>\n",
       "    <tr>\n",
       "      <th>...</th>\n",
       "      <td>...</td>\n",
       "      <td>...</td>\n",
       "      <td>...</td>\n",
       "      <td>...</td>\n",
       "      <td>...</td>\n",
       "      <td>...</td>\n",
       "    </tr>\n",
       "    <tr>\n",
       "      <th>570</th>\n",
       "      <td>2017-05-14</td>\n",
       "      <td>Vodafone</td>\n",
       "      <td>4G</td>\n",
       "      <td>STATE_IN_SERVICE</td>\n",
       "      <td>7</td>\n",
       "      <td>100.3</td>\n",
       "    </tr>\n",
       "    <tr>\n",
       "      <th>571</th>\n",
       "      <td>2017-07-15</td>\n",
       "      <td>Vodafone</td>\n",
       "      <td>4G</td>\n",
       "      <td>STATE_IN_SERVICE</td>\n",
       "      <td>9</td>\n",
       "      <td>100.3</td>\n",
       "    </tr>\n",
       "    <tr>\n",
       "      <th>572</th>\n",
       "      <td>2017-05-05</td>\n",
       "      <td>Orange</td>\n",
       "      <td>4G</td>\n",
       "      <td>STATE_IN_SERVICE</td>\n",
       "      <td>11</td>\n",
       "      <td>100.3</td>\n",
       "    </tr>\n",
       "    <tr>\n",
       "      <th>573</th>\n",
       "      <td>2017-07-25</td>\n",
       "      <td>Orange</td>\n",
       "      <td>4G</td>\n",
       "      <td>STATE_IN_SERVICE</td>\n",
       "      <td>12</td>\n",
       "      <td>100.2</td>\n",
       "    </tr>\n",
       "    <tr>\n",
       "      <th>574</th>\n",
       "      <td>2017-06-16</td>\n",
       "      <td>Movistar</td>\n",
       "      <td>4G</td>\n",
       "      <td>STATE_IN_SERVICE</td>\n",
       "      <td>6</td>\n",
       "      <td>100.1</td>\n",
       "    </tr>\n",
       "  </tbody>\n",
       "</table>\n",
       "<p>575 rows × 6 columns</p>\n",
       "</div>"
      ],
      "text/plain": [
       "           date  operator net       description  signal  speed\n",
       "0    2017-07-24  Movistar  4G  STATE_IN_SERVICE      26  253.1\n",
       "1    2017-05-28  Vodafone  4G  STATE_IN_SERVICE      23  244.6\n",
       "2    2017-02-22    Orange  4G  STATE_IN_SERVICE      14  242.6\n",
       "3    2017-03-31    Orange  4G  STATE_IN_SERVICE      19  239.6\n",
       "4    2017-05-10  Masmovil  4G  STATE_IN_SERVICE      13  229.5\n",
       "..          ...       ...  ..               ...     ...    ...\n",
       "570  2017-05-14  Vodafone  4G  STATE_IN_SERVICE       7  100.3\n",
       "571  2017-07-15  Vodafone  4G  STATE_IN_SERVICE       9  100.3\n",
       "572  2017-05-05    Orange  4G  STATE_IN_SERVICE      11  100.3\n",
       "573  2017-07-25    Orange  4G  STATE_IN_SERVICE      12  100.2\n",
       "574  2017-06-16  Movistar  4G  STATE_IN_SERVICE       6  100.1\n",
       "\n",
       "[575 rows x 6 columns]"
      ]
     },
     "execution_count": 11,
     "metadata": {},
     "output_type": "execute_result"
    }
   ],
   "source": [
    "# Datasets: {mobile_data_cleaned}, {pop_density}, {percapita_income}\n",
    "\n",
    "query = f\"\"\"\n",
    "    SELECT\n",
    "      date,\n",
    "      operator,\n",
    "      net,\n",
    "      description,\n",
    "      signal,\n",
    "      speed\n",
    "    FROM `{mobile_data_cleaned}`\n",
    "    WHERE\n",
    "      year = 2017\n",
    "      AND net = '4G'\n",
    "      AND description = 'STATE_IN_SERVICE'\n",
    "      AND speed > 100.0\n",
    "    ORDER BY 6 DESC\n",
    "    LIMIT 1000;\n",
    "    \"\"\"\n",
    "# DataFrame name\n",
    "df_name = \"filtered_data\"\n",
    "\n",
    "# Execute the query and store the result in the DataFrame\n",
    "query_df(query, df_name)    "
   ]
  },
  {
   "cell_type": "markdown",
   "id": "557112c3",
   "metadata": {},
   "source": [
    "#### 2. Aggregation"
   ]
  },
  {
   "cell_type": "markdown",
   "id": "14abf2ff",
   "metadata": {},
   "source": [
    "1. Calculate the average, maximum and standard deviation 'speed' of mobile data in the 'mobile 2015_2017' table for the year 2017."
   ]
  },
  {
   "cell_type": "code",
   "execution_count": 12,
   "id": "87457367",
   "metadata": {},
   "outputs": [
    {
     "data": {
      "text/markdown": [
       "Query: "
      ],
      "text/plain": [
       "<IPython.core.display.Markdown object>"
      ]
     },
     "metadata": {},
     "output_type": "display_data"
    },
    {
     "name": "stdout",
     "output_type": "stream",
     "text": [
      "\n",
      "    SELECT \n",
      "        ROUND(AVG(speed),2) avg_speed_2017,\n",
      "        MAX(speed) max_speed_2017,\n",
      "        ROUND(STDDEV_POP(speed),2) std_speed_2017\n",
      "    FROM `bq-analyst-230590.project_cat_mobile_coverage_2015_2017.mobile_data_2015_2017_cleaned`\n",
      "    WHERE year = 2017\n",
      "    \n"
     ]
    },
    {
     "data": {
      "text/markdown": [
       "Dataframe: **metrics_speed_2017**"
      ],
      "text/plain": [
       "<IPython.core.display.Markdown object>"
      ]
     },
     "metadata": {},
     "output_type": "display_data"
    },
    {
     "data": {
      "text/html": [
       "<div>\n",
       "<style scoped>\n",
       "    .dataframe tbody tr th:only-of-type {\n",
       "        vertical-align: middle;\n",
       "    }\n",
       "\n",
       "    .dataframe tbody tr th {\n",
       "        vertical-align: top;\n",
       "    }\n",
       "\n",
       "    .dataframe thead th {\n",
       "        text-align: right;\n",
       "    }\n",
       "</style>\n",
       "<table border=\"1\" class=\"dataframe\">\n",
       "  <thead>\n",
       "    <tr style=\"text-align: right;\">\n",
       "      <th></th>\n",
       "      <th>avg_speed_2017</th>\n",
       "      <th>max_speed_2017</th>\n",
       "      <th>std_speed_2017</th>\n",
       "    </tr>\n",
       "  </thead>\n",
       "  <tbody>\n",
       "    <tr>\n",
       "      <th>0</th>\n",
       "      <td>25.18</td>\n",
       "      <td>254.9</td>\n",
       "      <td>34.43</td>\n",
       "    </tr>\n",
       "  </tbody>\n",
       "</table>\n",
       "</div>"
      ],
      "text/plain": [
       "   avg_speed_2017  max_speed_2017  std_speed_2017\n",
       "0           25.18           254.9           34.43"
      ]
     },
     "execution_count": 12,
     "metadata": {},
     "output_type": "execute_result"
    }
   ],
   "source": [
    "# Datasets: {mobile_data_cleaned}, {pop_density}, {percapita_income}\n",
    "\n",
    "query = f\"\"\"\n",
    "    SELECT \n",
    "        ROUND(AVG(speed),2) avg_speed_2017,\n",
    "        MAX(speed) max_speed_2017,\n",
    "        ROUND(STDDEV_POP(speed),2) std_speed_2017\n",
    "    FROM `{mobile_data_cleaned}`\n",
    "    WHERE year = 2017\n",
    "    \"\"\"\n",
    "# DataFrame name\n",
    "df_name = \"metrics_speed_2017\"\n",
    "\n",
    "# Execute the query and store the result in the DataFrame\n",
    "query_df(query, df_name)    "
   ]
  },
  {
   "cell_type": "markdown",
   "id": "4d0cb2a2",
   "metadata": {},
   "source": [
    "2. Calculate the average signal strength (signal) for each month in the year 2017 and order the results in descending order."
   ]
  },
  {
   "cell_type": "code",
   "execution_count": 13,
   "id": "967957f9",
   "metadata": {},
   "outputs": [
    {
     "data": {
      "text/markdown": [
       "Query: "
      ],
      "text/plain": [
       "<IPython.core.display.Markdown object>"
      ]
     },
     "metadata": {},
     "output_type": "display_data"
    },
    {
     "name": "stdout",
     "output_type": "stream",
     "text": [
      "\n",
      "    SELECT \n",
      "        EXTRACT(MONTH FROM date) month,\n",
      "        ROUND(AVG(signal),2) avg_signal_2017\n",
      "    FROM `bq-analyst-230590.project_cat_mobile_coverage_2015_2017.mobile_data_2015_2017_cleaned`\n",
      "    WHERE year = 2017\n",
      "    GROUP BY 1\n",
      "    ORDER BY 2 DESC\n",
      "    \n"
     ]
    },
    {
     "data": {
      "text/markdown": [
       "Dataframe: **month_avg_signal_2017**"
      ],
      "text/plain": [
       "<IPython.core.display.Markdown object>"
      ]
     },
     "metadata": {},
     "output_type": "display_data"
    },
    {
     "data": {
      "text/html": [
       "<div>\n",
       "<style scoped>\n",
       "    .dataframe tbody tr th:only-of-type {\n",
       "        vertical-align: middle;\n",
       "    }\n",
       "\n",
       "    .dataframe tbody tr th {\n",
       "        vertical-align: top;\n",
       "    }\n",
       "\n",
       "    .dataframe thead th {\n",
       "        text-align: right;\n",
       "    }\n",
       "</style>\n",
       "<table border=\"1\" class=\"dataframe\">\n",
       "  <thead>\n",
       "    <tr style=\"text-align: right;\">\n",
       "      <th></th>\n",
       "      <th>month</th>\n",
       "      <th>avg_signal_2017</th>\n",
       "    </tr>\n",
       "  </thead>\n",
       "  <tbody>\n",
       "    <tr>\n",
       "      <th>0</th>\n",
       "      <td>2</td>\n",
       "      <td>13.27</td>\n",
       "    </tr>\n",
       "    <tr>\n",
       "      <th>1</th>\n",
       "      <td>1</td>\n",
       "      <td>13.10</td>\n",
       "    </tr>\n",
       "    <tr>\n",
       "      <th>2</th>\n",
       "      <td>3</td>\n",
       "      <td>12.90</td>\n",
       "    </tr>\n",
       "    <tr>\n",
       "      <th>3</th>\n",
       "      <td>4</td>\n",
       "      <td>12.86</td>\n",
       "    </tr>\n",
       "    <tr>\n",
       "      <th>4</th>\n",
       "      <td>5</td>\n",
       "      <td>12.72</td>\n",
       "    </tr>\n",
       "    <tr>\n",
       "      <th>5</th>\n",
       "      <td>7</td>\n",
       "      <td>12.61</td>\n",
       "    </tr>\n",
       "    <tr>\n",
       "      <th>6</th>\n",
       "      <td>6</td>\n",
       "      <td>12.55</td>\n",
       "    </tr>\n",
       "    <tr>\n",
       "      <th>7</th>\n",
       "      <td>8</td>\n",
       "      <td>12.46</td>\n",
       "    </tr>\n",
       "    <tr>\n",
       "      <th>8</th>\n",
       "      <td>12</td>\n",
       "      <td>12.33</td>\n",
       "    </tr>\n",
       "    <tr>\n",
       "      <th>9</th>\n",
       "      <td>11</td>\n",
       "      <td>12.25</td>\n",
       "    </tr>\n",
       "    <tr>\n",
       "      <th>10</th>\n",
       "      <td>9</td>\n",
       "      <td>12.17</td>\n",
       "    </tr>\n",
       "    <tr>\n",
       "      <th>11</th>\n",
       "      <td>10</td>\n",
       "      <td>12.16</td>\n",
       "    </tr>\n",
       "  </tbody>\n",
       "</table>\n",
       "</div>"
      ],
      "text/plain": [
       "    month  avg_signal_2017\n",
       "0       2            13.27\n",
       "1       1            13.10\n",
       "2       3            12.90\n",
       "3       4            12.86\n",
       "4       5            12.72\n",
       "5       7            12.61\n",
       "6       6            12.55\n",
       "7       8            12.46\n",
       "8      12            12.33\n",
       "9      11            12.25\n",
       "10      9            12.17\n",
       "11     10            12.16"
      ]
     },
     "execution_count": 13,
     "metadata": {},
     "output_type": "execute_result"
    }
   ],
   "source": [
    "# Datasets: {mobile_data_cleaned}, {pop_density}, {percapita_income}\n",
    "\n",
    "query = f\"\"\"\n",
    "    SELECT \n",
    "        EXTRACT(MONTH FROM date) month,\n",
    "        ROUND(AVG(signal),2) avg_signal_2017\n",
    "    FROM `{mobile_data_cleaned}`\n",
    "    WHERE year = 2017\n",
    "    GROUP BY 1\n",
    "    ORDER BY 2 DESC\n",
    "    \"\"\"\n",
    "# DataFrame name\n",
    "df_name = \"month_avg_signal_2017\"\n",
    "\n",
    "# Execute the query and store the result in the DataFrame\n",
    "query_df(query, df_name)    "
   ]
  },
  {
   "cell_type": "markdown",
   "id": "0d9b35c9",
   "metadata": {},
   "source": [
    "3. Calculate the percentage of records where the activity is 'IN_VEHICLE' and net is NOT 'Undefined net' in the '{mobile_2015_2017}' table for the year 2017."
   ]
  },
  {
   "cell_type": "code",
   "execution_count": 14,
   "id": "0988e897",
   "metadata": {},
   "outputs": [
    {
     "data": {
      "text/markdown": [
       "Query: "
      ],
      "text/plain": [
       "<IPython.core.display.Markdown object>"
      ]
     },
     "metadata": {},
     "output_type": "display_data"
    },
    {
     "name": "stdout",
     "output_type": "stream",
     "text": [
      "\n",
      "-- The main query selects the 'net' column and calculates the percentage of records where the activity is 'IN_VEHICLE'\n",
      "-- and the 'net' is not 'Undefined net' for the year 2017.\n",
      "\n",
      "SELECT\n",
      "    net,\n",
      "    ROUND((in_vehicle_2017_count / total_count * 100), 2) AS in_vehicle_2017_perc\n",
      "FROM\n",
      "    \n",
      "    -- The first subquery (in_vehicle_subquery) calculates the count of records GROUPED BY 'net' where the activity is\n",
      "    -- 'IN_VEHICLE' and the 'net' is not 'Undefined net' for the year 2017.\n",
      "     \n",
      "    (SELECT \n",
      "        net,\n",
      "        COUNT(*) AS in_vehicle_2017_count\n",
      "    FROM `bq-analyst-230590.project_cat_mobile_coverage_2015_2017.mobile_data_2015_2017_cleaned`\n",
      "    WHERE year = 2017\n",
      "        AND activity = 'IN_VEHICLE'\n",
      "        AND net != 'Undefined net'\n",
      "    GROUP BY 1) in_vehicle_subquery,\n",
      "    \n",
      "    -- The second subquery (total_subquery) calculates the total count of records where the activity is 'IN_VEHICLE' \n",
      "    -- and the 'net' is not 'Undefined net' for the year 2017.\n",
      "    \n",
      "    (SELECT COUNT(*) AS total_count\n",
      "     FROM `bq-analyst-230590.project_cat_mobile_coverage_2015_2017.mobile_data_2015_2017_cleaned`\n",
      "     WHERE year = 2017\n",
      "        AND activity = 'IN_VEHICLE'\n",
      "        AND net != 'Undefined net') total_subquery;\n",
      "\n",
      "    \n"
     ]
    },
    {
     "data": {
      "text/markdown": [
       "Dataframe: **in_vehicle_2017_perc**"
      ],
      "text/plain": [
       "<IPython.core.display.Markdown object>"
      ]
     },
     "metadata": {},
     "output_type": "display_data"
    },
    {
     "data": {
      "text/html": [
       "<div>\n",
       "<style scoped>\n",
       "    .dataframe tbody tr th:only-of-type {\n",
       "        vertical-align: middle;\n",
       "    }\n",
       "\n",
       "    .dataframe tbody tr th {\n",
       "        vertical-align: top;\n",
       "    }\n",
       "\n",
       "    .dataframe thead th {\n",
       "        text-align: right;\n",
       "    }\n",
       "</style>\n",
       "<table border=\"1\" class=\"dataframe\">\n",
       "  <thead>\n",
       "    <tr style=\"text-align: right;\">\n",
       "      <th></th>\n",
       "      <th>net</th>\n",
       "      <th>in_vehicle_2017_perc</th>\n",
       "    </tr>\n",
       "  </thead>\n",
       "  <tbody>\n",
       "    <tr>\n",
       "      <th>0</th>\n",
       "      <td>3G</td>\n",
       "      <td>26.20</td>\n",
       "    </tr>\n",
       "    <tr>\n",
       "      <th>1</th>\n",
       "      <td>2G</td>\n",
       "      <td>15.98</td>\n",
       "    </tr>\n",
       "    <tr>\n",
       "      <th>2</th>\n",
       "      <td>4G</td>\n",
       "      <td>57.82</td>\n",
       "    </tr>\n",
       "  </tbody>\n",
       "</table>\n",
       "</div>"
      ],
      "text/plain": [
       "  net  in_vehicle_2017_perc\n",
       "0  3G                 26.20\n",
       "1  2G                 15.98\n",
       "2  4G                 57.82"
      ]
     },
     "execution_count": 14,
     "metadata": {},
     "output_type": "execute_result"
    }
   ],
   "source": [
    "# Datasets: {mobile_data_cleaned}, {pop_density}, {percapita_income}\n",
    "\n",
    "query = f\"\"\"\n",
    "-- The main query selects the 'net' column and calculates the percentage of records where the activity is 'IN_VEHICLE'\n",
    "-- and the 'net' is not 'Undefined net' for the year 2017.\n",
    "\n",
    "SELECT\n",
    "    net,\n",
    "    ROUND((in_vehicle_2017_count / total_count * 100), 2) AS in_vehicle_2017_perc\n",
    "FROM\n",
    "    \n",
    "    -- The first subquery (in_vehicle_subquery) calculates the count of records GROUPED BY 'net' where the activity is\n",
    "    -- 'IN_VEHICLE' and the 'net' is not 'Undefined net' for the year 2017.\n",
    "     \n",
    "    (SELECT \n",
    "        net,\n",
    "        COUNT(*) AS in_vehicle_2017_count\n",
    "    FROM `{mobile_data_cleaned}`\n",
    "    WHERE year = 2017\n",
    "        AND activity = 'IN_VEHICLE'\n",
    "        AND net != 'Undefined net'\n",
    "    GROUP BY 1) in_vehicle_subquery,\n",
    "    \n",
    "    -- The second subquery (total_subquery) calculates the total count of records where the activity is 'IN_VEHICLE' \n",
    "    -- and the 'net' is not 'Undefined net' for the year 2017.\n",
    "    \n",
    "    (SELECT COUNT(*) AS total_count\n",
    "     FROM `{mobile_data_cleaned}`\n",
    "     WHERE year = 2017\n",
    "        AND activity = 'IN_VEHICLE'\n",
    "        AND net != 'Undefined net') total_subquery;\n",
    "\n",
    "    \"\"\"\n",
    "# DataFrame name\n",
    "df_name = \"in_vehicle_2017_perc\"\n",
    "\n",
    "# Execute the query and store the result in the DataFrame\n",
    "query_df(query, df_name)    "
   ]
  },
  {
   "cell_type": "markdown",
   "id": "f1d90ced",
   "metadata": {},
   "source": [
    "#### 3. Join Operations"
   ]
  },
  {
   "cell_type": "markdown",
   "id": "fe055abb",
   "metadata": {},
   "source": [
    "1. Join the '{mobile_2015_2017}' table with the '{pop_density}' table to retrieve records from both tables for the year 2016."
   ]
  },
  {
   "cell_type": "code",
   "execution_count": 15,
   "id": "834dab95",
   "metadata": {},
   "outputs": [
    {
     "data": {
      "text/markdown": [
       "Query: "
      ],
      "text/plain": [
       "<IPython.core.display.Markdown object>"
      ]
     },
     "metadata": {},
     "output_type": "display_data"
    },
    {
     "name": "stdout",
     "output_type": "stream",
     "text": [
      "\n",
      "    SELECT \n",
      "      m.province,\n",
      "      p.sq_km,\n",
      "      p.population,\n",
      "      p.density_per_sq_km,\n",
      "      ROUND(AVG(m.signal),2) avg_signal\n",
      "    FROM `bq-analyst-230590.project_cat_mobile_coverage_2015_2017.mobile_data_2015_2017_cleaned` m\n",
      "    JOIN `bq-analyst-230590.project_cat_mobile_coverage_2015_2017.cat_pop_by_province_2015_2017` p \n",
      "      ON m.province = p.province AND m.year = p.year\n",
      "    WHERE m.year = 2016\n",
      "    GROUP BY m.province, p.sq_km, p.population, p.density_per_sq_km\n",
      "    ORDER BY p.density_per_sq_km DESC;\n",
      "    \n"
     ]
    },
    {
     "data": {
      "text/markdown": [
       "Dataframe: **joined_pop_mob**"
      ],
      "text/plain": [
       "<IPython.core.display.Markdown object>"
      ]
     },
     "metadata": {},
     "output_type": "display_data"
    },
    {
     "data": {
      "text/html": [
       "<div>\n",
       "<style scoped>\n",
       "    .dataframe tbody tr th:only-of-type {\n",
       "        vertical-align: middle;\n",
       "    }\n",
       "\n",
       "    .dataframe tbody tr th {\n",
       "        vertical-align: top;\n",
       "    }\n",
       "\n",
       "    .dataframe thead th {\n",
       "        text-align: right;\n",
       "    }\n",
       "</style>\n",
       "<table border=\"1\" class=\"dataframe\">\n",
       "  <thead>\n",
       "    <tr style=\"text-align: right;\">\n",
       "      <th></th>\n",
       "      <th>province</th>\n",
       "      <th>sq_km</th>\n",
       "      <th>population</th>\n",
       "      <th>density_per_sq_km</th>\n",
       "      <th>avg_signal</th>\n",
       "    </tr>\n",
       "  </thead>\n",
       "  <tbody>\n",
       "    <tr>\n",
       "      <th>0</th>\n",
       "      <td>Barcelona</td>\n",
       "      <td>7726</td>\n",
       "      <td>5635085</td>\n",
       "      <td>729.4</td>\n",
       "      <td>13.38</td>\n",
       "    </tr>\n",
       "    <tr>\n",
       "      <th>1</th>\n",
       "      <td>Girona</td>\n",
       "      <td>5908</td>\n",
       "      <td>766273</td>\n",
       "      <td>129.7</td>\n",
       "      <td>11.94</td>\n",
       "    </tr>\n",
       "    <tr>\n",
       "      <th>2</th>\n",
       "      <td>Tarragona</td>\n",
       "      <td>6303</td>\n",
       "      <td>810947</td>\n",
       "      <td>128.7</td>\n",
       "      <td>12.70</td>\n",
       "    </tr>\n",
       "    <tr>\n",
       "      <th>3</th>\n",
       "      <td>Lleida</td>\n",
       "      <td>12172</td>\n",
       "      <td>742099</td>\n",
       "      <td>61.0</td>\n",
       "      <td>12.83</td>\n",
       "    </tr>\n",
       "  </tbody>\n",
       "</table>\n",
       "</div>"
      ],
      "text/plain": [
       "    province  sq_km  population  density_per_sq_km  avg_signal\n",
       "0  Barcelona   7726     5635085              729.4       13.38\n",
       "1     Girona   5908      766273              129.7       11.94\n",
       "2  Tarragona   6303      810947              128.7       12.70\n",
       "3     Lleida  12172      742099               61.0       12.83"
      ]
     },
     "execution_count": 15,
     "metadata": {},
     "output_type": "execute_result"
    }
   ],
   "source": [
    "# Datasets: {mobile_data_cleaned}, {pop_density}, {percapita_income}\n",
    "\n",
    "query = f\"\"\"\n",
    "    SELECT \n",
    "      m.province,\n",
    "      p.sq_km,\n",
    "      p.population,\n",
    "      p.density_per_sq_km,\n",
    "      ROUND(AVG(m.signal),2) avg_signal\n",
    "    FROM `{mobile_data_cleaned}` m\n",
    "    JOIN `{pop_density}` p \n",
    "      ON m.province = p.province AND m.year = p.year\n",
    "    WHERE m.year = 2016\n",
    "    GROUP BY m.province, p.sq_km, p.population, p.density_per_sq_km\n",
    "    ORDER BY p.density_per_sq_km DESC;\n",
    "    \"\"\"\n",
    "# DataFrame name\n",
    "df_name = \"joined_pop_mob\"\n",
    "\n",
    "# Execute the query and store the result in the DataFrame\n",
    "query_df(query, df_name)    "
   ]
  },
  {
   "cell_type": "markdown",
   "id": "a2a6ab04",
   "metadata": {},
   "source": [
    "2. Calculate the average signal strength (signal) for each province in the year 2016. Join this data with the \"{pop_density}\" table to find the population density for each province in 2016.\n"
   ]
  },
  {
   "cell_type": "code",
   "execution_count": null,
   "id": "be057a72",
   "metadata": {},
   "outputs": [],
   "source": []
  },
  {
   "cell_type": "markdown",
   "id": "82a9b5ff",
   "metadata": {},
   "source": [
    "3. Find the province with the best 4G network coverage (highest number of records with '4G' in the network column) in the year 2015.\n"
   ]
  },
  {
   "cell_type": "code",
   "execution_count": null,
   "id": "f8c624a5",
   "metadata": {},
   "outputs": [],
   "source": []
  },
  {
   "cell_type": "markdown",
   "id": "ebc8bf81",
   "metadata": {},
   "source": [
    "4. Find the province with the highest average signal strength (signal) in the year 2017. Then, join this result with the \"{percapita_income}\" table to get the per capita income for that province in 2017.\n"
   ]
  },
  {
   "cell_type": "code",
   "execution_count": null,
   "id": "f9ec6b93",
   "metadata": {},
   "outputs": [],
   "source": []
  },
  {
   "cell_type": "markdown",
   "id": "375da2d0",
   "metadata": {},
   "source": [
    "5. Calculate the correlation coefficient between the average signal strength (signal) and population density in the year 2016 for all provinces.\n"
   ]
  },
  {
   "cell_type": "code",
   "execution_count": null,
   "id": "937f3a67",
   "metadata": {},
   "outputs": [],
   "source": []
  },
  {
   "cell_type": "markdown",
   "id": "6db06712",
   "metadata": {},
   "source": [
    "6. Calculate the correlation coefficient between the average signal strength (signal) and per capita income for all provinces in the year 2017.\n"
   ]
  },
  {
   "cell_type": "code",
   "execution_count": null,
   "id": "37dc643f",
   "metadata": {},
   "outputs": [],
   "source": []
  },
  {
   "cell_type": "markdown",
   "id": "97230e43",
   "metadata": {},
   "source": [
    "7. Group the data in the '{mobile_2015_2017}' table by network type (e.g., 2G, 3G, 4G) and calculate the average signal strength for each type. Join this data with the \"{percapita_income}\" table to compare the per capita income by network type in the year 2017.\n"
   ]
  },
  {
   "cell_type": "code",
   "execution_count": null,
   "id": "2cf10b92",
   "metadata": {},
   "outputs": [],
   "source": []
  },
  {
   "cell_type": "markdown",
   "id": "a0cb170a",
   "metadata": {},
   "source": [
    "#### 4. Subqueries"
   ]
  },
  {
   "cell_type": "markdown",
   "id": "3aa8656f",
   "metadata": {},
   "source": [
    "Write a SQL subquery to find the provinces in the 'pop density' table where the population in 2016 is higher than the average population for all provinces."
   ]
  },
  {
   "cell_type": "code",
   "execution_count": 16,
   "id": "a07f0472",
   "metadata": {},
   "outputs": [
    {
     "data": {
      "text/markdown": [
       "Query: "
      ],
      "text/plain": [
       "<IPython.core.display.Markdown object>"
      ]
     },
     "metadata": {},
     "output_type": "display_data"
    },
    {
     "name": "stdout",
     "output_type": "stream",
     "text": [
      "\n",
      "    SELECT\n",
      "      province,\n",
      "      population\n",
      "    FROM `bq-analyst-230590.project_cat_mobile_coverage_2015_2017.cat_pop_by_province_2015_2017`\n",
      "    WHERE\n",
      "      year = 2016\n",
      "      AND population > (\n",
      "        SELECT AVG(population)\n",
      "        FROM `bq-analyst-230590.project_cat_mobile_coverage_2015_2017.cat_pop_by_province_2015_2017`\n",
      "      );\n",
      "    \n"
     ]
    },
    {
     "data": {
      "text/markdown": [
       "Dataframe: **pop_2016_greater_t_avg_pop**"
      ],
      "text/plain": [
       "<IPython.core.display.Markdown object>"
      ]
     },
     "metadata": {},
     "output_type": "display_data"
    },
    {
     "data": {
      "text/html": [
       "<div>\n",
       "<style scoped>\n",
       "    .dataframe tbody tr th:only-of-type {\n",
       "        vertical-align: middle;\n",
       "    }\n",
       "\n",
       "    .dataframe tbody tr th {\n",
       "        vertical-align: top;\n",
       "    }\n",
       "\n",
       "    .dataframe thead th {\n",
       "        text-align: right;\n",
       "    }\n",
       "</style>\n",
       "<table border=\"1\" class=\"dataframe\">\n",
       "  <thead>\n",
       "    <tr style=\"text-align: right;\">\n",
       "      <th></th>\n",
       "      <th>province</th>\n",
       "      <th>population</th>\n",
       "    </tr>\n",
       "  </thead>\n",
       "  <tbody>\n",
       "    <tr>\n",
       "      <th>0</th>\n",
       "      <td>Barcelona</td>\n",
       "      <td>5635085</td>\n",
       "    </tr>\n",
       "  </tbody>\n",
       "</table>\n",
       "</div>"
      ],
      "text/plain": [
       "    province  population\n",
       "0  Barcelona     5635085"
      ]
     },
     "execution_count": 16,
     "metadata": {},
     "output_type": "execute_result"
    }
   ],
   "source": [
    "# Datasets: {mobile_data_cleaned}, {pop_density}, {percapita_income}\n",
    "\n",
    "query = f\"\"\"\n",
    "    SELECT\n",
    "      province,\n",
    "      population\n",
    "    FROM `{pop_density}`\n",
    "    WHERE\n",
    "      year = 2016\n",
    "      AND population > (\n",
    "        SELECT AVG(population)\n",
    "        FROM `{pop_density}`\n",
    "      );\n",
    "    \"\"\"\n",
    "# DataFrame name\n",
    "df_name = \"pop_2016_greater_t_avg_pop\"\n",
    "\n",
    "# Execute the query and store the result in the DataFrame\n",
    "query_df(query, df_name)    "
   ]
  },
  {
   "cell_type": "markdown",
   "id": "798dab38",
   "metadata": {},
   "source": [
    "#### 5. Grouping and Aggregation"
   ]
  },
  {
   "cell_type": "markdown",
   "id": "946d5f9b",
   "metadata": {},
   "source": [
    "6. Grouping and Aggregation:\n",
    "   - Group the 'mobile 2015_2017' table by 'network' type and calculate the average 'signal' strength and the maximum 'speed' for each network type in the year 2017."
   ]
  },
  {
   "cell_type": "code",
   "execution_count": 17,
   "id": "1af51971",
   "metadata": {},
   "outputs": [
    {
     "data": {
      "text/markdown": [
       "Query: "
      ],
      "text/plain": [
       "<IPython.core.display.Markdown object>"
      ]
     },
     "metadata": {},
     "output_type": "display_data"
    },
    {
     "name": "stdout",
     "output_type": "stream",
     "text": [
      "\n",
      "    SELECT\n",
      "      net,\n",
      "      ROUND(AVG(signal),2) avg_signal,\n",
      "      MAX(speed) max_speed\n",
      "    FROM `bq-analyst-230590.project_cat_mobile_coverage_2015_2017.mobile_data_2015_2017_cleaned`\n",
      "    WHERE\n",
      "      year = 2017\n",
      "    GROUP BY 1;\n",
      "    \n"
     ]
    },
    {
     "data": {
      "text/markdown": [
       "Dataframe: **net_avg_sign_and_max_speed_2017**"
      ],
      "text/plain": [
       "<IPython.core.display.Markdown object>"
      ]
     },
     "metadata": {},
     "output_type": "display_data"
    },
    {
     "data": {
      "text/html": [
       "<div>\n",
       "<style scoped>\n",
       "    .dataframe tbody tr th:only-of-type {\n",
       "        vertical-align: middle;\n",
       "    }\n",
       "\n",
       "    .dataframe tbody tr th {\n",
       "        vertical-align: top;\n",
       "    }\n",
       "\n",
       "    .dataframe thead th {\n",
       "        text-align: right;\n",
       "    }\n",
       "</style>\n",
       "<table border=\"1\" class=\"dataframe\">\n",
       "  <thead>\n",
       "    <tr style=\"text-align: right;\">\n",
       "      <th></th>\n",
       "      <th>net</th>\n",
       "      <th>avg_signal</th>\n",
       "      <th>max_speed</th>\n",
       "    </tr>\n",
       "  </thead>\n",
       "  <tbody>\n",
       "    <tr>\n",
       "      <th>0</th>\n",
       "      <td>3G</td>\n",
       "      <td>13.38</td>\n",
       "      <td>254.9</td>\n",
       "    </tr>\n",
       "    <tr>\n",
       "      <th>1</th>\n",
       "      <td>4G</td>\n",
       "      <td>12.69</td>\n",
       "      <td>254.8</td>\n",
       "    </tr>\n",
       "    <tr>\n",
       "      <th>2</th>\n",
       "      <td>2G</td>\n",
       "      <td>12.46</td>\n",
       "      <td>254.7</td>\n",
       "    </tr>\n",
       "    <tr>\n",
       "      <th>3</th>\n",
       "      <td>Undefined net</td>\n",
       "      <td>12.14</td>\n",
       "      <td>254.1</td>\n",
       "    </tr>\n",
       "  </tbody>\n",
       "</table>\n",
       "</div>"
      ],
      "text/plain": [
       "             net  avg_signal  max_speed\n",
       "0             3G       13.38      254.9\n",
       "1             4G       12.69      254.8\n",
       "2             2G       12.46      254.7\n",
       "3  Undefined net       12.14      254.1"
      ]
     },
     "execution_count": 17,
     "metadata": {},
     "output_type": "execute_result"
    }
   ],
   "source": [
    "# Datasets: {mobile_data_cleaned}, {pop_density}, {percapita_income}\n",
    "\n",
    "query = f\"\"\"\n",
    "    SELECT\n",
    "      net,\n",
    "      ROUND(AVG(signal),2) avg_signal,\n",
    "      MAX(speed) max_speed\n",
    "    FROM `{mobile_data_cleaned}`\n",
    "    WHERE\n",
    "      year = 2017\n",
    "    GROUP BY 1;\n",
    "    \"\"\"\n",
    "# DataFrame name\n",
    "df_name = \"net_avg_sign_and_max_speed_2017\"\n",
    "\n",
    "# Execute the query and store the result in the DataFrame\n",
    "query_df(query, df_name)    "
   ]
  },
  {
   "cell_type": "markdown",
   "id": "622fb36a",
   "metadata": {},
   "source": [
    "#### 6. Complex Filtering"
   ]
  },
  {
   "cell_type": "markdown",
   "id": "2f0e9c8a",
   "metadata": {},
   "source": [
    "1. Retrieve records from the '{mobile_2015_2017}' table for the year 2017 where 'network' is '4G,' 'status' is 'connected,' and 'speed' is greater than 10."
   ]
  },
  {
   "cell_type": "code",
   "execution_count": 18,
   "id": "dea995c1",
   "metadata": {},
   "outputs": [
    {
     "data": {
      "text/markdown": [
       "Query: "
      ],
      "text/plain": [
       "<IPython.core.display.Markdown object>"
      ]
     },
     "metadata": {},
     "output_type": "display_data"
    },
    {
     "name": "stdout",
     "output_type": "stream",
     "text": [
      "\n",
      "    SELECT\n",
      "      date,\n",
      "      operator,\n",
      "      net,\n",
      "      description,\n",
      "      signal,\n",
      "      speed\n",
      "    FROM `bq-analyst-230590.project_cat_mobile_coverage_2015_2017.mobile_data_2015_2017_cleaned`\n",
      "    WHERE\n",
      "      year = 2017\n",
      "      AND net = '4G'\n",
      "      AND description = 'STATE_IN_SERVICE'\n",
      "      AND speed > 100.0\n",
      "    ORDER BY 6 DESC\n",
      "    LIMIT 1000;\n",
      "    \n"
     ]
    },
    {
     "data": {
      "text/markdown": [
       "Dataframe: **filtered_data**"
      ],
      "text/plain": [
       "<IPython.core.display.Markdown object>"
      ]
     },
     "metadata": {},
     "output_type": "display_data"
    },
    {
     "data": {
      "text/html": [
       "<div>\n",
       "<style scoped>\n",
       "    .dataframe tbody tr th:only-of-type {\n",
       "        vertical-align: middle;\n",
       "    }\n",
       "\n",
       "    .dataframe tbody tr th {\n",
       "        vertical-align: top;\n",
       "    }\n",
       "\n",
       "    .dataframe thead th {\n",
       "        text-align: right;\n",
       "    }\n",
       "</style>\n",
       "<table border=\"1\" class=\"dataframe\">\n",
       "  <thead>\n",
       "    <tr style=\"text-align: right;\">\n",
       "      <th></th>\n",
       "      <th>date</th>\n",
       "      <th>operator</th>\n",
       "      <th>net</th>\n",
       "      <th>description</th>\n",
       "      <th>signal</th>\n",
       "      <th>speed</th>\n",
       "    </tr>\n",
       "  </thead>\n",
       "  <tbody>\n",
       "    <tr>\n",
       "      <th>0</th>\n",
       "      <td>2017-07-24</td>\n",
       "      <td>Movistar</td>\n",
       "      <td>4G</td>\n",
       "      <td>STATE_IN_SERVICE</td>\n",
       "      <td>26</td>\n",
       "      <td>253.1</td>\n",
       "    </tr>\n",
       "    <tr>\n",
       "      <th>1</th>\n",
       "      <td>2017-05-28</td>\n",
       "      <td>Vodafone</td>\n",
       "      <td>4G</td>\n",
       "      <td>STATE_IN_SERVICE</td>\n",
       "      <td>23</td>\n",
       "      <td>244.6</td>\n",
       "    </tr>\n",
       "    <tr>\n",
       "      <th>2</th>\n",
       "      <td>2017-02-22</td>\n",
       "      <td>Orange</td>\n",
       "      <td>4G</td>\n",
       "      <td>STATE_IN_SERVICE</td>\n",
       "      <td>14</td>\n",
       "      <td>242.6</td>\n",
       "    </tr>\n",
       "    <tr>\n",
       "      <th>3</th>\n",
       "      <td>2017-03-31</td>\n",
       "      <td>Orange</td>\n",
       "      <td>4G</td>\n",
       "      <td>STATE_IN_SERVICE</td>\n",
       "      <td>19</td>\n",
       "      <td>239.6</td>\n",
       "    </tr>\n",
       "    <tr>\n",
       "      <th>4</th>\n",
       "      <td>2017-05-10</td>\n",
       "      <td>Masmovil</td>\n",
       "      <td>4G</td>\n",
       "      <td>STATE_IN_SERVICE</td>\n",
       "      <td>13</td>\n",
       "      <td>229.5</td>\n",
       "    </tr>\n",
       "    <tr>\n",
       "      <th>...</th>\n",
       "      <td>...</td>\n",
       "      <td>...</td>\n",
       "      <td>...</td>\n",
       "      <td>...</td>\n",
       "      <td>...</td>\n",
       "      <td>...</td>\n",
       "    </tr>\n",
       "    <tr>\n",
       "      <th>570</th>\n",
       "      <td>2017-05-14</td>\n",
       "      <td>Vodafone</td>\n",
       "      <td>4G</td>\n",
       "      <td>STATE_IN_SERVICE</td>\n",
       "      <td>7</td>\n",
       "      <td>100.3</td>\n",
       "    </tr>\n",
       "    <tr>\n",
       "      <th>571</th>\n",
       "      <td>2017-07-15</td>\n",
       "      <td>Vodafone</td>\n",
       "      <td>4G</td>\n",
       "      <td>STATE_IN_SERVICE</td>\n",
       "      <td>9</td>\n",
       "      <td>100.3</td>\n",
       "    </tr>\n",
       "    <tr>\n",
       "      <th>572</th>\n",
       "      <td>2017-05-05</td>\n",
       "      <td>Orange</td>\n",
       "      <td>4G</td>\n",
       "      <td>STATE_IN_SERVICE</td>\n",
       "      <td>11</td>\n",
       "      <td>100.3</td>\n",
       "    </tr>\n",
       "    <tr>\n",
       "      <th>573</th>\n",
       "      <td>2017-07-25</td>\n",
       "      <td>Orange</td>\n",
       "      <td>4G</td>\n",
       "      <td>STATE_IN_SERVICE</td>\n",
       "      <td>12</td>\n",
       "      <td>100.2</td>\n",
       "    </tr>\n",
       "    <tr>\n",
       "      <th>574</th>\n",
       "      <td>2017-06-16</td>\n",
       "      <td>Movistar</td>\n",
       "      <td>4G</td>\n",
       "      <td>STATE_IN_SERVICE</td>\n",
       "      <td>6</td>\n",
       "      <td>100.1</td>\n",
       "    </tr>\n",
       "  </tbody>\n",
       "</table>\n",
       "<p>575 rows × 6 columns</p>\n",
       "</div>"
      ],
      "text/plain": [
       "           date  operator net       description  signal  speed\n",
       "0    2017-07-24  Movistar  4G  STATE_IN_SERVICE      26  253.1\n",
       "1    2017-05-28  Vodafone  4G  STATE_IN_SERVICE      23  244.6\n",
       "2    2017-02-22    Orange  4G  STATE_IN_SERVICE      14  242.6\n",
       "3    2017-03-31    Orange  4G  STATE_IN_SERVICE      19  239.6\n",
       "4    2017-05-10  Masmovil  4G  STATE_IN_SERVICE      13  229.5\n",
       "..          ...       ...  ..               ...     ...    ...\n",
       "570  2017-05-14  Vodafone  4G  STATE_IN_SERVICE       7  100.3\n",
       "571  2017-07-15  Vodafone  4G  STATE_IN_SERVICE       9  100.3\n",
       "572  2017-05-05    Orange  4G  STATE_IN_SERVICE      11  100.3\n",
       "573  2017-07-25    Orange  4G  STATE_IN_SERVICE      12  100.2\n",
       "574  2017-06-16  Movistar  4G  STATE_IN_SERVICE       6  100.1\n",
       "\n",
       "[575 rows x 6 columns]"
      ]
     },
     "execution_count": 18,
     "metadata": {},
     "output_type": "execute_result"
    }
   ],
   "source": [
    "# Datasets: {mobile_data_cleaned}, {pop_density}, {percapita_income}\n",
    "\n",
    "query = f\"\"\"\n",
    "    SELECT\n",
    "      date,\n",
    "      operator,\n",
    "      net,\n",
    "      description,\n",
    "      signal,\n",
    "      speed\n",
    "    FROM `{mobile_data_cleaned}`\n",
    "    WHERE\n",
    "      year = 2017\n",
    "      AND net = '4G'\n",
    "      AND description = 'STATE_IN_SERVICE'\n",
    "      AND speed > 100.0\n",
    "    ORDER BY 6 DESC\n",
    "    LIMIT 1000;\n",
    "    \"\"\"\n",
    "# DataFrame name\n",
    "df_name = \"filtered_data\"\n",
    "\n",
    "# Execute the query and store the result in the DataFrame\n",
    "query_df(query, df_name)    "
   ]
  },
  {
   "cell_type": "markdown",
   "id": "b7abaf76",
   "metadata": {},
   "source": [
    "#### 7. Data Validation"
   ]
  },
  {
   "cell_type": "markdown",
   "id": "ebb97260",
   "metadata": {},
   "source": [
    "1. Identify and list all records in the '{mobile_2015_2017}' table with missing values in the 'provider' column."
   ]
  },
  {
   "cell_type": "code",
   "execution_count": 19,
   "id": "52ba2baf",
   "metadata": {},
   "outputs": [
    {
     "data": {
      "text/markdown": [
       "Query: "
      ],
      "text/plain": [
       "<IPython.core.display.Markdown object>"
      ]
     },
     "metadata": {},
     "output_type": "display_data"
    },
    {
     "name": "stdout",
     "output_type": "stream",
     "text": [
      "\n",
      "    SELECT\n",
      "      *\n",
      "    FROM `bq-analyst-230590.project_cat_mobile_coverage_2015_2017.mobile_data_2015_2017_cleaned`\n",
      "    WHERE\n",
      "      provider IS NULL\n",
      "    LIMIT 1000;\n",
      "    \n"
     ]
    },
    {
     "data": {
      "text/markdown": [
       "Dataframe: **null_provider**"
      ],
      "text/plain": [
       "<IPython.core.display.Markdown object>"
      ]
     },
     "metadata": {},
     "output_type": "display_data"
    },
    {
     "data": {
      "text/html": [
       "<div>\n",
       "<style scoped>\n",
       "    .dataframe tbody tr th:only-of-type {\n",
       "        vertical-align: middle;\n",
       "    }\n",
       "\n",
       "    .dataframe tbody tr th {\n",
       "        vertical-align: top;\n",
       "    }\n",
       "\n",
       "    .dataframe thead th {\n",
       "        text-align: right;\n",
       "    }\n",
       "</style>\n",
       "<table border=\"1\" class=\"dataframe\">\n",
       "  <thead>\n",
       "    <tr style=\"text-align: right;\">\n",
       "      <th></th>\n",
       "      <th>date</th>\n",
       "      <th>hour</th>\n",
       "      <th>lat</th>\n",
       "      <th>long</th>\n",
       "      <th>signal</th>\n",
       "      <th>network</th>\n",
       "      <th>operator</th>\n",
       "      <th>status</th>\n",
       "      <th>description</th>\n",
       "      <th>net</th>\n",
       "      <th>...</th>\n",
       "      <th>precission</th>\n",
       "      <th>provider</th>\n",
       "      <th>activity</th>\n",
       "      <th>postal_code</th>\n",
       "      <th>town_name</th>\n",
       "      <th>position_geom</th>\n",
       "      <th>province</th>\n",
       "      <th>year</th>\n",
       "      <th>month</th>\n",
       "      <th>hour_24h</th>\n",
       "    </tr>\n",
       "  </thead>\n",
       "  <tbody>\n",
       "  </tbody>\n",
       "</table>\n",
       "<p>0 rows × 22 columns</p>\n",
       "</div>"
      ],
      "text/plain": [
       "Empty DataFrame\n",
       "Columns: [date, hour, lat, long, signal, network, operator, status, description, net, speed, satellites, precission, provider, activity, postal_code, town_name, position_geom, province, year, month, hour_24h]\n",
       "Index: []\n",
       "\n",
       "[0 rows x 22 columns]"
      ]
     },
     "execution_count": 19,
     "metadata": {},
     "output_type": "execute_result"
    }
   ],
   "source": [
    "# Datasets: {mobile_data_cleaned}, {pop_density}, {percapita_income}\n",
    "\n",
    "query = f\"\"\"\n",
    "    SELECT\n",
    "      *\n",
    "    FROM `{mobile_data_cleaned}`\n",
    "    WHERE\n",
    "      provider IS NULL\n",
    "    LIMIT 1000;\n",
    "    \"\"\"\n",
    "# DataFrame name\n",
    "df_name = \"null_provider\"\n",
    "\n",
    "# Execute the query and store the result in the DataFrame\n",
    "query_df(query, df_name)    "
   ]
  },
  {
   "cell_type": "markdown",
   "id": "4591241d",
   "metadata": {},
   "source": [
    "#### 8. Case Statements"
   ]
  },
  {
   "cell_type": "markdown",
   "id": "d0a22663",
   "metadata": {},
   "source": [
    "1. Update the 'status' column in the '{mobile_2015_2017}' table, setting it to 'high' when the 'signal' is above 70, 'medium' when between 50 and 70, and 'low' when below 50."
   ]
  },
  {
   "cell_type": "code",
   "execution_count": 20,
   "id": "e30cf33f",
   "metadata": {},
   "outputs": [
    {
     "data": {
      "text/markdown": [
       "Query: "
      ],
      "text/plain": [
       "<IPython.core.display.Markdown object>"
      ]
     },
     "metadata": {},
     "output_type": "display_data"
    },
    {
     "name": "stdout",
     "output_type": "stream",
     "text": [
      "\n",
      "    SELECT\n",
      "      max(signal),\n",
      "      min(signal),\n",
      "      avg(signal)\n",
      "    FROM `bq-analyst-230590.project_cat_mobile_coverage_2015_2017.mobile_data_2015_2017_cleaned`\n",
      "    \n"
     ]
    },
    {
     "data": {
      "text/markdown": [
       "Dataframe: **null_provider**"
      ],
      "text/plain": [
       "<IPython.core.display.Markdown object>"
      ]
     },
     "metadata": {},
     "output_type": "display_data"
    },
    {
     "data": {
      "text/html": [
       "<div>\n",
       "<style scoped>\n",
       "    .dataframe tbody tr th:only-of-type {\n",
       "        vertical-align: middle;\n",
       "    }\n",
       "\n",
       "    .dataframe tbody tr th {\n",
       "        vertical-align: top;\n",
       "    }\n",
       "\n",
       "    .dataframe thead th {\n",
       "        text-align: right;\n",
       "    }\n",
       "</style>\n",
       "<table border=\"1\" class=\"dataframe\">\n",
       "  <thead>\n",
       "    <tr style=\"text-align: right;\">\n",
       "      <th></th>\n",
       "      <th>f0_</th>\n",
       "      <th>f1_</th>\n",
       "      <th>f2_</th>\n",
       "    </tr>\n",
       "  </thead>\n",
       "  <tbody>\n",
       "    <tr>\n",
       "      <th>0</th>\n",
       "      <td>99</td>\n",
       "      <td>0</td>\n",
       "      <td>13.216373</td>\n",
       "    </tr>\n",
       "  </tbody>\n",
       "</table>\n",
       "</div>"
      ],
      "text/plain": [
       "   f0_  f1_        f2_\n",
       "0   99    0  13.216373"
      ]
     },
     "execution_count": 20,
     "metadata": {},
     "output_type": "execute_result"
    }
   ],
   "source": [
    "# Datasets: {mobile_data_cleaned}, {pop_density}, {percapita_income}\n",
    "\n",
    "query = f\"\"\"\n",
    "    SELECT\n",
    "      max(signal),\n",
    "      min(signal),\n",
    "      avg(signal)\n",
    "    FROM `{mobile_data_cleaned}`\n",
    "    \"\"\"\n",
    "# DataFrame name\n",
    "df_name = \"null_provider\"\n",
    "\n",
    "# Execute the query and store the result in the DataFrame\n",
    "query_df(query, df_name)    "
   ]
  },
  {
   "cell_type": "code",
   "execution_count": 28,
   "id": "65c9a625",
   "metadata": {},
   "outputs": [
    {
     "name": "stdout",
     "output_type": "stream",
     "text": [
      "Query successfully executed, and the table has been updated.\n"
     ]
    }
   ],
   "source": [
    "# Datasets: {mobile_data_cleaned}, {pop_density}, {percapita_income}\n",
    "\n",
    "# Create a new column to store the updated value\n",
    "query = f\"\"\"\n",
    "    ALTER TABLE `{mobile_data_cleaned}`\n",
    "    ADD COLUMN signal_eval STRING;\n",
    "    \"\"\"\n",
    "\n",
    "# Execute the query\n",
    "run_query(query)    "
   ]
  },
  {
   "cell_type": "code",
   "execution_count": 29,
   "id": "7252cfc2",
   "metadata": {},
   "outputs": [
    {
     "name": "stdout",
     "output_type": "stream",
     "text": [
      "Query successfully executed, and the table has been updated.\n"
     ]
    }
   ],
   "source": [
    "# Datasets: {mobile_data_cleaned}, {pop_density}, {percapita_income}\n",
    "\n",
    "# Update values\n",
    "query = f\"\"\"\n",
    "    UPDATE `{mobile_data_cleaned}`\n",
    "    SET signal_eval =\n",
    "        CASE\n",
    "            WHEN signal < 13 THEN 'Under Avg'\n",
    "            WHEN signal BETWEEN 13 AND 14 THEN 'On Avg'\n",
    "            WHEN signal > 14 THEN 'Above Avg'\n",
    "            END\n",
    "        WHERE signal_eval IS NULL;\n",
    "    \"\"\"\n",
    "\n",
    "# Execute the query and store the result in the DataFrame\n",
    "run_query(query)    "
   ]
  },
  {
   "cell_type": "code",
   "execution_count": 30,
   "id": "bdda8d1b",
   "metadata": {},
   "outputs": [
    {
     "data": {
      "text/markdown": [
       "Query: "
      ],
      "text/plain": [
       "<IPython.core.display.Markdown object>"
      ]
     },
     "metadata": {},
     "output_type": "display_data"
    },
    {
     "name": "stdout",
     "output_type": "stream",
     "text": [
      "\n",
      "    SELECT\n",
      "      signal,\n",
      "      signal_eval\n",
      "    FROM `bq-analyst-230590.project_cat_mobile_coverage_2015_2017.mobile_data_2015_2017_cleaned`\n",
      "    LIMIT 100\n",
      "    \n"
     ]
    },
    {
     "data": {
      "text/markdown": [
       "Dataframe: **signal_eval**"
      ],
      "text/plain": [
       "<IPython.core.display.Markdown object>"
      ]
     },
     "metadata": {},
     "output_type": "display_data"
    },
    {
     "data": {
      "text/html": [
       "<div>\n",
       "<style scoped>\n",
       "    .dataframe tbody tr th:only-of-type {\n",
       "        vertical-align: middle;\n",
       "    }\n",
       "\n",
       "    .dataframe tbody tr th {\n",
       "        vertical-align: top;\n",
       "    }\n",
       "\n",
       "    .dataframe thead th {\n",
       "        text-align: right;\n",
       "    }\n",
       "</style>\n",
       "<table border=\"1\" class=\"dataframe\">\n",
       "  <thead>\n",
       "    <tr style=\"text-align: right;\">\n",
       "      <th></th>\n",
       "      <th>signal</th>\n",
       "      <th>signal_eval</th>\n",
       "    </tr>\n",
       "  </thead>\n",
       "  <tbody>\n",
       "    <tr>\n",
       "      <th>0</th>\n",
       "      <td>15</td>\n",
       "      <td>Above Avg</td>\n",
       "    </tr>\n",
       "    <tr>\n",
       "      <th>1</th>\n",
       "      <td>8</td>\n",
       "      <td>Under Avg</td>\n",
       "    </tr>\n",
       "    <tr>\n",
       "      <th>2</th>\n",
       "      <td>10</td>\n",
       "      <td>Under Avg</td>\n",
       "    </tr>\n",
       "    <tr>\n",
       "      <th>3</th>\n",
       "      <td>15</td>\n",
       "      <td>Above Avg</td>\n",
       "    </tr>\n",
       "    <tr>\n",
       "      <th>4</th>\n",
       "      <td>5</td>\n",
       "      <td>Under Avg</td>\n",
       "    </tr>\n",
       "    <tr>\n",
       "      <th>...</th>\n",
       "      <td>...</td>\n",
       "      <td>...</td>\n",
       "    </tr>\n",
       "    <tr>\n",
       "      <th>95</th>\n",
       "      <td>25</td>\n",
       "      <td>Above Avg</td>\n",
       "    </tr>\n",
       "    <tr>\n",
       "      <th>96</th>\n",
       "      <td>14</td>\n",
       "      <td>On Avg</td>\n",
       "    </tr>\n",
       "    <tr>\n",
       "      <th>97</th>\n",
       "      <td>22</td>\n",
       "      <td>Above Avg</td>\n",
       "    </tr>\n",
       "    <tr>\n",
       "      <th>98</th>\n",
       "      <td>14</td>\n",
       "      <td>On Avg</td>\n",
       "    </tr>\n",
       "    <tr>\n",
       "      <th>99</th>\n",
       "      <td>14</td>\n",
       "      <td>On Avg</td>\n",
       "    </tr>\n",
       "  </tbody>\n",
       "</table>\n",
       "<p>100 rows × 2 columns</p>\n",
       "</div>"
      ],
      "text/plain": [
       "    signal signal_eval\n",
       "0       15   Above Avg\n",
       "1        8   Under Avg\n",
       "2       10   Under Avg\n",
       "3       15   Above Avg\n",
       "4        5   Under Avg\n",
       "..     ...         ...\n",
       "95      25   Above Avg\n",
       "96      14      On Avg\n",
       "97      22   Above Avg\n",
       "98      14      On Avg\n",
       "99      14      On Avg\n",
       "\n",
       "[100 rows x 2 columns]"
      ]
     },
     "execution_count": 30,
     "metadata": {},
     "output_type": "execute_result"
    }
   ],
   "source": [
    "# Datasets: {mobile_data_cleaned}, {pop_density}, {percapita_income}\n",
    "\n",
    "# Check results\n",
    "query = f\"\"\"\n",
    "    SELECT\n",
    "      signal,\n",
    "      signal_eval\n",
    "    FROM `{mobile_data_cleaned}`\n",
    "    LIMIT 100\n",
    "    \"\"\"\n",
    "# DataFrame name\n",
    "df_name = \"signal_eval\"\n",
    "\n",
    "# Execute the query and store the result in the DataFrame\n",
    "query_df(query, df_name)    "
   ]
  },
  {
   "cell_type": "code",
   "execution_count": null,
   "id": "48322f18",
   "metadata": {},
   "outputs": [],
   "source": [
    "# Datasets: {mobile_data_cleaned}, {pop_density}, {percapita_income}\n",
    "\n",
    "## Delete the added column\n",
    "#query = f\"\"\"\n",
    "#    ALTER TABLE `{mobile_data_cleaned}`\n",
    "#    DROP COLUMN signal_eval;\n",
    "#    \"\"\"\n",
    "\n",
    "## Execute the query\n",
    "#run_query(query)    "
   ]
  },
  {
   "cell_type": "code",
   "execution_count": null,
   "id": "963ddb5f",
   "metadata": {},
   "outputs": [],
   "source": []
  },
  {
   "cell_type": "markdown",
   "id": "a6e0abac",
   "metadata": {},
   "source": [
    "#### 9. Statistical Aggregate Functions"
   ]
  },
  {
   "cell_type": "markdown",
   "id": "1a4df3dc",
   "metadata": {},
   "source": [
    "1. Calculate the Pearson correlation coefficient between 'signal' strength and 'speed' in the '{mobile_2015_2017}' table for the year 2017."
   ]
  },
  {
   "cell_type": "code",
   "execution_count": 48,
   "id": "48818038",
   "metadata": {},
   "outputs": [
    {
     "data": {
      "text/markdown": [
       "Query: "
      ],
      "text/plain": [
       "<IPython.core.display.Markdown object>"
      ]
     },
     "metadata": {},
     "output_type": "display_data"
    },
    {
     "name": "stdout",
     "output_type": "stream",
     "text": [
      "\n",
      "    SELECT\n",
      "      CORR(signal, speed) AS signal_speed,\n",
      "      CORR(signal, hour_24h) AS signal_hour,\n",
      "      CORR(signal, CAST(postal_code AS INT64)) AS signal_postalcode,\n",
      "      CORR(lat, long) AS lat_long,\n",
      "      CORR(precission, satellites) AS precision_satellites,\n",
      "      CORR(precission, speed) AS precision_speed,\n",
      "      CORR(precission, signal) AS precision_signal,\n",
      "      CORR(precission, CAST(postal_code AS INT64)) AS precission_postalcode,\n",
      "      CORR(satellites, CAST(postal_code AS INT64)) AS satellites_postalcode\n",
      "    FROM `bq-analyst-230590.project_cat_mobile_coverage_2015_2017.mobile_data_2015_2017_cleaned`\n",
      "    \n"
     ]
    },
    {
     "data": {
      "text/markdown": [
       "Dataframe: **pearson_correlation**"
      ],
      "text/plain": [
       "<IPython.core.display.Markdown object>"
      ]
     },
     "metadata": {},
     "output_type": "display_data"
    },
    {
     "data": {
      "text/html": [
       "<div>\n",
       "<style scoped>\n",
       "    .dataframe tbody tr th:only-of-type {\n",
       "        vertical-align: middle;\n",
       "    }\n",
       "\n",
       "    .dataframe tbody tr th {\n",
       "        vertical-align: top;\n",
       "    }\n",
       "\n",
       "    .dataframe thead th {\n",
       "        text-align: right;\n",
       "    }\n",
       "</style>\n",
       "<table border=\"1\" class=\"dataframe\">\n",
       "  <thead>\n",
       "    <tr style=\"text-align: right;\">\n",
       "      <th></th>\n",
       "      <th>signal_speed</th>\n",
       "      <th>signal_hour</th>\n",
       "      <th>signal_postalcode</th>\n",
       "      <th>lat_long</th>\n",
       "      <th>precision_satellites</th>\n",
       "      <th>precision_speed</th>\n",
       "      <th>precision_signal</th>\n",
       "      <th>precission_postalcode</th>\n",
       "      <th>satellites_postalcode</th>\n",
       "    </tr>\n",
       "  </thead>\n",
       "  <tbody>\n",
       "    <tr>\n",
       "      <th>0</th>\n",
       "      <td>-0.003648</td>\n",
       "      <td>0.001469</td>\n",
       "      <td>-0.048404</td>\n",
       "      <td>0.3986</td>\n",
       "      <td>-0.364724</td>\n",
       "      <td>-0.185271</td>\n",
       "      <td>-0.022847</td>\n",
       "      <td>-0.026723</td>\n",
       "      <td>0.016603</td>\n",
       "    </tr>\n",
       "  </tbody>\n",
       "</table>\n",
       "</div>"
      ],
      "text/plain": [
       "   signal_speed  signal_hour  signal_postalcode  lat_long  \\\n",
       "0     -0.003648     0.001469          -0.048404    0.3986   \n",
       "\n",
       "   precision_satellites  precision_speed  precision_signal  \\\n",
       "0             -0.364724        -0.185271         -0.022847   \n",
       "\n",
       "   precission_postalcode  satellites_postalcode  \n",
       "0              -0.026723               0.016603  "
      ]
     },
     "execution_count": 48,
     "metadata": {},
     "output_type": "execute_result"
    }
   ],
   "source": [
    "# Datasets: {mobile_data_cleaned}, {pop_density}, {percapita_income}\n",
    "\n",
    "query = f\"\"\"\n",
    "    SELECT\n",
    "      CORR(signal, speed) AS signal_speed,\n",
    "      CORR(signal, hour_24h) AS signal_hour,\n",
    "      CORR(signal, CAST(postal_code AS INT64)) AS signal_postalcode,\n",
    "      CORR(lat, long) AS lat_long,\n",
    "      CORR(precission, satellites) AS precision_satellites,\n",
    "      CORR(precission, speed) AS precision_speed,\n",
    "      CORR(precission, signal) AS precision_signal,\n",
    "      CORR(precission, CAST(postal_code AS INT64)) AS precission_postalcode,\n",
    "      CORR(satellites, CAST(postal_code AS INT64)) AS satellites_postalcode\n",
    "    FROM `{mobile_data_cleaned}`\n",
    "    \"\"\"\n",
    "# DataFrame name\n",
    "df_name = \"pearson_correlation\"\n",
    "\n",
    "# Execute the query and store the result in the DataFrame\n",
    "query_df(query, df_name)    "
   ]
  },
  {
   "cell_type": "code",
   "execution_count": null,
   "id": "49f56d21",
   "metadata": {},
   "outputs": [],
   "source": []
  },
  {
   "cell_type": "markdown",
   "id": "b3f004ba",
   "metadata": {},
   "source": [
    "2. Calculate the covariance between 'signal' strength and 'speed' in the '{mobile_2015_2017}' table for the year 2017."
   ]
  },
  {
   "cell_type": "code",
   "execution_count": null,
   "id": "87333eb3",
   "metadata": {},
   "outputs": [],
   "source": []
  },
  {
   "cell_type": "markdown",
   "id": "60599094",
   "metadata": {},
   "source": [
    "3. Calculate the standard deviation of 'signal' strength in the '{mobile_2015_2017}' table for the year 2017."
   ]
  },
  {
   "cell_type": "code",
   "execution_count": null,
   "id": "483286dd",
   "metadata": {},
   "outputs": [],
   "source": []
  },
  {
   "cell_type": "markdown",
   "id": "d6380ece",
   "metadata": {},
   "source": [
    "4. Calculate the variance of 'signal' strength in the '{mobile_2015_2017}' table for the year 2017."
   ]
  },
  {
   "cell_type": "code",
   "execution_count": null,
   "id": "25c5f501",
   "metadata": {},
   "outputs": [],
   "source": []
  },
  {
   "cell_type": "markdown",
   "id": "b88c8f75",
   "metadata": {},
   "source": [
    "#### 10. Window Functions"
   ]
  },
  {
   "cell_type": "markdown",
   "id": "7eeee78f",
   "metadata": {},
   "source": [
    "1. Rank the provinces in the '{pop_density}' table based on population density in descending order for the year 2016."
   ]
  },
  {
   "cell_type": "code",
   "execution_count": null,
   "id": "6f86e3c2",
   "metadata": {},
   "outputs": [],
   "source": []
  },
  {
   "cell_type": "markdown",
   "id": "43a50fef",
   "metadata": {},
   "source": [
    "2. Calculate the dense rank of provinces in the '{percapita_income}' table based on per capita income in ascending order for the year 2017."
   ]
  },
  {
   "cell_type": "code",
   "execution_count": null,
   "id": "0f8c6d58",
   "metadata": {},
   "outputs": [],
   "source": []
  },
  {
   "cell_type": "markdown",
   "id": "dbfb51ff",
   "metadata": {},
   "source": [
    "3. Divide the provinces in the '{mobile_2015_2017}' table into quartiles based on 'speed' in the year 2017 using the ntile() window function."
   ]
  },
  {
   "cell_type": "code",
   "execution_count": null,
   "id": "5b019812",
   "metadata": {},
   "outputs": [],
   "source": []
  },
  {
   "cell_type": "code",
   "execution_count": null,
   "id": "bf7337a2",
   "metadata": {},
   "outputs": [],
   "source": []
  },
  {
   "cell_type": "code",
   "execution_count": null,
   "id": "a45661f5",
   "metadata": {},
   "outputs": [],
   "source": []
  },
  {
   "cell_type": "markdown",
   "id": "d23751ce",
   "metadata": {},
   "source": [
    "10. Multiple Join:\n",
    "\n",
    "    - Join the 'mobile_2015_2017' table with the 'pop_density' and 'percapita_income' tables to create a unified dataset. The result should include information about mobile coverage, income per capita, and population density for each province in the year 2016. Perform a triple join to combine the data from these three tables into a single result set."
   ]
  },
  {
   "cell_type": "code",
   "execution_count": null,
   "id": "75b53a1c",
   "metadata": {},
   "outputs": [],
   "source": [
    "# Datasets: {mobile_data_cleaned}, {pop_density}, {percapita_income}\n",
    "\n",
    "query = f\"\"\"\n",
    "    SELECT\n",
    "      m.province,\n",
    "      m.year,\n",
    "      ROUND(AVG(m.signal),2) avg_signal,\n",
    "      ROUND(MAX(m.speed),2) max_speed,\n",
    "      p.per_capita_income,\n",
    "      d.density_per_sq_km pop_density_sq_km\n",
    "    FROM `{mobile_data_cleaned}` m\n",
    "    JOIN `{percapita_income}` p\n",
    "        ON m.province = p.province\n",
    "        AND m.year = p.year\n",
    "    JOIN `{pop_density}` d\n",
    "        ON m.province = d.province\n",
    "        AND m.year = d.year\n",
    "    GROUP BY 1,2,5,6\n",
    "    ORDER BY 1,2 DESC;\n",
    "    \"\"\"\n",
    "# DataFrame name\n",
    "df_name = \"triple_join_data\"\n",
    "\n",
    "# Execute the query and store the result in the DataFrame\n",
    "query_df(query, df_name)    "
   ]
  },
  {
   "cell_type": "markdown",
   "id": "497e7e0b",
   "metadata": {},
   "source": [
    "11. Different Joins and Count with NULL Values:\n",
    "\n",
    "    - In the pop_density table, add a couple of rows with NULL values for the province column to simulate missing data. Then, perform the following join operations with the mobile_2015_2017 table:"
   ]
  },
  {
   "cell_type": "code",
   "execution_count": null,
   "id": "8a7e38d9",
   "metadata": {},
   "outputs": [],
   "source": [
    "# Datasets: {mobile_data_cleaned}, {pop_density}, {percapita_income}\n",
    "\n",
    "# pop_density columns: province, year, population, sq_km, density_per_sq_km\n",
    "\n",
    "query = f\"\"\"\n",
    "    INSERT INTO `{pop_density}`(year, population, sq_km)\n",
    "    VALUES \n",
    "        (2015, 600000, 500),\n",
    "        (2014, 530000, 490),\n",
    "        (2016, 420000, 400),\n",
    "        (2017, 385000, 380);\n",
    "    \n",
    "    INSERT INTO `{pop_density}`(province, year, sq_km)\n",
    "    VALUES\n",
    "        ('Costa Brava', 2017, 678),\n",
    "        ('Pirineus', 2015, 10000)\n",
    "    \"\"\"\n",
    "# DataFrame name\n",
    "df_name = \"added_null_province_rows\"\n",
    "\n",
    "# Execute the query and store the result in the DataFrame\n",
    "query_df(query, df_name)    "
   ]
  },
  {
   "cell_type": "code",
   "execution_count": null,
   "id": "7dd097dc",
   "metadata": {},
   "outputs": [],
   "source": [
    "# Check updated pop_density dataset\n",
    "\n",
    "query = f\"\"\"\n",
    "    SELECT *\n",
    "    FROM `{pop_density}`\n",
    "    \"\"\"\n",
    "# DataFrame name\n",
    "df_name = \"pop_density_with_nulls\"\n",
    "\n",
    "# Execute the query and store the result in the DataFrame\n",
    "query_df(query, df_name)    "
   ]
  },
  {
   "cell_type": "markdown",
   "id": "db03b498",
   "metadata": {},
   "source": [
    "    - a. LEFT JOIN: Count the number of records for each province and year, including provinces with NULL values in the pop_density table."
   ]
  },
  {
   "cell_type": "code",
   "execution_count": null,
   "id": "0ab5571e",
   "metadata": {},
   "outputs": [],
   "source": [
    "# Datasets: {mobile_data_cleaned}, {pop_density}, {percapita_income}\n",
    "\n",
    "query = f\"\"\"\n",
    "    SELECT\n",
    "      d.province,\n",
    "      d.year,\n",
    "      COUNT(m.signal) activity_count\n",
    "    FROM `{pop_density}` d\n",
    "    LEFT JOIN `{mobile_data_cleaned}` m\n",
    "        ON d.province = m.province\n",
    "        AND d.year = m.year\n",
    "    GROUP BY 1,2\n",
    "    ORDER BY 1,2 DESC;\n",
    "    \"\"\"\n",
    "# DataFrame name\n",
    "df_name = \"left_join\"\n",
    "\n",
    "# Execute the query and store the result in the DataFrame\n",
    "query_df(query, df_name)    "
   ]
  },
  {
   "cell_type": "markdown",
   "id": "c6328476",
   "metadata": {},
   "source": [
    "Left Join: include all rows from {pop_density} with NULL values in the columns from {mobile_2015_2017}"
   ]
  },
  {
   "cell_type": "markdown",
   "id": "1b09d751",
   "metadata": {},
   "source": [
    "    - b. RIGHT JOIN: Count the number of records for each province and year, excluding provinces with NULL values in the pop_density table.\n"
   ]
  },
  {
   "cell_type": "code",
   "execution_count": null,
   "id": "bb3f3bc6",
   "metadata": {},
   "outputs": [],
   "source": [
    "# Datasets: {mobile_data_cleaned}, {pop_density}, {percapita_income}\n",
    "\n",
    "query = f\"\"\"\n",
    "    SELECT\n",
    "      d.province,\n",
    "      d.year,\n",
    "      ROUND(AVG(m.signal),2) avg_signal,\n",
    "      ROUND(MAX(m.speed),2) max_speed\n",
    "    FROM `{pop_density}` d\n",
    "    RIGHT JOIN `{mobile_data_cleaned}` m\n",
    "        ON d.province = m.province\n",
    "        AND d.year = m.year\n",
    "    GROUP BY 1,2\n",
    "    ORDER BY 1,2 DESC;\n",
    "    \"\"\"\n",
    "# DataFrame name\n",
    "df_name = \"right_join\"\n",
    "\n",
    "# Execute the query and store the result in the DataFrame\n",
    "query_df(query, df_name)    "
   ]
  },
  {
   "cell_type": "markdown",
   "id": "1970ce18",
   "metadata": {},
   "source": [
    "Right Join: includes all rows from {mobile_2015_2017} and fill in NULL values from {pop_density} where there are no matches."
   ]
  },
  {
   "cell_type": "markdown",
   "id": "7f96674b",
   "metadata": {},
   "source": [
    "    - c. INNER JOIN: Count the number of records for each province and year, including provinces from the pop_density table and any additional data from the mobile_2015_2017 table."
   ]
  },
  {
   "cell_type": "code",
   "execution_count": null,
   "id": "92287202",
   "metadata": {},
   "outputs": [],
   "source": [
    "# Datasets: {mobile_data_cleaned}, {pop_density}, {percapita_income}\n",
    "\n",
    "query = f\"\"\"\n",
    "    SELECT\n",
    "      d.province,\n",
    "      d.year,\n",
    "      ROUND(AVG(m.signal),2) avg_signal,\n",
    "      ROUND(MAX(m.speed),2) max_speed\n",
    "    FROM `{pop_density}` d\n",
    "    INNER JOIN `{mobile_data_cleaned}` m\n",
    "        ON d.province = m.province\n",
    "        AND d.year = m.year\n",
    "    GROUP BY 1,2\n",
    "    ORDER BY 1,2 DESC;\n",
    "    \"\"\"\n",
    "# DataFrame name\n",
    "df_name = \"inner_join\"\n",
    "\n",
    "# Execute the query and store the result in the DataFrame\n",
    "query_df(query, df_name)    "
   ]
  },
  {
   "cell_type": "markdown",
   "id": "72fdc16c",
   "metadata": {},
   "source": [
    "Inner Join: includes only records with matching province values in both tables and exclude rows with NULL values from {pop_density}."
   ]
  },
  {
   "cell_type": "markdown",
   "id": "dac0fcfb",
   "metadata": {},
   "source": [
    "    - d. FULL JOIN: Count the number of records for each province and year, including all available data from both tables."
   ]
  },
  {
   "cell_type": "code",
   "execution_count": null,
   "id": "95cf7f2c",
   "metadata": {},
   "outputs": [],
   "source": [
    "# Datasets: {mobile_data_cleaned}, {pop_density}, {percapita_income}\n",
    "\n",
    "query = f\"\"\"\n",
    "    SELECT\n",
    "      d.province,\n",
    "      d.year,\n",
    "      ROUND(AVG(m.signal),2) avg_signal,\n",
    "      ROUND(MAX(m.speed),2) max_speed\n",
    "    FROM `{pop_density}` d\n",
    "    FULL JOIN `{mobile_data_cleaned}` m\n",
    "        ON d.province = m.province\n",
    "        AND d.year = m.year\n",
    "    GROUP BY 1,2\n",
    "    ORDER BY 1,2 DESC;\n",
    "    \"\"\"\n",
    "# DataFrame name\n",
    "df_name = \"full_join\"\n",
    "\n",
    "# Execute the query and store the result in the DataFrame\n",
    "query_df(query, df_name)    "
   ]
  },
  {
   "cell_type": "markdown",
   "id": "2d878385",
   "metadata": {},
   "source": [
    "Full join: includes all rows from both tables and provide NULL values for {mobile_2015_2017} where there are no matches."
   ]
  },
  {
   "cell_type": "code",
   "execution_count": null,
   "id": "e0723d23",
   "metadata": {},
   "outputs": [],
   "source": []
  },
  {
   "cell_type": "markdown",
   "id": "cca0a9ec",
   "metadata": {},
   "source": [
    "### Dates"
   ]
  },
  {
   "cell_type": "markdown",
   "id": "e7700fc4",
   "metadata": {},
   "source": [
    "Date range"
   ]
  },
  {
   "cell_type": "code",
   "execution_count": null,
   "id": "e948ba6a",
   "metadata": {},
   "outputs": [],
   "source": [
    "# SQL query\n",
    "query = f\"\"\"\n",
    "    SELECT\n",
    "        MIN(date) AS first_date_recorded,\n",
    "        MAX(date) AS last_date_recorded,\n",
    "        DATE_DIFF(MAX(date), MIN(date), DAY) AS total_days_recorded\n",
    "    FROM `{mobile_data_cleaned}`\n",
    "    \"\"\"\n",
    "# DataFrame name\n",
    "df_name = \"date_range\"\n",
    "\n",
    "# Execute the query and store the result in the DataFrame\n",
    "query_df(query, df_name)"
   ]
  },
  {
   "cell_type": "markdown",
   "id": "9cad11a3",
   "metadata": {},
   "source": [
    "Top 10 dates with the highest activity"
   ]
  },
  {
   "cell_type": "code",
   "execution_count": null,
   "id": "2e7ec3db",
   "metadata": {},
   "outputs": [],
   "source": [
    "# SQL query\n",
    "query = f\"\"\"\n",
    "    SELECT\n",
    "      date,\n",
    "      COUNT(*) AS record_count\n",
    "    FROM `{mobile_data_cleaned}`\n",
    "    GROUP BY date\n",
    "    ORDER BY record_count DESC\n",
    "    LIMIT 10\n",
    "    \"\"\"\n",
    "# DataFrame name\n",
    "df_name = \"top_10_dates_act\"\n",
    "\n",
    "# Execute the query and store the result in the DataFrame\n",
    "query_df(query, df_name)"
   ]
  },
  {
   "cell_type": "markdown",
   "id": "8d68af9e",
   "metadata": {},
   "source": [
    "Monthly Activity Rank within Quarters and Across the Year"
   ]
  },
  {
   "cell_type": "code",
   "execution_count": null,
   "id": "d705d867",
   "metadata": {},
   "outputs": [],
   "source": [
    "# SQL query\n",
    "query = f\"\"\"\n",
    "    WITH MonthlyCounts AS (\n",
    "        SELECT\n",
    "            EXTRACT(QUARTER FROM date) AS quarter,\n",
    "            EXTRACT(MONTH FROM date) AS month,\n",
    "            COUNT(*) AS record_count\n",
    "        FROM `{mobile_data_cleaned}`\n",
    "        GROUP BY quarter, month\n",
    "    )\n",
    "\n",
    "    SELECT\n",
    "      quarter,\n",
    "      month,\n",
    "      record_count,\n",
    "      RANK() OVER (ORDER BY record_count DESC) AS month_rank\n",
    "    FROM MonthlyCounts\n",
    "    ORDER BY quarter, record_count DESC;\n",
    "    \"\"\"\n",
    "# DataFrame name\n",
    "df_name = \"month_rank_df\"\n",
    "\n",
    "# Execute the query and store the result in the DataFrame\n",
    "month_rank_df = query_df(query, df_name)"
   ]
  },
  {
   "cell_type": "code",
   "execution_count": null,
   "id": "d90d3f90",
   "metadata": {},
   "outputs": [],
   "source": [
    "# Create a custom color palette for each month within a quarter\n",
    "palette = sns.color_palette(\"tab10\", n_colors=12)  # Use n_colors=12 for 12 months\n",
    "\n",
    "# Pivot the DataFrame to have months as columns for stacking\n",
    "stacked_df = month_rank_df.pivot(index='quarter', columns='month', values='record_count')\n",
    "\n",
    "# Bar plot with stacked bars for each quarter and different colors for months\n",
    "plt.figure(figsize=(12, 6))\n",
    "ax = stacked_df.plot(kind='bar', stacked=True, color=palette)\n",
    "plt.title('Stacked Bar Plot of Quarter-wise Record Count')\n",
    "plt.xlabel('Quarter')\n",
    "plt.ylabel('Record Count')\n",
    "plt.legend(title='Month', loc='upper right', bbox_to_anchor=(1.15, 1))\n",
    "plt.ticklabel_format(style='plain', axis='y')  # Disable scientific notation on y-axis\n",
    "plt.show()\n"
   ]
  },
  {
   "cell_type": "code",
   "execution_count": null,
   "id": "0f82b4ba",
   "metadata": {},
   "outputs": [],
   "source": [
    "# Define custom color palettes for each quarter\n",
    "colors_first_quarter = sns.color_palette(\"Blues\", n_colors=3)  # Blue colors for months 1, 2, 3\n",
    "colors_second_quarter = sns.color_palette(\"Greens\", n_colors=3)  # Green colors for months 4, 5, 6\n",
    "colors_third_quarter = sns.color_palette(\"Oranges\", n_colors=3)  # Orange colors for months 7, 8, 9\n",
    "colors_fourth_quarter = sns.color_palette(\"Purples\", n_colors=3)  # Purple colors for months 10, 11, 12\n",
    "\n",
    "# Pivot the DataFrame to have months as columns for stacking\n",
    "stacked_df = month_rank_df.pivot(index='quarter', columns='month', values='record_count')\n",
    "\n",
    "# Create a stacked bar plot with distinct colors for each month within a quarter\n",
    "plt.figure(figsize=(12, 6))\n",
    "\n",
    "# Loop through each quarter and plot stacked bars with the custom color palette\n",
    "quarters = stacked_df.index\n",
    "for quarter, color_palette in zip(quarters, [colors_first_quarter, colors_second_quarter, colors_third_quarter, colors_fourth_quarter]):\n",
    "    quarter_data = stacked_df.loc[quarter]\n",
    "    quarter_data.plot(kind='bar', stacked=True, color=color_palette, label=f'Quarter {quarter}')\n",
    "\n",
    "# Calculate the overall average for all values\n",
    "overall_average = stacked_df.stack().mean()\n",
    "\n",
    "# Plot a red horizontal line for the overall average\n",
    "plt.axhline(y=overall_average, color='red', linestyle='--', label=f'Avg. Overall')\n",
    "\n",
    "plt.title('Stacked Bar Plot of Quarter-wise Record Count with Distinct Colors for Months')\n",
    "plt.xlabel('Month')\n",
    "plt.ylabel('Record Count')\n",
    "plt.legend(title='Legend', loc='upper right', bbox_to_anchor=(1.15, 1))\n",
    "plt.ticklabel_format(style='plain', axis='y')  # Disable scientific notation on y-axis\n",
    "plt.show()\n"
   ]
  },
  {
   "cell_type": "markdown",
   "id": "5dfa3490",
   "metadata": {},
   "source": [
    "### Hours (not any longer in dataframe)"
   ]
  },
  {
   "cell_type": "markdown",
   "id": "815f81c6",
   "metadata": {},
   "source": [
    "Hourly Period Counts"
   ]
  },
  {
   "cell_type": "code",
   "execution_count": null,
   "id": "4f7be2c2",
   "metadata": {},
   "outputs": [],
   "source": [
    "# SQL query\n",
    "query = f\"\"\"\n",
    "    SELECT\n",
    "      CASE\n",
    "        WHEN EXTRACT(HOUR FROM hour) BETWEEN 0 AND 6 THEN 'Dawn'\n",
    "        WHEN EXTRACT(HOUR FROM hour) BETWEEN 7 AND 12 THEN 'Morning'\n",
    "        WHEN EXTRACT(HOUR FROM hour) BETWEEN 13 AND 18 THEN 'Afternoon'\n",
    "        ELSE 'Night'\n",
    "      END AS period,\n",
    "      COUNT(*) AS record_count\n",
    "    FROM `{mobile_data_cleaned}`\n",
    "    GROUP BY 1\n",
    "    ORDER BY 2 DESC\n",
    "    \"\"\"\n",
    "# DataFrame name\n",
    "df_name = \"hourly_period_counts\"\n",
    "\n",
    "# Execute the query and store the result in the DataFrame\n",
    "hourly_period_counts = query_df(query, df_name)\n",
    "\n",
    "hourly_period_counts"
   ]
  },
  {
   "cell_type": "code",
   "execution_count": null,
   "id": "260699c3",
   "metadata": {},
   "outputs": [],
   "source": [
    "import plotly.express as px\n",
    "\n",
    "# Define the custom order and colors\n",
    "custom_order = [\"Dawn\", \"Morning\", \"Afternoon\", \"Night\"]\n",
    "\n",
    "# Create an interactive pie chart with Plotly\n",
    "fig = px.pie(hourly_period_counts, values='record_count', names='period', \n",
    "             title='Hourly Period Counts', \n",
    "             hover_data=['record_count'], \n",
    "             labels={'record_count': 'Record Count'},\n",
    "             category_orders={\"period\": custom_order})\n",
    "\n",
    "# Customize the layout (optional)\n",
    "fig.update_traces(textinfo='percent+label', pull=[0.1, 0.1, 0.1, 0.1])\n",
    "\n",
    "# Show the chart\n",
    "fig.show()\n",
    "\n",
    "# Save the plot as an HTML file in the 'Python Plots' folder\n",
    "plot_file_path = \"Python Plots/hourly_period_counts.html\"\n",
    "fig.write_html(plot_file_path)"
   ]
  },
  {
   "cell_type": "markdown",
   "id": "04b5daee",
   "metadata": {},
   "source": [
    "[View the Plot](./Python%20Plots/hourly_period_counts.html)"
   ]
  },
  {
   "cell_type": "markdown",
   "id": "53bfd0ae",
   "metadata": {},
   "source": [
    "### Towns and Province activity"
   ]
  },
  {
   "cell_type": "markdown",
   "id": "56a9eadf",
   "metadata": {},
   "source": [
    "Top 50 Towns with the Highest Mobile Activity Recorded"
   ]
  },
  {
   "cell_type": "code",
   "execution_count": null,
   "id": "c7875836",
   "metadata": {},
   "outputs": [],
   "source": [
    "# SQL query\n",
    "query = f\"\"\"\n",
    "    SELECT\n",
    "      postal_code,\n",
    "      town_name,\n",
    "      COUNT(*) AS record_count\n",
    "    FROM\n",
    "      `{mobile_data_cleaned}`\n",
    "    WHERE postal_code IS NOT NULL\n",
    "    GROUP BY postal_code, town_name\n",
    "    ORDER BY 3 DESC\n",
    "    LIMIT 50\n",
    "    \"\"\"\n",
    "# DataFrame name\n",
    "df_name = \"hourly_period_counts\"\n",
    "\n",
    "# Execute the query and store the result in the DataFrame\n",
    "query_df(query, df_name)"
   ]
  },
  {
   "cell_type": "code",
   "execution_count": null,
   "id": "27b27962",
   "metadata": {},
   "outputs": [],
   "source": [
    "# SQL query\n",
    "query = f\"\"\"\n",
    "WITH ProvinceActivity AS (\n",
    "  SELECT\n",
    "      CASE\n",
    "        WHEN LEFT(CAST(postal_code AS STRING), 2) = '08' THEN 'Barcelona'\n",
    "        WHEN LEFT(CAST(postal_code AS STRING), 2) = '25' THEN 'Lleida'\n",
    "        WHEN LEFT(CAST(postal_code AS STRING), 2) = '17' THEN 'Girona'\n",
    "        WHEN LEFT(CAST(postal_code AS STRING), 2) = '43' THEN 'Tarragona'\n",
    "        ELSE 'Not defined'\n",
    "      END AS province,\n",
    "      COUNT(*) AS record_count\n",
    "  FROM `{mobile_data_cleaned}`\n",
    "  GROUP BY province\n",
    ")\n",
    "\n",
    "SELECT\n",
    "    province,\n",
    "    record_count,\n",
    "    ROUND((record_count / SUM(record_count) OVER ()) * 100,2) AS percentage\n",
    "FROM ProvinceActivity\n",
    "ORDER BY 2 DESC;\n",
    "    \"\"\"\n",
    "# DataFrame name\n",
    "df_name = \"hourly_period_counts\"\n",
    "\n",
    "# Execute the query and store the result in the DataFrame\n",
    "query_df(query, df_name)"
   ]
  },
  {
   "cell_type": "code",
   "execution_count": null,
   "id": "57ee070f",
   "metadata": {},
   "outputs": [],
   "source": []
  },
  {
   "cell_type": "markdown",
   "id": "7c402204",
   "metadata": {},
   "source": [
    "### Network, operators and signal"
   ]
  },
  {
   "cell_type": "code",
   "execution_count": null,
   "id": "3c31e892",
   "metadata": {},
   "outputs": [],
   "source": [
    "# SQL query\n",
    "query = f\"\"\"\n",
    "SELECT\n",
    "  network,\n",
    "  operator,\n",
    "  COUNT(*) record_count,\n",
    "  ROUND(AVG(signal),1) avg_netw_signal\n",
    "FROM\n",
    "  `{mobile_data_cleaned}`\n",
    "GROUP BY 1,2\n",
    "ORDER BY 3 DESC;\n",
    "    \"\"\"\n",
    "# DataFrame name\n",
    "df_name = \"netw_oper_signal\"\n",
    "\n",
    "# Execute the query and store the result in the DataFrame\n",
    "netw_oper_signal = query_df(query, df_name)\n",
    "\n",
    "netw_oper_signal"
   ]
  },
  {
   "cell_type": "code",
   "execution_count": null,
   "id": "f6c9dbf7",
   "metadata": {},
   "outputs": [],
   "source": [
    "networks = netw_oper_signal['network'].nunique()\n",
    "operators = netw_oper_signal['operator'].nunique()\n",
    "\n",
    "display(Markdown(f\"There are {networks} unique networks and {operators} distinct operators\"))"
   ]
  },
  {
   "cell_type": "markdown",
   "id": "ee26ce29",
   "metadata": {},
   "source": [
    "Which (national) network has the highest activity recorded?"
   ]
  },
  {
   "cell_type": "code",
   "execution_count": null,
   "id": "17c35052",
   "metadata": {},
   "outputs": [],
   "source": [
    "# Group the DataFrame by the \"network\" column and calculate the total activity\n",
    "network_activity = netw_oper_signal.groupby('network')['record_count'].sum().reset_index()\n",
    "\n",
    "# Find the network with the highest total activity\n",
    "max_activity_network = network_activity[network_activity['record_count'] == network_activity['record_count'].max()]\n",
    "\n",
    "# Print the network with the highest total activity\n",
    "max_activity_network"
   ]
  },
  {
   "cell_type": "markdown",
   "id": "ab4adbf7",
   "metadata": {},
   "source": [
    "And the operator?"
   ]
  },
  {
   "cell_type": "code",
   "execution_count": null,
   "id": "334d3ddc",
   "metadata": {},
   "outputs": [],
   "source": [
    "# Group the DataFrame by the \"operator\" column and calculate the total activity\n",
    "operator_activity = netw_oper_signal.groupby('operator')['record_count'].sum().reset_index()\n",
    "\n",
    "# Find the operator with the highest total activity\n",
    "max_activity_operator = operator_activity[operator_activity['record_count'] == operator_activity['record_count'].max()]\n",
    "\n",
    "# Print the operator with the highest total activity\n",
    "max_activity_operator"
   ]
  },
  {
   "cell_type": "markdown",
   "id": "c2c0c14f",
   "metadata": {},
   "source": [
    "Which network/operator has the highest average signal?"
   ]
  },
  {
   "cell_type": "code",
   "execution_count": null,
   "id": "8c1cf360",
   "metadata": {},
   "outputs": [],
   "source": [
    "# Find the index of the row with the maximum \"avg_netw_signal\"\n",
    "max_signal_index = netw_oper_signal['avg_netw_signal'].idxmax()\n",
    "\n",
    "# Retrieve the corresponding row with the maximum \"avg_netw_signal\"\n",
    "top_signal = netw_oper_signal.loc[max_signal_index]\n",
    "\n",
    "# Display the row with the maximum \"avg_netw_signal\"\n",
    "top_signal"
   ]
  },
  {
   "cell_type": "markdown",
   "id": "3f756bb4",
   "metadata": {},
   "source": [
    "Which network/operator has the highest average signal among the top 25% of recorded activities?"
   ]
  },
  {
   "cell_type": "code",
   "execution_count": null,
   "id": "dad75bde",
   "metadata": {},
   "outputs": [],
   "source": [
    "# Calculate the threshold for the top 25% percentile of \"record_count\"\n",
    "threshold = netw_oper_signal['record_count'].quantile(0.75)\n",
    "\n",
    "# Filter the DataFrame to select rows with \"record_count\" greater than or equal to the threshold\n",
    "top_25_percentile = netw_oper_signal[netw_oper_signal['record_count'] >= threshold]\n",
    "\n",
    "# Find the row with the maximum \"avg_netw_signal\" within the filtered DataFrame\n",
    "max_avg_netw_signal_row = top_25_percentile.loc[top_25_percentile['avg_netw_signal'].idxmax()]\n",
    "\n",
    "# Display the row with the maximum \"avg_netw_signal\"\n",
    "max_avg_netw_signal_row"
   ]
  },
  {
   "cell_type": "markdown",
   "id": "1e2e10f8",
   "metadata": {},
   "source": [
    "Top Signal Strength by Operator and Network (top 10% record_count, excluding null values)"
   ]
  },
  {
   "cell_type": "code",
   "execution_count": null,
   "id": "e9ebbab0",
   "metadata": {},
   "outputs": [],
   "source": [
    "# SQL query: Top Signal Strength by Operator and Network (top 10% record_count, excluding null values)\n",
    "query = f\"\"\"\n",
    "WITH Top10Percent AS (\n",
    "  \n",
    "  # Subquery to prepare data to calculate the number of operators for each network\n",
    "  SELECT\n",
    "    network,\n",
    "    num_operator,\n",
    "    record_count,\n",
    "    RANK() OVER (ORDER BY record_count DESC) AS record_count_rank,\n",
    "    avg_signal,\n",
    "    quartile\n",
    "  FROM (\n",
    "    SELECT\n",
    "      LOWER(network) AS network,\n",
    "      \n",
    "      # Calculate the number of distinct operators for each network\n",
    "      COUNT(DISTINCT LOWER(operator)) AS num_operator,\n",
    "      \n",
    "      COUNT(*) AS record_count,\n",
    "      ROUND(AVG(signal), 1) AS avg_signal,\n",
    "      NTILE(10) OVER (ORDER BY COUNT(*) DESC) AS quartile\n",
    "    FROM\n",
    "      `{mobile_data_cleaned}`\n",
    "    WHERE\n",
    "    \n",
    "    # Exclude rows with network 'null' (stored as string)\n",
    "      network != 'null'\n",
    "    GROUP BY 1\n",
    "  )\n",
    ")\n",
    "\n",
    "SELECT\n",
    "  network,\n",
    "  num_operator,\n",
    "  record_count,\n",
    "  record_count_rank,\n",
    "  avg_signal\n",
    "FROM\n",
    "  Top10Percent\n",
    "WHERE\n",
    "  quartile = 1\n",
    "ORDER BY\n",
    "  avg_signal DESC;\n",
    "    \"\"\"\n",
    "# DataFrame name\n",
    "df_name = \"net_oper_signal\"\n",
    "\n",
    "# Execute the query and store the result in the DataFrame\n",
    "query_df(query, df_name)"
   ]
  },
  {
   "cell_type": "markdown",
   "id": "cb0a7ae2",
   "metadata": {},
   "source": [
    "Top Network and Operator by Record Count for Each Province"
   ]
  },
  {
   "cell_type": "code",
   "execution_count": null,
   "id": "ea315c8a",
   "metadata": {},
   "outputs": [],
   "source": [
    "# SQL query\n",
    "query = f\"\"\"\n",
    "WITH ProvinceActivity AS (\n",
    "  SELECT\n",
    "    CASE\n",
    "      WHEN LEFT(CAST(postal_code AS STRING), 2) = '08' THEN 'Barcelona'\n",
    "      WHEN LEFT(CAST(postal_code AS STRING), 2) = '25' THEN 'Lleida'\n",
    "      WHEN LEFT(CAST(postal_code AS STRING), 2) = '17' THEN 'Girona'\n",
    "      WHEN LEFT(CAST(postal_code AS STRING), 2) = '43' THEN 'Tarragona'\n",
    "      ELSE 'Not defined'\n",
    "    END AS province,\n",
    "    LOWER(network) AS network,\n",
    "    LOWER(operator) AS operator,\n",
    "    COUNT(*) AS record_count\n",
    "  FROM `{mobile_data_cleaned}`\n",
    "  GROUP BY province, network, operator\n",
    ")\n",
    "\n",
    "# Find the Rank of Network and Operator by Record Count for Each Province\n",
    ", RankedNetwork AS (\n",
    "  SELECT\n",
    "    province,\n",
    "    network,\n",
    "    operator,\n",
    "    record_count,\n",
    "    RANK() OVER (PARTITION BY province ORDER BY record_count DESC) AS network_rank\n",
    "  FROM ProvinceActivity\n",
    ")\n",
    "\n",
    ", RankedOperator AS (\n",
    "  SELECT\n",
    "    province,\n",
    "    network,\n",
    "    operator,\n",
    "    record_count,\n",
    "    RANK() OVER (PARTITION BY province ORDER BY record_count DESC) AS operator_rank\n",
    "  FROM ProvinceActivity\n",
    ")\n",
    "\n",
    "# Select the Top Network and Top Operator for Each Province\n",
    "SELECT\n",
    "  p.province,\n",
    "  n.network AS top_network,\n",
    "  o.operator AS top_operator\n",
    "  #n.record_count AS network_record_count,\n",
    "  #o.record_count AS operator_record_count\n",
    "FROM RankedNetwork n\n",
    "JOIN RankedOperator o ON n.province = o.province AND n.network_rank = 1 AND o.operator_rank = 1\n",
    "JOIN (SELECT DISTINCT province FROM ProvinceActivity) p ON n.province = p.province\n",
    "ORDER BY p.province;\n",
    "    \"\"\"\n",
    "# DataFrame name\n",
    "df_name = \"top_net_and_ope_by_province\"\n",
    "\n",
    "# Execute the query and store the result in the DataFrame\n",
    "query_df(query, df_name)"
   ]
  },
  {
   "cell_type": "markdown",
   "id": "99747ec9",
   "metadata": {},
   "source": [
    "### Description and activity"
   ]
  },
  {
   "cell_type": "markdown",
   "id": "98d98998",
   "metadata": {},
   "source": [
    "Description:\n",
    "    \n",
    "    - STATE_IN_SERVICE (0),\n",
    "    - STATE_OUT_OF_SERVICE (1),\n",
    "    - STATE_EMERGENCY_ONLY (2),\n",
    "    - STATE_POWER_OFF (3)\n",
    "    \n",
    "User Activity:\n",
    "\n",
    "    - IN_VEHICLE\n",
    "    - STILL\n",
    "    - ON_FOOT\n",
    "    - TILTING\n",
    "    - UNKNOWN\n",
    "    - ON_BICYCLE"
   ]
  },
  {
   "cell_type": "markdown",
   "id": "32deb8af",
   "metadata": {},
   "source": [
    "Activity Rank by Description with Overall Rank"
   ]
  },
  {
   "cell_type": "code",
   "execution_count": null,
   "id": "9e5d7a88",
   "metadata": {},
   "outputs": [],
   "source": [
    "# SQL query\n",
    "query = f\"\"\"\n",
    "# Activity Rank by Description with Overall Rank\n",
    "WITH ActivityRank AS (\n",
    "  SELECT\n",
    "    description,\n",
    "    activity,\n",
    "    RANK() OVER (PARTITION BY description ORDER BY COUNT(*) DESC) AS rank_by_description,\n",
    "    COUNT(*) AS record_count\n",
    "  FROM\n",
    "    `{mobile_data_cleaned}`\n",
    "  GROUP BY 1, 2\n",
    ")\n",
    "\n",
    "SELECT\n",
    "  description,\n",
    "  activity,\n",
    "  rank_by_description,\n",
    "  #record_count,\n",
    "  RANK() OVER (ORDER BY rank_by_description, record_count DESC) AS overall_rank\n",
    "FROM ActivityRank\n",
    "ORDER BY 1, 4 ASC;\n",
    "    \"\"\"\n",
    "# DataFrame name\n",
    "df_name = \"descr_act_rank\"\n",
    "\n",
    "# Execute the query and store the result in the DataFrame\n",
    "query_df(query, df_name)"
   ]
  },
  {
   "cell_type": "markdown",
   "id": "87a84d2b",
   "metadata": {},
   "source": [
    "Calculate activity rank by description and activity, including most frequent town and overall rank"
   ]
  },
  {
   "cell_type": "code",
   "execution_count": null,
   "id": "d9e80054",
   "metadata": {},
   "outputs": [],
   "source": [
    "# SQL query\n",
    "query = f\"\"\"\n",
    "# Subquery to calculate the rank of activities by description\n",
    "WITH ActivityRank AS (\n",
    "  SELECT\n",
    "    description,\n",
    "    activity,\n",
    "    RANK() OVER (PARTITION BY description ORDER BY COUNT(*) DESC) AS rank_by_description,\n",
    "    COUNT(*) AS record_count\n",
    "  FROM\n",
    "    `bigquery-public-data.catalonian_mobile_coverage_eu.mobile_data_2015_2017`\n",
    "  GROUP BY description, activity\n",
    "),\n",
    "\n",
    "# Subquery to find the most frequent town for each unique pair of description and activity\n",
    "MostFrequentTown AS (\n",
    "  SELECT\n",
    "    description,\n",
    "    activity,\n",
    "    town_name,\n",
    "    RANK() OVER (PARTITION BY description, activity ORDER BY COUNT(*) DESC) AS town_rank\n",
    "  FROM\n",
    "    `{mobile_data_cleaned}`\n",
    "  GROUP BY description, activity, town_name\n",
    ")\n",
    "\n",
    "# Main query to combine the results and calculate overall rank\n",
    "SELECT\n",
    "  ar.description,\n",
    "  ar.activity,\n",
    "  ar.rank_by_description,\n",
    "  RANK() OVER (ORDER BY ar.rank_by_description, ar.record_count DESC) AS overall_rank,\n",
    "  mft.town_name AS most_frequent_town\n",
    "FROM ActivityRank ar\n",
    "# Join with the MostFrequentTown subquery to include the most frequent town\n",
    "JOIN MostFrequentTown mft ON ar.description = mft.description AND ar.activity = mft.activity\n",
    "# Filter for the most frequent town\n",
    "WHERE mft.town_rank = 1 \n",
    "ORDER BY 1, 3 ASC;\n",
    "    \"\"\"\n",
    "# DataFrame name\n",
    "df_name = \"descr_act_rank\"\n",
    "\n",
    "# Execute the query and store the result in the DataFrame\n",
    "query_df(query, df_name)"
   ]
  }
 ],
 "metadata": {
  "kernelspec": {
   "display_name": "Python 3 (ipykernel)",
   "language": "python",
   "name": "python3"
  },
  "language_info": {
   "codemirror_mode": {
    "name": "ipython",
    "version": 3
   },
   "file_extension": ".py",
   "mimetype": "text/x-python",
   "name": "python",
   "nbconvert_exporter": "python",
   "pygments_lexer": "ipython3",
   "version": "3.9.13"
  }
 },
 "nbformat": 4,
 "nbformat_minor": 5
}

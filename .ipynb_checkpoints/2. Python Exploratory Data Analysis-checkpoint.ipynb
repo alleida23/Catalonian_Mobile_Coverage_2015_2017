{
 "cells": [
  {
   "cell_type": "code",
   "execution_count": 1,
   "id": "dd359141",
   "metadata": {},
   "outputs": [],
   "source": [
    "import pandas as pd\n",
    "from google.cloud import bigquery\n",
    "from IPython.display import display\n",
    "from IPython.display import Markdown\n",
    "\n",
    "import matplotlib.pyplot as plt\n",
    "import seaborn as sns"
   ]
  },
  {
   "cell_type": "markdown",
   "id": "96941449",
   "metadata": {},
   "source": [
    "### Import function: Interactive SQL Query to Pandas DataFrame Converter"
   ]
  },
  {
   "cell_type": "code",
   "execution_count": 2,
   "id": "aabd59d1",
   "metadata": {},
   "outputs": [],
   "source": [
    "# Import the custom query_df function for executing BigQuery queries\n",
    "from query_functions import query_df"
   ]
  },
  {
   "cell_type": "markdown",
   "id": "5fb7139b",
   "metadata": {},
   "source": [
    "### Datasets and Tables"
   ]
  },
  {
   "cell_type": "code",
   "execution_count": 37,
   "id": "3e899624",
   "metadata": {},
   "outputs": [],
   "source": [
    "# Catalonian mobile coverage (2015-2017)\n",
    "mobile_data_cleaned = \"bq-analyst-230590.project_cat_mobile_coverage_2015_2017.mobile_data_2015_2017_cleaned\"\n",
    "\n",
    "# Per capita income by catalan province (2015-2017)\n",
    "percapita_income = \"bq-analyst-230590.project_cat_mobile_coverage_2015_2017.cat_percapita_income_by_province_2015_2017\"\n",
    "\n",
    "# Catalan population and density by province (2015-2017)\n",
    "pop_density = \"bq-analyst-230590.project_cat_mobile_coverage_2015_2017.cat_pop_by_province_2015_2017\""
   ]
  },
  {
   "cell_type": "markdown",
   "id": "1947755f",
   "metadata": {},
   "source": [
    "### Preview datasets"
   ]
  },
  {
   "cell_type": "code",
   "execution_count": 4,
   "id": "58bbd286",
   "metadata": {},
   "outputs": [
    {
     "data": {
      "text/markdown": [
       "Query: "
      ],
      "text/plain": [
       "<IPython.core.display.Markdown object>"
      ]
     },
     "metadata": {},
     "output_type": "display_data"
    },
    {
     "name": "stdout",
     "output_type": "stream",
     "text": [
      "\n",
      "    SELECT *\n",
      "    FROM `bq-analyst-230590.project_cat_mobile_coverage_2015_2017.mobile_data_2015_2017_cleaned`\n",
      "    LIMIT 100\n",
      "    \n"
     ]
    },
    {
     "data": {
      "text/markdown": [
       "Dataframe: **mob_cov_data**"
      ],
      "text/plain": [
       "<IPython.core.display.Markdown object>"
      ]
     },
     "metadata": {},
     "output_type": "display_data"
    },
    {
     "data": {
      "text/html": [
       "<div>\n",
       "<style scoped>\n",
       "    .dataframe tbody tr th:only-of-type {\n",
       "        vertical-align: middle;\n",
       "    }\n",
       "\n",
       "    .dataframe tbody tr th {\n",
       "        vertical-align: top;\n",
       "    }\n",
       "\n",
       "    .dataframe thead th {\n",
       "        text-align: right;\n",
       "    }\n",
       "</style>\n",
       "<table border=\"1\" class=\"dataframe\">\n",
       "  <thead>\n",
       "    <tr style=\"text-align: right;\">\n",
       "      <th></th>\n",
       "      <th>date</th>\n",
       "      <th>hour</th>\n",
       "      <th>lat</th>\n",
       "      <th>long</th>\n",
       "      <th>signal</th>\n",
       "      <th>network</th>\n",
       "      <th>operator</th>\n",
       "      <th>status</th>\n",
       "      <th>description</th>\n",
       "      <th>net</th>\n",
       "      <th>...</th>\n",
       "      <th>precission</th>\n",
       "      <th>provider</th>\n",
       "      <th>activity</th>\n",
       "      <th>postal_code</th>\n",
       "      <th>town_name</th>\n",
       "      <th>position_geom</th>\n",
       "      <th>province</th>\n",
       "      <th>year</th>\n",
       "      <th>month</th>\n",
       "      <th>hour_24h</th>\n",
       "    </tr>\n",
       "  </thead>\n",
       "  <tbody>\n",
       "    <tr>\n",
       "      <th>0</th>\n",
       "      <td>2015-09-08</td>\n",
       "      <td>23:25:32</td>\n",
       "      <td>41.71083</td>\n",
       "      <td>2.73075</td>\n",
       "      <td>19</td>\n",
       "      <td>EE</td>\n",
       "      <td>EE</td>\n",
       "      <td>2</td>\n",
       "      <td>STATE_EMERGENCY_ONLY</td>\n",
       "      <td>2G</td>\n",
       "      <td>...</td>\n",
       "      <td>7.0</td>\n",
       "      <td>GPS</td>\n",
       "      <td>IN_VEHICLE</td>\n",
       "      <td>082845</td>\n",
       "      <td>Tordera</td>\n",
       "      <td>POINT(2.73075 41.71083)</td>\n",
       "      <td>Barcelona</td>\n",
       "      <td>2015</td>\n",
       "      <td>9</td>\n",
       "      <td>23</td>\n",
       "    </tr>\n",
       "    <tr>\n",
       "      <th>1</th>\n",
       "      <td>2015-09-08</td>\n",
       "      <td>20:26:38</td>\n",
       "      <td>41.67594</td>\n",
       "      <td>2.79930</td>\n",
       "      <td>15</td>\n",
       "      <td>EE</td>\n",
       "      <td>EE</td>\n",
       "      <td>2</td>\n",
       "      <td>STATE_EMERGENCY_ONLY</td>\n",
       "      <td>4G</td>\n",
       "      <td>...</td>\n",
       "      <td>9.0</td>\n",
       "      <td>GPS</td>\n",
       "      <td>ON_FOOT</td>\n",
       "      <td>170237</td>\n",
       "      <td>Blanes</td>\n",
       "      <td>POINT(2.7993 41.67594)</td>\n",
       "      <td>Girona</td>\n",
       "      <td>2015</td>\n",
       "      <td>9</td>\n",
       "      <td>20</td>\n",
       "    </tr>\n",
       "    <tr>\n",
       "      <th>2</th>\n",
       "      <td>2015-09-08</td>\n",
       "      <td>22:13:38</td>\n",
       "      <td>41.67606</td>\n",
       "      <td>2.79816</td>\n",
       "      <td>15</td>\n",
       "      <td>EE</td>\n",
       "      <td>EE</td>\n",
       "      <td>2</td>\n",
       "      <td>STATE_EMERGENCY_ONLY</td>\n",
       "      <td>4G</td>\n",
       "      <td>...</td>\n",
       "      <td>24.0</td>\n",
       "      <td>GPS</td>\n",
       "      <td>STILL</td>\n",
       "      <td>170237</td>\n",
       "      <td>Blanes</td>\n",
       "      <td>POINT(2.79816 41.67606)</td>\n",
       "      <td>Girona</td>\n",
       "      <td>2015</td>\n",
       "      <td>9</td>\n",
       "      <td>22</td>\n",
       "    </tr>\n",
       "    <tr>\n",
       "      <th>3</th>\n",
       "      <td>2015-09-08</td>\n",
       "      <td>13:32:01</td>\n",
       "      <td>41.85705</td>\n",
       "      <td>2.77446</td>\n",
       "      <td>8</td>\n",
       "      <td>EE</td>\n",
       "      <td>EE</td>\n",
       "      <td>2</td>\n",
       "      <td>STATE_EMERGENCY_ONLY</td>\n",
       "      <td>3G</td>\n",
       "      <td>...</td>\n",
       "      <td>39.0</td>\n",
       "      <td>GPS</td>\n",
       "      <td>IN_VEHICLE</td>\n",
       "      <td>170335</td>\n",
       "      <td>Caldes de Malavella</td>\n",
       "      <td>POINT(2.77446 41.85705)</td>\n",
       "      <td>Girona</td>\n",
       "      <td>2015</td>\n",
       "      <td>9</td>\n",
       "      <td>13</td>\n",
       "    </tr>\n",
       "    <tr>\n",
       "      <th>4</th>\n",
       "      <td>2015-09-08</td>\n",
       "      <td>09:19:39</td>\n",
       "      <td>41.99130</td>\n",
       "      <td>2.79364</td>\n",
       "      <td>15</td>\n",
       "      <td>EE</td>\n",
       "      <td>EE</td>\n",
       "      <td>2</td>\n",
       "      <td>STATE_EMERGENCY_ONLY</td>\n",
       "      <td>4G</td>\n",
       "      <td>...</td>\n",
       "      <td>6.0</td>\n",
       "      <td>GPS</td>\n",
       "      <td>IN_VEHICLE</td>\n",
       "      <td>170792</td>\n",
       "      <td>Girona</td>\n",
       "      <td>POINT(2.79364 41.9913)</td>\n",
       "      <td>Girona</td>\n",
       "      <td>2015</td>\n",
       "      <td>9</td>\n",
       "      <td>9</td>\n",
       "    </tr>\n",
       "    <tr>\n",
       "      <th>...</th>\n",
       "      <td>...</td>\n",
       "      <td>...</td>\n",
       "      <td>...</td>\n",
       "      <td>...</td>\n",
       "      <td>...</td>\n",
       "      <td>...</td>\n",
       "      <td>...</td>\n",
       "      <td>...</td>\n",
       "      <td>...</td>\n",
       "      <td>...</td>\n",
       "      <td>...</td>\n",
       "      <td>...</td>\n",
       "      <td>...</td>\n",
       "      <td>...</td>\n",
       "      <td>...</td>\n",
       "      <td>...</td>\n",
       "      <td>...</td>\n",
       "      <td>...</td>\n",
       "      <td>...</td>\n",
       "      <td>...</td>\n",
       "      <td>...</td>\n",
       "    </tr>\n",
       "    <tr>\n",
       "      <th>95</th>\n",
       "      <td>2015-10-27</td>\n",
       "      <td>11:12:43</td>\n",
       "      <td>41.38228</td>\n",
       "      <td>2.16105</td>\n",
       "      <td>20</td>\n",
       "      <td>Movistar</td>\n",
       "      <td>ONO</td>\n",
       "      <td>2</td>\n",
       "      <td>STATE_EMERGENCY_ONLY</td>\n",
       "      <td>3G</td>\n",
       "      <td>...</td>\n",
       "      <td>47.0</td>\n",
       "      <td>GPS</td>\n",
       "      <td>ON_FOOT</td>\n",
       "      <td>080193</td>\n",
       "      <td>Barcelona</td>\n",
       "      <td>POINT(2.16105 41.38228)</td>\n",
       "      <td>Barcelona</td>\n",
       "      <td>2015</td>\n",
       "      <td>10</td>\n",
       "      <td>11</td>\n",
       "    </tr>\n",
       "    <tr>\n",
       "      <th>96</th>\n",
       "      <td>2015-10-01</td>\n",
       "      <td>17:54:51</td>\n",
       "      <td>41.39992</td>\n",
       "      <td>2.16361</td>\n",
       "      <td>28</td>\n",
       "      <td>Movistar</td>\n",
       "      <td>ONO</td>\n",
       "      <td>2</td>\n",
       "      <td>STATE_EMERGENCY_ONLY</td>\n",
       "      <td>3G</td>\n",
       "      <td>...</td>\n",
       "      <td>11.0</td>\n",
       "      <td>GPS</td>\n",
       "      <td>ON_BICYCLE</td>\n",
       "      <td>080193</td>\n",
       "      <td>Barcelona</td>\n",
       "      <td>POINT(2.16361 41.39992)</td>\n",
       "      <td>Barcelona</td>\n",
       "      <td>2015</td>\n",
       "      <td>10</td>\n",
       "      <td>17</td>\n",
       "    </tr>\n",
       "    <tr>\n",
       "      <th>97</th>\n",
       "      <td>2015-03-27</td>\n",
       "      <td>17:28:24</td>\n",
       "      <td>41.44699</td>\n",
       "      <td>2.18768</td>\n",
       "      <td>14</td>\n",
       "      <td>Movistar</td>\n",
       "      <td>ONO</td>\n",
       "      <td>2</td>\n",
       "      <td>STATE_EMERGENCY_ONLY</td>\n",
       "      <td>3G</td>\n",
       "      <td>...</td>\n",
       "      <td>24.0</td>\n",
       "      <td>GPS</td>\n",
       "      <td>IN_VEHICLE</td>\n",
       "      <td>080193</td>\n",
       "      <td>Barcelona</td>\n",
       "      <td>POINT(2.18768 41.44699)</td>\n",
       "      <td>Barcelona</td>\n",
       "      <td>2015</td>\n",
       "      <td>3</td>\n",
       "      <td>17</td>\n",
       "    </tr>\n",
       "    <tr>\n",
       "      <th>98</th>\n",
       "      <td>2015-09-01</td>\n",
       "      <td>07:37:08</td>\n",
       "      <td>41.38207</td>\n",
       "      <td>2.16110</td>\n",
       "      <td>23</td>\n",
       "      <td>Movistar</td>\n",
       "      <td>ONO</td>\n",
       "      <td>2</td>\n",
       "      <td>STATE_EMERGENCY_ONLY</td>\n",
       "      <td>3G</td>\n",
       "      <td>...</td>\n",
       "      <td>22.0</td>\n",
       "      <td>GPS</td>\n",
       "      <td>ON_FOOT</td>\n",
       "      <td>080193</td>\n",
       "      <td>Barcelona</td>\n",
       "      <td>POINT(2.1611 41.38207)</td>\n",
       "      <td>Barcelona</td>\n",
       "      <td>2015</td>\n",
       "      <td>9</td>\n",
       "      <td>7</td>\n",
       "    </tr>\n",
       "    <tr>\n",
       "      <th>99</th>\n",
       "      <td>2015-03-31</td>\n",
       "      <td>19:37:32</td>\n",
       "      <td>41.43251</td>\n",
       "      <td>2.14842</td>\n",
       "      <td>22</td>\n",
       "      <td>Movistar</td>\n",
       "      <td>ONO</td>\n",
       "      <td>2</td>\n",
       "      <td>STATE_EMERGENCY_ONLY</td>\n",
       "      <td>2G</td>\n",
       "      <td>...</td>\n",
       "      <td>37.0</td>\n",
       "      <td>GPS</td>\n",
       "      <td>ON_FOOT</td>\n",
       "      <td>080193</td>\n",
       "      <td>Barcelona</td>\n",
       "      <td>POINT(2.14842 41.43251)</td>\n",
       "      <td>Barcelona</td>\n",
       "      <td>2015</td>\n",
       "      <td>3</td>\n",
       "      <td>19</td>\n",
       "    </tr>\n",
       "  </tbody>\n",
       "</table>\n",
       "<p>100 rows × 22 columns</p>\n",
       "</div>"
      ],
      "text/plain": [
       "          date      hour       lat     long  signal   network operator  \\\n",
       "0   2015-09-08  23:25:32  41.71083  2.73075      19        EE       EE   \n",
       "1   2015-09-08  20:26:38  41.67594  2.79930      15        EE       EE   \n",
       "2   2015-09-08  22:13:38  41.67606  2.79816      15        EE       EE   \n",
       "3   2015-09-08  13:32:01  41.85705  2.77446       8        EE       EE   \n",
       "4   2015-09-08  09:19:39  41.99130  2.79364      15        EE       EE   \n",
       "..         ...       ...       ...      ...     ...       ...      ...   \n",
       "95  2015-10-27  11:12:43  41.38228  2.16105      20  Movistar      ONO   \n",
       "96  2015-10-01  17:54:51  41.39992  2.16361      28  Movistar      ONO   \n",
       "97  2015-03-27  17:28:24  41.44699  2.18768      14  Movistar      ONO   \n",
       "98  2015-09-01  07:37:08  41.38207  2.16110      23  Movistar      ONO   \n",
       "99  2015-03-31  19:37:32  41.43251  2.14842      22  Movistar      ONO   \n",
       "\n",
       "    status           description net  ...  precission  provider    activity  \\\n",
       "0        2  STATE_EMERGENCY_ONLY  2G  ...         7.0       GPS  IN_VEHICLE   \n",
       "1        2  STATE_EMERGENCY_ONLY  4G  ...         9.0       GPS     ON_FOOT   \n",
       "2        2  STATE_EMERGENCY_ONLY  4G  ...        24.0       GPS       STILL   \n",
       "3        2  STATE_EMERGENCY_ONLY  3G  ...        39.0       GPS  IN_VEHICLE   \n",
       "4        2  STATE_EMERGENCY_ONLY  4G  ...         6.0       GPS  IN_VEHICLE   \n",
       "..     ...                   ...  ..  ...         ...       ...         ...   \n",
       "95       2  STATE_EMERGENCY_ONLY  3G  ...        47.0       GPS     ON_FOOT   \n",
       "96       2  STATE_EMERGENCY_ONLY  3G  ...        11.0       GPS  ON_BICYCLE   \n",
       "97       2  STATE_EMERGENCY_ONLY  3G  ...        24.0       GPS  IN_VEHICLE   \n",
       "98       2  STATE_EMERGENCY_ONLY  3G  ...        22.0       GPS     ON_FOOT   \n",
       "99       2  STATE_EMERGENCY_ONLY  2G  ...        37.0       GPS     ON_FOOT   \n",
       "\n",
       "   postal_code            town_name            position_geom   province  year  \\\n",
       "0       082845              Tordera  POINT(2.73075 41.71083)  Barcelona  2015   \n",
       "1       170237               Blanes   POINT(2.7993 41.67594)     Girona  2015   \n",
       "2       170237               Blanes  POINT(2.79816 41.67606)     Girona  2015   \n",
       "3       170335  Caldes de Malavella  POINT(2.77446 41.85705)     Girona  2015   \n",
       "4       170792               Girona   POINT(2.79364 41.9913)     Girona  2015   \n",
       "..         ...                  ...                      ...        ...   ...   \n",
       "95      080193            Barcelona  POINT(2.16105 41.38228)  Barcelona  2015   \n",
       "96      080193            Barcelona  POINT(2.16361 41.39992)  Barcelona  2015   \n",
       "97      080193            Barcelona  POINT(2.18768 41.44699)  Barcelona  2015   \n",
       "98      080193            Barcelona   POINT(2.1611 41.38207)  Barcelona  2015   \n",
       "99      080193            Barcelona  POINT(2.14842 41.43251)  Barcelona  2015   \n",
       "\n",
       "   month  hour_24h  \n",
       "0      9        23  \n",
       "1      9        20  \n",
       "2      9        22  \n",
       "3      9        13  \n",
       "4      9         9  \n",
       "..   ...       ...  \n",
       "95    10        11  \n",
       "96    10        17  \n",
       "97     3        17  \n",
       "98     9         7  \n",
       "99     3        19  \n",
       "\n",
       "[100 rows x 22 columns]"
      ]
     },
     "execution_count": 4,
     "metadata": {},
     "output_type": "execute_result"
    }
   ],
   "source": [
    "# SQL query: preview mobile coverage data\n",
    "query = f\"\"\"\n",
    "    SELECT *\n",
    "    FROM `{mobile_data_cleaned}`\n",
    "    LIMIT 100\n",
    "    \"\"\"\n",
    "# DataFrame name\n",
    "df_name = \"mob_cov_data\"\n",
    "\n",
    "# Execute the query and store the result in the DataFrame\n",
    "query_df(query, df_name)"
   ]
  },
  {
   "cell_type": "code",
   "execution_count": 5,
   "id": "95cd0fe2",
   "metadata": {},
   "outputs": [
    {
     "data": {
      "text/markdown": [
       "Query: "
      ],
      "text/plain": [
       "<IPython.core.display.Markdown object>"
      ]
     },
     "metadata": {},
     "output_type": "display_data"
    },
    {
     "name": "stdout",
     "output_type": "stream",
     "text": [
      "\n",
      "    SELECT *\n",
      "    FROM `bq-analyst-230590.project_cat_mobile_coverage_2015_2017.mobile_data_2015_2017_cleaned`\n",
      "    LIMIT 100\n",
      "    \n"
     ]
    },
    {
     "data": {
      "text/markdown": [
       "Dataframe: **mob_cov_data**"
      ],
      "text/plain": [
       "<IPython.core.display.Markdown object>"
      ]
     },
     "metadata": {},
     "output_type": "display_data"
    },
    {
     "data": {
      "text/plain": [
       "Index(['date', 'hour', 'lat', 'long', 'signal', 'network', 'operator',\n",
       "       'status', 'description', 'net', 'speed', 'satellites', 'precission',\n",
       "       'provider', 'activity', 'postal_code', 'town_name', 'position_geom',\n",
       "       'province', 'year', 'month', 'hour_24h'],\n",
       "      dtype='object')"
      ]
     },
     "execution_count": 5,
     "metadata": {},
     "output_type": "execute_result"
    }
   ],
   "source": [
    "mobdata = query_df(query, df_name)\n",
    "mobdata.columns"
   ]
  },
  {
   "cell_type": "code",
   "execution_count": 6,
   "id": "7cd6c54b",
   "metadata": {},
   "outputs": [
    {
     "data": {
      "text/markdown": [
       "Query: "
      ],
      "text/plain": [
       "<IPython.core.display.Markdown object>"
      ]
     },
     "metadata": {},
     "output_type": "display_data"
    },
    {
     "name": "stdout",
     "output_type": "stream",
     "text": [
      "\n",
      "    SELECT COUNT(*) total_rows\n",
      "    FROM `bq-analyst-230590.project_cat_mobile_coverage_2015_2017.mobile_data_2015_2017_cleaned`\n",
      "    \n"
     ]
    },
    {
     "data": {
      "text/markdown": [
       "Dataframe: **count_data**"
      ],
      "text/plain": [
       "<IPython.core.display.Markdown object>"
      ]
     },
     "metadata": {},
     "output_type": "display_data"
    },
    {
     "data": {
      "text/html": [
       "<div>\n",
       "<style scoped>\n",
       "    .dataframe tbody tr th:only-of-type {\n",
       "        vertical-align: middle;\n",
       "    }\n",
       "\n",
       "    .dataframe tbody tr th {\n",
       "        vertical-align: top;\n",
       "    }\n",
       "\n",
       "    .dataframe thead th {\n",
       "        text-align: right;\n",
       "    }\n",
       "</style>\n",
       "<table border=\"1\" class=\"dataframe\">\n",
       "  <thead>\n",
       "    <tr style=\"text-align: right;\">\n",
       "      <th></th>\n",
       "      <th>total_rows</th>\n",
       "    </tr>\n",
       "  </thead>\n",
       "  <tbody>\n",
       "    <tr>\n",
       "      <th>0</th>\n",
       "      <td>10643906</td>\n",
       "    </tr>\n",
       "  </tbody>\n",
       "</table>\n",
       "</div>"
      ],
      "text/plain": [
       "   total_rows\n",
       "0    10643906"
      ]
     },
     "execution_count": 6,
     "metadata": {},
     "output_type": "execute_result"
    }
   ],
   "source": [
    "# SQL query: count total rows\n",
    "query = f\"\"\"\n",
    "    SELECT COUNT(*) total_rows\n",
    "    FROM `{mobile_data_cleaned}`\n",
    "    \"\"\"\n",
    "# DataFrame name\n",
    "df_name = \"count_data\"\n",
    "\n",
    "# Execute the query and store the result in the DataFrame\n",
    "query_df(query, df_name)"
   ]
  },
  {
   "cell_type": "code",
   "execution_count": 38,
   "id": "348e0cac",
   "metadata": {},
   "outputs": [
    {
     "data": {
      "text/markdown": [
       "Query: "
      ],
      "text/plain": [
       "<IPython.core.display.Markdown object>"
      ]
     },
     "metadata": {},
     "output_type": "display_data"
    },
    {
     "name": "stdout",
     "output_type": "stream",
     "text": [
      "\n",
      "    SELECT *\n",
      "    FROM `bq-analyst-230590.project_cat_mobile_coverage_2015_2017.cat_percapita_income_by_province_2015_2017`\n",
      "    LIMIT 100\n",
      "    \n"
     ]
    },
    {
     "data": {
      "text/markdown": [
       "Dataframe: **percapita_income**"
      ],
      "text/plain": [
       "<IPython.core.display.Markdown object>"
      ]
     },
     "metadata": {},
     "output_type": "display_data"
    },
    {
     "data": {
      "text/html": [
       "<div>\n",
       "<style scoped>\n",
       "    .dataframe tbody tr th:only-of-type {\n",
       "        vertical-align: middle;\n",
       "    }\n",
       "\n",
       "    .dataframe tbody tr th {\n",
       "        vertical-align: top;\n",
       "    }\n",
       "\n",
       "    .dataframe thead th {\n",
       "        text-align: right;\n",
       "    }\n",
       "</style>\n",
       "<table border=\"1\" class=\"dataframe\">\n",
       "  <thead>\n",
       "    <tr style=\"text-align: right;\">\n",
       "      <th></th>\n",
       "      <th>year</th>\n",
       "      <th>province</th>\n",
       "      <th>per_capita_income</th>\n",
       "    </tr>\n",
       "  </thead>\n",
       "  <tbody>\n",
       "    <tr>\n",
       "      <th>0</th>\n",
       "      <td>2015</td>\n",
       "      <td>Girona</td>\n",
       "      <td>25200</td>\n",
       "    </tr>\n",
       "    <tr>\n",
       "      <th>1</th>\n",
       "      <td>2015</td>\n",
       "      <td>Lleida</td>\n",
       "      <td>20136</td>\n",
       "    </tr>\n",
       "    <tr>\n",
       "      <th>2</th>\n",
       "      <td>2015</td>\n",
       "      <td>Tarragona</td>\n",
       "      <td>22486</td>\n",
       "    </tr>\n",
       "    <tr>\n",
       "      <th>3</th>\n",
       "      <td>2015</td>\n",
       "      <td>Barcelona</td>\n",
       "      <td>27214</td>\n",
       "    </tr>\n",
       "    <tr>\n",
       "      <th>4</th>\n",
       "      <td>2016</td>\n",
       "      <td>Barcelona</td>\n",
       "      <td>27913</td>\n",
       "    </tr>\n",
       "    <tr>\n",
       "      <th>5</th>\n",
       "      <td>2016</td>\n",
       "      <td>Girona</td>\n",
       "      <td>25598</td>\n",
       "    </tr>\n",
       "    <tr>\n",
       "      <th>6</th>\n",
       "      <td>2016</td>\n",
       "      <td>Tarragona</td>\n",
       "      <td>23130</td>\n",
       "    </tr>\n",
       "    <tr>\n",
       "      <th>7</th>\n",
       "      <td>2016</td>\n",
       "      <td>Lleida</td>\n",
       "      <td>20713</td>\n",
       "    </tr>\n",
       "    <tr>\n",
       "      <th>8</th>\n",
       "      <td>2017</td>\n",
       "      <td>Barcelona</td>\n",
       "      <td>28481</td>\n",
       "    </tr>\n",
       "    <tr>\n",
       "      <th>9</th>\n",
       "      <td>2017</td>\n",
       "      <td>Lleida</td>\n",
       "      <td>21091</td>\n",
       "    </tr>\n",
       "    <tr>\n",
       "      <th>10</th>\n",
       "      <td>2017</td>\n",
       "      <td>Tarragona</td>\n",
       "      <td>23534</td>\n",
       "    </tr>\n",
       "    <tr>\n",
       "      <th>11</th>\n",
       "      <td>2017</td>\n",
       "      <td>Girona</td>\n",
       "      <td>25992</td>\n",
       "    </tr>\n",
       "  </tbody>\n",
       "</table>\n",
       "</div>"
      ],
      "text/plain": [
       "    year   province  per_capita_income\n",
       "0   2015     Girona              25200\n",
       "1   2015     Lleida              20136\n",
       "2   2015  Tarragona              22486\n",
       "3   2015  Barcelona              27214\n",
       "4   2016  Barcelona              27913\n",
       "5   2016     Girona              25598\n",
       "6   2016  Tarragona              23130\n",
       "7   2016     Lleida              20713\n",
       "8   2017  Barcelona              28481\n",
       "9   2017     Lleida              21091\n",
       "10  2017  Tarragona              23534\n",
       "11  2017     Girona              25992"
      ]
     },
     "execution_count": 38,
     "metadata": {},
     "output_type": "execute_result"
    }
   ],
   "source": [
    "# SQL query: preview per capita income by province data\n",
    "query = f\"\"\"\n",
    "    SELECT *\n",
    "    FROM `{percapita_income}`\n",
    "    LIMIT 100\n",
    "    \"\"\"\n",
    "# DataFrame name\n",
    "df_name = \"percapita_income\"\n",
    "\n",
    "# Execute the query and store the result in the DataFrame\n",
    "query_df(query, df_name)"
   ]
  },
  {
   "cell_type": "code",
   "execution_count": 49,
   "id": "32844642",
   "metadata": {},
   "outputs": [
    {
     "data": {
      "text/markdown": [
       "Query: "
      ],
      "text/plain": [
       "<IPython.core.display.Markdown object>"
      ]
     },
     "metadata": {},
     "output_type": "display_data"
    },
    {
     "name": "stdout",
     "output_type": "stream",
     "text": [
      "\n",
      "    SELECT *\n",
      "    FROM `bq-analyst-230590.project_cat_mobile_coverage_2015_2017.cat_pop_by_province_2015_2017`\n",
      "    LIMIT 100\n",
      "    \n"
     ]
    },
    {
     "data": {
      "text/markdown": [
       "Dataframe: **population_density**"
      ],
      "text/plain": [
       "<IPython.core.display.Markdown object>"
      ]
     },
     "metadata": {},
     "output_type": "display_data"
    },
    {
     "data": {
      "text/html": [
       "<div>\n",
       "<style scoped>\n",
       "    .dataframe tbody tr th:only-of-type {\n",
       "        vertical-align: middle;\n",
       "    }\n",
       "\n",
       "    .dataframe tbody tr th {\n",
       "        vertical-align: top;\n",
       "    }\n",
       "\n",
       "    .dataframe thead th {\n",
       "        text-align: right;\n",
       "    }\n",
       "</style>\n",
       "<table border=\"1\" class=\"dataframe\">\n",
       "  <thead>\n",
       "    <tr style=\"text-align: right;\">\n",
       "      <th></th>\n",
       "      <th>province</th>\n",
       "      <th>year</th>\n",
       "      <th>population</th>\n",
       "      <th>sq_km</th>\n",
       "      <th>density_per_sq_km</th>\n",
       "    </tr>\n",
       "  </thead>\n",
       "  <tbody>\n",
       "    <tr>\n",
       "      <th>0</th>\n",
       "      <td>Girona</td>\n",
       "      <td>2017</td>\n",
       "      <td>766705</td>\n",
       "      <td>5908</td>\n",
       "      <td>129.8</td>\n",
       "    </tr>\n",
       "    <tr>\n",
       "      <th>1</th>\n",
       "      <td>Girona</td>\n",
       "      <td>2016</td>\n",
       "      <td>766273</td>\n",
       "      <td>5908</td>\n",
       "      <td>129.7</td>\n",
       "    </tr>\n",
       "    <tr>\n",
       "      <th>2</th>\n",
       "      <td>Girona</td>\n",
       "      <td>2015</td>\n",
       "      <td>765783</td>\n",
       "      <td>5908</td>\n",
       "      <td>129.6</td>\n",
       "    </tr>\n",
       "    <tr>\n",
       "      <th>3</th>\n",
       "      <td>Barcelona</td>\n",
       "      <td>2016</td>\n",
       "      <td>5635085</td>\n",
       "      <td>7726</td>\n",
       "      <td>729.4</td>\n",
       "    </tr>\n",
       "    <tr>\n",
       "      <th>4</th>\n",
       "      <td>Barcelona</td>\n",
       "      <td>2015</td>\n",
       "      <td>5618162</td>\n",
       "      <td>7726</td>\n",
       "      <td>727.2</td>\n",
       "    </tr>\n",
       "    <tr>\n",
       "      <th>5</th>\n",
       "      <td>Barcelona</td>\n",
       "      <td>2017</td>\n",
       "      <td>5652301</td>\n",
       "      <td>7726</td>\n",
       "      <td>731.6</td>\n",
       "    </tr>\n",
       "    <tr>\n",
       "      <th>6</th>\n",
       "      <td>Lleida</td>\n",
       "      <td>2017</td>\n",
       "      <td>741884</td>\n",
       "      <td>12172</td>\n",
       "      <td>61.0</td>\n",
       "    </tr>\n",
       "    <tr>\n",
       "      <th>7</th>\n",
       "      <td>Lleida</td>\n",
       "      <td>2016</td>\n",
       "      <td>742099</td>\n",
       "      <td>12172</td>\n",
       "      <td>61.0</td>\n",
       "    </tr>\n",
       "    <tr>\n",
       "      <th>8</th>\n",
       "      <td>Lleida</td>\n",
       "      <td>2015</td>\n",
       "      <td>742138</td>\n",
       "      <td>12172</td>\n",
       "      <td>61.0</td>\n",
       "    </tr>\n",
       "    <tr>\n",
       "      <th>9</th>\n",
       "      <td>Tarragona</td>\n",
       "      <td>2015</td>\n",
       "      <td>811089</td>\n",
       "      <td>6303</td>\n",
       "      <td>128.7</td>\n",
       "    </tr>\n",
       "    <tr>\n",
       "      <th>10</th>\n",
       "      <td>Tarragona</td>\n",
       "      <td>2017</td>\n",
       "      <td>810600</td>\n",
       "      <td>6303</td>\n",
       "      <td>128.6</td>\n",
       "    </tr>\n",
       "    <tr>\n",
       "      <th>11</th>\n",
       "      <td>Tarragona</td>\n",
       "      <td>2016</td>\n",
       "      <td>810947</td>\n",
       "      <td>6303</td>\n",
       "      <td>128.7</td>\n",
       "    </tr>\n",
       "  </tbody>\n",
       "</table>\n",
       "</div>"
      ],
      "text/plain": [
       "     province  year  population  sq_km  density_per_sq_km\n",
       "0      Girona  2017      766705   5908              129.8\n",
       "1      Girona  2016      766273   5908              129.7\n",
       "2      Girona  2015      765783   5908              129.6\n",
       "3   Barcelona  2016     5635085   7726              729.4\n",
       "4   Barcelona  2015     5618162   7726              727.2\n",
       "5   Barcelona  2017     5652301   7726              731.6\n",
       "6      Lleida  2017      741884  12172               61.0\n",
       "7      Lleida  2016      742099  12172               61.0\n",
       "8      Lleida  2015      742138  12172               61.0\n",
       "9   Tarragona  2015      811089   6303              128.7\n",
       "10  Tarragona  2017      810600   6303              128.6\n",
       "11  Tarragona  2016      810947   6303              128.7"
      ]
     },
     "execution_count": 49,
     "metadata": {},
     "output_type": "execute_result"
    }
   ],
   "source": [
    "# SQL query: preview population and density by province data\n",
    "query = f\"\"\"\n",
    "    SELECT *\n",
    "    FROM `{pop_density}`\n",
    "    LIMIT 100\n",
    "    \"\"\"\n",
    "# DataFrame name\n",
    "df_name = \"population_density\"\n",
    "\n",
    "# Execute the query and store the result in the DataFrame\n",
    "query_df(query, df_name)"
   ]
  },
  {
   "cell_type": "markdown",
   "id": "45ca9076",
   "metadata": {},
   "source": [
    "### Execute queries: Exploratory Data Analysis (EDA)"
   ]
  },
  {
   "cell_type": "markdown",
   "id": "babdd4d3",
   "metadata": {},
   "source": [
    "1. Retrieve all records from the \"mobile 2015_2017\" table for the year 2016 where the signal strength is above a threshold of 80.\n",
    "\n",
    "2. Calculate the average signal strength (signal) for each month in the year 2017 and order the results in descending order.\n",
    "\n",
    "3. Find the province with the best 4G network coverage (highest number of records with '4G' in the network column) in the year 2015.\n",
    "\n",
    "4. Calculate the percentage of records where the status is 'connected' in the \"mobile 2015_2017\" table for the year 2017.\n",
    "\n",
    "5. Find the province with the highest average speed (speed) of mobile data in the year 2017.\n",
    "\n",
    "1. Calculate the average signal strength (signal) for each province in the year 2016. Join this data with the \"population by province\" table to find the population density for each province in 2016.\n",
    "\n",
    "2. Find the province with the highest average signal strength (signal) in the year 2017. Then, join this result with the \"income per capita by province\" table to get the per capita income for that province in 2017.\n",
    "\n",
    "3. Calculate the correlation coefficient between the average signal strength (signal) and population density in the year 2016 for all provinces.\n",
    "\n",
    "4. Calculate the correlation coefficient between the average signal strength (signal) and per capita income for all provinces in the year 2017.\n",
    "\n",
    "5. Group the data in the \"mobile 2015_2017\" table by network type (e.g., 2G, 3G, 4G) and calculate the average signal strength for each type. Join this data with the \"income per capita by province\" table to compare the per capita income by network type in the year 2017.\n"
   ]
  },
  {
   "cell_type": "markdown",
   "id": "71328afb",
   "metadata": {},
   "source": [
    "Certainly, here are the 10 SQL interview questions without the quotes:\n",
    "\n",
    "1. Basic SQL Select:\n",
    "   - Write a SQL query to retrieve all records from the 'mobile 2015_2017' table.\n",
    "\n",
    "2. Filtering and Sorting:\n",
    "   - Retrieve records from the 'mobile 2015_2017' table for the year 2016 and sort them in descending order based on the 'signal' column.\n",
    "\n",
    "3. Aggregation:\n",
    "   - Calculate the average 'speed' of mobile data in the 'mobile 2015_2017' table for the year 2017.\n",
    "\n",
    "4. Join Operations:\n",
    "   - Join the 'mobile 2015_2017' table with the 'population by province' table to retrieve records from both tables for the year 2016.\n",
    "\n",
    "5. Subqueries:\n",
    "   - Write a SQL subquery to find the provinces in the 'population by province' table where the population in 2016 is higher than the average population for all provinces.\n",
    "\n",
    "6. Grouping and Aggregation:\n",
    "   - Group the 'mobile 2015_2017' table by 'network' type and calculate the average 'signal' strength and the maximum 'speed' for each network type in the year 2017.\n",
    "\n",
    "7. Data Transformation:\n",
    "   - Update the 'status' column in the 'mobile 2015_2017' table, setting it to 'disconnected' for records where 'signal' is less than 50.\n",
    "\n",
    "8. Complex Filtering:\n",
    "   - Retrieve records from the 'mobile 2015_2017' table for the year 2017 where 'network' is '4G,' 'status' is 'connected,' and 'speed' is greater than 10.\n",
    "\n",
    "9. Data Validation:\n",
    "   - Identify and list all records in the 'mobile 2015_2017' table with missing values in the 'provider' column.\n",
    "\n",
    "10. Performance Optimization:\n",
    "    - Discuss possible ways to optimize the performance of a complex SQL query that involves multiple joins and aggregation on the 'mobile 2015_2017' and 'population by province' tables, especially if the query is running slowly."
   ]
  },
  {
   "cell_type": "markdown",
   "id": "cad3d4c2",
   "metadata": {},
   "source": [
    "2. Filtering and Sorting:\n",
    "   - Retrieve records from the 'mobile 2015_2017' table for the year 2016 and sort them in descending order based on the 'signal' column."
   ]
  },
  {
   "cell_type": "code",
   "execution_count": 44,
   "id": "7cffc8c5",
   "metadata": {},
   "outputs": [
    {
     "data": {
      "text/markdown": [
       "Query: "
      ],
      "text/plain": [
       "<IPython.core.display.Markdown object>"
      ]
     },
     "metadata": {},
     "output_type": "display_data"
    },
    {
     "name": "stdout",
     "output_type": "stream",
     "text": [
      "\n",
      "    SELECT *\n",
      "    FROM `bq-analyst-230590.project_cat_mobile_coverage_2015_2017.mobile_data_2015_2017_cleaned`\n",
      "    WHERE year = 2016\n",
      "    ORDER BY signal DESC\n",
      "    LIMIT 1000\n",
      "    \n"
     ]
    },
    {
     "data": {
      "text/markdown": [
       "Dataframe: **mob_data_2016**"
      ],
      "text/plain": [
       "<IPython.core.display.Markdown object>"
      ]
     },
     "metadata": {},
     "output_type": "display_data"
    },
    {
     "data": {
      "text/html": [
       "<div>\n",
       "<style scoped>\n",
       "    .dataframe tbody tr th:only-of-type {\n",
       "        vertical-align: middle;\n",
       "    }\n",
       "\n",
       "    .dataframe tbody tr th {\n",
       "        vertical-align: top;\n",
       "    }\n",
       "\n",
       "    .dataframe thead th {\n",
       "        text-align: right;\n",
       "    }\n",
       "</style>\n",
       "<table border=\"1\" class=\"dataframe\">\n",
       "  <thead>\n",
       "    <tr style=\"text-align: right;\">\n",
       "      <th></th>\n",
       "      <th>date</th>\n",
       "      <th>hour</th>\n",
       "      <th>lat</th>\n",
       "      <th>long</th>\n",
       "      <th>signal</th>\n",
       "      <th>network</th>\n",
       "      <th>operator</th>\n",
       "      <th>status</th>\n",
       "      <th>description</th>\n",
       "      <th>net</th>\n",
       "      <th>...</th>\n",
       "      <th>precission</th>\n",
       "      <th>provider</th>\n",
       "      <th>activity</th>\n",
       "      <th>postal_code</th>\n",
       "      <th>town_name</th>\n",
       "      <th>position_geom</th>\n",
       "      <th>province</th>\n",
       "      <th>year</th>\n",
       "      <th>month</th>\n",
       "      <th>hour_24h</th>\n",
       "    </tr>\n",
       "  </thead>\n",
       "  <tbody>\n",
       "    <tr>\n",
       "      <th>0</th>\n",
       "      <td>2016-09-30</td>\n",
       "      <td>18:28:15</td>\n",
       "      <td>41.45074</td>\n",
       "      <td>2.18854</td>\n",
       "      <td>99</td>\n",
       "      <td>Movistar</td>\n",
       "      <td>Movistar</td>\n",
       "      <td>2</td>\n",
       "      <td>STATE_EMERGENCY_ONLY</td>\n",
       "      <td>3G</td>\n",
       "      <td>...</td>\n",
       "      <td>17.0</td>\n",
       "      <td>GPS</td>\n",
       "      <td>IN_VEHICLE</td>\n",
       "      <td>080193</td>\n",
       "      <td>Barcelona</td>\n",
       "      <td>POINT(2.18854 41.45074)</td>\n",
       "      <td>Barcelona</td>\n",
       "      <td>2016</td>\n",
       "      <td>9</td>\n",
       "      <td>18</td>\n",
       "    </tr>\n",
       "    <tr>\n",
       "      <th>1</th>\n",
       "      <td>2016-06-22</td>\n",
       "      <td>22:06:43</td>\n",
       "      <td>41.46159</td>\n",
       "      <td>2.17073</td>\n",
       "      <td>99</td>\n",
       "      <td>Orange</td>\n",
       "      <td>Jazztel</td>\n",
       "      <td>2</td>\n",
       "      <td>STATE_EMERGENCY_ONLY</td>\n",
       "      <td>3G</td>\n",
       "      <td>...</td>\n",
       "      <td>12.0</td>\n",
       "      <td>GPS</td>\n",
       "      <td>STILL</td>\n",
       "      <td>080193</td>\n",
       "      <td>Barcelona</td>\n",
       "      <td>POINT(2.17073 41.46159)</td>\n",
       "      <td>Barcelona</td>\n",
       "      <td>2016</td>\n",
       "      <td>6</td>\n",
       "      <td>22</td>\n",
       "    </tr>\n",
       "    <tr>\n",
       "      <th>2</th>\n",
       "      <td>2016-10-05</td>\n",
       "      <td>20:16:29</td>\n",
       "      <td>41.41717</td>\n",
       "      <td>2.21349</td>\n",
       "      <td>99</td>\n",
       "      <td>Movistar</td>\n",
       "      <td>Movistar</td>\n",
       "      <td>2</td>\n",
       "      <td>STATE_EMERGENCY_ONLY</td>\n",
       "      <td>3G</td>\n",
       "      <td>...</td>\n",
       "      <td>8.0</td>\n",
       "      <td>GPS</td>\n",
       "      <td>IN_VEHICLE</td>\n",
       "      <td>080193</td>\n",
       "      <td>Barcelona</td>\n",
       "      <td>POINT(2.21349 41.41717)</td>\n",
       "      <td>Barcelona</td>\n",
       "      <td>2016</td>\n",
       "      <td>10</td>\n",
       "      <td>20</td>\n",
       "    </tr>\n",
       "    <tr>\n",
       "      <th>3</th>\n",
       "      <td>2016-10-01</td>\n",
       "      <td>15:28:40</td>\n",
       "      <td>41.53609</td>\n",
       "      <td>2.08220</td>\n",
       "      <td>99</td>\n",
       "      <td>Movistar</td>\n",
       "      <td>Movistar</td>\n",
       "      <td>2</td>\n",
       "      <td>STATE_EMERGENCY_ONLY</td>\n",
       "      <td>2G</td>\n",
       "      <td>...</td>\n",
       "      <td>13.0</td>\n",
       "      <td>GPS</td>\n",
       "      <td>STILL</td>\n",
       "      <td>082384</td>\n",
       "      <td>Sant Quirze del Vallès</td>\n",
       "      <td>POINT(2.0822 41.53609)</td>\n",
       "      <td>Barcelona</td>\n",
       "      <td>2016</td>\n",
       "      <td>10</td>\n",
       "      <td>15</td>\n",
       "    </tr>\n",
       "    <tr>\n",
       "      <th>4</th>\n",
       "      <td>2016-09-30</td>\n",
       "      <td>18:50:43</td>\n",
       "      <td>41.42698</td>\n",
       "      <td>2.22696</td>\n",
       "      <td>99</td>\n",
       "      <td>Movistar</td>\n",
       "      <td>Movistar</td>\n",
       "      <td>2</td>\n",
       "      <td>STATE_EMERGENCY_ONLY</td>\n",
       "      <td>2G</td>\n",
       "      <td>...</td>\n",
       "      <td>18.0</td>\n",
       "      <td>GPS</td>\n",
       "      <td>TILTING</td>\n",
       "      <td>081944</td>\n",
       "      <td>Sant Adrià de Besòs</td>\n",
       "      <td>POINT(2.22696 41.42698)</td>\n",
       "      <td>Barcelona</td>\n",
       "      <td>2016</td>\n",
       "      <td>9</td>\n",
       "      <td>18</td>\n",
       "    </tr>\n",
       "    <tr>\n",
       "      <th>...</th>\n",
       "      <td>...</td>\n",
       "      <td>...</td>\n",
       "      <td>...</td>\n",
       "      <td>...</td>\n",
       "      <td>...</td>\n",
       "      <td>...</td>\n",
       "      <td>...</td>\n",
       "      <td>...</td>\n",
       "      <td>...</td>\n",
       "      <td>...</td>\n",
       "      <td>...</td>\n",
       "      <td>...</td>\n",
       "      <td>...</td>\n",
       "      <td>...</td>\n",
       "      <td>...</td>\n",
       "      <td>...</td>\n",
       "      <td>...</td>\n",
       "      <td>...</td>\n",
       "      <td>...</td>\n",
       "      <td>...</td>\n",
       "      <td>...</td>\n",
       "    </tr>\n",
       "    <tr>\n",
       "      <th>995</th>\n",
       "      <td>2016-09-28</td>\n",
       "      <td>18:55:17</td>\n",
       "      <td>41.44715</td>\n",
       "      <td>2.18903</td>\n",
       "      <td>99</td>\n",
       "      <td>Movistar</td>\n",
       "      <td>Movistar</td>\n",
       "      <td>2</td>\n",
       "      <td>STATE_EMERGENCY_ONLY</td>\n",
       "      <td>3G</td>\n",
       "      <td>...</td>\n",
       "      <td>20.0</td>\n",
       "      <td>GPS</td>\n",
       "      <td>IN_VEHICLE</td>\n",
       "      <td>080193</td>\n",
       "      <td>Barcelona</td>\n",
       "      <td>POINT(2.18903 41.44715)</td>\n",
       "      <td>Barcelona</td>\n",
       "      <td>2016</td>\n",
       "      <td>9</td>\n",
       "      <td>18</td>\n",
       "    </tr>\n",
       "    <tr>\n",
       "      <th>996</th>\n",
       "      <td>2016-10-05</td>\n",
       "      <td>19:35:28</td>\n",
       "      <td>41.43449</td>\n",
       "      <td>2.18351</td>\n",
       "      <td>99</td>\n",
       "      <td>Movistar</td>\n",
       "      <td>Movistar</td>\n",
       "      <td>2</td>\n",
       "      <td>STATE_EMERGENCY_ONLY</td>\n",
       "      <td>2G</td>\n",
       "      <td>...</td>\n",
       "      <td>13.0</td>\n",
       "      <td>GPS</td>\n",
       "      <td>IN_VEHICLE</td>\n",
       "      <td>080193</td>\n",
       "      <td>Barcelona</td>\n",
       "      <td>POINT(2.18351 41.43449)</td>\n",
       "      <td>Barcelona</td>\n",
       "      <td>2016</td>\n",
       "      <td>10</td>\n",
       "      <td>19</td>\n",
       "    </tr>\n",
       "    <tr>\n",
       "      <th>997</th>\n",
       "      <td>2016-09-30</td>\n",
       "      <td>17:36:41</td>\n",
       "      <td>41.46220</td>\n",
       "      <td>2.17078</td>\n",
       "      <td>99</td>\n",
       "      <td>Movistar</td>\n",
       "      <td>Movistar</td>\n",
       "      <td>2</td>\n",
       "      <td>STATE_EMERGENCY_ONLY</td>\n",
       "      <td>2G</td>\n",
       "      <td>...</td>\n",
       "      <td>7.0</td>\n",
       "      <td>GPS</td>\n",
       "      <td>TILTING</td>\n",
       "      <td>081252</td>\n",
       "      <td>Montcada i Reixac</td>\n",
       "      <td>POINT(2.17078 41.4622)</td>\n",
       "      <td>Barcelona</td>\n",
       "      <td>2016</td>\n",
       "      <td>9</td>\n",
       "      <td>17</td>\n",
       "    </tr>\n",
       "    <tr>\n",
       "      <th>998</th>\n",
       "      <td>2016-10-05</td>\n",
       "      <td>13:42:43</td>\n",
       "      <td>41.40514</td>\n",
       "      <td>2.19042</td>\n",
       "      <td>99</td>\n",
       "      <td>Movistar</td>\n",
       "      <td>Movistar</td>\n",
       "      <td>2</td>\n",
       "      <td>STATE_EMERGENCY_ONLY</td>\n",
       "      <td>2G</td>\n",
       "      <td>...</td>\n",
       "      <td>12.0</td>\n",
       "      <td>GPS</td>\n",
       "      <td>TILTING</td>\n",
       "      <td>080193</td>\n",
       "      <td>Barcelona</td>\n",
       "      <td>POINT(2.19042 41.40514)</td>\n",
       "      <td>Barcelona</td>\n",
       "      <td>2016</td>\n",
       "      <td>10</td>\n",
       "      <td>13</td>\n",
       "    </tr>\n",
       "    <tr>\n",
       "      <th>999</th>\n",
       "      <td>2016-10-01</td>\n",
       "      <td>11:31:00</td>\n",
       "      <td>41.43167</td>\n",
       "      <td>2.18368</td>\n",
       "      <td>99</td>\n",
       "      <td>Movistar</td>\n",
       "      <td>Movistar</td>\n",
       "      <td>2</td>\n",
       "      <td>STATE_EMERGENCY_ONLY</td>\n",
       "      <td>3G</td>\n",
       "      <td>...</td>\n",
       "      <td>11.0</td>\n",
       "      <td>GPS</td>\n",
       "      <td>STILL</td>\n",
       "      <td>080193</td>\n",
       "      <td>Barcelona</td>\n",
       "      <td>POINT(2.18368 41.43167)</td>\n",
       "      <td>Barcelona</td>\n",
       "      <td>2016</td>\n",
       "      <td>10</td>\n",
       "      <td>11</td>\n",
       "    </tr>\n",
       "  </tbody>\n",
       "</table>\n",
       "<p>1000 rows × 22 columns</p>\n",
       "</div>"
      ],
      "text/plain": [
       "           date      hour       lat     long  signal   network  operator  \\\n",
       "0    2016-09-30  18:28:15  41.45074  2.18854      99  Movistar  Movistar   \n",
       "1    2016-06-22  22:06:43  41.46159  2.17073      99    Orange   Jazztel   \n",
       "2    2016-10-05  20:16:29  41.41717  2.21349      99  Movistar  Movistar   \n",
       "3    2016-10-01  15:28:40  41.53609  2.08220      99  Movistar  Movistar   \n",
       "4    2016-09-30  18:50:43  41.42698  2.22696      99  Movistar  Movistar   \n",
       "..          ...       ...       ...      ...     ...       ...       ...   \n",
       "995  2016-09-28  18:55:17  41.44715  2.18903      99  Movistar  Movistar   \n",
       "996  2016-10-05  19:35:28  41.43449  2.18351      99  Movistar  Movistar   \n",
       "997  2016-09-30  17:36:41  41.46220  2.17078      99  Movistar  Movistar   \n",
       "998  2016-10-05  13:42:43  41.40514  2.19042      99  Movistar  Movistar   \n",
       "999  2016-10-01  11:31:00  41.43167  2.18368      99  Movistar  Movistar   \n",
       "\n",
       "     status           description net  ...  precission  provider    activity  \\\n",
       "0         2  STATE_EMERGENCY_ONLY  3G  ...        17.0       GPS  IN_VEHICLE   \n",
       "1         2  STATE_EMERGENCY_ONLY  3G  ...        12.0       GPS       STILL   \n",
       "2         2  STATE_EMERGENCY_ONLY  3G  ...         8.0       GPS  IN_VEHICLE   \n",
       "3         2  STATE_EMERGENCY_ONLY  2G  ...        13.0       GPS       STILL   \n",
       "4         2  STATE_EMERGENCY_ONLY  2G  ...        18.0       GPS     TILTING   \n",
       "..      ...                   ...  ..  ...         ...       ...         ...   \n",
       "995       2  STATE_EMERGENCY_ONLY  3G  ...        20.0       GPS  IN_VEHICLE   \n",
       "996       2  STATE_EMERGENCY_ONLY  2G  ...        13.0       GPS  IN_VEHICLE   \n",
       "997       2  STATE_EMERGENCY_ONLY  2G  ...         7.0       GPS     TILTING   \n",
       "998       2  STATE_EMERGENCY_ONLY  2G  ...        12.0       GPS     TILTING   \n",
       "999       2  STATE_EMERGENCY_ONLY  3G  ...        11.0       GPS       STILL   \n",
       "\n",
       "    postal_code               town_name            position_geom   province  \\\n",
       "0        080193               Barcelona  POINT(2.18854 41.45074)  Barcelona   \n",
       "1        080193               Barcelona  POINT(2.17073 41.46159)  Barcelona   \n",
       "2        080193               Barcelona  POINT(2.21349 41.41717)  Barcelona   \n",
       "3        082384  Sant Quirze del Vallès   POINT(2.0822 41.53609)  Barcelona   \n",
       "4        081944     Sant Adrià de Besòs  POINT(2.22696 41.42698)  Barcelona   \n",
       "..          ...                     ...                      ...        ...   \n",
       "995      080193               Barcelona  POINT(2.18903 41.44715)  Barcelona   \n",
       "996      080193               Barcelona  POINT(2.18351 41.43449)  Barcelona   \n",
       "997      081252       Montcada i Reixac   POINT(2.17078 41.4622)  Barcelona   \n",
       "998      080193               Barcelona  POINT(2.19042 41.40514)  Barcelona   \n",
       "999      080193               Barcelona  POINT(2.18368 41.43167)  Barcelona   \n",
       "\n",
       "     year month  hour_24h  \n",
       "0    2016     9        18  \n",
       "1    2016     6        22  \n",
       "2    2016    10        20  \n",
       "3    2016    10        15  \n",
       "4    2016     9        18  \n",
       "..    ...   ...       ...  \n",
       "995  2016     9        18  \n",
       "996  2016    10        19  \n",
       "997  2016     9        17  \n",
       "998  2016    10        13  \n",
       "999  2016    10        11  \n",
       "\n",
       "[1000 rows x 22 columns]"
      ]
     },
     "execution_count": 44,
     "metadata": {},
     "output_type": "execute_result"
    }
   ],
   "source": [
    "# Datasets: {mobile_data_cleaned}, {pop_density}, {percapita_income}\n",
    "\n",
    "query = f\"\"\"\n",
    "    SELECT *\n",
    "    FROM `{mobile_data_cleaned}`\n",
    "    WHERE year = 2016\n",
    "    ORDER BY signal DESC\n",
    "    LIMIT 1000\n",
    "    \"\"\"\n",
    "# DataFrame name\n",
    "df_name = \"mob_data_2016\"\n",
    "\n",
    "# Execute the query and store the result in the DataFrame\n",
    "query_df(query, df_name)    "
   ]
  },
  {
   "cell_type": "markdown",
   "id": "cd3f9fd0",
   "metadata": {},
   "source": [
    "3. Aggregation:\n",
    "   - Calculate the average 'speed' of mobile data in the 'mobile 2015_2017' table for the year 2017."
   ]
  },
  {
   "cell_type": "code",
   "execution_count": 47,
   "id": "fb308879",
   "metadata": {},
   "outputs": [
    {
     "data": {
      "text/markdown": [
       "Query: "
      ],
      "text/plain": [
       "<IPython.core.display.Markdown object>"
      ]
     },
     "metadata": {},
     "output_type": "display_data"
    },
    {
     "name": "stdout",
     "output_type": "stream",
     "text": [
      "\n",
      "    SELECT \n",
      "        ROUND(AVG(speed),2) avg_speed_2017,\n",
      "        MAX(speed) max_speed_2017,\n",
      "        ROUND(STDDEV_POP(speed),2) std_speed_2017\n",
      "    FROM `bq-analyst-230590.project_cat_mobile_coverage_2015_2017.mobile_data_2015_2017_cleaned`\n",
      "    WHERE year = 2017\n",
      "    \n"
     ]
    },
    {
     "data": {
      "text/markdown": [
       "Dataframe: **metrics_speed_2017**"
      ],
      "text/plain": [
       "<IPython.core.display.Markdown object>"
      ]
     },
     "metadata": {},
     "output_type": "display_data"
    },
    {
     "data": {
      "text/html": [
       "<div>\n",
       "<style scoped>\n",
       "    .dataframe tbody tr th:only-of-type {\n",
       "        vertical-align: middle;\n",
       "    }\n",
       "\n",
       "    .dataframe tbody tr th {\n",
       "        vertical-align: top;\n",
       "    }\n",
       "\n",
       "    .dataframe thead th {\n",
       "        text-align: right;\n",
       "    }\n",
       "</style>\n",
       "<table border=\"1\" class=\"dataframe\">\n",
       "  <thead>\n",
       "    <tr style=\"text-align: right;\">\n",
       "      <th></th>\n",
       "      <th>avg_speed_2017</th>\n",
       "      <th>max_speed_2017</th>\n",
       "      <th>std_speed_2017</th>\n",
       "    </tr>\n",
       "  </thead>\n",
       "  <tbody>\n",
       "    <tr>\n",
       "      <th>0</th>\n",
       "      <td>25.18</td>\n",
       "      <td>254.9</td>\n",
       "      <td>34.43</td>\n",
       "    </tr>\n",
       "  </tbody>\n",
       "</table>\n",
       "</div>"
      ],
      "text/plain": [
       "   avg_speed_2017  max_speed_2017  std_speed_2017\n",
       "0           25.18           254.9           34.43"
      ]
     },
     "execution_count": 47,
     "metadata": {},
     "output_type": "execute_result"
    }
   ],
   "source": [
    "# Datasets: {mobile_data_cleaned}, {pop_density}, {percapita_income}\n",
    "\n",
    "query = f\"\"\"\n",
    "    SELECT \n",
    "        ROUND(AVG(speed),2) avg_speed_2017,\n",
    "        MAX(speed) max_speed_2017,\n",
    "        ROUND(STDDEV_POP(speed),2) std_speed_2017\n",
    "    FROM `{mobile_data_cleaned}`\n",
    "    WHERE year = 2017\n",
    "    \"\"\"\n",
    "# DataFrame name\n",
    "df_name = \"metrics_speed_2017\"\n",
    "\n",
    "# Execute the query and store the result in the DataFrame\n",
    "query_df(query, df_name)    "
   ]
  },
  {
   "cell_type": "markdown",
   "id": "31d58508",
   "metadata": {},
   "source": [
    "4. Join Operations:\n",
    "   - Join the 'mobile data cleaned' table with the 'pop density' table to retrieve records from both tables for the year 2016 and extract the population density per square kilometer and the average signal strength for each province."
   ]
  },
  {
   "cell_type": "code",
   "execution_count": 58,
   "id": "8e08aa01",
   "metadata": {},
   "outputs": [
    {
     "data": {
      "text/markdown": [
       "Query: "
      ],
      "text/plain": [
       "<IPython.core.display.Markdown object>"
      ]
     },
     "metadata": {},
     "output_type": "display_data"
    },
    {
     "name": "stdout",
     "output_type": "stream",
     "text": [
      "\n",
      "    SELECT \n",
      "      m.province,\n",
      "      p.sq_km,\n",
      "      p.population,\n",
      "      p.density_per_sq_km,\n",
      "      ROUND(AVG(m.signal),2) avg_signal\n",
      "    FROM `bq-analyst-230590.project_cat_mobile_coverage_2015_2017.mobile_data_2015_2017_cleaned` m\n",
      "    JOIN `bq-analyst-230590.project_cat_mobile_coverage_2015_2017.cat_pop_by_province_2015_2017` p \n",
      "      ON m.province = p.province AND m.year = p.year\n",
      "    WHERE m.year = 2016\n",
      "    GROUP BY m.province, p.sq_km, p.population, p.density_per_sq_km\n",
      "    ORDER BY p.density_per_sq_km DESC;\n",
      "    \n"
     ]
    },
    {
     "data": {
      "text/markdown": [
       "Dataframe: **joined_pop_mob**"
      ],
      "text/plain": [
       "<IPython.core.display.Markdown object>"
      ]
     },
     "metadata": {},
     "output_type": "display_data"
    },
    {
     "data": {
      "text/html": [
       "<div>\n",
       "<style scoped>\n",
       "    .dataframe tbody tr th:only-of-type {\n",
       "        vertical-align: middle;\n",
       "    }\n",
       "\n",
       "    .dataframe tbody tr th {\n",
       "        vertical-align: top;\n",
       "    }\n",
       "\n",
       "    .dataframe thead th {\n",
       "        text-align: right;\n",
       "    }\n",
       "</style>\n",
       "<table border=\"1\" class=\"dataframe\">\n",
       "  <thead>\n",
       "    <tr style=\"text-align: right;\">\n",
       "      <th></th>\n",
       "      <th>province</th>\n",
       "      <th>sq_km</th>\n",
       "      <th>population</th>\n",
       "      <th>density_per_sq_km</th>\n",
       "      <th>avg_signal</th>\n",
       "    </tr>\n",
       "  </thead>\n",
       "  <tbody>\n",
       "    <tr>\n",
       "      <th>0</th>\n",
       "      <td>Barcelona</td>\n",
       "      <td>7726</td>\n",
       "      <td>5635085</td>\n",
       "      <td>729.4</td>\n",
       "      <td>13.38</td>\n",
       "    </tr>\n",
       "    <tr>\n",
       "      <th>1</th>\n",
       "      <td>Girona</td>\n",
       "      <td>5908</td>\n",
       "      <td>766273</td>\n",
       "      <td>129.7</td>\n",
       "      <td>11.94</td>\n",
       "    </tr>\n",
       "    <tr>\n",
       "      <th>2</th>\n",
       "      <td>Tarragona</td>\n",
       "      <td>6303</td>\n",
       "      <td>810947</td>\n",
       "      <td>128.7</td>\n",
       "      <td>12.70</td>\n",
       "    </tr>\n",
       "    <tr>\n",
       "      <th>3</th>\n",
       "      <td>Lleida</td>\n",
       "      <td>12172</td>\n",
       "      <td>742099</td>\n",
       "      <td>61.0</td>\n",
       "      <td>12.83</td>\n",
       "    </tr>\n",
       "  </tbody>\n",
       "</table>\n",
       "</div>"
      ],
      "text/plain": [
       "    province  sq_km  population  density_per_sq_km  avg_signal\n",
       "0  Barcelona   7726     5635085              729.4       13.38\n",
       "1     Girona   5908      766273              129.7       11.94\n",
       "2  Tarragona   6303      810947              128.7       12.70\n",
       "3     Lleida  12172      742099               61.0       12.83"
      ]
     },
     "execution_count": 58,
     "metadata": {},
     "output_type": "execute_result"
    }
   ],
   "source": [
    "# Datasets: {mobile_data_cleaned}, {pop_density}, {percapita_income}\n",
    "\n",
    "query = f\"\"\"\n",
    "    SELECT \n",
    "      m.province,\n",
    "      p.sq_km,\n",
    "      p.population,\n",
    "      p.density_per_sq_km,\n",
    "      ROUND(AVG(m.signal),2) avg_signal\n",
    "    FROM `{mobile_data_cleaned}` m\n",
    "    JOIN `{pop_density}` p \n",
    "      ON m.province = p.province AND m.year = p.year\n",
    "    WHERE m.year = 2016\n",
    "    GROUP BY m.province, p.sq_km, p.population, p.density_per_sq_km\n",
    "    ORDER BY p.density_per_sq_km DESC;\n",
    "    \"\"\"\n",
    "# DataFrame name\n",
    "df_name = \"joined_pop_mob\"\n",
    "\n",
    "# Execute the query and store the result in the DataFrame\n",
    "query_df(query, df_name)    "
   ]
  },
  {
   "cell_type": "markdown",
   "id": "b9c4a690",
   "metadata": {},
   "source": [
    "5. Subqueries:\n",
    "   - Write a SQL subquery to find the provinces in the 'pop density' table where the population in 2016 is higher than the average population for all provinces."
   ]
  },
  {
   "cell_type": "code",
   "execution_count": 62,
   "id": "17913347",
   "metadata": {},
   "outputs": [
    {
     "data": {
      "text/markdown": [
       "Query: "
      ],
      "text/plain": [
       "<IPython.core.display.Markdown object>"
      ]
     },
     "metadata": {},
     "output_type": "display_data"
    },
    {
     "name": "stdout",
     "output_type": "stream",
     "text": [
      "\n",
      "    SELECT\n",
      "      province,\n",
      "      population\n",
      "    FROM `bq-analyst-230590.project_cat_mobile_coverage_2015_2017.cat_pop_by_province_2015_2017`\n",
      "    WHERE\n",
      "      year = 2016\n",
      "      AND population > (\n",
      "        SELECT AVG(population)\n",
      "        FROM `bq-analyst-230590.project_cat_mobile_coverage_2015_2017.cat_pop_by_province_2015_2017`\n",
      "      );\n",
      "    \n"
     ]
    },
    {
     "data": {
      "text/markdown": [
       "Dataframe: **pop_2016_greater_t_avg_pop**"
      ],
      "text/plain": [
       "<IPython.core.display.Markdown object>"
      ]
     },
     "metadata": {},
     "output_type": "display_data"
    },
    {
     "data": {
      "text/html": [
       "<div>\n",
       "<style scoped>\n",
       "    .dataframe tbody tr th:only-of-type {\n",
       "        vertical-align: middle;\n",
       "    }\n",
       "\n",
       "    .dataframe tbody tr th {\n",
       "        vertical-align: top;\n",
       "    }\n",
       "\n",
       "    .dataframe thead th {\n",
       "        text-align: right;\n",
       "    }\n",
       "</style>\n",
       "<table border=\"1\" class=\"dataframe\">\n",
       "  <thead>\n",
       "    <tr style=\"text-align: right;\">\n",
       "      <th></th>\n",
       "      <th>province</th>\n",
       "      <th>population</th>\n",
       "    </tr>\n",
       "  </thead>\n",
       "  <tbody>\n",
       "    <tr>\n",
       "      <th>0</th>\n",
       "      <td>Barcelona</td>\n",
       "      <td>5635085</td>\n",
       "    </tr>\n",
       "  </tbody>\n",
       "</table>\n",
       "</div>"
      ],
      "text/plain": [
       "    province  population\n",
       "0  Barcelona     5635085"
      ]
     },
     "execution_count": 62,
     "metadata": {},
     "output_type": "execute_result"
    }
   ],
   "source": [
    "# Datasets: {mobile_data_cleaned}, {pop_density}, {percapita_income}\n",
    "\n",
    "query = f\"\"\"\n",
    "    SELECT\n",
    "      province,\n",
    "      population\n",
    "    FROM `{pop_density}`\n",
    "    WHERE\n",
    "      year = 2016\n",
    "      AND population > (\n",
    "        SELECT AVG(population)\n",
    "        FROM `{pop_density}`\n",
    "      );\n",
    "    \"\"\"\n",
    "# DataFrame name\n",
    "df_name = \"pop_2016_greater_t_avg_pop\"\n",
    "\n",
    "# Execute the query and store the result in the DataFrame\n",
    "query_df(query, df_name)    "
   ]
  },
  {
   "cell_type": "markdown",
   "id": "2e3c22de",
   "metadata": {},
   "source": [
    "6. Grouping and Aggregation:\n",
    "   - Group the 'mobile 2015_2017' table by 'network' type and calculate the average 'signal' strength and the maximum 'speed' for each network type in the year 2017."
   ]
  },
  {
   "cell_type": "code",
   "execution_count": 63,
   "id": "64948c2c",
   "metadata": {},
   "outputs": [
    {
     "data": {
      "text/markdown": [
       "Query: "
      ],
      "text/plain": [
       "<IPython.core.display.Markdown object>"
      ]
     },
     "metadata": {},
     "output_type": "display_data"
    },
    {
     "name": "stdout",
     "output_type": "stream",
     "text": [
      "\n",
      "    SELECT\n",
      "      net,\n",
      "      ROUND(AVG(signal),2) avg_signal,\n",
      "      MAX(speed) max_speed\n",
      "    FROM `bq-analyst-230590.project_cat_mobile_coverage_2015_2017.mobile_data_2015_2017_cleaned`\n",
      "    WHERE\n",
      "      year = 2017\n",
      "    GROUP BY 1;\n",
      "    \n"
     ]
    },
    {
     "data": {
      "text/markdown": [
       "Dataframe: **net_avg_sign_and_max_speed_2017**"
      ],
      "text/plain": [
       "<IPython.core.display.Markdown object>"
      ]
     },
     "metadata": {},
     "output_type": "display_data"
    },
    {
     "data": {
      "text/html": [
       "<div>\n",
       "<style scoped>\n",
       "    .dataframe tbody tr th:only-of-type {\n",
       "        vertical-align: middle;\n",
       "    }\n",
       "\n",
       "    .dataframe tbody tr th {\n",
       "        vertical-align: top;\n",
       "    }\n",
       "\n",
       "    .dataframe thead th {\n",
       "        text-align: right;\n",
       "    }\n",
       "</style>\n",
       "<table border=\"1\" class=\"dataframe\">\n",
       "  <thead>\n",
       "    <tr style=\"text-align: right;\">\n",
       "      <th></th>\n",
       "      <th>net</th>\n",
       "      <th>avg_signal</th>\n",
       "      <th>max_speed</th>\n",
       "    </tr>\n",
       "  </thead>\n",
       "  <tbody>\n",
       "    <tr>\n",
       "      <th>0</th>\n",
       "      <td>3G</td>\n",
       "      <td>13.38</td>\n",
       "      <td>254.9</td>\n",
       "    </tr>\n",
       "    <tr>\n",
       "      <th>1</th>\n",
       "      <td>4G</td>\n",
       "      <td>12.69</td>\n",
       "      <td>254.8</td>\n",
       "    </tr>\n",
       "    <tr>\n",
       "      <th>2</th>\n",
       "      <td>2G</td>\n",
       "      <td>12.46</td>\n",
       "      <td>254.7</td>\n",
       "    </tr>\n",
       "    <tr>\n",
       "      <th>3</th>\n",
       "      <td>Undefined net</td>\n",
       "      <td>12.14</td>\n",
       "      <td>254.1</td>\n",
       "    </tr>\n",
       "  </tbody>\n",
       "</table>\n",
       "</div>"
      ],
      "text/plain": [
       "             net  avg_signal  max_speed\n",
       "0             3G       13.38      254.9\n",
       "1             4G       12.69      254.8\n",
       "2             2G       12.46      254.7\n",
       "3  Undefined net       12.14      254.1"
      ]
     },
     "execution_count": 63,
     "metadata": {},
     "output_type": "execute_result"
    }
   ],
   "source": [
    "# Datasets: {mobile_data_cleaned}, {pop_density}, {percapita_income}\n",
    "\n",
    "query = f\"\"\"\n",
    "    SELECT\n",
    "      net,\n",
    "      ROUND(AVG(signal),2) avg_signal,\n",
    "      MAX(speed) max_speed\n",
    "    FROM `{mobile_data_cleaned}`\n",
    "    WHERE\n",
    "      year = 2017\n",
    "    GROUP BY 1;\n",
    "    \"\"\"\n",
    "# DataFrame name\n",
    "df_name = \"net_avg_sign_and_max_speed_2017\"\n",
    "\n",
    "# Execute the query and store the result in the DataFrame\n",
    "query_df(query, df_name)    "
   ]
  },
  {
   "cell_type": "markdown",
   "id": "bdf21dd3",
   "metadata": {},
   "source": [
    "8. Complex Filtering:\n",
    "   - Retrieve records from the 'mobile 2015_2017' table for the year 2017 where 'net' is '4G,' 'description' is 'STATE_IN_SERVICE,' and 'speed' is greater than 100."
   ]
  },
  {
   "cell_type": "code",
   "execution_count": 73,
   "id": "fa7ed263",
   "metadata": {},
   "outputs": [
    {
     "data": {
      "text/markdown": [
       "Query: "
      ],
      "text/plain": [
       "<IPython.core.display.Markdown object>"
      ]
     },
     "metadata": {},
     "output_type": "display_data"
    },
    {
     "name": "stdout",
     "output_type": "stream",
     "text": [
      "\n",
      "    SELECT\n",
      "      date,\n",
      "      operator,\n",
      "      net,\n",
      "      description,\n",
      "      signal,\n",
      "      speed\n",
      "    FROM `bq-analyst-230590.project_cat_mobile_coverage_2015_2017.mobile_data_2015_2017_cleaned`\n",
      "    WHERE\n",
      "      year = 2017\n",
      "      AND net = '4G'\n",
      "      AND description = 'STATE_IN_SERVICE'\n",
      "      AND speed > 100.0\n",
      "    ORDER BY 6 DESC\n",
      "    LIMIT 1000;\n",
      "    \n"
     ]
    },
    {
     "data": {
      "text/markdown": [
       "Dataframe: **filtered_data**"
      ],
      "text/plain": [
       "<IPython.core.display.Markdown object>"
      ]
     },
     "metadata": {},
     "output_type": "display_data"
    },
    {
     "data": {
      "text/html": [
       "<div>\n",
       "<style scoped>\n",
       "    .dataframe tbody tr th:only-of-type {\n",
       "        vertical-align: middle;\n",
       "    }\n",
       "\n",
       "    .dataframe tbody tr th {\n",
       "        vertical-align: top;\n",
       "    }\n",
       "\n",
       "    .dataframe thead th {\n",
       "        text-align: right;\n",
       "    }\n",
       "</style>\n",
       "<table border=\"1\" class=\"dataframe\">\n",
       "  <thead>\n",
       "    <tr style=\"text-align: right;\">\n",
       "      <th></th>\n",
       "      <th>date</th>\n",
       "      <th>operator</th>\n",
       "      <th>net</th>\n",
       "      <th>description</th>\n",
       "      <th>signal</th>\n",
       "      <th>speed</th>\n",
       "    </tr>\n",
       "  </thead>\n",
       "  <tbody>\n",
       "    <tr>\n",
       "      <th>0</th>\n",
       "      <td>2017-07-24</td>\n",
       "      <td>Movistar</td>\n",
       "      <td>4G</td>\n",
       "      <td>STATE_IN_SERVICE</td>\n",
       "      <td>26</td>\n",
       "      <td>253.1</td>\n",
       "    </tr>\n",
       "    <tr>\n",
       "      <th>1</th>\n",
       "      <td>2017-05-28</td>\n",
       "      <td>Vodafone</td>\n",
       "      <td>4G</td>\n",
       "      <td>STATE_IN_SERVICE</td>\n",
       "      <td>23</td>\n",
       "      <td>244.6</td>\n",
       "    </tr>\n",
       "    <tr>\n",
       "      <th>2</th>\n",
       "      <td>2017-02-22</td>\n",
       "      <td>Orange</td>\n",
       "      <td>4G</td>\n",
       "      <td>STATE_IN_SERVICE</td>\n",
       "      <td>14</td>\n",
       "      <td>242.6</td>\n",
       "    </tr>\n",
       "    <tr>\n",
       "      <th>3</th>\n",
       "      <td>2017-03-31</td>\n",
       "      <td>Orange</td>\n",
       "      <td>4G</td>\n",
       "      <td>STATE_IN_SERVICE</td>\n",
       "      <td>19</td>\n",
       "      <td>239.6</td>\n",
       "    </tr>\n",
       "    <tr>\n",
       "      <th>4</th>\n",
       "      <td>2017-05-10</td>\n",
       "      <td>Masmovil</td>\n",
       "      <td>4G</td>\n",
       "      <td>STATE_IN_SERVICE</td>\n",
       "      <td>13</td>\n",
       "      <td>229.5</td>\n",
       "    </tr>\n",
       "    <tr>\n",
       "      <th>...</th>\n",
       "      <td>...</td>\n",
       "      <td>...</td>\n",
       "      <td>...</td>\n",
       "      <td>...</td>\n",
       "      <td>...</td>\n",
       "      <td>...</td>\n",
       "    </tr>\n",
       "    <tr>\n",
       "      <th>570</th>\n",
       "      <td>2017-05-14</td>\n",
       "      <td>Vodafone</td>\n",
       "      <td>4G</td>\n",
       "      <td>STATE_IN_SERVICE</td>\n",
       "      <td>7</td>\n",
       "      <td>100.3</td>\n",
       "    </tr>\n",
       "    <tr>\n",
       "      <th>571</th>\n",
       "      <td>2017-07-15</td>\n",
       "      <td>Vodafone</td>\n",
       "      <td>4G</td>\n",
       "      <td>STATE_IN_SERVICE</td>\n",
       "      <td>9</td>\n",
       "      <td>100.3</td>\n",
       "    </tr>\n",
       "    <tr>\n",
       "      <th>572</th>\n",
       "      <td>2017-05-05</td>\n",
       "      <td>Orange</td>\n",
       "      <td>4G</td>\n",
       "      <td>STATE_IN_SERVICE</td>\n",
       "      <td>11</td>\n",
       "      <td>100.3</td>\n",
       "    </tr>\n",
       "    <tr>\n",
       "      <th>573</th>\n",
       "      <td>2017-07-25</td>\n",
       "      <td>Orange</td>\n",
       "      <td>4G</td>\n",
       "      <td>STATE_IN_SERVICE</td>\n",
       "      <td>12</td>\n",
       "      <td>100.2</td>\n",
       "    </tr>\n",
       "    <tr>\n",
       "      <th>574</th>\n",
       "      <td>2017-06-16</td>\n",
       "      <td>Movistar</td>\n",
       "      <td>4G</td>\n",
       "      <td>STATE_IN_SERVICE</td>\n",
       "      <td>6</td>\n",
       "      <td>100.1</td>\n",
       "    </tr>\n",
       "  </tbody>\n",
       "</table>\n",
       "<p>575 rows × 6 columns</p>\n",
       "</div>"
      ],
      "text/plain": [
       "           date  operator net       description  signal  speed\n",
       "0    2017-07-24  Movistar  4G  STATE_IN_SERVICE      26  253.1\n",
       "1    2017-05-28  Vodafone  4G  STATE_IN_SERVICE      23  244.6\n",
       "2    2017-02-22    Orange  4G  STATE_IN_SERVICE      14  242.6\n",
       "3    2017-03-31    Orange  4G  STATE_IN_SERVICE      19  239.6\n",
       "4    2017-05-10  Masmovil  4G  STATE_IN_SERVICE      13  229.5\n",
       "..          ...       ...  ..               ...     ...    ...\n",
       "570  2017-05-14  Vodafone  4G  STATE_IN_SERVICE       7  100.3\n",
       "571  2017-07-15  Vodafone  4G  STATE_IN_SERVICE       9  100.3\n",
       "572  2017-05-05    Orange  4G  STATE_IN_SERVICE      11  100.3\n",
       "573  2017-07-25    Orange  4G  STATE_IN_SERVICE      12  100.2\n",
       "574  2017-06-16  Movistar  4G  STATE_IN_SERVICE       6  100.1\n",
       "\n",
       "[575 rows x 6 columns]"
      ]
     },
     "execution_count": 73,
     "metadata": {},
     "output_type": "execute_result"
    }
   ],
   "source": [
    "# Datasets: {mobile_data_cleaned}, {pop_density}, {percapita_income}\n",
    "\n",
    "query = f\"\"\"\n",
    "    SELECT\n",
    "      date,\n",
    "      operator,\n",
    "      net,\n",
    "      description,\n",
    "      signal,\n",
    "      speed\n",
    "    FROM `{mobile_data_cleaned}`\n",
    "    WHERE\n",
    "      year = 2017\n",
    "      AND net = '4G'\n",
    "      AND description = 'STATE_IN_SERVICE'\n",
    "      AND speed > 100.0\n",
    "    ORDER BY 6 DESC\n",
    "    LIMIT 1000;\n",
    "    \"\"\"\n",
    "# DataFrame name\n",
    "df_name = \"filtered_data\"\n",
    "\n",
    "# Execute the query and store the result in the DataFrame\n",
    "query_df(query, df_name)    "
   ]
  },
  {
   "cell_type": "markdown",
   "id": "1a85c817",
   "metadata": {},
   "source": [
    "9. Data Validation:\n",
    "   - Identify and list all records in the 'mobile 2015_2017' table with missing values in the 'provider' column."
   ]
  },
  {
   "cell_type": "code",
   "execution_count": 74,
   "id": "aadf9708",
   "metadata": {},
   "outputs": [
    {
     "data": {
      "text/markdown": [
       "Query: "
      ],
      "text/plain": [
       "<IPython.core.display.Markdown object>"
      ]
     },
     "metadata": {},
     "output_type": "display_data"
    },
    {
     "name": "stdout",
     "output_type": "stream",
     "text": [
      "\n",
      "    SELECT\n",
      "      *\n",
      "    FROM `bq-analyst-230590.project_cat_mobile_coverage_2015_2017.mobile_data_2015_2017_cleaned`\n",
      "    WHERE\n",
      "      provider IS NULL\n",
      "    LIMIT 1000;\n",
      "    \n"
     ]
    },
    {
     "data": {
      "text/markdown": [
       "Dataframe: **null_provider**"
      ],
      "text/plain": [
       "<IPython.core.display.Markdown object>"
      ]
     },
     "metadata": {},
     "output_type": "display_data"
    },
    {
     "data": {
      "text/html": [
       "<div>\n",
       "<style scoped>\n",
       "    .dataframe tbody tr th:only-of-type {\n",
       "        vertical-align: middle;\n",
       "    }\n",
       "\n",
       "    .dataframe tbody tr th {\n",
       "        vertical-align: top;\n",
       "    }\n",
       "\n",
       "    .dataframe thead th {\n",
       "        text-align: right;\n",
       "    }\n",
       "</style>\n",
       "<table border=\"1\" class=\"dataframe\">\n",
       "  <thead>\n",
       "    <tr style=\"text-align: right;\">\n",
       "      <th></th>\n",
       "      <th>date</th>\n",
       "      <th>hour</th>\n",
       "      <th>lat</th>\n",
       "      <th>long</th>\n",
       "      <th>signal</th>\n",
       "      <th>network</th>\n",
       "      <th>operator</th>\n",
       "      <th>status</th>\n",
       "      <th>description</th>\n",
       "      <th>net</th>\n",
       "      <th>...</th>\n",
       "      <th>precission</th>\n",
       "      <th>provider</th>\n",
       "      <th>activity</th>\n",
       "      <th>postal_code</th>\n",
       "      <th>town_name</th>\n",
       "      <th>position_geom</th>\n",
       "      <th>province</th>\n",
       "      <th>year</th>\n",
       "      <th>month</th>\n",
       "      <th>hour_24h</th>\n",
       "    </tr>\n",
       "  </thead>\n",
       "  <tbody>\n",
       "  </tbody>\n",
       "</table>\n",
       "<p>0 rows × 22 columns</p>\n",
       "</div>"
      ],
      "text/plain": [
       "Empty DataFrame\n",
       "Columns: [date, hour, lat, long, signal, network, operator, status, description, net, speed, satellites, precission, provider, activity, postal_code, town_name, position_geom, province, year, month, hour_24h]\n",
       "Index: []\n",
       "\n",
       "[0 rows x 22 columns]"
      ]
     },
     "execution_count": 74,
     "metadata": {},
     "output_type": "execute_result"
    }
   ],
   "source": [
    "# Datasets: {mobile_data_cleaned}, {pop_density}, {percapita_income}\n",
    "\n",
    "query = f\"\"\"\n",
    "    SELECT\n",
    "      *\n",
    "    FROM `{mobile_data_cleaned}`\n",
    "    WHERE\n",
    "      provider IS NULL\n",
    "    LIMIT 1000;\n",
    "    \"\"\"\n",
    "# DataFrame name\n",
    "df_name = \"null_provider\"\n",
    "\n",
    "# Execute the query and store the result in the DataFrame\n",
    "query_df(query, df_name)    "
   ]
  },
  {
   "cell_type": "markdown",
   "id": "8897d5d2",
   "metadata": {},
   "source": [
    "10. Multiple Join:\n",
    "\n",
    "    - Join the 'mobile_2015_2017' table with the 'pop_density' and 'percapita_income' tables to create a unified dataset. The result should include information about mobile coverage, income per capita, and population density for each province in the year 2016. Perform a triple join to combine the data from these three tables into a single result set."
   ]
  },
  {
   "cell_type": "code",
   "execution_count": 84,
   "id": "a0409af6",
   "metadata": {},
   "outputs": [
    {
     "data": {
      "text/markdown": [
       "Query: "
      ],
      "text/plain": [
       "<IPython.core.display.Markdown object>"
      ]
     },
     "metadata": {},
     "output_type": "display_data"
    },
    {
     "name": "stdout",
     "output_type": "stream",
     "text": [
      "\n",
      "    SELECT\n",
      "      m.province,\n",
      "      m.year,\n",
      "      ROUND(AVG(m.signal),2) avg_signal,\n",
      "      ROUND(MAX(m.speed),2) max_speed,\n",
      "      p.per_capita_income,\n",
      "      d.density_per_sq_km pop_density_sq_km\n",
      "    FROM `bq-analyst-230590.project_cat_mobile_coverage_2015_2017.mobile_data_2015_2017_cleaned` m\n",
      "    JOIN `bq-analyst-230590.project_cat_mobile_coverage_2015_2017.cat_percapita_income_by_province_2015_2017` p\n",
      "        ON m.province = p.province\n",
      "        AND m.year = p.year\n",
      "    JOIN `bq-analyst-230590.project_cat_mobile_coverage_2015_2017.cat_pop_by_province_2015_2017` d\n",
      "        ON m.province = d.province\n",
      "        AND m.year = d.year\n",
      "    GROUP BY 1,2,5,6\n",
      "    ORDER BY 1,2 DESC;\n",
      "    \n"
     ]
    },
    {
     "data": {
      "text/markdown": [
       "Dataframe: **triple_join_data**"
      ],
      "text/plain": [
       "<IPython.core.display.Markdown object>"
      ]
     },
     "metadata": {},
     "output_type": "display_data"
    },
    {
     "data": {
      "text/html": [
       "<div>\n",
       "<style scoped>\n",
       "    .dataframe tbody tr th:only-of-type {\n",
       "        vertical-align: middle;\n",
       "    }\n",
       "\n",
       "    .dataframe tbody tr th {\n",
       "        vertical-align: top;\n",
       "    }\n",
       "\n",
       "    .dataframe thead th {\n",
       "        text-align: right;\n",
       "    }\n",
       "</style>\n",
       "<table border=\"1\" class=\"dataframe\">\n",
       "  <thead>\n",
       "    <tr style=\"text-align: right;\">\n",
       "      <th></th>\n",
       "      <th>province</th>\n",
       "      <th>year</th>\n",
       "      <th>avg_signal</th>\n",
       "      <th>max_speed</th>\n",
       "      <th>per_capita_income</th>\n",
       "      <th>pop_density_sq_km</th>\n",
       "    </tr>\n",
       "  </thead>\n",
       "  <tbody>\n",
       "    <tr>\n",
       "      <th>0</th>\n",
       "      <td>Barcelona</td>\n",
       "      <td>2017</td>\n",
       "      <td>12.86</td>\n",
       "      <td>254.8</td>\n",
       "      <td>28481</td>\n",
       "      <td>731.6</td>\n",
       "    </tr>\n",
       "    <tr>\n",
       "      <th>1</th>\n",
       "      <td>Barcelona</td>\n",
       "      <td>2016</td>\n",
       "      <td>13.38</td>\n",
       "      <td>255.0</td>\n",
       "      <td>27913</td>\n",
       "      <td>729.4</td>\n",
       "    </tr>\n",
       "    <tr>\n",
       "      <th>2</th>\n",
       "      <td>Barcelona</td>\n",
       "      <td>2015</td>\n",
       "      <td>14.21</td>\n",
       "      <td>255.0</td>\n",
       "      <td>27214</td>\n",
       "      <td>727.2</td>\n",
       "    </tr>\n",
       "    <tr>\n",
       "      <th>3</th>\n",
       "      <td>Girona</td>\n",
       "      <td>2017</td>\n",
       "      <td>11.92</td>\n",
       "      <td>253.9</td>\n",
       "      <td>25992</td>\n",
       "      <td>129.8</td>\n",
       "    </tr>\n",
       "    <tr>\n",
       "      <th>4</th>\n",
       "      <td>Girona</td>\n",
       "      <td>2016</td>\n",
       "      <td>11.94</td>\n",
       "      <td>255.0</td>\n",
       "      <td>25598</td>\n",
       "      <td>129.7</td>\n",
       "    </tr>\n",
       "    <tr>\n",
       "      <th>5</th>\n",
       "      <td>Girona</td>\n",
       "      <td>2015</td>\n",
       "      <td>12.18</td>\n",
       "      <td>254.9</td>\n",
       "      <td>25200</td>\n",
       "      <td>129.6</td>\n",
       "    </tr>\n",
       "    <tr>\n",
       "      <th>6</th>\n",
       "      <td>Lleida</td>\n",
       "      <td>2017</td>\n",
       "      <td>11.81</td>\n",
       "      <td>254.9</td>\n",
       "      <td>21091</td>\n",
       "      <td>61.0</td>\n",
       "    </tr>\n",
       "    <tr>\n",
       "      <th>7</th>\n",
       "      <td>Lleida</td>\n",
       "      <td>2016</td>\n",
       "      <td>12.83</td>\n",
       "      <td>254.6</td>\n",
       "      <td>20713</td>\n",
       "      <td>61.0</td>\n",
       "    </tr>\n",
       "    <tr>\n",
       "      <th>8</th>\n",
       "      <td>Lleida</td>\n",
       "      <td>2015</td>\n",
       "      <td>12.49</td>\n",
       "      <td>254.8</td>\n",
       "      <td>20136</td>\n",
       "      <td>61.0</td>\n",
       "    </tr>\n",
       "    <tr>\n",
       "      <th>9</th>\n",
       "      <td>Tarragona</td>\n",
       "      <td>2017</td>\n",
       "      <td>12.96</td>\n",
       "      <td>254.9</td>\n",
       "      <td>23534</td>\n",
       "      <td>128.6</td>\n",
       "    </tr>\n",
       "    <tr>\n",
       "      <th>10</th>\n",
       "      <td>Tarragona</td>\n",
       "      <td>2016</td>\n",
       "      <td>12.70</td>\n",
       "      <td>254.3</td>\n",
       "      <td>23130</td>\n",
       "      <td>128.7</td>\n",
       "    </tr>\n",
       "    <tr>\n",
       "      <th>11</th>\n",
       "      <td>Tarragona</td>\n",
       "      <td>2015</td>\n",
       "      <td>12.84</td>\n",
       "      <td>254.9</td>\n",
       "      <td>22486</td>\n",
       "      <td>128.7</td>\n",
       "    </tr>\n",
       "  </tbody>\n",
       "</table>\n",
       "</div>"
      ],
      "text/plain": [
       "     province  year  avg_signal  max_speed  per_capita_income  \\\n",
       "0   Barcelona  2017       12.86      254.8              28481   \n",
       "1   Barcelona  2016       13.38      255.0              27913   \n",
       "2   Barcelona  2015       14.21      255.0              27214   \n",
       "3      Girona  2017       11.92      253.9              25992   \n",
       "4      Girona  2016       11.94      255.0              25598   \n",
       "5      Girona  2015       12.18      254.9              25200   \n",
       "6      Lleida  2017       11.81      254.9              21091   \n",
       "7      Lleida  2016       12.83      254.6              20713   \n",
       "8      Lleida  2015       12.49      254.8              20136   \n",
       "9   Tarragona  2017       12.96      254.9              23534   \n",
       "10  Tarragona  2016       12.70      254.3              23130   \n",
       "11  Tarragona  2015       12.84      254.9              22486   \n",
       "\n",
       "    pop_density_sq_km  \n",
       "0               731.6  \n",
       "1               729.4  \n",
       "2               727.2  \n",
       "3               129.8  \n",
       "4               129.7  \n",
       "5               129.6  \n",
       "6                61.0  \n",
       "7                61.0  \n",
       "8                61.0  \n",
       "9               128.6  \n",
       "10              128.7  \n",
       "11              128.7  "
      ]
     },
     "execution_count": 84,
     "metadata": {},
     "output_type": "execute_result"
    }
   ],
   "source": [
    "# Datasets: {mobile_data_cleaned}, {pop_density}, {percapita_income}\n",
    "\n",
    "query = f\"\"\"\n",
    "    SELECT\n",
    "      m.province,\n",
    "      m.year,\n",
    "      ROUND(AVG(m.signal),2) avg_signal,\n",
    "      ROUND(MAX(m.speed),2) max_speed,\n",
    "      p.per_capita_income,\n",
    "      d.density_per_sq_km pop_density_sq_km\n",
    "    FROM `{mobile_data_cleaned}` m\n",
    "    JOIN `{percapita_income}` p\n",
    "        ON m.province = p.province\n",
    "        AND m.year = p.year\n",
    "    JOIN `{pop_density}` d\n",
    "        ON m.province = d.province\n",
    "        AND m.year = d.year\n",
    "    GROUP BY 1,2,5,6\n",
    "    ORDER BY 1,2 DESC;\n",
    "    \"\"\"\n",
    "# DataFrame name\n",
    "df_name = \"triple_join_data\"\n",
    "\n",
    "# Execute the query and store the result in the DataFrame\n",
    "query_df(query, df_name)    "
   ]
  },
  {
   "cell_type": "markdown",
   "id": "4293d3c0",
   "metadata": {},
   "source": [
    "11. Different Joins and Count with NULL Values:\n",
    "\n",
    "    - In the pop_density table, add a couple of rows with NULL values for the province column to simulate missing data. Then, perform the following join operations with the mobile_2015_2017 table:"
   ]
  },
  {
   "cell_type": "code",
   "execution_count": 96,
   "id": "d6e1af66",
   "metadata": {},
   "outputs": [
    {
     "data": {
      "text/markdown": [
       "Query: "
      ],
      "text/plain": [
       "<IPython.core.display.Markdown object>"
      ]
     },
     "metadata": {},
     "output_type": "display_data"
    },
    {
     "name": "stdout",
     "output_type": "stream",
     "text": [
      "\n",
      "    INSERT INTO `bq-analyst-230590.project_cat_mobile_coverage_2015_2017.cat_pop_by_province_2015_2017`(year, population, sq_km)\n",
      "    VALUES \n",
      "        (2015, 600000, 500),\n",
      "        (2014, 530000, 490),\n",
      "        (2016, 420000, 400),\n",
      "        (2017, 385000, 380);\n",
      "    \n",
      "    INSERT INTO `bq-analyst-230590.project_cat_mobile_coverage_2015_2017.cat_pop_by_province_2015_2017`(province, year, sq_km)\n",
      "    VALUES\n",
      "        ('Costa Brava', 2017, 678),\n",
      "        ('Pirineus', 2015, 10000)\n",
      "    \n"
     ]
    },
    {
     "data": {
      "text/markdown": [
       "Dataframe: **added_null_province_rows**"
      ],
      "text/plain": [
       "<IPython.core.display.Markdown object>"
      ]
     },
     "metadata": {},
     "output_type": "display_data"
    },
    {
     "data": {
      "text/html": [
       "<div>\n",
       "<style scoped>\n",
       "    .dataframe tbody tr th:only-of-type {\n",
       "        vertical-align: middle;\n",
       "    }\n",
       "\n",
       "    .dataframe tbody tr th {\n",
       "        vertical-align: top;\n",
       "    }\n",
       "\n",
       "    .dataframe thead th {\n",
       "        text-align: right;\n",
       "    }\n",
       "</style>\n",
       "<table border=\"1\" class=\"dataframe\">\n",
       "  <thead>\n",
       "    <tr style=\"text-align: right;\">\n",
       "      <th></th>\n",
       "    </tr>\n",
       "  </thead>\n",
       "  <tbody>\n",
       "  </tbody>\n",
       "</table>\n",
       "</div>"
      ],
      "text/plain": [
       "Empty DataFrame\n",
       "Columns: []\n",
       "Index: []"
      ]
     },
     "execution_count": 96,
     "metadata": {},
     "output_type": "execute_result"
    }
   ],
   "source": [
    "# Datasets: {mobile_data_cleaned}, {pop_density}, {percapita_income}\n",
    "\n",
    "# pop_density columns: province, year, population, sq_km, density_per_sq_km\n",
    "\n",
    "query = f\"\"\"\n",
    "    INSERT INTO `{pop_density}`(year, population, sq_km)\n",
    "    VALUES \n",
    "        (2015, 600000, 500),\n",
    "        (2014, 530000, 490),\n",
    "        (2016, 420000, 400),\n",
    "        (2017, 385000, 380);\n",
    "    \n",
    "    INSERT INTO `{pop_density}`(province, year, sq_km)\n",
    "    VALUES\n",
    "        ('Costa Brava', 2017, 678),\n",
    "        ('Pirineus', 2015, 10000)\n",
    "    \"\"\"\n",
    "# DataFrame name\n",
    "df_name = \"added_null_province_rows\"\n",
    "\n",
    "# Execute the query and store the result in the DataFrame\n",
    "query_df(query, df_name)    "
   ]
  },
  {
   "cell_type": "code",
   "execution_count": 97,
   "id": "48b86d80",
   "metadata": {},
   "outputs": [
    {
     "data": {
      "text/markdown": [
       "Query: "
      ],
      "text/plain": [
       "<IPython.core.display.Markdown object>"
      ]
     },
     "metadata": {},
     "output_type": "display_data"
    },
    {
     "name": "stdout",
     "output_type": "stream",
     "text": [
      "\n",
      "    SELECT *\n",
      "    FROM `bq-analyst-230590.project_cat_mobile_coverage_2015_2017.cat_pop_by_province_2015_2017`\n",
      "    \n"
     ]
    },
    {
     "data": {
      "text/markdown": [
       "Dataframe: **pop_density_with_nulls**"
      ],
      "text/plain": [
       "<IPython.core.display.Markdown object>"
      ]
     },
     "metadata": {},
     "output_type": "display_data"
    },
    {
     "data": {
      "text/html": [
       "<div>\n",
       "<style scoped>\n",
       "    .dataframe tbody tr th:only-of-type {\n",
       "        vertical-align: middle;\n",
       "    }\n",
       "\n",
       "    .dataframe tbody tr th {\n",
       "        vertical-align: top;\n",
       "    }\n",
       "\n",
       "    .dataframe thead th {\n",
       "        text-align: right;\n",
       "    }\n",
       "</style>\n",
       "<table border=\"1\" class=\"dataframe\">\n",
       "  <thead>\n",
       "    <tr style=\"text-align: right;\">\n",
       "      <th></th>\n",
       "      <th>province</th>\n",
       "      <th>year</th>\n",
       "      <th>population</th>\n",
       "      <th>sq_km</th>\n",
       "      <th>density_per_sq_km</th>\n",
       "    </tr>\n",
       "  </thead>\n",
       "  <tbody>\n",
       "    <tr>\n",
       "      <th>0</th>\n",
       "      <td>None</td>\n",
       "      <td>2015</td>\n",
       "      <td>600000.0</td>\n",
       "      <td>500</td>\n",
       "      <td>NaN</td>\n",
       "    </tr>\n",
       "    <tr>\n",
       "      <th>1</th>\n",
       "      <td>None</td>\n",
       "      <td>2016</td>\n",
       "      <td>420000.0</td>\n",
       "      <td>400</td>\n",
       "      <td>NaN</td>\n",
       "    </tr>\n",
       "    <tr>\n",
       "      <th>2</th>\n",
       "      <td>None</td>\n",
       "      <td>2017</td>\n",
       "      <td>385000.0</td>\n",
       "      <td>380</td>\n",
       "      <td>NaN</td>\n",
       "    </tr>\n",
       "    <tr>\n",
       "      <th>3</th>\n",
       "      <td>None</td>\n",
       "      <td>2014</td>\n",
       "      <td>530000.0</td>\n",
       "      <td>490</td>\n",
       "      <td>NaN</td>\n",
       "    </tr>\n",
       "    <tr>\n",
       "      <th>4</th>\n",
       "      <td>Girona</td>\n",
       "      <td>2017</td>\n",
       "      <td>766705.0</td>\n",
       "      <td>5908</td>\n",
       "      <td>129.8</td>\n",
       "    </tr>\n",
       "    <tr>\n",
       "      <th>5</th>\n",
       "      <td>Girona</td>\n",
       "      <td>2016</td>\n",
       "      <td>766273.0</td>\n",
       "      <td>5908</td>\n",
       "      <td>129.7</td>\n",
       "    </tr>\n",
       "    <tr>\n",
       "      <th>6</th>\n",
       "      <td>Girona</td>\n",
       "      <td>2015</td>\n",
       "      <td>765783.0</td>\n",
       "      <td>5908</td>\n",
       "      <td>129.6</td>\n",
       "    </tr>\n",
       "    <tr>\n",
       "      <th>7</th>\n",
       "      <td>Barcelona</td>\n",
       "      <td>2016</td>\n",
       "      <td>5635085.0</td>\n",
       "      <td>7726</td>\n",
       "      <td>729.4</td>\n",
       "    </tr>\n",
       "    <tr>\n",
       "      <th>8</th>\n",
       "      <td>Barcelona</td>\n",
       "      <td>2015</td>\n",
       "      <td>5618162.0</td>\n",
       "      <td>7726</td>\n",
       "      <td>727.2</td>\n",
       "    </tr>\n",
       "    <tr>\n",
       "      <th>9</th>\n",
       "      <td>Barcelona</td>\n",
       "      <td>2017</td>\n",
       "      <td>5652301.0</td>\n",
       "      <td>7726</td>\n",
       "      <td>731.6</td>\n",
       "    </tr>\n",
       "    <tr>\n",
       "      <th>10</th>\n",
       "      <td>Lleida</td>\n",
       "      <td>2017</td>\n",
       "      <td>741884.0</td>\n",
       "      <td>12172</td>\n",
       "      <td>61.0</td>\n",
       "    </tr>\n",
       "    <tr>\n",
       "      <th>11</th>\n",
       "      <td>Lleida</td>\n",
       "      <td>2016</td>\n",
       "      <td>742099.0</td>\n",
       "      <td>12172</td>\n",
       "      <td>61.0</td>\n",
       "    </tr>\n",
       "    <tr>\n",
       "      <th>12</th>\n",
       "      <td>Lleida</td>\n",
       "      <td>2015</td>\n",
       "      <td>742138.0</td>\n",
       "      <td>12172</td>\n",
       "      <td>61.0</td>\n",
       "    </tr>\n",
       "    <tr>\n",
       "      <th>13</th>\n",
       "      <td>Tarragona</td>\n",
       "      <td>2015</td>\n",
       "      <td>811089.0</td>\n",
       "      <td>6303</td>\n",
       "      <td>128.7</td>\n",
       "    </tr>\n",
       "    <tr>\n",
       "      <th>14</th>\n",
       "      <td>Tarragona</td>\n",
       "      <td>2017</td>\n",
       "      <td>810600.0</td>\n",
       "      <td>6303</td>\n",
       "      <td>128.6</td>\n",
       "    </tr>\n",
       "    <tr>\n",
       "      <th>15</th>\n",
       "      <td>Tarragona</td>\n",
       "      <td>2016</td>\n",
       "      <td>810947.0</td>\n",
       "      <td>6303</td>\n",
       "      <td>128.7</td>\n",
       "    </tr>\n",
       "    <tr>\n",
       "      <th>16</th>\n",
       "      <td>None</td>\n",
       "      <td>2017</td>\n",
       "      <td>385000.0</td>\n",
       "      <td>380</td>\n",
       "      <td>NaN</td>\n",
       "    </tr>\n",
       "    <tr>\n",
       "      <th>17</th>\n",
       "      <td>None</td>\n",
       "      <td>2015</td>\n",
       "      <td>600000.0</td>\n",
       "      <td>500</td>\n",
       "      <td>NaN</td>\n",
       "    </tr>\n",
       "    <tr>\n",
       "      <th>18</th>\n",
       "      <td>None</td>\n",
       "      <td>2014</td>\n",
       "      <td>530000.0</td>\n",
       "      <td>490</td>\n",
       "      <td>NaN</td>\n",
       "    </tr>\n",
       "    <tr>\n",
       "      <th>19</th>\n",
       "      <td>None</td>\n",
       "      <td>2016</td>\n",
       "      <td>420000.0</td>\n",
       "      <td>400</td>\n",
       "      <td>NaN</td>\n",
       "    </tr>\n",
       "    <tr>\n",
       "      <th>20</th>\n",
       "      <td>Pirineus</td>\n",
       "      <td>2015</td>\n",
       "      <td>NaN</td>\n",
       "      <td>10000</td>\n",
       "      <td>NaN</td>\n",
       "    </tr>\n",
       "    <tr>\n",
       "      <th>21</th>\n",
       "      <td>Costa Brava</td>\n",
       "      <td>2017</td>\n",
       "      <td>NaN</td>\n",
       "      <td>678</td>\n",
       "      <td>NaN</td>\n",
       "    </tr>\n",
       "  </tbody>\n",
       "</table>\n",
       "</div>"
      ],
      "text/plain": [
       "       province  year  population  sq_km  density_per_sq_km\n",
       "0          None  2015    600000.0    500                NaN\n",
       "1          None  2016    420000.0    400                NaN\n",
       "2          None  2017    385000.0    380                NaN\n",
       "3          None  2014    530000.0    490                NaN\n",
       "4        Girona  2017    766705.0   5908              129.8\n",
       "5        Girona  2016    766273.0   5908              129.7\n",
       "6        Girona  2015    765783.0   5908              129.6\n",
       "7     Barcelona  2016   5635085.0   7726              729.4\n",
       "8     Barcelona  2015   5618162.0   7726              727.2\n",
       "9     Barcelona  2017   5652301.0   7726              731.6\n",
       "10       Lleida  2017    741884.0  12172               61.0\n",
       "11       Lleida  2016    742099.0  12172               61.0\n",
       "12       Lleida  2015    742138.0  12172               61.0\n",
       "13    Tarragona  2015    811089.0   6303              128.7\n",
       "14    Tarragona  2017    810600.0   6303              128.6\n",
       "15    Tarragona  2016    810947.0   6303              128.7\n",
       "16         None  2017    385000.0    380                NaN\n",
       "17         None  2015    600000.0    500                NaN\n",
       "18         None  2014    530000.0    490                NaN\n",
       "19         None  2016    420000.0    400                NaN\n",
       "20     Pirineus  2015         NaN  10000                NaN\n",
       "21  Costa Brava  2017         NaN    678                NaN"
      ]
     },
     "execution_count": 97,
     "metadata": {},
     "output_type": "execute_result"
    }
   ],
   "source": [
    "# Check updated pop_density dataset\n",
    "\n",
    "query = f\"\"\"\n",
    "    SELECT *\n",
    "    FROM `{pop_density}`\n",
    "    \"\"\"\n",
    "# DataFrame name\n",
    "df_name = \"pop_density_with_nulls\"\n",
    "\n",
    "# Execute the query and store the result in the DataFrame\n",
    "query_df(query, df_name)    "
   ]
  },
  {
   "cell_type": "markdown",
   "id": "6a6df854",
   "metadata": {},
   "source": [
    "    - a. LEFT JOIN: Count the number of records for each province and year, including provinces with NULL values in the pop_density table."
   ]
  },
  {
   "cell_type": "code",
   "execution_count": 98,
   "id": "b16b7fa5",
   "metadata": {},
   "outputs": [
    {
     "data": {
      "text/markdown": [
       "Query: "
      ],
      "text/plain": [
       "<IPython.core.display.Markdown object>"
      ]
     },
     "metadata": {},
     "output_type": "display_data"
    },
    {
     "name": "stdout",
     "output_type": "stream",
     "text": [
      "\n",
      "    SELECT\n",
      "      d.province,\n",
      "      d.year,\n",
      "      COUNT(m.signal) activity_count\n",
      "    FROM `bq-analyst-230590.project_cat_mobile_coverage_2015_2017.cat_pop_by_province_2015_2017` d\n",
      "    LEFT JOIN `bq-analyst-230590.project_cat_mobile_coverage_2015_2017.mobile_data_2015_2017_cleaned` m\n",
      "        ON d.province = m.province\n",
      "        AND d.year = m.year\n",
      "    GROUP BY 1,2\n",
      "    ORDER BY 1,2 DESC;\n",
      "    \n"
     ]
    },
    {
     "data": {
      "text/markdown": [
       "Dataframe: **left_join**"
      ],
      "text/plain": [
       "<IPython.core.display.Markdown object>"
      ]
     },
     "metadata": {},
     "output_type": "display_data"
    },
    {
     "data": {
      "text/html": [
       "<div>\n",
       "<style scoped>\n",
       "    .dataframe tbody tr th:only-of-type {\n",
       "        vertical-align: middle;\n",
       "    }\n",
       "\n",
       "    .dataframe tbody tr th {\n",
       "        vertical-align: top;\n",
       "    }\n",
       "\n",
       "    .dataframe thead th {\n",
       "        text-align: right;\n",
       "    }\n",
       "</style>\n",
       "<table border=\"1\" class=\"dataframe\">\n",
       "  <thead>\n",
       "    <tr style=\"text-align: right;\">\n",
       "      <th></th>\n",
       "      <th>province</th>\n",
       "      <th>year</th>\n",
       "      <th>activity_count</th>\n",
       "    </tr>\n",
       "  </thead>\n",
       "  <tbody>\n",
       "    <tr>\n",
       "      <th>0</th>\n",
       "      <td>None</td>\n",
       "      <td>2017</td>\n",
       "      <td>0</td>\n",
       "    </tr>\n",
       "    <tr>\n",
       "      <th>1</th>\n",
       "      <td>None</td>\n",
       "      <td>2016</td>\n",
       "      <td>0</td>\n",
       "    </tr>\n",
       "    <tr>\n",
       "      <th>2</th>\n",
       "      <td>None</td>\n",
       "      <td>2015</td>\n",
       "      <td>0</td>\n",
       "    </tr>\n",
       "    <tr>\n",
       "      <th>3</th>\n",
       "      <td>None</td>\n",
       "      <td>2014</td>\n",
       "      <td>0</td>\n",
       "    </tr>\n",
       "    <tr>\n",
       "      <th>4</th>\n",
       "      <td>Barcelona</td>\n",
       "      <td>2017</td>\n",
       "      <td>1414418</td>\n",
       "    </tr>\n",
       "    <tr>\n",
       "      <th>5</th>\n",
       "      <td>Barcelona</td>\n",
       "      <td>2016</td>\n",
       "      <td>3072932</td>\n",
       "    </tr>\n",
       "    <tr>\n",
       "      <th>6</th>\n",
       "      <td>Barcelona</td>\n",
       "      <td>2015</td>\n",
       "      <td>2795464</td>\n",
       "    </tr>\n",
       "    <tr>\n",
       "      <th>7</th>\n",
       "      <td>Costa Brava</td>\n",
       "      <td>2017</td>\n",
       "      <td>0</td>\n",
       "    </tr>\n",
       "    <tr>\n",
       "      <th>8</th>\n",
       "      <td>Girona</td>\n",
       "      <td>2017</td>\n",
       "      <td>269798</td>\n",
       "    </tr>\n",
       "    <tr>\n",
       "      <th>9</th>\n",
       "      <td>Girona</td>\n",
       "      <td>2016</td>\n",
       "      <td>551592</td>\n",
       "    </tr>\n",
       "    <tr>\n",
       "      <th>10</th>\n",
       "      <td>Girona</td>\n",
       "      <td>2015</td>\n",
       "      <td>554302</td>\n",
       "    </tr>\n",
       "    <tr>\n",
       "      <th>11</th>\n",
       "      <td>Lleida</td>\n",
       "      <td>2017</td>\n",
       "      <td>178127</td>\n",
       "    </tr>\n",
       "    <tr>\n",
       "      <th>12</th>\n",
       "      <td>Lleida</td>\n",
       "      <td>2016</td>\n",
       "      <td>333026</td>\n",
       "    </tr>\n",
       "    <tr>\n",
       "      <th>13</th>\n",
       "      <td>Lleida</td>\n",
       "      <td>2015</td>\n",
       "      <td>483459</td>\n",
       "    </tr>\n",
       "    <tr>\n",
       "      <th>14</th>\n",
       "      <td>Pirineus</td>\n",
       "      <td>2015</td>\n",
       "      <td>0</td>\n",
       "    </tr>\n",
       "    <tr>\n",
       "      <th>15</th>\n",
       "      <td>Tarragona</td>\n",
       "      <td>2017</td>\n",
       "      <td>210523</td>\n",
       "    </tr>\n",
       "    <tr>\n",
       "      <th>16</th>\n",
       "      <td>Tarragona</td>\n",
       "      <td>2016</td>\n",
       "      <td>350105</td>\n",
       "    </tr>\n",
       "    <tr>\n",
       "      <th>17</th>\n",
       "      <td>Tarragona</td>\n",
       "      <td>2015</td>\n",
       "      <td>430160</td>\n",
       "    </tr>\n",
       "  </tbody>\n",
       "</table>\n",
       "</div>"
      ],
      "text/plain": [
       "       province  year  activity_count\n",
       "0          None  2017               0\n",
       "1          None  2016               0\n",
       "2          None  2015               0\n",
       "3          None  2014               0\n",
       "4     Barcelona  2017         1414418\n",
       "5     Barcelona  2016         3072932\n",
       "6     Barcelona  2015         2795464\n",
       "7   Costa Brava  2017               0\n",
       "8        Girona  2017          269798\n",
       "9        Girona  2016          551592\n",
       "10       Girona  2015          554302\n",
       "11       Lleida  2017          178127\n",
       "12       Lleida  2016          333026\n",
       "13       Lleida  2015          483459\n",
       "14     Pirineus  2015               0\n",
       "15    Tarragona  2017          210523\n",
       "16    Tarragona  2016          350105\n",
       "17    Tarragona  2015          430160"
      ]
     },
     "execution_count": 98,
     "metadata": {},
     "output_type": "execute_result"
    }
   ],
   "source": [
    "# Datasets: {mobile_data_cleaned}, {pop_density}, {percapita_income}\n",
    "\n",
    "query = f\"\"\"\n",
    "    SELECT\n",
    "      d.province,\n",
    "      d.year,\n",
    "      COUNT(m.signal) activity_count\n",
    "    FROM `{pop_density}` d\n",
    "    LEFT JOIN `{mobile_data_cleaned}` m\n",
    "        ON d.province = m.province\n",
    "        AND d.year = m.year\n",
    "    GROUP BY 1,2\n",
    "    ORDER BY 1,2 DESC;\n",
    "    \"\"\"\n",
    "# DataFrame name\n",
    "df_name = \"left_join\"\n",
    "\n",
    "# Execute the query and store the result in the DataFrame\n",
    "query_df(query, df_name)    "
   ]
  },
  {
   "cell_type": "markdown",
   "id": "d29a1b81",
   "metadata": {},
   "source": [
    "Left Join: include all rows from {pop_density} with NULL values in the columns from {mobile_2015_2017}"
   ]
  },
  {
   "cell_type": "markdown",
   "id": "a5abbc95",
   "metadata": {},
   "source": [
    "    - b. RIGHT JOIN: Count the number of records for each province and year, excluding provinces with NULL values in the pop_density table.\n"
   ]
  },
  {
   "cell_type": "code",
   "execution_count": 99,
   "id": "fc18b8e8",
   "metadata": {},
   "outputs": [
    {
     "data": {
      "text/markdown": [
       "Query: "
      ],
      "text/plain": [
       "<IPython.core.display.Markdown object>"
      ]
     },
     "metadata": {},
     "output_type": "display_data"
    },
    {
     "name": "stdout",
     "output_type": "stream",
     "text": [
      "\n",
      "    SELECT\n",
      "      d.province,\n",
      "      d.year,\n",
      "      ROUND(AVG(m.signal),2) avg_signal,\n",
      "      ROUND(MAX(m.speed),2) max_speed\n",
      "    FROM `bq-analyst-230590.project_cat_mobile_coverage_2015_2017.cat_pop_by_province_2015_2017` d\n",
      "    RIGHT JOIN `bq-analyst-230590.project_cat_mobile_coverage_2015_2017.mobile_data_2015_2017_cleaned` m\n",
      "        ON d.province = m.province\n",
      "        AND d.year = m.year\n",
      "    GROUP BY 1,2\n",
      "    ORDER BY 1,2 DESC;\n",
      "    \n"
     ]
    },
    {
     "data": {
      "text/markdown": [
       "Dataframe: **right_join**"
      ],
      "text/plain": [
       "<IPython.core.display.Markdown object>"
      ]
     },
     "metadata": {},
     "output_type": "display_data"
    },
    {
     "data": {
      "text/html": [
       "<div>\n",
       "<style scoped>\n",
       "    .dataframe tbody tr th:only-of-type {\n",
       "        vertical-align: middle;\n",
       "    }\n",
       "\n",
       "    .dataframe tbody tr th {\n",
       "        vertical-align: top;\n",
       "    }\n",
       "\n",
       "    .dataframe thead th {\n",
       "        text-align: right;\n",
       "    }\n",
       "</style>\n",
       "<table border=\"1\" class=\"dataframe\">\n",
       "  <thead>\n",
       "    <tr style=\"text-align: right;\">\n",
       "      <th></th>\n",
       "      <th>province</th>\n",
       "      <th>year</th>\n",
       "      <th>avg_signal</th>\n",
       "      <th>max_speed</th>\n",
       "    </tr>\n",
       "  </thead>\n",
       "  <tbody>\n",
       "    <tr>\n",
       "      <th>0</th>\n",
       "      <td>Barcelona</td>\n",
       "      <td>2017</td>\n",
       "      <td>12.86</td>\n",
       "      <td>254.8</td>\n",
       "    </tr>\n",
       "    <tr>\n",
       "      <th>1</th>\n",
       "      <td>Barcelona</td>\n",
       "      <td>2016</td>\n",
       "      <td>13.38</td>\n",
       "      <td>255.0</td>\n",
       "    </tr>\n",
       "    <tr>\n",
       "      <th>2</th>\n",
       "      <td>Barcelona</td>\n",
       "      <td>2015</td>\n",
       "      <td>14.21</td>\n",
       "      <td>255.0</td>\n",
       "    </tr>\n",
       "    <tr>\n",
       "      <th>3</th>\n",
       "      <td>Girona</td>\n",
       "      <td>2017</td>\n",
       "      <td>11.92</td>\n",
       "      <td>253.9</td>\n",
       "    </tr>\n",
       "    <tr>\n",
       "      <th>4</th>\n",
       "      <td>Girona</td>\n",
       "      <td>2016</td>\n",
       "      <td>11.94</td>\n",
       "      <td>255.0</td>\n",
       "    </tr>\n",
       "    <tr>\n",
       "      <th>5</th>\n",
       "      <td>Girona</td>\n",
       "      <td>2015</td>\n",
       "      <td>12.18</td>\n",
       "      <td>254.9</td>\n",
       "    </tr>\n",
       "    <tr>\n",
       "      <th>6</th>\n",
       "      <td>Lleida</td>\n",
       "      <td>2017</td>\n",
       "      <td>11.81</td>\n",
       "      <td>254.9</td>\n",
       "    </tr>\n",
       "    <tr>\n",
       "      <th>7</th>\n",
       "      <td>Lleida</td>\n",
       "      <td>2016</td>\n",
       "      <td>12.83</td>\n",
       "      <td>254.6</td>\n",
       "    </tr>\n",
       "    <tr>\n",
       "      <th>8</th>\n",
       "      <td>Lleida</td>\n",
       "      <td>2015</td>\n",
       "      <td>12.49</td>\n",
       "      <td>254.8</td>\n",
       "    </tr>\n",
       "    <tr>\n",
       "      <th>9</th>\n",
       "      <td>Tarragona</td>\n",
       "      <td>2017</td>\n",
       "      <td>12.96</td>\n",
       "      <td>254.9</td>\n",
       "    </tr>\n",
       "    <tr>\n",
       "      <th>10</th>\n",
       "      <td>Tarragona</td>\n",
       "      <td>2016</td>\n",
       "      <td>12.70</td>\n",
       "      <td>254.3</td>\n",
       "    </tr>\n",
       "    <tr>\n",
       "      <th>11</th>\n",
       "      <td>Tarragona</td>\n",
       "      <td>2015</td>\n",
       "      <td>12.84</td>\n",
       "      <td>254.9</td>\n",
       "    </tr>\n",
       "  </tbody>\n",
       "</table>\n",
       "</div>"
      ],
      "text/plain": [
       "     province  year  avg_signal  max_speed\n",
       "0   Barcelona  2017       12.86      254.8\n",
       "1   Barcelona  2016       13.38      255.0\n",
       "2   Barcelona  2015       14.21      255.0\n",
       "3      Girona  2017       11.92      253.9\n",
       "4      Girona  2016       11.94      255.0\n",
       "5      Girona  2015       12.18      254.9\n",
       "6      Lleida  2017       11.81      254.9\n",
       "7      Lleida  2016       12.83      254.6\n",
       "8      Lleida  2015       12.49      254.8\n",
       "9   Tarragona  2017       12.96      254.9\n",
       "10  Tarragona  2016       12.70      254.3\n",
       "11  Tarragona  2015       12.84      254.9"
      ]
     },
     "execution_count": 99,
     "metadata": {},
     "output_type": "execute_result"
    }
   ],
   "source": [
    "# Datasets: {mobile_data_cleaned}, {pop_density}, {percapita_income}\n",
    "\n",
    "query = f\"\"\"\n",
    "    SELECT\n",
    "      d.province,\n",
    "      d.year,\n",
    "      ROUND(AVG(m.signal),2) avg_signal,\n",
    "      ROUND(MAX(m.speed),2) max_speed\n",
    "    FROM `{pop_density}` d\n",
    "    RIGHT JOIN `{mobile_data_cleaned}` m\n",
    "        ON d.province = m.province\n",
    "        AND d.year = m.year\n",
    "    GROUP BY 1,2\n",
    "    ORDER BY 1,2 DESC;\n",
    "    \"\"\"\n",
    "# DataFrame name\n",
    "df_name = \"right_join\"\n",
    "\n",
    "# Execute the query and store the result in the DataFrame\n",
    "query_df(query, df_name)    "
   ]
  },
  {
   "cell_type": "markdown",
   "id": "67365743",
   "metadata": {},
   "source": [
    "Right Join: includes all rows from {mobile_2015_2017} and fill in NULL values from {pop_density} where there are no matches."
   ]
  },
  {
   "cell_type": "markdown",
   "id": "2885ce40",
   "metadata": {},
   "source": [
    "    - c. INNER JOIN: Count the number of records for each province and year, including provinces from the pop_density table and any additional data from the mobile_2015_2017 table."
   ]
  },
  {
   "cell_type": "code",
   "execution_count": 100,
   "id": "b1ece103",
   "metadata": {},
   "outputs": [
    {
     "data": {
      "text/markdown": [
       "Query: "
      ],
      "text/plain": [
       "<IPython.core.display.Markdown object>"
      ]
     },
     "metadata": {},
     "output_type": "display_data"
    },
    {
     "name": "stdout",
     "output_type": "stream",
     "text": [
      "\n",
      "    SELECT\n",
      "      d.province,\n",
      "      d.year,\n",
      "      ROUND(AVG(m.signal),2) avg_signal,\n",
      "      ROUND(MAX(m.speed),2) max_speed\n",
      "    FROM `bq-analyst-230590.project_cat_mobile_coverage_2015_2017.cat_pop_by_province_2015_2017` d\n",
      "    INNER JOIN `bq-analyst-230590.project_cat_mobile_coverage_2015_2017.mobile_data_2015_2017_cleaned` m\n",
      "        ON d.province = m.province\n",
      "        AND d.year = m.year\n",
      "    GROUP BY 1,2\n",
      "    ORDER BY 1,2 DESC;\n",
      "    \n"
     ]
    },
    {
     "data": {
      "text/markdown": [
       "Dataframe: **inner_join**"
      ],
      "text/plain": [
       "<IPython.core.display.Markdown object>"
      ]
     },
     "metadata": {},
     "output_type": "display_data"
    },
    {
     "data": {
      "text/html": [
       "<div>\n",
       "<style scoped>\n",
       "    .dataframe tbody tr th:only-of-type {\n",
       "        vertical-align: middle;\n",
       "    }\n",
       "\n",
       "    .dataframe tbody tr th {\n",
       "        vertical-align: top;\n",
       "    }\n",
       "\n",
       "    .dataframe thead th {\n",
       "        text-align: right;\n",
       "    }\n",
       "</style>\n",
       "<table border=\"1\" class=\"dataframe\">\n",
       "  <thead>\n",
       "    <tr style=\"text-align: right;\">\n",
       "      <th></th>\n",
       "      <th>province</th>\n",
       "      <th>year</th>\n",
       "      <th>avg_signal</th>\n",
       "      <th>max_speed</th>\n",
       "    </tr>\n",
       "  </thead>\n",
       "  <tbody>\n",
       "    <tr>\n",
       "      <th>0</th>\n",
       "      <td>Barcelona</td>\n",
       "      <td>2017</td>\n",
       "      <td>12.86</td>\n",
       "      <td>254.8</td>\n",
       "    </tr>\n",
       "    <tr>\n",
       "      <th>1</th>\n",
       "      <td>Barcelona</td>\n",
       "      <td>2016</td>\n",
       "      <td>13.38</td>\n",
       "      <td>255.0</td>\n",
       "    </tr>\n",
       "    <tr>\n",
       "      <th>2</th>\n",
       "      <td>Barcelona</td>\n",
       "      <td>2015</td>\n",
       "      <td>14.21</td>\n",
       "      <td>255.0</td>\n",
       "    </tr>\n",
       "    <tr>\n",
       "      <th>3</th>\n",
       "      <td>Girona</td>\n",
       "      <td>2017</td>\n",
       "      <td>11.92</td>\n",
       "      <td>253.9</td>\n",
       "    </tr>\n",
       "    <tr>\n",
       "      <th>4</th>\n",
       "      <td>Girona</td>\n",
       "      <td>2016</td>\n",
       "      <td>11.94</td>\n",
       "      <td>255.0</td>\n",
       "    </tr>\n",
       "    <tr>\n",
       "      <th>5</th>\n",
       "      <td>Girona</td>\n",
       "      <td>2015</td>\n",
       "      <td>12.18</td>\n",
       "      <td>254.9</td>\n",
       "    </tr>\n",
       "    <tr>\n",
       "      <th>6</th>\n",
       "      <td>Lleida</td>\n",
       "      <td>2017</td>\n",
       "      <td>11.81</td>\n",
       "      <td>254.9</td>\n",
       "    </tr>\n",
       "    <tr>\n",
       "      <th>7</th>\n",
       "      <td>Lleida</td>\n",
       "      <td>2016</td>\n",
       "      <td>12.83</td>\n",
       "      <td>254.6</td>\n",
       "    </tr>\n",
       "    <tr>\n",
       "      <th>8</th>\n",
       "      <td>Lleida</td>\n",
       "      <td>2015</td>\n",
       "      <td>12.49</td>\n",
       "      <td>254.8</td>\n",
       "    </tr>\n",
       "    <tr>\n",
       "      <th>9</th>\n",
       "      <td>Tarragona</td>\n",
       "      <td>2017</td>\n",
       "      <td>12.96</td>\n",
       "      <td>254.9</td>\n",
       "    </tr>\n",
       "    <tr>\n",
       "      <th>10</th>\n",
       "      <td>Tarragona</td>\n",
       "      <td>2016</td>\n",
       "      <td>12.70</td>\n",
       "      <td>254.3</td>\n",
       "    </tr>\n",
       "    <tr>\n",
       "      <th>11</th>\n",
       "      <td>Tarragona</td>\n",
       "      <td>2015</td>\n",
       "      <td>12.84</td>\n",
       "      <td>254.9</td>\n",
       "    </tr>\n",
       "  </tbody>\n",
       "</table>\n",
       "</div>"
      ],
      "text/plain": [
       "     province  year  avg_signal  max_speed\n",
       "0   Barcelona  2017       12.86      254.8\n",
       "1   Barcelona  2016       13.38      255.0\n",
       "2   Barcelona  2015       14.21      255.0\n",
       "3      Girona  2017       11.92      253.9\n",
       "4      Girona  2016       11.94      255.0\n",
       "5      Girona  2015       12.18      254.9\n",
       "6      Lleida  2017       11.81      254.9\n",
       "7      Lleida  2016       12.83      254.6\n",
       "8      Lleida  2015       12.49      254.8\n",
       "9   Tarragona  2017       12.96      254.9\n",
       "10  Tarragona  2016       12.70      254.3\n",
       "11  Tarragona  2015       12.84      254.9"
      ]
     },
     "execution_count": 100,
     "metadata": {},
     "output_type": "execute_result"
    }
   ],
   "source": [
    "# Datasets: {mobile_data_cleaned}, {pop_density}, {percapita_income}\n",
    "\n",
    "query = f\"\"\"\n",
    "    SELECT\n",
    "      d.province,\n",
    "      d.year,\n",
    "      ROUND(AVG(m.signal),2) avg_signal,\n",
    "      ROUND(MAX(m.speed),2) max_speed\n",
    "    FROM `{pop_density}` d\n",
    "    INNER JOIN `{mobile_data_cleaned}` m\n",
    "        ON d.province = m.province\n",
    "        AND d.year = m.year\n",
    "    GROUP BY 1,2\n",
    "    ORDER BY 1,2 DESC;\n",
    "    \"\"\"\n",
    "# DataFrame name\n",
    "df_name = \"inner_join\"\n",
    "\n",
    "# Execute the query and store the result in the DataFrame\n",
    "query_df(query, df_name)    "
   ]
  },
  {
   "cell_type": "markdown",
   "id": "7e87705d",
   "metadata": {},
   "source": [
    "Inner Join: includes only records with matching province values in both tables and exclude rows with NULL values from {pop_density}."
   ]
  },
  {
   "cell_type": "markdown",
   "id": "89cf161e",
   "metadata": {},
   "source": [
    "    - d. FULL JOIN: Count the number of records for each province and year, including all available data from both tables."
   ]
  },
  {
   "cell_type": "code",
   "execution_count": 101,
   "id": "244af67b",
   "metadata": {},
   "outputs": [
    {
     "data": {
      "text/markdown": [
       "Query: "
      ],
      "text/plain": [
       "<IPython.core.display.Markdown object>"
      ]
     },
     "metadata": {},
     "output_type": "display_data"
    },
    {
     "name": "stdout",
     "output_type": "stream",
     "text": [
      "\n",
      "    SELECT\n",
      "      d.province,\n",
      "      d.year,\n",
      "      ROUND(AVG(m.signal),2) avg_signal,\n",
      "      ROUND(MAX(m.speed),2) max_speed\n",
      "    FROM `bq-analyst-230590.project_cat_mobile_coverage_2015_2017.cat_pop_by_province_2015_2017` d\n",
      "    FULL JOIN `bq-analyst-230590.project_cat_mobile_coverage_2015_2017.mobile_data_2015_2017_cleaned` m\n",
      "        ON d.province = m.province\n",
      "        AND d.year = m.year\n",
      "    GROUP BY 1,2\n",
      "    ORDER BY 1,2 DESC;\n",
      "    \n"
     ]
    },
    {
     "data": {
      "text/markdown": [
       "Dataframe: **full_join**"
      ],
      "text/plain": [
       "<IPython.core.display.Markdown object>"
      ]
     },
     "metadata": {},
     "output_type": "display_data"
    },
    {
     "data": {
      "text/html": [
       "<div>\n",
       "<style scoped>\n",
       "    .dataframe tbody tr th:only-of-type {\n",
       "        vertical-align: middle;\n",
       "    }\n",
       "\n",
       "    .dataframe tbody tr th {\n",
       "        vertical-align: top;\n",
       "    }\n",
       "\n",
       "    .dataframe thead th {\n",
       "        text-align: right;\n",
       "    }\n",
       "</style>\n",
       "<table border=\"1\" class=\"dataframe\">\n",
       "  <thead>\n",
       "    <tr style=\"text-align: right;\">\n",
       "      <th></th>\n",
       "      <th>province</th>\n",
       "      <th>year</th>\n",
       "      <th>avg_signal</th>\n",
       "      <th>max_speed</th>\n",
       "    </tr>\n",
       "  </thead>\n",
       "  <tbody>\n",
       "    <tr>\n",
       "      <th>0</th>\n",
       "      <td>None</td>\n",
       "      <td>2017</td>\n",
       "      <td>NaN</td>\n",
       "      <td>NaN</td>\n",
       "    </tr>\n",
       "    <tr>\n",
       "      <th>1</th>\n",
       "      <td>None</td>\n",
       "      <td>2016</td>\n",
       "      <td>NaN</td>\n",
       "      <td>NaN</td>\n",
       "    </tr>\n",
       "    <tr>\n",
       "      <th>2</th>\n",
       "      <td>None</td>\n",
       "      <td>2015</td>\n",
       "      <td>NaN</td>\n",
       "      <td>NaN</td>\n",
       "    </tr>\n",
       "    <tr>\n",
       "      <th>3</th>\n",
       "      <td>None</td>\n",
       "      <td>2014</td>\n",
       "      <td>NaN</td>\n",
       "      <td>NaN</td>\n",
       "    </tr>\n",
       "    <tr>\n",
       "      <th>4</th>\n",
       "      <td>Barcelona</td>\n",
       "      <td>2017</td>\n",
       "      <td>12.86</td>\n",
       "      <td>254.8</td>\n",
       "    </tr>\n",
       "    <tr>\n",
       "      <th>5</th>\n",
       "      <td>Barcelona</td>\n",
       "      <td>2016</td>\n",
       "      <td>13.38</td>\n",
       "      <td>255.0</td>\n",
       "    </tr>\n",
       "    <tr>\n",
       "      <th>6</th>\n",
       "      <td>Barcelona</td>\n",
       "      <td>2015</td>\n",
       "      <td>14.21</td>\n",
       "      <td>255.0</td>\n",
       "    </tr>\n",
       "    <tr>\n",
       "      <th>7</th>\n",
       "      <td>Costa Brava</td>\n",
       "      <td>2017</td>\n",
       "      <td>NaN</td>\n",
       "      <td>NaN</td>\n",
       "    </tr>\n",
       "    <tr>\n",
       "      <th>8</th>\n",
       "      <td>Girona</td>\n",
       "      <td>2017</td>\n",
       "      <td>11.92</td>\n",
       "      <td>253.9</td>\n",
       "    </tr>\n",
       "    <tr>\n",
       "      <th>9</th>\n",
       "      <td>Girona</td>\n",
       "      <td>2016</td>\n",
       "      <td>11.94</td>\n",
       "      <td>255.0</td>\n",
       "    </tr>\n",
       "    <tr>\n",
       "      <th>10</th>\n",
       "      <td>Girona</td>\n",
       "      <td>2015</td>\n",
       "      <td>12.18</td>\n",
       "      <td>254.9</td>\n",
       "    </tr>\n",
       "    <tr>\n",
       "      <th>11</th>\n",
       "      <td>Lleida</td>\n",
       "      <td>2017</td>\n",
       "      <td>11.81</td>\n",
       "      <td>254.9</td>\n",
       "    </tr>\n",
       "    <tr>\n",
       "      <th>12</th>\n",
       "      <td>Lleida</td>\n",
       "      <td>2016</td>\n",
       "      <td>12.83</td>\n",
       "      <td>254.6</td>\n",
       "    </tr>\n",
       "    <tr>\n",
       "      <th>13</th>\n",
       "      <td>Lleida</td>\n",
       "      <td>2015</td>\n",
       "      <td>12.49</td>\n",
       "      <td>254.8</td>\n",
       "    </tr>\n",
       "    <tr>\n",
       "      <th>14</th>\n",
       "      <td>Pirineus</td>\n",
       "      <td>2015</td>\n",
       "      <td>NaN</td>\n",
       "      <td>NaN</td>\n",
       "    </tr>\n",
       "    <tr>\n",
       "      <th>15</th>\n",
       "      <td>Tarragona</td>\n",
       "      <td>2017</td>\n",
       "      <td>12.96</td>\n",
       "      <td>254.9</td>\n",
       "    </tr>\n",
       "    <tr>\n",
       "      <th>16</th>\n",
       "      <td>Tarragona</td>\n",
       "      <td>2016</td>\n",
       "      <td>12.70</td>\n",
       "      <td>254.3</td>\n",
       "    </tr>\n",
       "    <tr>\n",
       "      <th>17</th>\n",
       "      <td>Tarragona</td>\n",
       "      <td>2015</td>\n",
       "      <td>12.84</td>\n",
       "      <td>254.9</td>\n",
       "    </tr>\n",
       "  </tbody>\n",
       "</table>\n",
       "</div>"
      ],
      "text/plain": [
       "       province  year  avg_signal  max_speed\n",
       "0          None  2017         NaN        NaN\n",
       "1          None  2016         NaN        NaN\n",
       "2          None  2015         NaN        NaN\n",
       "3          None  2014         NaN        NaN\n",
       "4     Barcelona  2017       12.86      254.8\n",
       "5     Barcelona  2016       13.38      255.0\n",
       "6     Barcelona  2015       14.21      255.0\n",
       "7   Costa Brava  2017         NaN        NaN\n",
       "8        Girona  2017       11.92      253.9\n",
       "9        Girona  2016       11.94      255.0\n",
       "10       Girona  2015       12.18      254.9\n",
       "11       Lleida  2017       11.81      254.9\n",
       "12       Lleida  2016       12.83      254.6\n",
       "13       Lleida  2015       12.49      254.8\n",
       "14     Pirineus  2015         NaN        NaN\n",
       "15    Tarragona  2017       12.96      254.9\n",
       "16    Tarragona  2016       12.70      254.3\n",
       "17    Tarragona  2015       12.84      254.9"
      ]
     },
     "execution_count": 101,
     "metadata": {},
     "output_type": "execute_result"
    }
   ],
   "source": [
    "# Datasets: {mobile_data_cleaned}, {pop_density}, {percapita_income}\n",
    "\n",
    "query = f\"\"\"\n",
    "    SELECT\n",
    "      d.province,\n",
    "      d.year,\n",
    "      ROUND(AVG(m.signal),2) avg_signal,\n",
    "      ROUND(MAX(m.speed),2) max_speed\n",
    "    FROM `{pop_density}` d\n",
    "    FULL JOIN `{mobile_data_cleaned}` m\n",
    "        ON d.province = m.province\n",
    "        AND d.year = m.year\n",
    "    GROUP BY 1,2\n",
    "    ORDER BY 1,2 DESC;\n",
    "    \"\"\"\n",
    "# DataFrame name\n",
    "df_name = \"full_join\"\n",
    "\n",
    "# Execute the query and store the result in the DataFrame\n",
    "query_df(query, df_name)    "
   ]
  },
  {
   "cell_type": "markdown",
   "id": "c8c12777",
   "metadata": {},
   "source": [
    "Full join: includes all rows from both tables and provide NULL values for {mobile_2015_2017} where there are no matches."
   ]
  },
  {
   "cell_type": "code",
   "execution_count": null,
   "id": "57166bc4",
   "metadata": {},
   "outputs": [],
   "source": []
  },
  {
   "cell_type": "markdown",
   "id": "cca0a9ec",
   "metadata": {},
   "source": [
    "### Dates"
   ]
  },
  {
   "cell_type": "markdown",
   "id": "e7700fc4",
   "metadata": {},
   "source": [
    "Date range"
   ]
  },
  {
   "cell_type": "code",
   "execution_count": 7,
   "id": "e948ba6a",
   "metadata": {},
   "outputs": [
    {
     "data": {
      "text/markdown": [
       "Query: "
      ],
      "text/plain": [
       "<IPython.core.display.Markdown object>"
      ]
     },
     "metadata": {},
     "output_type": "display_data"
    },
    {
     "name": "stdout",
     "output_type": "stream",
     "text": [
      "\n",
      "    SELECT\n",
      "        MIN(date) AS first_date_recorded,\n",
      "        MAX(date) AS last_date_recorded,\n",
      "        DATE_DIFF(MAX(date), MIN(date), DAY) AS total_days_recorded\n",
      "    FROM `bq-analyst-230590.project_cat_mobile_coverage_2015_2017.mobile_data_2015_2017_cleaned`\n",
      "    \n"
     ]
    },
    {
     "data": {
      "text/markdown": [
       "Dataframe: **date_range**"
      ],
      "text/plain": [
       "<IPython.core.display.Markdown object>"
      ]
     },
     "metadata": {},
     "output_type": "display_data"
    },
    {
     "data": {
      "text/html": [
       "<div>\n",
       "<style scoped>\n",
       "    .dataframe tbody tr th:only-of-type {\n",
       "        vertical-align: middle;\n",
       "    }\n",
       "\n",
       "    .dataframe tbody tr th {\n",
       "        vertical-align: top;\n",
       "    }\n",
       "\n",
       "    .dataframe thead th {\n",
       "        text-align: right;\n",
       "    }\n",
       "</style>\n",
       "<table border=\"1\" class=\"dataframe\">\n",
       "  <thead>\n",
       "    <tr style=\"text-align: right;\">\n",
       "      <th></th>\n",
       "      <th>first_date_recorded</th>\n",
       "      <th>last_date_recorded</th>\n",
       "      <th>total_days_recorded</th>\n",
       "    </tr>\n",
       "  </thead>\n",
       "  <tbody>\n",
       "    <tr>\n",
       "      <th>0</th>\n",
       "      <td>2015-01-05</td>\n",
       "      <td>2017-12-31</td>\n",
       "      <td>1091</td>\n",
       "    </tr>\n",
       "  </tbody>\n",
       "</table>\n",
       "</div>"
      ],
      "text/plain": [
       "  first_date_recorded last_date_recorded  total_days_recorded\n",
       "0          2015-01-05         2017-12-31                 1091"
      ]
     },
     "execution_count": 7,
     "metadata": {},
     "output_type": "execute_result"
    }
   ],
   "source": [
    "# SQL query\n",
    "query = f\"\"\"\n",
    "    SELECT\n",
    "        MIN(date) AS first_date_recorded,\n",
    "        MAX(date) AS last_date_recorded,\n",
    "        DATE_DIFF(MAX(date), MIN(date), DAY) AS total_days_recorded\n",
    "    FROM `{mobile_data_cleaned}`\n",
    "    \"\"\"\n",
    "# DataFrame name\n",
    "df_name = \"date_range\"\n",
    "\n",
    "# Execute the query and store the result in the DataFrame\n",
    "query_df(query, df_name)"
   ]
  },
  {
   "cell_type": "markdown",
   "id": "9cad11a3",
   "metadata": {},
   "source": [
    "Top 10 dates with the highest activity"
   ]
  },
  {
   "cell_type": "code",
   "execution_count": 8,
   "id": "2e7ec3db",
   "metadata": {},
   "outputs": [
    {
     "data": {
      "text/markdown": [
       "Query: "
      ],
      "text/plain": [
       "<IPython.core.display.Markdown object>"
      ]
     },
     "metadata": {},
     "output_type": "display_data"
    },
    {
     "name": "stdout",
     "output_type": "stream",
     "text": [
      "\n",
      "    SELECT\n",
      "      date,\n",
      "      COUNT(*) AS record_count\n",
      "    FROM `bq-analyst-230590.project_cat_mobile_coverage_2015_2017.mobile_data_2015_2017_cleaned`\n",
      "    GROUP BY date\n",
      "    ORDER BY record_count DESC\n",
      "    LIMIT 10\n",
      "    \n"
     ]
    },
    {
     "data": {
      "text/markdown": [
       "Dataframe: **top_10_dates_act**"
      ],
      "text/plain": [
       "<IPython.core.display.Markdown object>"
      ]
     },
     "metadata": {},
     "output_type": "display_data"
    },
    {
     "data": {
      "text/html": [
       "<div>\n",
       "<style scoped>\n",
       "    .dataframe tbody tr th:only-of-type {\n",
       "        vertical-align: middle;\n",
       "    }\n",
       "\n",
       "    .dataframe tbody tr th {\n",
       "        vertical-align: top;\n",
       "    }\n",
       "\n",
       "    .dataframe thead th {\n",
       "        text-align: right;\n",
       "    }\n",
       "</style>\n",
       "<table border=\"1\" class=\"dataframe\">\n",
       "  <thead>\n",
       "    <tr style=\"text-align: right;\">\n",
       "      <th></th>\n",
       "      <th>date</th>\n",
       "      <th>record_count</th>\n",
       "    </tr>\n",
       "  </thead>\n",
       "  <tbody>\n",
       "    <tr>\n",
       "      <th>0</th>\n",
       "      <td>2015-08-25</td>\n",
       "      <td>27980</td>\n",
       "    </tr>\n",
       "    <tr>\n",
       "      <th>1</th>\n",
       "      <td>2016-06-06</td>\n",
       "      <td>27012</td>\n",
       "    </tr>\n",
       "    <tr>\n",
       "      <th>2</th>\n",
       "      <td>2015-08-28</td>\n",
       "      <td>26286</td>\n",
       "    </tr>\n",
       "    <tr>\n",
       "      <th>3</th>\n",
       "      <td>2015-09-10</td>\n",
       "      <td>25714</td>\n",
       "    </tr>\n",
       "    <tr>\n",
       "      <th>4</th>\n",
       "      <td>2015-12-18</td>\n",
       "      <td>25695</td>\n",
       "    </tr>\n",
       "    <tr>\n",
       "      <th>5</th>\n",
       "      <td>2015-12-15</td>\n",
       "      <td>25672</td>\n",
       "    </tr>\n",
       "    <tr>\n",
       "      <th>6</th>\n",
       "      <td>2015-08-27</td>\n",
       "      <td>24822</td>\n",
       "    </tr>\n",
       "    <tr>\n",
       "      <th>7</th>\n",
       "      <td>2015-09-03</td>\n",
       "      <td>24727</td>\n",
       "    </tr>\n",
       "    <tr>\n",
       "      <th>8</th>\n",
       "      <td>2015-09-09</td>\n",
       "      <td>24643</td>\n",
       "    </tr>\n",
       "    <tr>\n",
       "      <th>9</th>\n",
       "      <td>2015-12-16</td>\n",
       "      <td>24564</td>\n",
       "    </tr>\n",
       "  </tbody>\n",
       "</table>\n",
       "</div>"
      ],
      "text/plain": [
       "         date  record_count\n",
       "0  2015-08-25         27980\n",
       "1  2016-06-06         27012\n",
       "2  2015-08-28         26286\n",
       "3  2015-09-10         25714\n",
       "4  2015-12-18         25695\n",
       "5  2015-12-15         25672\n",
       "6  2015-08-27         24822\n",
       "7  2015-09-03         24727\n",
       "8  2015-09-09         24643\n",
       "9  2015-12-16         24564"
      ]
     },
     "execution_count": 8,
     "metadata": {},
     "output_type": "execute_result"
    }
   ],
   "source": [
    "# SQL query\n",
    "query = f\"\"\"\n",
    "    SELECT\n",
    "      date,\n",
    "      COUNT(*) AS record_count\n",
    "    FROM `{mobile_data_cleaned}`\n",
    "    GROUP BY date\n",
    "    ORDER BY record_count DESC\n",
    "    LIMIT 10\n",
    "    \"\"\"\n",
    "# DataFrame name\n",
    "df_name = \"top_10_dates_act\"\n",
    "\n",
    "# Execute the query and store the result in the DataFrame\n",
    "query_df(query, df_name)"
   ]
  },
  {
   "cell_type": "markdown",
   "id": "8d68af9e",
   "metadata": {},
   "source": [
    "Monthly Activity Rank within Quarters and Across the Year"
   ]
  },
  {
   "cell_type": "code",
   "execution_count": 9,
   "id": "d705d867",
   "metadata": {},
   "outputs": [
    {
     "data": {
      "text/markdown": [
       "Query: "
      ],
      "text/plain": [
       "<IPython.core.display.Markdown object>"
      ]
     },
     "metadata": {},
     "output_type": "display_data"
    },
    {
     "name": "stdout",
     "output_type": "stream",
     "text": [
      "\n",
      "    WITH MonthlyCounts AS (\n",
      "        SELECT\n",
      "            EXTRACT(QUARTER FROM date) AS quarter,\n",
      "            EXTRACT(MONTH FROM date) AS month,\n",
      "            COUNT(*) AS record_count\n",
      "        FROM `bq-analyst-230590.project_cat_mobile_coverage_2015_2017.mobile_data_2015_2017_cleaned`\n",
      "        GROUP BY quarter, month\n",
      "    )\n",
      "\n",
      "    SELECT\n",
      "      quarter,\n",
      "      month,\n",
      "      record_count,\n",
      "      RANK() OVER (ORDER BY record_count DESC) AS month_rank\n",
      "    FROM MonthlyCounts\n",
      "    ORDER BY quarter, record_count DESC;\n",
      "    \n"
     ]
    },
    {
     "data": {
      "text/markdown": [
       "Dataframe: **month_rank_df**"
      ],
      "text/plain": [
       "<IPython.core.display.Markdown object>"
      ]
     },
     "metadata": {},
     "output_type": "display_data"
    }
   ],
   "source": [
    "# SQL query\n",
    "query = f\"\"\"\n",
    "    WITH MonthlyCounts AS (\n",
    "        SELECT\n",
    "            EXTRACT(QUARTER FROM date) AS quarter,\n",
    "            EXTRACT(MONTH FROM date) AS month,\n",
    "            COUNT(*) AS record_count\n",
    "        FROM `{mobile_data_cleaned}`\n",
    "        GROUP BY quarter, month\n",
    "    )\n",
    "\n",
    "    SELECT\n",
    "      quarter,\n",
    "      month,\n",
    "      record_count,\n",
    "      RANK() OVER (ORDER BY record_count DESC) AS month_rank\n",
    "    FROM MonthlyCounts\n",
    "    ORDER BY quarter, record_count DESC;\n",
    "    \"\"\"\n",
    "# DataFrame name\n",
    "df_name = \"month_rank_df\"\n",
    "\n",
    "# Execute the query and store the result in the DataFrame\n",
    "month_rank_df = query_df(query, df_name)"
   ]
  },
  {
   "cell_type": "code",
   "execution_count": 10,
   "id": "d90d3f90",
   "metadata": {},
   "outputs": [
    {
     "data": {
      "text/plain": [
       "<Figure size 1200x600 with 0 Axes>"
      ]
     },
     "metadata": {},
     "output_type": "display_data"
    },
    {
     "data": {
      "image/png": "[encoded data removed]",
      "text/plain": [
       "<Figure size 640x480 with 1 Axes>"
      ]
     },
     "metadata": {},
     "output_type": "display_data"
    }
   ],
   "source": [
    "# Create a custom color palette for each month within a quarter\n",
    "palette = sns.color_palette(\"tab10\", n_colors=12)  # Use n_colors=12 for 12 months\n",
    "\n",
    "# Pivot the DataFrame to have months as columns for stacking\n",
    "stacked_df = month_rank_df.pivot(index='quarter', columns='month', values='record_count')\n",
    "\n",
    "# Bar plot with stacked bars for each quarter and different colors for months\n",
    "plt.figure(figsize=(12, 6))\n",
    "ax = stacked_df.plot(kind='bar', stacked=True, color=palette)\n",
    "plt.title('Stacked Bar Plot of Quarter-wise Record Count')\n",
    "plt.xlabel('Quarter')\n",
    "plt.ylabel('Record Count')\n",
    "plt.legend(title='Month', loc='upper right', bbox_to_anchor=(1.15, 1))\n",
    "plt.ticklabel_format(style='plain', axis='y')  # Disable scientific notation on y-axis\n",
    "plt.show()\n"
   ]
  },
  {
   "cell_type": "code",
   "execution_count": 11,
   "id": "7afd6242",
   "metadata": {},
   "outputs": [
    {
     "data": {
      "image/png": "[encoded data removed]",
      "text/plain": [
       "<Figure size 1200x600 with 1 Axes>"
      ]
     },
     "metadata": {},
     "output_type": "display_data"
    }
   ],
   "source": [
    "# Define custom color palettes for each quarter\n",
    "colors_first_quarter = sns.color_palette(\"Blues\", n_colors=3)  # Blue colors for months 1, 2, 3\n",
    "colors_second_quarter = sns.color_palette(\"Greens\", n_colors=3)  # Green colors for months 4, 5, 6\n",
    "colors_third_quarter = sns.color_palette(\"Oranges\", n_colors=3)  # Orange colors for months 7, 8, 9\n",
    "colors_fourth_quarter = sns.color_palette(\"Purples\", n_colors=3)  # Purple colors for months 10, 11, 12\n",
    "\n",
    "# Pivot the DataFrame to have months as columns for stacking\n",
    "stacked_df = month_rank_df.pivot(index='quarter', columns='month', values='record_count')\n",
    "\n",
    "# Create a stacked bar plot with distinct colors for each month within a quarter\n",
    "plt.figure(figsize=(12, 6))\n",
    "\n",
    "# Loop through each quarter and plot stacked bars with the custom color palette\n",
    "quarters = stacked_df.index\n",
    "for quarter, color_palette in zip(quarters, [colors_first_quarter, colors_second_quarter, colors_third_quarter, colors_fourth_quarter]):\n",
    "    quarter_data = stacked_df.loc[quarter]\n",
    "    quarter_data.plot(kind='bar', stacked=True, color=color_palette, label=f'Quarter {quarter}')\n",
    "\n",
    "# Calculate the overall average for all values\n",
    "overall_average = stacked_df.stack().mean()\n",
    "\n",
    "# Plot a red horizontal line for the overall average\n",
    "plt.axhline(y=overall_average, color='red', linestyle='--', label=f'Avg. Overall')\n",
    "\n",
    "plt.title('Stacked Bar Plot of Quarter-wise Record Count with Distinct Colors for Months')\n",
    "plt.xlabel('Month')\n",
    "plt.ylabel('Record Count')\n",
    "plt.legend(title='Legend', loc='upper right', bbox_to_anchor=(1.15, 1))\n",
    "plt.ticklabel_format(style='plain', axis='y')  # Disable scientific notation on y-axis\n",
    "plt.show()\n"
   ]
  },
  {
   "cell_type": "markdown",
   "id": "5dfa3490",
   "metadata": {},
   "source": [
    "### Hours (not any longer in dataframe)"
   ]
  },
  {
   "cell_type": "markdown",
   "id": "815f81c6",
   "metadata": {},
   "source": [
    "Hourly Period Counts"
   ]
  },
  {
   "cell_type": "code",
   "execution_count": 12,
   "id": "4f7be2c2",
   "metadata": {},
   "outputs": [
    {
     "data": {
      "text/markdown": [
       "Query: "
      ],
      "text/plain": [
       "<IPython.core.display.Markdown object>"
      ]
     },
     "metadata": {},
     "output_type": "display_data"
    },
    {
     "name": "stdout",
     "output_type": "stream",
     "text": [
      "\n",
      "    SELECT\n",
      "      CASE\n",
      "        WHEN EXTRACT(HOUR FROM hour) BETWEEN 0 AND 6 THEN 'Dawn'\n",
      "        WHEN EXTRACT(HOUR FROM hour) BETWEEN 7 AND 12 THEN 'Morning'\n",
      "        WHEN EXTRACT(HOUR FROM hour) BETWEEN 13 AND 18 THEN 'Afternoon'\n",
      "        ELSE 'Night'\n",
      "      END AS period,\n",
      "      COUNT(*) AS record_count\n",
      "    FROM `bq-analyst-230590.project_cat_mobile_coverage_2015_2017.mobile_data_2015_2017_cleaned`\n",
      "    GROUP BY 1\n",
      "    ORDER BY 2 DESC\n",
      "    \n"
     ]
    },
    {
     "data": {
      "text/markdown": [
       "Dataframe: **hourly_period_counts**"
      ],
      "text/plain": [
       "<IPython.core.display.Markdown object>"
      ]
     },
     "metadata": {},
     "output_type": "display_data"
    },
    {
     "data": {
      "text/html": [
       "<div>\n",
       "<style scoped>\n",
       "    .dataframe tbody tr th:only-of-type {\n",
       "        vertical-align: middle;\n",
       "    }\n",
       "\n",
       "    .dataframe tbody tr th {\n",
       "        vertical-align: top;\n",
       "    }\n",
       "\n",
       "    .dataframe thead th {\n",
       "        text-align: right;\n",
       "    }\n",
       "</style>\n",
       "<table border=\"1\" class=\"dataframe\">\n",
       "  <thead>\n",
       "    <tr style=\"text-align: right;\">\n",
       "      <th></th>\n",
       "      <th>period</th>\n",
       "      <th>record_count</th>\n",
       "    </tr>\n",
       "  </thead>\n",
       "  <tbody>\n",
       "    <tr>\n",
       "      <th>0</th>\n",
       "      <td>Afternoon</td>\n",
       "      <td>4081953</td>\n",
       "    </tr>\n",
       "    <tr>\n",
       "      <th>1</th>\n",
       "      <td>Morning</td>\n",
       "      <td>3915482</td>\n",
       "    </tr>\n",
       "    <tr>\n",
       "      <th>2</th>\n",
       "      <td>Night</td>\n",
       "      <td>2172213</td>\n",
       "    </tr>\n",
       "    <tr>\n",
       "      <th>3</th>\n",
       "      <td>Dawn</td>\n",
       "      <td>474258</td>\n",
       "    </tr>\n",
       "  </tbody>\n",
       "</table>\n",
       "</div>"
      ],
      "text/plain": [
       "      period  record_count\n",
       "0  Afternoon       4081953\n",
       "1    Morning       3915482\n",
       "2      Night       2172213\n",
       "3       Dawn        474258"
      ]
     },
     "execution_count": 12,
     "metadata": {},
     "output_type": "execute_result"
    }
   ],
   "source": [
    "# SQL query\n",
    "query = f\"\"\"\n",
    "    SELECT\n",
    "      CASE\n",
    "        WHEN EXTRACT(HOUR FROM hour) BETWEEN 0 AND 6 THEN 'Dawn'\n",
    "        WHEN EXTRACT(HOUR FROM hour) BETWEEN 7 AND 12 THEN 'Morning'\n",
    "        WHEN EXTRACT(HOUR FROM hour) BETWEEN 13 AND 18 THEN 'Afternoon'\n",
    "        ELSE 'Night'\n",
    "      END AS period,\n",
    "      COUNT(*) AS record_count\n",
    "    FROM `{mobile_data_cleaned}`\n",
    "    GROUP BY 1\n",
    "    ORDER BY 2 DESC\n",
    "    \"\"\"\n",
    "# DataFrame name\n",
    "df_name = \"hourly_period_counts\"\n",
    "\n",
    "# Execute the query and store the result in the DataFrame\n",
    "hourly_period_counts = query_df(query, df_name)\n",
    "\n",
    "hourly_period_counts"
   ]
  },
  {
   "cell_type": "code",
   "execution_count": 34,
   "id": "7ecfd248",
   "metadata": {},
   "outputs": [
    {
     "data": {
      "application/vnd.plotly.v1+json": {
       "config": {
        "plotlyServerURL": "https://plot.ly"
       },
       "data": [
        {
         "customdata": [
          [
           474258
          ],
          [
           3915482
          ],
          [
           4081953
          ],
          [
           2172213
          ]
         ],
         "direction": "clockwise",
         "domain": {
          "x": [
           0,
           1
          ],
          "y": [
           0,
           1
          ]
         },
         "hovertemplate": "period=%{label}<br>Record Count=%{customdata[0]}<extra></extra>",
         "labels": [
          "Dawn",
          "Morning",
          "Afternoon",
          "Night"
         ],
         "legendgroup": "",
         "name": "",
         "pull": [
          0.1,
          0.1,
          0.1,
          0.1
         ],
         "showlegend": true,
         "sort": false,
         "textinfo": "percent+label",
         "type": "pie",
         "values": [
          474258,
          3915482,
          4081953,
          2172213
         ]
        }
       ],
       "layout": {
        "legend": {
         "tracegroupgap": 0
        },
        "template": {
         "data": {
          "bar": [
           {
            "error_x": {
             "color": "#2a3f5f"
            },
            "error_y": {
             "color": "#2a3f5f"
            },
            "marker": {
             "line": {
              "color": "#E5ECF6",
              "width": 0.5
             },
             "pattern": {
              "fillmode": "overlay",
              "size": 10,
              "solidity": 0.2
             }
            },
            "type": "bar"
           }
          ],
          "barpolar": [
           {
            "marker": {
             "line": {
              "color": "#E5ECF6",
              "width": 0.5
             },
             "pattern": {
              "fillmode": "overlay",
              "size": 10,
              "solidity": 0.2
             }
            },
            "type": "barpolar"
           }
          ],
          "carpet": [
           {
            "aaxis": {
             "endlinecolor": "#2a3f5f",
             "gridcolor": "white",
             "linecolor": "white",
             "minorgridcolor": "white",
             "startlinecolor": "#2a3f5f"
            },
            "baxis": {
             "endlinecolor": "#2a3f5f",
             "gridcolor": "white",
             "linecolor": "white",
             "minorgridcolor": "white",
             "startlinecolor": "#2a3f5f"
            },
            "type": "carpet"
           }
          ],
          "choropleth": [
           {
            "colorbar": {
             "outlinewidth": 0,
             "ticks": ""
            },
            "type": "choropleth"
           }
          ],
          "contour": [
           {
            "colorbar": {
             "outlinewidth": 0,
             "ticks": ""
            },
            "colorscale": [
             [
              0,
              "#0d0887"
             ],
             [
              0.1111111111111111,
              "#46039f"
             ],
             [
              0.2222222222222222,
              "#7201a8"
             ],
             [
              0.3333333333333333,
              "#9c179e"
             ],
             [
              0.4444444444444444,
              "#bd3786"
             ],
             [
              0.5555555555555556,
              "#d8576b"
             ],
             [
              0.6666666666666666,
              "#ed7953"
             ],
             [
              0.7777777777777778,
              "#fb9f3a"
             ],
             [
              0.8888888888888888,
              "#fdca26"
             ],
             [
              1,
              "#f0f921"
             ]
            ],
            "type": "contour"
           }
          ],
          "contourcarpet": [
           {
            "colorbar": {
             "outlinewidth": 0,
             "ticks": ""
            },
            "type": "contourcarpet"
           }
          ],
          "heatmap": [
           {
            "colorbar": {
             "outlinewidth": 0,
             "ticks": ""
            },
            "colorscale": [
             [
              0,
              "#0d0887"
             ],
             [
              0.1111111111111111,
              "#46039f"
             ],
             [
              0.2222222222222222,
              "#7201a8"
             ],
             [
              0.3333333333333333,
              "#9c179e"
             ],
             [
              0.4444444444444444,
              "#bd3786"
             ],
             [
              0.5555555555555556,
              "#d8576b"
             ],
             [
              0.6666666666666666,
              "#ed7953"
             ],
             [
              0.7777777777777778,
              "#fb9f3a"
             ],
             [
              0.8888888888888888,
              "#fdca26"
             ],
             [
              1,
              "#f0f921"
             ]
            ],
            "type": "heatmap"
           }
          ],
          "heatmapgl": [
           {
            "colorbar": {
             "outlinewidth": 0,
             "ticks": ""
            },
            "colorscale": [
             [
              0,
              "#0d0887"
             ],
             [
              0.1111111111111111,
              "#46039f"
             ],
             [
              0.2222222222222222,
              "#7201a8"
             ],
             [
              0.3333333333333333,
              "#9c179e"
             ],
             [
              0.4444444444444444,
              "#bd3786"
             ],
             [
              0.5555555555555556,
              "#d8576b"
             ],
             [
              0.6666666666666666,
              "#ed7953"
             ],
             [
              0.7777777777777778,
              "#fb9f3a"
             ],
             [
              0.8888888888888888,
              "#fdca26"
             ],
             [
              1,
              "#f0f921"
             ]
            ],
            "type": "heatmapgl"
           }
          ],
          "histogram": [
           {
            "marker": {
             "pattern": {
              "fillmode": "overlay",
              "size": 10,
              "solidity": 0.2
             }
            },
            "type": "histogram"
           }
          ],
          "histogram2d": [
           {
            "colorbar": {
             "outlinewidth": 0,
             "ticks": ""
            },
            "colorscale": [
             [
              0,
              "#0d0887"
             ],
             [
              0.1111111111111111,
              "#46039f"
             ],
             [
              0.2222222222222222,
              "#7201a8"
             ],
             [
              0.3333333333333333,
              "#9c179e"
             ],
             [
              0.4444444444444444,
              "#bd3786"
             ],
             [
              0.5555555555555556,
              "#d8576b"
             ],
             [
              0.6666666666666666,
              "#ed7953"
             ],
             [
              0.7777777777777778,
              "#fb9f3a"
             ],
             [
              0.8888888888888888,
              "#fdca26"
             ],
             [
              1,
              "#f0f921"
             ]
            ],
            "type": "histogram2d"
           }
          ],
          "histogram2dcontour": [
           {
            "colorbar": {
             "outlinewidth": 0,
             "ticks": ""
            },
            "colorscale": [
             [
              0,
              "#0d0887"
             ],
             [
              0.1111111111111111,
              "#46039f"
             ],
             [
              0.2222222222222222,
              "#7201a8"
             ],
             [
              0.3333333333333333,
              "#9c179e"
             ],
             [
              0.4444444444444444,
              "#bd3786"
             ],
             [
              0.5555555555555556,
              "#d8576b"
             ],
             [
              0.6666666666666666,
              "#ed7953"
             ],
             [
              0.7777777777777778,
              "#fb9f3a"
             ],
             [
              0.8888888888888888,
              "#fdca26"
             ],
             [
              1,
              "#f0f921"
             ]
            ],
            "type": "histogram2dcontour"
           }
          ],
          "mesh3d": [
           {
            "colorbar": {
             "outlinewidth": 0,
             "ticks": ""
            },
            "type": "mesh3d"
           }
          ],
          "parcoords": [
           {
            "line": {
             "colorbar": {
              "outlinewidth": 0,
              "ticks": ""
             }
            },
            "type": "parcoords"
           }
          ],
          "pie": [
           {
            "automargin": true,
            "type": "pie"
           }
          ],
          "scatter": [
           {
            "fillpattern": {
             "fillmode": "overlay",
             "size": 10,
             "solidity": 0.2
            },
            "type": "scatter"
           }
          ],
          "scatter3d": [
           {
            "line": {
             "colorbar": {
              "outlinewidth": 0,
              "ticks": ""
             }
            },
            "marker": {
             "colorbar": {
              "outlinewidth": 0,
              "ticks": ""
             }
            },
            "type": "scatter3d"
           }
          ],
          "scattercarpet": [
           {
            "marker": {
             "colorbar": {
              "outlinewidth": 0,
              "ticks": ""
             }
            },
            "type": "scattercarpet"
           }
          ],
          "scattergeo": [
           {
            "marker": {
             "colorbar": {
              "outlinewidth": 0,
              "ticks": ""
             }
            },
            "type": "scattergeo"
           }
          ],
          "scattergl": [
           {
            "marker": {
             "colorbar": {
              "outlinewidth": 0,
              "ticks": ""
             }
            },
            "type": "scattergl"
           }
          ],
          "scattermapbox": [
           {
            "marker": {
             "colorbar": {
              "outlinewidth": 0,
              "ticks": ""
             }
            },
            "type": "scattermapbox"
           }
          ],
          "scatterpolar": [
           {
            "marker": {
             "colorbar": {
              "outlinewidth": 0,
              "ticks": ""
             }
            },
            "type": "scatterpolar"
           }
          ],
          "scatterpolargl": [
           {
            "marker": {
             "colorbar": {
              "outlinewidth": 0,
              "ticks": ""
             }
            },
            "type": "scatterpolargl"
           }
          ],
          "scatterternary": [
           {
            "marker": {
             "colorbar": {
              "outlinewidth": 0,
              "ticks": ""
             }
            },
            "type": "scatterternary"
           }
          ],
          "surface": [
           {
            "colorbar": {
             "outlinewidth": 0,
             "ticks": ""
            },
            "colorscale": [
             [
              0,
              "#0d0887"
             ],
             [
              0.1111111111111111,
              "#46039f"
             ],
             [
              0.2222222222222222,
              "#7201a8"
             ],
             [
              0.3333333333333333,
              "#9c179e"
             ],
             [
              0.4444444444444444,
              "#bd3786"
             ],
             [
              0.5555555555555556,
              "#d8576b"
             ],
             [
              0.6666666666666666,
              "#ed7953"
             ],
             [
              0.7777777777777778,
              "#fb9f3a"
             ],
             [
              0.8888888888888888,
              "#fdca26"
             ],
             [
              1,
              "#f0f921"
             ]
            ],
            "type": "surface"
           }
          ],
          "table": [
           {
            "cells": {
             "fill": {
              "color": "#EBF0F8"
             },
             "line": {
              "color": "white"
             }
            },
            "header": {
             "fill": {
              "color": "#C8D4E3"
             },
             "line": {
              "color": "white"
             }
            },
            "type": "table"
           }
          ]
         },
         "layout": {
          "annotationdefaults": {
           "arrowcolor": "#2a3f5f",
           "arrowhead": 0,
           "arrowwidth": 1
          },
          "autotypenumbers": "strict",
          "coloraxis": {
           "colorbar": {
            "outlinewidth": 0,
            "ticks": ""
           }
          },
          "colorscale": {
           "diverging": [
            [
             0,
             "#8e0152"
            ],
            [
             0.1,
             "#c51b7d"
            ],
            [
             0.2,
             "#de77ae"
            ],
            [
             0.3,
             "#f1b6da"
            ],
            [
             0.4,
             "#fde0ef"
            ],
            [
             0.5,
             "#f7f7f7"
            ],
            [
             0.6,
             "#e6f5d0"
            ],
            [
             0.7,
             "#b8e186"
            ],
            [
             0.8,
             "#7fbc41"
            ],
            [
             0.9,
             "#4d9221"
            ],
            [
             1,
             "#276419"
            ]
           ],
           "sequential": [
            [
             0,
             "#0d0887"
            ],
            [
             0.1111111111111111,
             "#46039f"
            ],
            [
             0.2222222222222222,
             "#7201a8"
            ],
            [
             0.3333333333333333,
             "#9c179e"
            ],
            [
             0.4444444444444444,
             "#bd3786"
            ],
            [
             0.5555555555555556,
             "#d8576b"
            ],
            [
             0.6666666666666666,
             "#ed7953"
            ],
            [
             0.7777777777777778,
             "#fb9f3a"
            ],
            [
             0.8888888888888888,
             "#fdca26"
            ],
            [
             1,
             "#f0f921"
            ]
           ],
           "sequentialminus": [
            [
             0,
             "#0d0887"
            ],
            [
             0.1111111111111111,
             "#46039f"
            ],
            [
             0.2222222222222222,
             "#7201a8"
            ],
            [
             0.3333333333333333,
             "#9c179e"
            ],
            [
             0.4444444444444444,
             "#bd3786"
            ],
            [
             0.5555555555555556,
             "#d8576b"
            ],
            [
             0.6666666666666666,
             "#ed7953"
            ],
            [
             0.7777777777777778,
             "#fb9f3a"
            ],
            [
             0.8888888888888888,
             "#fdca26"
            ],
            [
             1,
             "#f0f921"
            ]
           ]
          },
          "colorway": [
           "#636efa",
           "#EF553B",
           "#00cc96",
           "#ab63fa",
           "#FFA15A",
           "#19d3f3",
           "#FF6692",
           "#B6E880",
           "#FF97FF",
           "#FECB52"
          ],
          "font": {
           "color": "#2a3f5f"
          },
          "geo": {
           "bgcolor": "white",
           "lakecolor": "white",
           "landcolor": "#E5ECF6",
           "showlakes": true,
           "showland": true,
           "subunitcolor": "white"
          },
          "hoverlabel": {
           "align": "left"
          },
          "hovermode": "closest",
          "mapbox": {
           "style": "light"
          },
          "paper_bgcolor": "white",
          "plot_bgcolor": "#E5ECF6",
          "polar": {
           "angularaxis": {
            "gridcolor": "white",
            "linecolor": "white",
            "ticks": ""
           },
           "bgcolor": "#E5ECF6",
           "radialaxis": {
            "gridcolor": "white",
            "linecolor": "white",
            "ticks": ""
           }
          },
          "scene": {
           "xaxis": {
            "backgroundcolor": "#E5ECF6",
            "gridcolor": "white",
            "gridwidth": 2,
            "linecolor": "white",
            "showbackground": true,
            "ticks": "",
            "zerolinecolor": "white"
           },
           "yaxis": {
            "backgroundcolor": "#E5ECF6",
            "gridcolor": "white",
            "gridwidth": 2,
            "linecolor": "white",
            "showbackground": true,
            "ticks": "",
            "zerolinecolor": "white"
           },
           "zaxis": {
            "backgroundcolor": "#E5ECF6",
            "gridcolor": "white",
            "gridwidth": 2,
            "linecolor": "white",
            "showbackground": true,
            "ticks": "",
            "zerolinecolor": "white"
           }
          },
          "shapedefaults": {
           "line": {
            "color": "#2a3f5f"
           }
          },
          "ternary": {
           "aaxis": {
            "gridcolor": "white",
            "linecolor": "white",
            "ticks": ""
           },
           "baxis": {
            "gridcolor": "white",
            "linecolor": "white",
            "ticks": ""
           },
           "bgcolor": "#E5ECF6",
           "caxis": {
            "gridcolor": "white",
            "linecolor": "white",
            "ticks": ""
           }
          },
          "title": {
           "x": 0.05
          },
          "xaxis": {
           "automargin": true,
           "gridcolor": "white",
           "linecolor": "white",
           "ticks": "",
           "title": {
            "standoff": 15
           },
           "zerolinecolor": "white",
           "zerolinewidth": 2
          },
          "yaxis": {
           "automargin": true,
           "gridcolor": "white",
           "linecolor": "white",
           "ticks": "",
           "title": {
            "standoff": 15
           },
           "zerolinecolor": "white",
           "zerolinewidth": 2
          }
         }
        },
        "title": {
         "text": "Hourly Period Counts"
        }
       }
      },
      "text/html": [
       "<div>                            <div id=\"4e847f6b-83d0-4d04-ae24-f36ba26097db\" class=\"plotly-graph-div\" style=\"height:525px; width:100%;\"></div>            <script type=\"text/javascript\">                require([\"plotly\"], function(Plotly) {                    window.PLOTLYENV=window.PLOTLYENV || {};                                    if (document.getElementById(\"4e847f6b-83d0-4d04-ae24-f36ba26097db\")) {                    Plotly.newPlot(                        \"4e847f6b-83d0-4d04-ae24-f36ba26097db\",                        [{\"customdata\":[[474258],[3915482],[4081953],[2172213]],\"direction\":\"clockwise\",\"domain\":{\"x\":[0.0,1.0],\"y\":[0.0,1.0]},\"hovertemplate\":\"period=%{label}<br>Record Count=%{customdata[0]}<extra></extra>\",\"labels\":[\"Dawn\",\"Morning\",\"Afternoon\",\"Night\"],\"legendgroup\":\"\",\"name\":\"\",\"showlegend\":true,\"sort\":false,\"values\":[474258,3915482,4081953,2172213],\"type\":\"pie\",\"pull\":[0.1,0.1,0.1,0.1],\"textinfo\":\"percent+label\"}],                        {\"template\":{\"data\":{\"histogram2dcontour\":[{\"type\":\"histogram2dcontour\",\"colorbar\":{\"outlinewidth\":0,\"ticks\":\"\"},\"colorscale\":[[0.0,\"#0d0887\"],[0.1111111111111111,\"#46039f\"],[0.2222222222222222,\"#7201a8\"],[0.3333333333333333,\"#9c179e\"],[0.4444444444444444,\"#bd3786\"],[0.5555555555555556,\"#d8576b\"],[0.6666666666666666,\"#ed7953\"],[0.7777777777777778,\"#fb9f3a\"],[0.8888888888888888,\"#fdca26\"],[1.0,\"#f0f921\"]]}],\"choropleth\":[{\"type\":\"choropleth\",\"colorbar\":{\"outlinewidth\":0,\"ticks\":\"\"}}],\"histogram2d\":[{\"type\":\"histogram2d\",\"colorbar\":{\"outlinewidth\":0,\"ticks\":\"\"},\"colorscale\":[[0.0,\"#0d0887\"],[0.1111111111111111,\"#46039f\"],[0.2222222222222222,\"#7201a8\"],[0.3333333333333333,\"#9c179e\"],[0.4444444444444444,\"#bd3786\"],[0.5555555555555556,\"#d8576b\"],[0.6666666666666666,\"#ed7953\"],[0.7777777777777778,\"#fb9f3a\"],[0.8888888888888888,\"#fdca26\"],[1.0,\"#f0f921\"]]}],\"heatmap\":[{\"type\":\"heatmap\",\"colorbar\":{\"outlinewidth\":0,\"ticks\":\"\"},\"colorscale\":[[0.0,\"#0d0887\"],[0.1111111111111111,\"#46039f\"],[0.2222222222222222,\"#7201a8\"],[0.3333333333333333,\"#9c179e\"],[0.4444444444444444,\"#bd3786\"],[0.5555555555555556,\"#d8576b\"],[0.6666666666666666,\"#ed7953\"],[0.7777777777777778,\"#fb9f3a\"],[0.8888888888888888,\"#fdca26\"],[1.0,\"#f0f921\"]]}],\"heatmapgl\":[{\"type\":\"heatmapgl\",\"colorbar\":{\"outlinewidth\":0,\"ticks\":\"\"},\"colorscale\":[[0.0,\"#0d0887\"],[0.1111111111111111,\"#46039f\"],[0.2222222222222222,\"#7201a8\"],[0.3333333333333333,\"#9c179e\"],[0.4444444444444444,\"#bd3786\"],[0.5555555555555556,\"#d8576b\"],[0.6666666666666666,\"#ed7953\"],[0.7777777777777778,\"#fb9f3a\"],[0.8888888888888888,\"#fdca26\"],[1.0,\"#f0f921\"]]}],\"contourcarpet\":[{\"type\":\"contourcarpet\",\"colorbar\":{\"outlinewidth\":0,\"ticks\":\"\"}}],\"contour\":[{\"type\":\"contour\",\"colorbar\":{\"outlinewidth\":0,\"ticks\":\"\"},\"colorscale\":[[0.0,\"#0d0887\"],[0.1111111111111111,\"#46039f\"],[0.2222222222222222,\"#7201a8\"],[0.3333333333333333,\"#9c179e\"],[0.4444444444444444,\"#bd3786\"],[0.5555555555555556,\"#d8576b\"],[0.6666666666666666,\"#ed7953\"],[0.7777777777777778,\"#fb9f3a\"],[0.8888888888888888,\"#fdca26\"],[1.0,\"#f0f921\"]]}],\"surface\":[{\"type\":\"surface\",\"colorbar\":{\"outlinewidth\":0,\"ticks\":\"\"},\"colorscale\":[[0.0,\"#0d0887\"],[0.1111111111111111,\"#46039f\"],[0.2222222222222222,\"#7201a8\"],[0.3333333333333333,\"#9c179e\"],[0.4444444444444444,\"#bd3786\"],[0.5555555555555556,\"#d8576b\"],[0.6666666666666666,\"#ed7953\"],[0.7777777777777778,\"#fb9f3a\"],[0.8888888888888888,\"#fdca26\"],[1.0,\"#f0f921\"]]}],\"mesh3d\":[{\"type\":\"mesh3d\",\"colorbar\":{\"outlinewidth\":0,\"ticks\":\"\"}}],\"scatter\":[{\"fillpattern\":{\"fillmode\":\"overlay\",\"size\":10,\"solidity\":0.2},\"type\":\"scatter\"}],\"parcoords\":[{\"type\":\"parcoords\",\"line\":{\"colorbar\":{\"outlinewidth\":0,\"ticks\":\"\"}}}],\"scatterpolargl\":[{\"type\":\"scatterpolargl\",\"marker\":{\"colorbar\":{\"outlinewidth\":0,\"ticks\":\"\"}}}],\"bar\":[{\"error_x\":{\"color\":\"#2a3f5f\"},\"error_y\":{\"color\":\"#2a3f5f\"},\"marker\":{\"line\":{\"color\":\"#E5ECF6\",\"width\":0.5},\"pattern\":{\"fillmode\":\"overlay\",\"size\":10,\"solidity\":0.2}},\"type\":\"bar\"}],\"scattergeo\":[{\"type\":\"scattergeo\",\"marker\":{\"colorbar\":{\"outlinewidth\":0,\"ticks\":\"\"}}}],\"scatterpolar\":[{\"type\":\"scatterpolar\",\"marker\":{\"colorbar\":{\"outlinewidth\":0,\"ticks\":\"\"}}}],\"histogram\":[{\"marker\":{\"pattern\":{\"fillmode\":\"overlay\",\"size\":10,\"solidity\":0.2}},\"type\":\"histogram\"}],\"scattergl\":[{\"type\":\"scattergl\",\"marker\":{\"colorbar\":{\"outlinewidth\":0,\"ticks\":\"\"}}}],\"scatter3d\":[{\"type\":\"scatter3d\",\"line\":{\"colorbar\":{\"outlinewidth\":0,\"ticks\":\"\"}},\"marker\":{\"colorbar\":{\"outlinewidth\":0,\"ticks\":\"\"}}}],\"scattermapbox\":[{\"type\":\"scattermapbox\",\"marker\":{\"colorbar\":{\"outlinewidth\":0,\"ticks\":\"\"}}}],\"scatterternary\":[{\"type\":\"scatterternary\",\"marker\":{\"colorbar\":{\"outlinewidth\":0,\"ticks\":\"\"}}}],\"scattercarpet\":[{\"type\":\"scattercarpet\",\"marker\":{\"colorbar\":{\"outlinewidth\":0,\"ticks\":\"\"}}}],\"carpet\":[{\"aaxis\":{\"endlinecolor\":\"#2a3f5f\",\"gridcolor\":\"white\",\"linecolor\":\"white\",\"minorgridcolor\":\"white\",\"startlinecolor\":\"#2a3f5f\"},\"baxis\":{\"endlinecolor\":\"#2a3f5f\",\"gridcolor\":\"white\",\"linecolor\":\"white\",\"minorgridcolor\":\"white\",\"startlinecolor\":\"#2a3f5f\"},\"type\":\"carpet\"}],\"table\":[{\"cells\":{\"fill\":{\"color\":\"#EBF0F8\"},\"line\":{\"color\":\"white\"}},\"header\":{\"fill\":{\"color\":\"#C8D4E3\"},\"line\":{\"color\":\"white\"}},\"type\":\"table\"}],\"barpolar\":[{\"marker\":{\"line\":{\"color\":\"#E5ECF6\",\"width\":0.5},\"pattern\":{\"fillmode\":\"overlay\",\"size\":10,\"solidity\":0.2}},\"type\":\"barpolar\"}],\"pie\":[{\"automargin\":true,\"type\":\"pie\"}]},\"layout\":{\"autotypenumbers\":\"strict\",\"colorway\":[\"#636efa\",\"#EF553B\",\"#00cc96\",\"#ab63fa\",\"#FFA15A\",\"#19d3f3\",\"#FF6692\",\"#B6E880\",\"#FF97FF\",\"#FECB52\"],\"font\":{\"color\":\"#2a3f5f\"},\"hovermode\":\"closest\",\"hoverlabel\":{\"align\":\"left\"},\"paper_bgcolor\":\"white\",\"plot_bgcolor\":\"#E5ECF6\",\"polar\":{\"bgcolor\":\"#E5ECF6\",\"angularaxis\":{\"gridcolor\":\"white\",\"linecolor\":\"white\",\"ticks\":\"\"},\"radialaxis\":{\"gridcolor\":\"white\",\"linecolor\":\"white\",\"ticks\":\"\"}},\"ternary\":{\"bgcolor\":\"#E5ECF6\",\"aaxis\":{\"gridcolor\":\"white\",\"linecolor\":\"white\",\"ticks\":\"\"},\"baxis\":{\"gridcolor\":\"white\",\"linecolor\":\"white\",\"ticks\":\"\"},\"caxis\":{\"gridcolor\":\"white\",\"linecolor\":\"white\",\"ticks\":\"\"}},\"coloraxis\":{\"colorbar\":{\"outlinewidth\":0,\"ticks\":\"\"}},\"colorscale\":{\"sequential\":[[0.0,\"#0d0887\"],[0.1111111111111111,\"#46039f\"],[0.2222222222222222,\"#7201a8\"],[0.3333333333333333,\"#9c179e\"],[0.4444444444444444,\"#bd3786\"],[0.5555555555555556,\"#d8576b\"],[0.6666666666666666,\"#ed7953\"],[0.7777777777777778,\"#fb9f3a\"],[0.8888888888888888,\"#fdca26\"],[1.0,\"#f0f921\"]],\"sequentialminus\":[[0.0,\"#0d0887\"],[0.1111111111111111,\"#46039f\"],[0.2222222222222222,\"#7201a8\"],[0.3333333333333333,\"#9c179e\"],[0.4444444444444444,\"#bd3786\"],[0.5555555555555556,\"#d8576b\"],[0.6666666666666666,\"#ed7953\"],[0.7777777777777778,\"#fb9f3a\"],[0.8888888888888888,\"#fdca26\"],[1.0,\"#f0f921\"]],\"diverging\":[[0,\"#8e0152\"],[0.1,\"#c51b7d\"],[0.2,\"#de77ae\"],[0.3,\"#f1b6da\"],[0.4,\"#fde0ef\"],[0.5,\"#f7f7f7\"],[0.6,\"#e6f5d0\"],[0.7,\"#b8e186\"],[0.8,\"#7fbc41\"],[0.9,\"#4d9221\"],[1,\"#276419\"]]},\"xaxis\":{\"gridcolor\":\"white\",\"linecolor\":\"white\",\"ticks\":\"\",\"title\":{\"standoff\":15},\"zerolinecolor\":\"white\",\"automargin\":true,\"zerolinewidth\":2},\"yaxis\":{\"gridcolor\":\"white\",\"linecolor\":\"white\",\"ticks\":\"\",\"title\":{\"standoff\":15},\"zerolinecolor\":\"white\",\"automargin\":true,\"zerolinewidth\":2},\"scene\":{\"xaxis\":{\"backgroundcolor\":\"#E5ECF6\",\"gridcolor\":\"white\",\"linecolor\":\"white\",\"showbackground\":true,\"ticks\":\"\",\"zerolinecolor\":\"white\",\"gridwidth\":2},\"yaxis\":{\"backgroundcolor\":\"#E5ECF6\",\"gridcolor\":\"white\",\"linecolor\":\"white\",\"showbackground\":true,\"ticks\":\"\",\"zerolinecolor\":\"white\",\"gridwidth\":2},\"zaxis\":{\"backgroundcolor\":\"#E5ECF6\",\"gridcolor\":\"white\",\"linecolor\":\"white\",\"showbackground\":true,\"ticks\":\"\",\"zerolinecolor\":\"white\",\"gridwidth\":2}},\"shapedefaults\":{\"line\":{\"color\":\"#2a3f5f\"}},\"annotationdefaults\":{\"arrowcolor\":\"#2a3f5f\",\"arrowhead\":0,\"arrowwidth\":1},\"geo\":{\"bgcolor\":\"white\",\"landcolor\":\"#E5ECF6\",\"subunitcolor\":\"white\",\"showland\":true,\"showlakes\":true,\"lakecolor\":\"white\"},\"title\":{\"x\":0.05},\"mapbox\":{\"style\":\"light\"}}},\"legend\":{\"tracegroupgap\":0},\"title\":{\"text\":\"Hourly Period Counts\"}},                        {\"responsive\": true}                    ).then(function(){\n",
       "                            \n",
       "var gd = document.getElementById('4e847f6b-83d0-4d04-ae24-f36ba26097db');\n",
       "var x = new MutationObserver(function (mutations, observer) {{\n",
       "        var display = window.getComputedStyle(gd).display;\n",
       "        if (!display || display === 'none') {{\n",
       "            console.log([gd, 'removed!']);\n",
       "            Plotly.purge(gd);\n",
       "            observer.disconnect();\n",
       "        }}\n",
       "}});\n",
       "\n",
       "// Listen for the removal of the full notebook cells\n",
       "var notebookContainer = gd.closest('#notebook-container');\n",
       "if (notebookContainer) {{\n",
       "    x.observe(notebookContainer, {childList: true});\n",
       "}}\n",
       "\n",
       "// Listen for the clearing of the current output cell\n",
       "var outputEl = gd.closest('.output');\n",
       "if (outputEl) {{\n",
       "    x.observe(outputEl, {childList: true});\n",
       "}}\n",
       "\n",
       "                        })                };                });            </script>        </div>"
      ]
     },
     "metadata": {},
     "output_type": "display_data"
    }
   ],
   "source": [
    "import plotly.express as px\n",
    "\n",
    "# Define the custom order and colors\n",
    "custom_order = [\"Dawn\", \"Morning\", \"Afternoon\", \"Night\"]\n",
    "\n",
    "# Create an interactive pie chart with Plotly\n",
    "fig = px.pie(hourly_period_counts, values='record_count', names='period', \n",
    "             title='Hourly Period Counts', \n",
    "             hover_data=['record_count'], \n",
    "             labels={'record_count': 'Record Count'},\n",
    "             category_orders={\"period\": custom_order})\n",
    "\n",
    "# Customize the layout (optional)\n",
    "fig.update_traces(textinfo='percent+label', pull=[0.1, 0.1, 0.1, 0.1])\n",
    "\n",
    "# Show the chart\n",
    "fig.show()\n",
    "\n",
    "# Save the plot as an HTML file in the 'Python Plots' folder\n",
    "plot_file_path = \"Python Plots/hourly_period_counts.html\"\n",
    "fig.write_html(plot_file_path)"
   ]
  },
  {
   "cell_type": "markdown",
   "id": "e4db0074",
   "metadata": {},
   "source": [
    "[View the Plot](./Python%20Plots/hourly_period_counts.html)"
   ]
  },
  {
   "cell_type": "markdown",
   "id": "53bfd0ae",
   "metadata": {},
   "source": [
    "### Towns and Province activity"
   ]
  },
  {
   "cell_type": "markdown",
   "id": "56a9eadf",
   "metadata": {},
   "source": [
    "Top 50 Towns with the Highest Mobile Activity Recorded"
   ]
  },
  {
   "cell_type": "code",
   "execution_count": 14,
   "id": "c7875836",
   "metadata": {},
   "outputs": [
    {
     "data": {
      "text/markdown": [
       "Query: "
      ],
      "text/plain": [
       "<IPython.core.display.Markdown object>"
      ]
     },
     "metadata": {},
     "output_type": "display_data"
    },
    {
     "name": "stdout",
     "output_type": "stream",
     "text": [
      "\n",
      "    SELECT\n",
      "      postal_code,\n",
      "      town_name,\n",
      "      COUNT(*) AS record_count\n",
      "    FROM\n",
      "      `bq-analyst-230590.project_cat_mobile_coverage_2015_2017.mobile_data_2015_2017_cleaned`\n",
      "    WHERE postal_code IS NOT NULL\n",
      "    GROUP BY postal_code, town_name\n",
      "    ORDER BY 3 DESC\n",
      "    LIMIT 50\n",
      "    \n"
     ]
    },
    {
     "data": {
      "text/markdown": [
       "Dataframe: **hourly_period_counts**"
      ],
      "text/plain": [
       "<IPython.core.display.Markdown object>"
      ]
     },
     "metadata": {},
     "output_type": "display_data"
    },
    {
     "data": {
      "text/html": [
       "<div>\n",
       "<style scoped>\n",
       "    .dataframe tbody tr th:only-of-type {\n",
       "        vertical-align: middle;\n",
       "    }\n",
       "\n",
       "    .dataframe tbody tr th {\n",
       "        vertical-align: top;\n",
       "    }\n",
       "\n",
       "    .dataframe thead th {\n",
       "        text-align: right;\n",
       "    }\n",
       "</style>\n",
       "<table border=\"1\" class=\"dataframe\">\n",
       "  <thead>\n",
       "    <tr style=\"text-align: right;\">\n",
       "      <th></th>\n",
       "      <th>postal_code</th>\n",
       "      <th>town_name</th>\n",
       "      <th>record_count</th>\n",
       "    </tr>\n",
       "  </thead>\n",
       "  <tbody>\n",
       "    <tr>\n",
       "      <th>0</th>\n",
       "      <td>080193</td>\n",
       "      <td>Barcelona</td>\n",
       "      <td>2094147</td>\n",
       "    </tr>\n",
       "    <tr>\n",
       "      <th>1</th>\n",
       "      <td>251207</td>\n",
       "      <td>Lleida</td>\n",
       "      <td>275253</td>\n",
       "    </tr>\n",
       "    <tr>\n",
       "      <th>2</th>\n",
       "      <td>431233</td>\n",
       "      <td>Reus</td>\n",
       "      <td>230108</td>\n",
       "    </tr>\n",
       "    <tr>\n",
       "      <th>3</th>\n",
       "      <td>081017</td>\n",
       "      <td>l'Hospitalet de Llobregat</td>\n",
       "      <td>223375</td>\n",
       "    </tr>\n",
       "    <tr>\n",
       "      <th>4</th>\n",
       "      <td>082055</td>\n",
       "      <td>Sant Cugat del Vallès</td>\n",
       "      <td>218380</td>\n",
       "    </tr>\n",
       "    <tr>\n",
       "      <th>5</th>\n",
       "      <td>170792</td>\n",
       "      <td>Girona</td>\n",
       "      <td>174102</td>\n",
       "    </tr>\n",
       "    <tr>\n",
       "      <th>6</th>\n",
       "      <td>080155</td>\n",
       "      <td>Badalona</td>\n",
       "      <td>169795</td>\n",
       "    </tr>\n",
       "    <tr>\n",
       "      <th>7</th>\n",
       "      <td>081878</td>\n",
       "      <td>Sabadell</td>\n",
       "      <td>139425</td>\n",
       "    </tr>\n",
       "    <tr>\n",
       "      <th>8</th>\n",
       "      <td>082798</td>\n",
       "      <td>Terrassa</td>\n",
       "      <td>124859</td>\n",
       "    </tr>\n",
       "    <tr>\n",
       "      <th>9</th>\n",
       "      <td>083054</td>\n",
       "      <td>Vilafranca del Penedès</td>\n",
       "      <td>124369</td>\n",
       "    </tr>\n",
       "    <tr>\n",
       "      <th>10</th>\n",
       "      <td>081136</td>\n",
       "      <td>Manresa</td>\n",
       "      <td>122550</td>\n",
       "    </tr>\n",
       "    <tr>\n",
       "      <th>11</th>\n",
       "      <td>080961</td>\n",
       "      <td>Granollers</td>\n",
       "      <td>101345</td>\n",
       "    </tr>\n",
       "    <tr>\n",
       "      <th>12</th>\n",
       "      <td>431482</td>\n",
       "      <td>Tarragona</td>\n",
       "      <td>96888</td>\n",
       "    </tr>\n",
       "    <tr>\n",
       "      <th>13</th>\n",
       "      <td>081213</td>\n",
       "      <td>Mataró</td>\n",
       "      <td>96083</td>\n",
       "    </tr>\n",
       "    <tr>\n",
       "      <th>14</th>\n",
       "      <td>081691</td>\n",
       "      <td>el Prat de Llobregat</td>\n",
       "      <td>82604</td>\n",
       "    </tr>\n",
       "    <tr>\n",
       "      <th>15</th>\n",
       "      <td>083073</td>\n",
       "      <td>Vilanova i la Geltrú</td>\n",
       "      <td>80789</td>\n",
       "    </tr>\n",
       "    <tr>\n",
       "      <th>16</th>\n",
       "      <td>081069</td>\n",
       "      <td>Llinars del Vallès</td>\n",
       "      <td>79374</td>\n",
       "    </tr>\n",
       "    <tr>\n",
       "      <th>17</th>\n",
       "      <td>082981</td>\n",
       "      <td>Vic</td>\n",
       "      <td>77392</td>\n",
       "    </tr>\n",
       "    <tr>\n",
       "      <th>18</th>\n",
       "      <td>080771</td>\n",
       "      <td>Esplugues de Llobregat</td>\n",
       "      <td>72185</td>\n",
       "    </tr>\n",
       "    <tr>\n",
       "      <th>19</th>\n",
       "      <td>082009</td>\n",
       "      <td>Sant Boi de Llobregat</td>\n",
       "      <td>72119</td>\n",
       "    </tr>\n",
       "    <tr>\n",
       "      <th>20</th>\n",
       "      <td>171143</td>\n",
       "      <td>Olot</td>\n",
       "      <td>71180</td>\n",
       "    </tr>\n",
       "    <tr>\n",
       "      <th>21</th>\n",
       "      <td>080734</td>\n",
       "      <td>Cornellà de Llobregat</td>\n",
       "      <td>70375</td>\n",
       "    </tr>\n",
       "    <tr>\n",
       "      <th>22</th>\n",
       "      <td>082665</td>\n",
       "      <td>Cerdanyola del Vallès</td>\n",
       "      <td>69160</td>\n",
       "    </tr>\n",
       "    <tr>\n",
       "      <th>23</th>\n",
       "      <td>080462</td>\n",
       "      <td>Cardedeu</td>\n",
       "      <td>68543</td>\n",
       "    </tr>\n",
       "    <tr>\n",
       "      <th>24</th>\n",
       "      <td>082172</td>\n",
       "      <td>Sant Joan Despí</td>\n",
       "      <td>67219</td>\n",
       "    </tr>\n",
       "    <tr>\n",
       "      <th>25</th>\n",
       "      <td>081252</td>\n",
       "      <td>Montcada i Reixac</td>\n",
       "      <td>64475</td>\n",
       "    </tr>\n",
       "    <tr>\n",
       "      <th>26</th>\n",
       "      <td>083015</td>\n",
       "      <td>Viladecans</td>\n",
       "      <td>63803</td>\n",
       "    </tr>\n",
       "    <tr>\n",
       "      <th>27</th>\n",
       "      <td>081810</td>\n",
       "      <td>la Roca del Vallès</td>\n",
       "      <td>59843</td>\n",
       "    </tr>\n",
       "    <tr>\n",
       "      <th>28</th>\n",
       "      <td>081141</td>\n",
       "      <td>Martorell</td>\n",
       "      <td>52506</td>\n",
       "    </tr>\n",
       "    <tr>\n",
       "      <th>29</th>\n",
       "      <td>081249</td>\n",
       "      <td>Mollet del Vallès</td>\n",
       "      <td>50668</td>\n",
       "    </tr>\n",
       "    <tr>\n",
       "      <th>30</th>\n",
       "      <td>170669</td>\n",
       "      <td>Figueres</td>\n",
       "      <td>49207</td>\n",
       "    </tr>\n",
       "    <tr>\n",
       "      <th>31</th>\n",
       "      <td>082384</td>\n",
       "      <td>Sant Quirze del Vallès</td>\n",
       "      <td>48346</td>\n",
       "    </tr>\n",
       "    <tr>\n",
       "      <th>32</th>\n",
       "      <td>082021</td>\n",
       "      <td>Sant Celoni</td>\n",
       "      <td>47936</td>\n",
       "    </tr>\n",
       "    <tr>\n",
       "      <th>33</th>\n",
       "      <td>080543</td>\n",
       "      <td>Castellbisbal</td>\n",
       "      <td>47762</td>\n",
       "    </tr>\n",
       "    <tr>\n",
       "      <th>34</th>\n",
       "      <td>081944</td>\n",
       "      <td>Sant Adrià de Besòs</td>\n",
       "      <td>47293</td>\n",
       "    </tr>\n",
       "    <tr>\n",
       "      <th>35</th>\n",
       "      <td>081846</td>\n",
       "      <td>Rubí</td>\n",
       "      <td>47242</td>\n",
       "    </tr>\n",
       "    <tr>\n",
       "      <th>36</th>\n",
       "      <td>082520</td>\n",
       "      <td>Barberà del Vallès</td>\n",
       "      <td>45658</td>\n",
       "    </tr>\n",
       "    <tr>\n",
       "      <th>37</th>\n",
       "      <td>082457</td>\n",
       "      <td>Santa Coloma de Gramenet</td>\n",
       "      <td>45189</td>\n",
       "    </tr>\n",
       "    <tr>\n",
       "      <th>38</th>\n",
       "      <td>082606</td>\n",
       "      <td>Santa Perpètua de Mogoda</td>\n",
       "      <td>45184</td>\n",
       "    </tr>\n",
       "    <tr>\n",
       "      <th>39</th>\n",
       "      <td>081635</td>\n",
       "      <td>Pineda de Mar</td>\n",
       "      <td>44940</td>\n",
       "    </tr>\n",
       "    <tr>\n",
       "      <th>40</th>\n",
       "      <td>430141</td>\n",
       "      <td>Amposta</td>\n",
       "      <td>41596</td>\n",
       "    </tr>\n",
       "    <tr>\n",
       "      <th>41</th>\n",
       "      <td>081075</td>\n",
       "      <td>Lliçà d'Amunt</td>\n",
       "      <td>40450</td>\n",
       "    </tr>\n",
       "    <tr>\n",
       "      <th>42</th>\n",
       "      <td>080667</td>\n",
       "      <td>Castellví de Rosanes</td>\n",
       "      <td>40133</td>\n",
       "    </tr>\n",
       "    <tr>\n",
       "      <th>43</th>\n",
       "      <td>080898</td>\n",
       "      <td>Gavà</td>\n",
       "      <td>39903</td>\n",
       "    </tr>\n",
       "    <tr>\n",
       "      <th>44</th>\n",
       "      <td>082704</td>\n",
       "      <td>Sitges</td>\n",
       "      <td>39629</td>\n",
       "    </tr>\n",
       "    <tr>\n",
       "      <th>45</th>\n",
       "      <td>081593</td>\n",
       "      <td>Parets del Vallès</td>\n",
       "      <td>39505</td>\n",
       "    </tr>\n",
       "    <tr>\n",
       "      <th>46</th>\n",
       "      <td>080569</td>\n",
       "      <td>Castelldefels</td>\n",
       "      <td>39351</td>\n",
       "    </tr>\n",
       "    <tr>\n",
       "      <th>47</th>\n",
       "      <td>252173</td>\n",
       "      <td>Tàrrega</td>\n",
       "      <td>38791</td>\n",
       "    </tr>\n",
       "    <tr>\n",
       "      <th>48</th>\n",
       "      <td>430385</td>\n",
       "      <td>Cambrils</td>\n",
       "      <td>36982</td>\n",
       "    </tr>\n",
       "    <tr>\n",
       "      <th>49</th>\n",
       "      <td>082634</td>\n",
       "      <td>Sant Vicenç dels Horts</td>\n",
       "      <td>35429</td>\n",
       "    </tr>\n",
       "  </tbody>\n",
       "</table>\n",
       "</div>"
      ],
      "text/plain": [
       "   postal_code                  town_name  record_count\n",
       "0       080193                  Barcelona       2094147\n",
       "1       251207                     Lleida        275253\n",
       "2       431233                       Reus        230108\n",
       "3       081017  l'Hospitalet de Llobregat        223375\n",
       "4       082055      Sant Cugat del Vallès        218380\n",
       "5       170792                     Girona        174102\n",
       "6       080155                   Badalona        169795\n",
       "7       081878                   Sabadell        139425\n",
       "8       082798                   Terrassa        124859\n",
       "9       083054     Vilafranca del Penedès        124369\n",
       "10      081136                    Manresa        122550\n",
       "11      080961                 Granollers        101345\n",
       "12      431482                  Tarragona         96888\n",
       "13      081213                     Mataró         96083\n",
       "14      081691       el Prat de Llobregat         82604\n",
       "15      083073       Vilanova i la Geltrú         80789\n",
       "16      081069         Llinars del Vallès         79374\n",
       "17      082981                        Vic         77392\n",
       "18      080771     Esplugues de Llobregat         72185\n",
       "19      082009      Sant Boi de Llobregat         72119\n",
       "20      171143                       Olot         71180\n",
       "21      080734      Cornellà de Llobregat         70375\n",
       "22      082665      Cerdanyola del Vallès         69160\n",
       "23      080462                   Cardedeu         68543\n",
       "24      082172            Sant Joan Despí         67219\n",
       "25      081252          Montcada i Reixac         64475\n",
       "26      083015                 Viladecans         63803\n",
       "27      081810         la Roca del Vallès         59843\n",
       "28      081141                  Martorell         52506\n",
       "29      081249          Mollet del Vallès         50668\n",
       "30      170669                   Figueres         49207\n",
       "31      082384     Sant Quirze del Vallès         48346\n",
       "32      082021                Sant Celoni         47936\n",
       "33      080543              Castellbisbal         47762\n",
       "34      081944        Sant Adrià de Besòs         47293\n",
       "35      081846                       Rubí         47242\n",
       "36      082520         Barberà del Vallès         45658\n",
       "37      082457   Santa Coloma de Gramenet         45189\n",
       "38      082606   Santa Perpètua de Mogoda         45184\n",
       "39      081635              Pineda de Mar         44940\n",
       "40      430141                    Amposta         41596\n",
       "41      081075              Lliçà d'Amunt         40450\n",
       "42      080667       Castellví de Rosanes         40133\n",
       "43      080898                       Gavà         39903\n",
       "44      082704                     Sitges         39629\n",
       "45      081593          Parets del Vallès         39505\n",
       "46      080569              Castelldefels         39351\n",
       "47      252173                    Tàrrega         38791\n",
       "48      430385                   Cambrils         36982\n",
       "49      082634     Sant Vicenç dels Horts         35429"
      ]
     },
     "execution_count": 14,
     "metadata": {},
     "output_type": "execute_result"
    }
   ],
   "source": [
    "# SQL query\n",
    "query = f\"\"\"\n",
    "    SELECT\n",
    "      postal_code,\n",
    "      town_name,\n",
    "      COUNT(*) AS record_count\n",
    "    FROM\n",
    "      `{mobile_data_cleaned}`\n",
    "    WHERE postal_code IS NOT NULL\n",
    "    GROUP BY postal_code, town_name\n",
    "    ORDER BY 3 DESC\n",
    "    LIMIT 50\n",
    "    \"\"\"\n",
    "# DataFrame name\n",
    "df_name = \"hourly_period_counts\"\n",
    "\n",
    "# Execute the query and store the result in the DataFrame\n",
    "query_df(query, df_name)"
   ]
  },
  {
   "cell_type": "code",
   "execution_count": 15,
   "id": "27b27962",
   "metadata": {},
   "outputs": [
    {
     "data": {
      "text/markdown": [
       "Query: "
      ],
      "text/plain": [
       "<IPython.core.display.Markdown object>"
      ]
     },
     "metadata": {},
     "output_type": "display_data"
    },
    {
     "name": "stdout",
     "output_type": "stream",
     "text": [
      "\n",
      "WITH ProvinceActivity AS (\n",
      "  SELECT\n",
      "      CASE\n",
      "        WHEN LEFT(CAST(postal_code AS STRING), 2) = '08' THEN 'Barcelona'\n",
      "        WHEN LEFT(CAST(postal_code AS STRING), 2) = '25' THEN 'Lleida'\n",
      "        WHEN LEFT(CAST(postal_code AS STRING), 2) = '17' THEN 'Girona'\n",
      "        WHEN LEFT(CAST(postal_code AS STRING), 2) = '43' THEN 'Tarragona'\n",
      "        ELSE 'Not defined'\n",
      "      END AS province,\n",
      "      COUNT(*) AS record_count\n",
      "  FROM `bq-analyst-230590.project_cat_mobile_coverage_2015_2017.mobile_data_2015_2017_cleaned`\n",
      "  GROUP BY province\n",
      ")\n",
      "\n",
      "SELECT\n",
      "    province,\n",
      "    record_count,\n",
      "    ROUND((record_count / SUM(record_count) OVER ()) * 100,2) AS percentage\n",
      "FROM ProvinceActivity\n",
      "ORDER BY 2 DESC;\n",
      "    \n"
     ]
    },
    {
     "data": {
      "text/markdown": [
       "Dataframe: **hourly_period_counts**"
      ],
      "text/plain": [
       "<IPython.core.display.Markdown object>"
      ]
     },
     "metadata": {},
     "output_type": "display_data"
    },
    {
     "data": {
      "text/html": [
       "<div>\n",
       "<style scoped>\n",
       "    .dataframe tbody tr th:only-of-type {\n",
       "        vertical-align: middle;\n",
       "    }\n",
       "\n",
       "    .dataframe tbody tr th {\n",
       "        vertical-align: top;\n",
       "    }\n",
       "\n",
       "    .dataframe thead th {\n",
       "        text-align: right;\n",
       "    }\n",
       "</style>\n",
       "<table border=\"1\" class=\"dataframe\">\n",
       "  <thead>\n",
       "    <tr style=\"text-align: right;\">\n",
       "      <th></th>\n",
       "      <th>province</th>\n",
       "      <th>record_count</th>\n",
       "      <th>percentage</th>\n",
       "    </tr>\n",
       "  </thead>\n",
       "  <tbody>\n",
       "    <tr>\n",
       "      <th>0</th>\n",
       "      <td>Barcelona</td>\n",
       "      <td>7282814</td>\n",
       "      <td>68.42</td>\n",
       "    </tr>\n",
       "    <tr>\n",
       "      <th>1</th>\n",
       "      <td>Girona</td>\n",
       "      <td>1375692</td>\n",
       "      <td>12.92</td>\n",
       "    </tr>\n",
       "    <tr>\n",
       "      <th>2</th>\n",
       "      <td>Lleida</td>\n",
       "      <td>994612</td>\n",
       "      <td>9.34</td>\n",
       "    </tr>\n",
       "    <tr>\n",
       "      <th>3</th>\n",
       "      <td>Tarragona</td>\n",
       "      <td>990788</td>\n",
       "      <td>9.31</td>\n",
       "    </tr>\n",
       "  </tbody>\n",
       "</table>\n",
       "</div>"
      ],
      "text/plain": [
       "    province  record_count  percentage\n",
       "0  Barcelona       7282814       68.42\n",
       "1     Girona       1375692       12.92\n",
       "2     Lleida        994612        9.34\n",
       "3  Tarragona        990788        9.31"
      ]
     },
     "execution_count": 15,
     "metadata": {},
     "output_type": "execute_result"
    }
   ],
   "source": [
    "# SQL query\n",
    "query = f\"\"\"\n",
    "WITH ProvinceActivity AS (\n",
    "  SELECT\n",
    "      CASE\n",
    "        WHEN LEFT(CAST(postal_code AS STRING), 2) = '08' THEN 'Barcelona'\n",
    "        WHEN LEFT(CAST(postal_code AS STRING), 2) = '25' THEN 'Lleida'\n",
    "        WHEN LEFT(CAST(postal_code AS STRING), 2) = '17' THEN 'Girona'\n",
    "        WHEN LEFT(CAST(postal_code AS STRING), 2) = '43' THEN 'Tarragona'\n",
    "        ELSE 'Not defined'\n",
    "      END AS province,\n",
    "      COUNT(*) AS record_count\n",
    "  FROM `{mobile_data_cleaned}`\n",
    "  GROUP BY province\n",
    ")\n",
    "\n",
    "SELECT\n",
    "    province,\n",
    "    record_count,\n",
    "    ROUND((record_count / SUM(record_count) OVER ()) * 100,2) AS percentage\n",
    "FROM ProvinceActivity\n",
    "ORDER BY 2 DESC;\n",
    "    \"\"\"\n",
    "# DataFrame name\n",
    "df_name = \"hourly_period_counts\"\n",
    "\n",
    "# Execute the query and store the result in the DataFrame\n",
    "query_df(query, df_name)"
   ]
  },
  {
   "cell_type": "code",
   "execution_count": null,
   "id": "57ee070f",
   "metadata": {},
   "outputs": [],
   "source": []
  },
  {
   "cell_type": "markdown",
   "id": "7c402204",
   "metadata": {},
   "source": [
    "### Network, operators and signal"
   ]
  },
  {
   "cell_type": "code",
   "execution_count": 16,
   "id": "3c31e892",
   "metadata": {},
   "outputs": [
    {
     "data": {
      "text/markdown": [
       "Query: "
      ],
      "text/plain": [
       "<IPython.core.display.Markdown object>"
      ]
     },
     "metadata": {},
     "output_type": "display_data"
    },
    {
     "name": "stdout",
     "output_type": "stream",
     "text": [
      "\n",
      "SELECT\n",
      "  network,\n",
      "  operator,\n",
      "  COUNT(*) record_count,\n",
      "  ROUND(AVG(signal),1) avg_netw_signal\n",
      "FROM\n",
      "  `bq-analyst-230590.project_cat_mobile_coverage_2015_2017.mobile_data_2015_2017_cleaned`\n",
      "GROUP BY 1,2\n",
      "ORDER BY 3 DESC;\n",
      "    \n"
     ]
    },
    {
     "data": {
      "text/markdown": [
       "Dataframe: **netw_oper_signal**"
      ],
      "text/plain": [
       "<IPython.core.display.Markdown object>"
      ]
     },
     "metadata": {},
     "output_type": "display_data"
    },
    {
     "data": {
      "text/html": [
       "<div>\n",
       "<style scoped>\n",
       "    .dataframe tbody tr th:only-of-type {\n",
       "        vertical-align: middle;\n",
       "    }\n",
       "\n",
       "    .dataframe tbody tr th {\n",
       "        vertical-align: top;\n",
       "    }\n",
       "\n",
       "    .dataframe thead th {\n",
       "        text-align: right;\n",
       "    }\n",
       "</style>\n",
       "<table border=\"1\" class=\"dataframe\">\n",
       "  <thead>\n",
       "    <tr style=\"text-align: right;\">\n",
       "      <th></th>\n",
       "      <th>network</th>\n",
       "      <th>operator</th>\n",
       "      <th>record_count</th>\n",
       "      <th>avg_netw_signal</th>\n",
       "    </tr>\n",
       "  </thead>\n",
       "  <tbody>\n",
       "    <tr>\n",
       "      <th>0</th>\n",
       "      <td>Movistar</td>\n",
       "      <td>Movistar</td>\n",
       "      <td>4205030</td>\n",
       "      <td>12.9</td>\n",
       "    </tr>\n",
       "    <tr>\n",
       "      <th>1</th>\n",
       "      <td>Vodafone</td>\n",
       "      <td>Vodafone</td>\n",
       "      <td>2637269</td>\n",
       "      <td>13.9</td>\n",
       "    </tr>\n",
       "    <tr>\n",
       "      <th>2</th>\n",
       "      <td>Orange</td>\n",
       "      <td>Orange</td>\n",
       "      <td>2003502</td>\n",
       "      <td>13.3</td>\n",
       "    </tr>\n",
       "    <tr>\n",
       "      <th>3</th>\n",
       "      <td>Orange</td>\n",
       "      <td>Jazztel</td>\n",
       "      <td>415882</td>\n",
       "      <td>12.6</td>\n",
       "    </tr>\n",
       "    <tr>\n",
       "      <th>4</th>\n",
       "      <td>Movistar</td>\n",
       "      <td>Pepephone</td>\n",
       "      <td>372329</td>\n",
       "      <td>12.9</td>\n",
       "    </tr>\n",
       "    <tr>\n",
       "      <th>...</th>\n",
       "      <td>...</td>\n",
       "      <td>...</td>\n",
       "      <td>...</td>\n",
       "      <td>...</td>\n",
       "    </tr>\n",
       "    <tr>\n",
       "      <th>65</th>\n",
       "      <td>simyo 3G</td>\n",
       "      <td>simyo 3G</td>\n",
       "      <td>5</td>\n",
       "      <td>19.0</td>\n",
       "    </tr>\n",
       "    <tr>\n",
       "      <th>66</th>\n",
       "      <td>eticom</td>\n",
       "      <td>eticom</td>\n",
       "      <td>4</td>\n",
       "      <td>17.0</td>\n",
       "    </tr>\n",
       "    <tr>\n",
       "      <th>67</th>\n",
       "      <td>DEFACE</td>\n",
       "      <td>DEFACE</td>\n",
       "      <td>2</td>\n",
       "      <td>20.5</td>\n",
       "    </tr>\n",
       "    <tr>\n",
       "      <th>68</th>\n",
       "      <td>Orange</td>\n",
       "      <td>eticom</td>\n",
       "      <td>2</td>\n",
       "      <td>8.0</td>\n",
       "    </tr>\n",
       "    <tr>\n",
       "      <th>69</th>\n",
       "      <td>La Poste Mobile</td>\n",
       "      <td>La Poste Mobile</td>\n",
       "      <td>1</td>\n",
       "      <td>11.0</td>\n",
       "    </tr>\n",
       "  </tbody>\n",
       "</table>\n",
       "<p>70 rows × 4 columns</p>\n",
       "</div>"
      ],
      "text/plain": [
       "            network         operator  record_count  avg_netw_signal\n",
       "0          Movistar         Movistar       4205030             12.9\n",
       "1          Vodafone         Vodafone       2637269             13.9\n",
       "2            Orange           Orange       2003502             13.3\n",
       "3            Orange          Jazztel        415882             12.6\n",
       "4          Movistar        Pepephone        372329             12.9\n",
       "..              ...              ...           ...              ...\n",
       "65         simyo 3G         simyo 3G             5             19.0\n",
       "66           eticom           eticom             4             17.0\n",
       "67           DEFACE           DEFACE             2             20.5\n",
       "68           Orange           eticom             2              8.0\n",
       "69  La Poste Mobile  La Poste Mobile             1             11.0\n",
       "\n",
       "[70 rows x 4 columns]"
      ]
     },
     "execution_count": 16,
     "metadata": {},
     "output_type": "execute_result"
    }
   ],
   "source": [
    "# SQL query\n",
    "query = f\"\"\"\n",
    "SELECT\n",
    "  network,\n",
    "  operator,\n",
    "  COUNT(*) record_count,\n",
    "  ROUND(AVG(signal),1) avg_netw_signal\n",
    "FROM\n",
    "  `{mobile_data_cleaned}`\n",
    "GROUP BY 1,2\n",
    "ORDER BY 3 DESC;\n",
    "    \"\"\"\n",
    "# DataFrame name\n",
    "df_name = \"netw_oper_signal\"\n",
    "\n",
    "# Execute the query and store the result in the DataFrame\n",
    "netw_oper_signal = query_df(query, df_name)\n",
    "\n",
    "netw_oper_signal"
   ]
  },
  {
   "cell_type": "code",
   "execution_count": 17,
   "id": "f6c9dbf7",
   "metadata": {},
   "outputs": [
    {
     "data": {
      "text/markdown": [
       "There are 52 unique networks and 59 distinct operators"
      ],
      "text/plain": [
       "<IPython.core.display.Markdown object>"
      ]
     },
     "metadata": {},
     "output_type": "display_data"
    }
   ],
   "source": [
    "networks = netw_oper_signal['network'].nunique()\n",
    "operators = netw_oper_signal['operator'].nunique()\n",
    "\n",
    "display(Markdown(f\"There are {networks} unique networks and {operators} distinct operators\"))"
   ]
  },
  {
   "cell_type": "markdown",
   "id": "ee26ce29",
   "metadata": {},
   "source": [
    "Which (national) network has the highest activity recorded?"
   ]
  },
  {
   "cell_type": "code",
   "execution_count": 18,
   "id": "17c35052",
   "metadata": {},
   "outputs": [
    {
     "data": {
      "text/html": [
       "<div>\n",
       "<style scoped>\n",
       "    .dataframe tbody tr th:only-of-type {\n",
       "        vertical-align: middle;\n",
       "    }\n",
       "\n",
       "    .dataframe tbody tr th {\n",
       "        vertical-align: top;\n",
       "    }\n",
       "\n",
       "    .dataframe thead th {\n",
       "        text-align: right;\n",
       "    }\n",
       "</style>\n",
       "<table border=\"1\" class=\"dataframe\">\n",
       "  <thead>\n",
       "    <tr style=\"text-align: right;\">\n",
       "      <th></th>\n",
       "      <th>network</th>\n",
       "      <th>record_count</th>\n",
       "    </tr>\n",
       "  </thead>\n",
       "  <tbody>\n",
       "    <tr>\n",
       "      <th>26</th>\n",
       "      <td>Movistar</td>\n",
       "      <td>4664008</td>\n",
       "    </tr>\n",
       "  </tbody>\n",
       "</table>\n",
       "</div>"
      ],
      "text/plain": [
       "     network  record_count\n",
       "26  Movistar       4664008"
      ]
     },
     "execution_count": 18,
     "metadata": {},
     "output_type": "execute_result"
    }
   ],
   "source": [
    "# Group the DataFrame by the \"network\" column and calculate the total activity\n",
    "network_activity = netw_oper_signal.groupby('network')['record_count'].sum().reset_index()\n",
    "\n",
    "# Find the network with the highest total activity\n",
    "max_activity_network = network_activity[network_activity['record_count'] == network_activity['record_count'].max()]\n",
    "\n",
    "# Print the network with the highest total activity\n",
    "max_activity_network"
   ]
  },
  {
   "cell_type": "markdown",
   "id": "ab4adbf7",
   "metadata": {},
   "source": [
    "And the operator?"
   ]
  },
  {
   "cell_type": "code",
   "execution_count": 19,
   "id": "334d3ddc",
   "metadata": {},
   "outputs": [
    {
     "data": {
      "text/html": [
       "<div>\n",
       "<style scoped>\n",
       "    .dataframe tbody tr th:only-of-type {\n",
       "        vertical-align: middle;\n",
       "    }\n",
       "\n",
       "    .dataframe tbody tr th {\n",
       "        vertical-align: top;\n",
       "    }\n",
       "\n",
       "    .dataframe thead th {\n",
       "        text-align: right;\n",
       "    }\n",
       "</style>\n",
       "<table border=\"1\" class=\"dataframe\">\n",
       "  <thead>\n",
       "    <tr style=\"text-align: right;\">\n",
       "      <th></th>\n",
       "      <th>operator</th>\n",
       "      <th>record_count</th>\n",
       "    </tr>\n",
       "  </thead>\n",
       "  <tbody>\n",
       "    <tr>\n",
       "      <th>27</th>\n",
       "      <td>Movistar</td>\n",
       "      <td>4205030</td>\n",
       "    </tr>\n",
       "  </tbody>\n",
       "</table>\n",
       "</div>"
      ],
      "text/plain": [
       "    operator  record_count\n",
       "27  Movistar       4205030"
      ]
     },
     "execution_count": 19,
     "metadata": {},
     "output_type": "execute_result"
    }
   ],
   "source": [
    "# Group the DataFrame by the \"operator\" column and calculate the total activity\n",
    "operator_activity = netw_oper_signal.groupby('operator')['record_count'].sum().reset_index()\n",
    "\n",
    "# Find the operator with the highest total activity\n",
    "max_activity_operator = operator_activity[operator_activity['record_count'] == operator_activity['record_count'].max()]\n",
    "\n",
    "# Print the operator with the highest total activity\n",
    "max_activity_operator"
   ]
  },
  {
   "cell_type": "markdown",
   "id": "c2c0c14f",
   "metadata": {},
   "source": [
    "Which network/operator has the highest average signal?"
   ]
  },
  {
   "cell_type": "code",
   "execution_count": 20,
   "id": "8c1cf360",
   "metadata": {},
   "outputs": [
    {
     "data": {
      "text/plain": [
       "network            DEFACE\n",
       "operator           DEFACE\n",
       "record_count            2\n",
       "avg_netw_signal      20.5\n",
       "Name: 67, dtype: object"
      ]
     },
     "execution_count": 20,
     "metadata": {},
     "output_type": "execute_result"
    }
   ],
   "source": [
    "# Find the index of the row with the maximum \"avg_netw_signal\"\n",
    "max_signal_index = netw_oper_signal['avg_netw_signal'].idxmax()\n",
    "\n",
    "# Retrieve the corresponding row with the maximum \"avg_netw_signal\"\n",
    "top_signal = netw_oper_signal.loc[max_signal_index]\n",
    "\n",
    "# Display the row with the maximum \"avg_netw_signal\"\n",
    "top_signal"
   ]
  },
  {
   "cell_type": "markdown",
   "id": "3f756bb4",
   "metadata": {},
   "source": [
    "Which network/operator has the highest average signal among the top 25% of recorded activities?"
   ]
  },
  {
   "cell_type": "code",
   "execution_count": 21,
   "id": "dad75bde",
   "metadata": {},
   "outputs": [
    {
     "data": {
      "text/plain": [
       "network            Movistar\n",
       "operator                ONO\n",
       "record_count          44287\n",
       "avg_netw_signal        14.6\n",
       "Name: 9, dtype: object"
      ]
     },
     "execution_count": 21,
     "metadata": {},
     "output_type": "execute_result"
    }
   ],
   "source": [
    "# Calculate the threshold for the top 25% percentile of \"record_count\"\n",
    "threshold = netw_oper_signal['record_count'].quantile(0.75)\n",
    "\n",
    "# Filter the DataFrame to select rows with \"record_count\" greater than or equal to the threshold\n",
    "top_25_percentile = netw_oper_signal[netw_oper_signal['record_count'] >= threshold]\n",
    "\n",
    "# Find the row with the maximum \"avg_netw_signal\" within the filtered DataFrame\n",
    "max_avg_netw_signal_row = top_25_percentile.loc[top_25_percentile['avg_netw_signal'].idxmax()]\n",
    "\n",
    "# Display the row with the maximum \"avg_netw_signal\"\n",
    "max_avg_netw_signal_row"
   ]
  },
  {
   "cell_type": "markdown",
   "id": "1e2e10f8",
   "metadata": {},
   "source": [
    "Top Signal Strength by Operator and Network (top 10% record_count, excluding null values)"
   ]
  },
  {
   "cell_type": "code",
   "execution_count": 26,
   "id": "e9ebbab0",
   "metadata": {},
   "outputs": [
    {
     "data": {
      "text/markdown": [
       "Query: "
      ],
      "text/plain": [
       "<IPython.core.display.Markdown object>"
      ]
     },
     "metadata": {},
     "output_type": "display_data"
    },
    {
     "name": "stdout",
     "output_type": "stream",
     "text": [
      "\n",
      "WITH Top10Percent AS (\n",
      "  \n",
      "  # Subquery to prepare data to calculate the number of operators for each network\n",
      "  SELECT\n",
      "    network,\n",
      "    num_operator,\n",
      "    record_count,\n",
      "    RANK() OVER (ORDER BY record_count DESC) AS record_count_rank,\n",
      "    avg_signal,\n",
      "    quartile\n",
      "  FROM (\n",
      "    SELECT\n",
      "      LOWER(network) AS network,\n",
      "      \n",
      "      # Calculate the number of distinct operators for each network\n",
      "      COUNT(DISTINCT LOWER(operator)) AS num_operator,\n",
      "      \n",
      "      COUNT(*) AS record_count,\n",
      "      ROUND(AVG(signal), 1) AS avg_signal,\n",
      "      NTILE(10) OVER (ORDER BY COUNT(*) DESC) AS quartile\n",
      "    FROM\n",
      "      `bq-analyst-230590.project_cat_mobile_coverage_2015_2017.mobile_data_2015_2017_cleaned`\n",
      "    WHERE\n",
      "    \n",
      "    # Exclude rows with network 'null' (stored as string)\n",
      "      network != 'null'\n",
      "    GROUP BY 1\n",
      "  )\n",
      ")\n",
      "\n",
      "SELECT\n",
      "  network,\n",
      "  num_operator,\n",
      "  record_count,\n",
      "  record_count_rank,\n",
      "  avg_signal\n",
      "FROM\n",
      "  Top10Percent\n",
      "WHERE\n",
      "  quartile = 1\n",
      "ORDER BY\n",
      "  avg_signal DESC;\n",
      "    \n"
     ]
    },
    {
     "data": {
      "text/markdown": [
       "Dataframe: **net_oper_signal**"
      ],
      "text/plain": [
       "<IPython.core.display.Markdown object>"
      ]
     },
     "metadata": {},
     "output_type": "display_data"
    },
    {
     "data": {
      "text/html": [
       "<div>\n",
       "<style scoped>\n",
       "    .dataframe tbody tr th:only-of-type {\n",
       "        vertical-align: middle;\n",
       "    }\n",
       "\n",
       "    .dataframe tbody tr th {\n",
       "        vertical-align: top;\n",
       "    }\n",
       "\n",
       "    .dataframe thead th {\n",
       "        text-align: right;\n",
       "    }\n",
       "</style>\n",
       "<table border=\"1\" class=\"dataframe\">\n",
       "  <thead>\n",
       "    <tr style=\"text-align: right;\">\n",
       "      <th></th>\n",
       "      <th>network</th>\n",
       "      <th>num_operator</th>\n",
       "      <th>record_count</th>\n",
       "      <th>record_count_rank</th>\n",
       "      <th>avg_signal</th>\n",
       "    </tr>\n",
       "  </thead>\n",
       "  <tbody>\n",
       "    <tr>\n",
       "      <th>0</th>\n",
       "      <td>vodafone</td>\n",
       "      <td>4</td>\n",
       "      <td>2649062</td>\n",
       "      <td>3</td>\n",
       "      <td>13.9</td>\n",
       "    </tr>\n",
       "    <tr>\n",
       "      <th>1</th>\n",
       "      <td>orange</td>\n",
       "      <td>11</td>\n",
       "      <td>2774733</td>\n",
       "      <td>2</td>\n",
       "      <td>13.2</td>\n",
       "    </tr>\n",
       "    <tr>\n",
       "      <th>2</th>\n",
       "      <td>yoigo</td>\n",
       "      <td>1</td>\n",
       "      <td>357913</td>\n",
       "      <td>4</td>\n",
       "      <td>13.0</td>\n",
       "    </tr>\n",
       "    <tr>\n",
       "      <th>3</th>\n",
       "      <td>movistar</td>\n",
       "      <td>5</td>\n",
       "      <td>4664008</td>\n",
       "      <td>1</td>\n",
       "      <td>12.9</td>\n",
       "    </tr>\n",
       "    <tr>\n",
       "      <th>4</th>\n",
       "      <td>jazztel</td>\n",
       "      <td>1</td>\n",
       "      <td>28351</td>\n",
       "      <td>6</td>\n",
       "      <td>11.9</td>\n",
       "    </tr>\n",
       "    <tr>\n",
       "      <th>5</th>\n",
       "      <td>eroski movil</td>\n",
       "      <td>1</td>\n",
       "      <td>39871</td>\n",
       "      <td>5</td>\n",
       "      <td>11.0</td>\n",
       "    </tr>\n",
       "  </tbody>\n",
       "</table>\n",
       "</div>"
      ],
      "text/plain": [
       "        network  num_operator  record_count  record_count_rank  avg_signal\n",
       "0      vodafone             4       2649062                  3        13.9\n",
       "1        orange            11       2774733                  2        13.2\n",
       "2         yoigo             1        357913                  4        13.0\n",
       "3      movistar             5       4664008                  1        12.9\n",
       "4       jazztel             1         28351                  6        11.9\n",
       "5  eroski movil             1         39871                  5        11.0"
      ]
     },
     "execution_count": 26,
     "metadata": {},
     "output_type": "execute_result"
    }
   ],
   "source": [
    "# SQL query\n",
    "query = f\"\"\"\n",
    "WITH Top10Percent AS (\n",
    "  \n",
    "  # Subquery to prepare data to calculate the number of operators for each network\n",
    "  SELECT\n",
    "    network,\n",
    "    num_operator,\n",
    "    record_count,\n",
    "    RANK() OVER (ORDER BY record_count DESC) AS record_count_rank,\n",
    "    avg_signal,\n",
    "    quartile\n",
    "  FROM (\n",
    "    SELECT\n",
    "      LOWER(network) AS network,\n",
    "      \n",
    "      # Calculate the number of distinct operators for each network\n",
    "      COUNT(DISTINCT LOWER(operator)) AS num_operator,\n",
    "      \n",
    "      COUNT(*) AS record_count,\n",
    "      ROUND(AVG(signal), 1) AS avg_signal,\n",
    "      NTILE(10) OVER (ORDER BY COUNT(*) DESC) AS quartile\n",
    "    FROM\n",
    "      `{mobile_data_cleaned}`\n",
    "    WHERE\n",
    "    \n",
    "    # Exclude rows with network 'null' (stored as string)\n",
    "      network != 'null'\n",
    "    GROUP BY 1\n",
    "  )\n",
    ")\n",
    "\n",
    "SELECT\n",
    "  network,\n",
    "  num_operator,\n",
    "  record_count,\n",
    "  record_count_rank,\n",
    "  avg_signal\n",
    "FROM\n",
    "  Top10Percent\n",
    "WHERE\n",
    "  quartile = 1\n",
    "ORDER BY\n",
    "  avg_signal DESC;\n",
    "    \"\"\"\n",
    "# DataFrame name\n",
    "df_name = \"net_oper_signal\"\n",
    "\n",
    "# Execute the query and store the result in the DataFrame\n",
    "query_df(query, df_name)"
   ]
  },
  {
   "cell_type": "markdown",
   "id": "cb0a7ae2",
   "metadata": {},
   "source": [
    "Top Network and Operator by Record Count for Each Province"
   ]
  },
  {
   "cell_type": "code",
   "execution_count": 31,
   "id": "ea315c8a",
   "metadata": {},
   "outputs": [
    {
     "data": {
      "text/markdown": [
       "Query: "
      ],
      "text/plain": [
       "<IPython.core.display.Markdown object>"
      ]
     },
     "metadata": {},
     "output_type": "display_data"
    },
    {
     "name": "stdout",
     "output_type": "stream",
     "text": [
      "\n",
      "WITH ProvinceActivity AS (\n",
      "  SELECT\n",
      "    CASE\n",
      "      WHEN LEFT(CAST(postal_code AS STRING), 2) = '08' THEN 'Barcelona'\n",
      "      WHEN LEFT(CAST(postal_code AS STRING), 2) = '25' THEN 'Lleida'\n",
      "      WHEN LEFT(CAST(postal_code AS STRING), 2) = '17' THEN 'Girona'\n",
      "      WHEN LEFT(CAST(postal_code AS STRING), 2) = '43' THEN 'Tarragona'\n",
      "      ELSE 'Not defined'\n",
      "    END AS province,\n",
      "    LOWER(network) AS network,\n",
      "    LOWER(operator) AS operator,\n",
      "    COUNT(*) AS record_count\n",
      "  FROM `bq-analyst-230590.project_cat_mobile_coverage_2015_2017.mobile_data_2015_2017_cleaned`\n",
      "  GROUP BY province, network, operator\n",
      ")\n",
      "\n",
      "# Find the Rank of Network and Operator by Record Count for Each Province\n",
      ", RankedNetwork AS (\n",
      "  SELECT\n",
      "    province,\n",
      "    network,\n",
      "    operator,\n",
      "    record_count,\n",
      "    RANK() OVER (PARTITION BY province ORDER BY record_count DESC) AS network_rank\n",
      "  FROM ProvinceActivity\n",
      ")\n",
      "\n",
      ", RankedOperator AS (\n",
      "  SELECT\n",
      "    province,\n",
      "    network,\n",
      "    operator,\n",
      "    record_count,\n",
      "    RANK() OVER (PARTITION BY province ORDER BY record_count DESC) AS operator_rank\n",
      "  FROM ProvinceActivity\n",
      ")\n",
      "\n",
      "# Select the Top Network and Top Operator for Each Province\n",
      "SELECT\n",
      "  p.province,\n",
      "  n.network AS top_network,\n",
      "  o.operator AS top_operator\n",
      "  #n.record_count AS network_record_count,\n",
      "  #o.record_count AS operator_record_count\n",
      "FROM RankedNetwork n\n",
      "JOIN RankedOperator o ON n.province = o.province AND n.network_rank = 1 AND o.operator_rank = 1\n",
      "JOIN (SELECT DISTINCT province FROM ProvinceActivity) p ON n.province = p.province\n",
      "ORDER BY p.province;\n",
      "    \n"
     ]
    },
    {
     "data": {
      "text/markdown": [
       "Dataframe: **top_net_and_ope_by_province**"
      ],
      "text/plain": [
       "<IPython.core.display.Markdown object>"
      ]
     },
     "metadata": {},
     "output_type": "display_data"
    },
    {
     "data": {
      "text/html": [
       "<div>\n",
       "<style scoped>\n",
       "    .dataframe tbody tr th:only-of-type {\n",
       "        vertical-align: middle;\n",
       "    }\n",
       "\n",
       "    .dataframe tbody tr th {\n",
       "        vertical-align: top;\n",
       "    }\n",
       "\n",
       "    .dataframe thead th {\n",
       "        text-align: right;\n",
       "    }\n",
       "</style>\n",
       "<table border=\"1\" class=\"dataframe\">\n",
       "  <thead>\n",
       "    <tr style=\"text-align: right;\">\n",
       "      <th></th>\n",
       "      <th>province</th>\n",
       "      <th>top_network</th>\n",
       "      <th>top_operator</th>\n",
       "    </tr>\n",
       "  </thead>\n",
       "  <tbody>\n",
       "    <tr>\n",
       "      <th>0</th>\n",
       "      <td>Barcelona</td>\n",
       "      <td>movistar</td>\n",
       "      <td>movistar</td>\n",
       "    </tr>\n",
       "    <tr>\n",
       "      <th>1</th>\n",
       "      <td>Girona</td>\n",
       "      <td>movistar</td>\n",
       "      <td>movistar</td>\n",
       "    </tr>\n",
       "    <tr>\n",
       "      <th>2</th>\n",
       "      <td>Lleida</td>\n",
       "      <td>movistar</td>\n",
       "      <td>movistar</td>\n",
       "    </tr>\n",
       "    <tr>\n",
       "      <th>3</th>\n",
       "      <td>Tarragona</td>\n",
       "      <td>movistar</td>\n",
       "      <td>movistar</td>\n",
       "    </tr>\n",
       "  </tbody>\n",
       "</table>\n",
       "</div>"
      ],
      "text/plain": [
       "    province top_network top_operator\n",
       "0  Barcelona    movistar     movistar\n",
       "1     Girona    movistar     movistar\n",
       "2     Lleida    movistar     movistar\n",
       "3  Tarragona    movistar     movistar"
      ]
     },
     "execution_count": 31,
     "metadata": {},
     "output_type": "execute_result"
    }
   ],
   "source": [
    "# SQL query\n",
    "query = f\"\"\"\n",
    "WITH ProvinceActivity AS (\n",
    "  SELECT\n",
    "    CASE\n",
    "      WHEN LEFT(CAST(postal_code AS STRING), 2) = '08' THEN 'Barcelona'\n",
    "      WHEN LEFT(CAST(postal_code AS STRING), 2) = '25' THEN 'Lleida'\n",
    "      WHEN LEFT(CAST(postal_code AS STRING), 2) = '17' THEN 'Girona'\n",
    "      WHEN LEFT(CAST(postal_code AS STRING), 2) = '43' THEN 'Tarragona'\n",
    "      ELSE 'Not defined'\n",
    "    END AS province,\n",
    "    LOWER(network) AS network,\n",
    "    LOWER(operator) AS operator,\n",
    "    COUNT(*) AS record_count\n",
    "  FROM `{mobile_data_cleaned}`\n",
    "  GROUP BY province, network, operator\n",
    ")\n",
    "\n",
    "# Find the Rank of Network and Operator by Record Count for Each Province\n",
    ", RankedNetwork AS (\n",
    "  SELECT\n",
    "    province,\n",
    "    network,\n",
    "    operator,\n",
    "    record_count,\n",
    "    RANK() OVER (PARTITION BY province ORDER BY record_count DESC) AS network_rank\n",
    "  FROM ProvinceActivity\n",
    ")\n",
    "\n",
    ", RankedOperator AS (\n",
    "  SELECT\n",
    "    province,\n",
    "    network,\n",
    "    operator,\n",
    "    record_count,\n",
    "    RANK() OVER (PARTITION BY province ORDER BY record_count DESC) AS operator_rank\n",
    "  FROM ProvinceActivity\n",
    ")\n",
    "\n",
    "# Select the Top Network and Top Operator for Each Province\n",
    "SELECT\n",
    "  p.province,\n",
    "  n.network AS top_network,\n",
    "  o.operator AS top_operator\n",
    "  #n.record_count AS network_record_count,\n",
    "  #o.record_count AS operator_record_count\n",
    "FROM RankedNetwork n\n",
    "JOIN RankedOperator o ON n.province = o.province AND n.network_rank = 1 AND o.operator_rank = 1\n",
    "JOIN (SELECT DISTINCT province FROM ProvinceActivity) p ON n.province = p.province\n",
    "ORDER BY p.province;\n",
    "    \"\"\"\n",
    "# DataFrame name\n",
    "df_name = \"top_net_and_ope_by_province\"\n",
    "\n",
    "# Execute the query and store the result in the DataFrame\n",
    "query_df(query, df_name)"
   ]
  },
  {
   "cell_type": "markdown",
   "id": "99747ec9",
   "metadata": {},
   "source": [
    "### Description and activity"
   ]
  },
  {
   "cell_type": "markdown",
   "id": "98d98998",
   "metadata": {},
   "source": [
    "Description:\n",
    "    \n",
    "    - STATE_IN_SERVICE (0),\n",
    "    - STATE_OUT_OF_SERVICE (1),\n",
    "    - STATE_EMERGENCY_ONLY (2),\n",
    "    - STATE_POWER_OFF (3)\n",
    "    \n",
    "User Activity:\n",
    "\n",
    "    - IN_VEHICLE\n",
    "    - STILL\n",
    "    - ON_FOOT\n",
    "    - TILTING\n",
    "    - UNKNOWN\n",
    "    - ON_BICYCLE"
   ]
  },
  {
   "cell_type": "markdown",
   "id": "32deb8af",
   "metadata": {},
   "source": [
    "Activity Rank by Description with Overall Rank"
   ]
  },
  {
   "cell_type": "code",
   "execution_count": 30,
   "id": "9e5d7a88",
   "metadata": {},
   "outputs": [
    {
     "data": {
      "text/markdown": [
       "Query: "
      ],
      "text/plain": [
       "<IPython.core.display.Markdown object>"
      ]
     },
     "metadata": {},
     "output_type": "display_data"
    },
    {
     "name": "stdout",
     "output_type": "stream",
     "text": [
      "\n",
      "# Activity Rank by Description with Overall Rank\n",
      "WITH ActivityRank AS (\n",
      "  SELECT\n",
      "    description,\n",
      "    activity,\n",
      "    RANK() OVER (PARTITION BY description ORDER BY COUNT(*) DESC) AS rank_by_description,\n",
      "    COUNT(*) AS record_count\n",
      "  FROM\n",
      "    `bq-analyst-230590.project_cat_mobile_coverage_2015_2017.mobile_data_2015_2017_cleaned`\n",
      "  GROUP BY 1, 2\n",
      ")\n",
      "\n",
      "SELECT\n",
      "  description,\n",
      "  activity,\n",
      "  rank_by_description,\n",
      "  #record_count,\n",
      "  RANK() OVER (ORDER BY rank_by_description, record_count DESC) AS overall_rank\n",
      "FROM ActivityRank\n",
      "ORDER BY 1, 4 ASC;\n",
      "    \n"
     ]
    },
    {
     "data": {
      "text/markdown": [
       "Dataframe: **descr_act_rank**"
      ],
      "text/plain": [
       "<IPython.core.display.Markdown object>"
      ]
     },
     "metadata": {},
     "output_type": "display_data"
    },
    {
     "data": {
      "text/html": [
       "<div>\n",
       "<style scoped>\n",
       "    .dataframe tbody tr th:only-of-type {\n",
       "        vertical-align: middle;\n",
       "    }\n",
       "\n",
       "    .dataframe tbody tr th {\n",
       "        vertical-align: top;\n",
       "    }\n",
       "\n",
       "    .dataframe thead th {\n",
       "        text-align: right;\n",
       "    }\n",
       "</style>\n",
       "<table border=\"1\" class=\"dataframe\">\n",
       "  <thead>\n",
       "    <tr style=\"text-align: right;\">\n",
       "      <th></th>\n",
       "      <th>description</th>\n",
       "      <th>activity</th>\n",
       "      <th>rank_by_description</th>\n",
       "      <th>overall_rank</th>\n",
       "    </tr>\n",
       "  </thead>\n",
       "  <tbody>\n",
       "    <tr>\n",
       "      <th>0</th>\n",
       "      <td>STATE_EMERGENCY_ONLY</td>\n",
       "      <td>IN_VEHICLE</td>\n",
       "      <td>1</td>\n",
       "      <td>1</td>\n",
       "    </tr>\n",
       "    <tr>\n",
       "      <th>1</th>\n",
       "      <td>STATE_EMERGENCY_ONLY</td>\n",
       "      <td>ON_FOOT</td>\n",
       "      <td>2</td>\n",
       "      <td>5</td>\n",
       "    </tr>\n",
       "    <tr>\n",
       "      <th>2</th>\n",
       "      <td>STATE_EMERGENCY_ONLY</td>\n",
       "      <td>STILL</td>\n",
       "      <td>3</td>\n",
       "      <td>9</td>\n",
       "    </tr>\n",
       "    <tr>\n",
       "      <th>3</th>\n",
       "      <td>STATE_EMERGENCY_ONLY</td>\n",
       "      <td>TILTING</td>\n",
       "      <td>4</td>\n",
       "      <td>13</td>\n",
       "    </tr>\n",
       "    <tr>\n",
       "      <th>4</th>\n",
       "      <td>STATE_EMERGENCY_ONLY</td>\n",
       "      <td>UNKNOWN</td>\n",
       "      <td>5</td>\n",
       "      <td>17</td>\n",
       "    </tr>\n",
       "    <tr>\n",
       "      <th>5</th>\n",
       "      <td>STATE_EMERGENCY_ONLY</td>\n",
       "      <td>ON_BICYCLE</td>\n",
       "      <td>6</td>\n",
       "      <td>21</td>\n",
       "    </tr>\n",
       "    <tr>\n",
       "      <th>6</th>\n",
       "      <td>STATE_IN_SERVICE</td>\n",
       "      <td>STILL</td>\n",
       "      <td>1</td>\n",
       "      <td>2</td>\n",
       "    </tr>\n",
       "    <tr>\n",
       "      <th>7</th>\n",
       "      <td>STATE_IN_SERVICE</td>\n",
       "      <td>IN_VEHICLE</td>\n",
       "      <td>2</td>\n",
       "      <td>6</td>\n",
       "    </tr>\n",
       "    <tr>\n",
       "      <th>8</th>\n",
       "      <td>STATE_IN_SERVICE</td>\n",
       "      <td>TILTING</td>\n",
       "      <td>3</td>\n",
       "      <td>10</td>\n",
       "    </tr>\n",
       "    <tr>\n",
       "      <th>9</th>\n",
       "      <td>STATE_IN_SERVICE</td>\n",
       "      <td>ON_FOOT</td>\n",
       "      <td>4</td>\n",
       "      <td>14</td>\n",
       "    </tr>\n",
       "    <tr>\n",
       "      <th>10</th>\n",
       "      <td>STATE_IN_SERVICE</td>\n",
       "      <td>UNKNOWN</td>\n",
       "      <td>5</td>\n",
       "      <td>18</td>\n",
       "    </tr>\n",
       "    <tr>\n",
       "      <th>11</th>\n",
       "      <td>STATE_IN_SERVICE</td>\n",
       "      <td>ON_BICYCLE</td>\n",
       "      <td>6</td>\n",
       "      <td>22</td>\n",
       "    </tr>\n",
       "    <tr>\n",
       "      <th>12</th>\n",
       "      <td>STATE_OUT_OF_SERVICE</td>\n",
       "      <td>STILL</td>\n",
       "      <td>1</td>\n",
       "      <td>4</td>\n",
       "    </tr>\n",
       "    <tr>\n",
       "      <th>13</th>\n",
       "      <td>STATE_OUT_OF_SERVICE</td>\n",
       "      <td>IN_VEHICLE</td>\n",
       "      <td>2</td>\n",
       "      <td>8</td>\n",
       "    </tr>\n",
       "    <tr>\n",
       "      <th>14</th>\n",
       "      <td>STATE_OUT_OF_SERVICE</td>\n",
       "      <td>ON_FOOT</td>\n",
       "      <td>3</td>\n",
       "      <td>12</td>\n",
       "    </tr>\n",
       "    <tr>\n",
       "      <th>15</th>\n",
       "      <td>STATE_OUT_OF_SERVICE</td>\n",
       "      <td>UNKNOWN</td>\n",
       "      <td>4</td>\n",
       "      <td>16</td>\n",
       "    </tr>\n",
       "    <tr>\n",
       "      <th>16</th>\n",
       "      <td>STATE_OUT_OF_SERVICE</td>\n",
       "      <td>TILTING</td>\n",
       "      <td>5</td>\n",
       "      <td>20</td>\n",
       "    </tr>\n",
       "    <tr>\n",
       "      <th>17</th>\n",
       "      <td>STATE_POWER_OFF</td>\n",
       "      <td>IN_VEHICLE</td>\n",
       "      <td>1</td>\n",
       "      <td>3</td>\n",
       "    </tr>\n",
       "    <tr>\n",
       "      <th>18</th>\n",
       "      <td>STATE_POWER_OFF</td>\n",
       "      <td>ON_FOOT</td>\n",
       "      <td>2</td>\n",
       "      <td>7</td>\n",
       "    </tr>\n",
       "    <tr>\n",
       "      <th>19</th>\n",
       "      <td>STATE_POWER_OFF</td>\n",
       "      <td>STILL</td>\n",
       "      <td>3</td>\n",
       "      <td>11</td>\n",
       "    </tr>\n",
       "    <tr>\n",
       "      <th>20</th>\n",
       "      <td>STATE_POWER_OFF</td>\n",
       "      <td>TILTING</td>\n",
       "      <td>4</td>\n",
       "      <td>15</td>\n",
       "    </tr>\n",
       "    <tr>\n",
       "      <th>21</th>\n",
       "      <td>STATE_POWER_OFF</td>\n",
       "      <td>UNKNOWN</td>\n",
       "      <td>5</td>\n",
       "      <td>19</td>\n",
       "    </tr>\n",
       "    <tr>\n",
       "      <th>22</th>\n",
       "      <td>STATE_POWER_OFF</td>\n",
       "      <td>ON_BICYCLE</td>\n",
       "      <td>6</td>\n",
       "      <td>23</td>\n",
       "    </tr>\n",
       "  </tbody>\n",
       "</table>\n",
       "</div>"
      ],
      "text/plain": [
       "             description    activity  rank_by_description  overall_rank\n",
       "0   STATE_EMERGENCY_ONLY  IN_VEHICLE                    1             1\n",
       "1   STATE_EMERGENCY_ONLY     ON_FOOT                    2             5\n",
       "2   STATE_EMERGENCY_ONLY       STILL                    3             9\n",
       "3   STATE_EMERGENCY_ONLY     TILTING                    4            13\n",
       "4   STATE_EMERGENCY_ONLY     UNKNOWN                    5            17\n",
       "5   STATE_EMERGENCY_ONLY  ON_BICYCLE                    6            21\n",
       "6       STATE_IN_SERVICE       STILL                    1             2\n",
       "7       STATE_IN_SERVICE  IN_VEHICLE                    2             6\n",
       "8       STATE_IN_SERVICE     TILTING                    3            10\n",
       "9       STATE_IN_SERVICE     ON_FOOT                    4            14\n",
       "10      STATE_IN_SERVICE     UNKNOWN                    5            18\n",
       "11      STATE_IN_SERVICE  ON_BICYCLE                    6            22\n",
       "12  STATE_OUT_OF_SERVICE       STILL                    1             4\n",
       "13  STATE_OUT_OF_SERVICE  IN_VEHICLE                    2             8\n",
       "14  STATE_OUT_OF_SERVICE     ON_FOOT                    3            12\n",
       "15  STATE_OUT_OF_SERVICE     UNKNOWN                    4            16\n",
       "16  STATE_OUT_OF_SERVICE     TILTING                    5            20\n",
       "17       STATE_POWER_OFF  IN_VEHICLE                    1             3\n",
       "18       STATE_POWER_OFF     ON_FOOT                    2             7\n",
       "19       STATE_POWER_OFF       STILL                    3            11\n",
       "20       STATE_POWER_OFF     TILTING                    4            15\n",
       "21       STATE_POWER_OFF     UNKNOWN                    5            19\n",
       "22       STATE_POWER_OFF  ON_BICYCLE                    6            23"
      ]
     },
     "execution_count": 30,
     "metadata": {},
     "output_type": "execute_result"
    }
   ],
   "source": [
    "# SQL query\n",
    "query = f\"\"\"\n",
    "# Activity Rank by Description with Overall Rank\n",
    "WITH ActivityRank AS (\n",
    "  SELECT\n",
    "    description,\n",
    "    activity,\n",
    "    RANK() OVER (PARTITION BY description ORDER BY COUNT(*) DESC) AS rank_by_description,\n",
    "    COUNT(*) AS record_count\n",
    "  FROM\n",
    "    `{mobile_data_cleaned}`\n",
    "  GROUP BY 1, 2\n",
    ")\n",
    "\n",
    "SELECT\n",
    "  description,\n",
    "  activity,\n",
    "  rank_by_description,\n",
    "  #record_count,\n",
    "  RANK() OVER (ORDER BY rank_by_description, record_count DESC) AS overall_rank\n",
    "FROM ActivityRank\n",
    "ORDER BY 1, 4 ASC;\n",
    "    \"\"\"\n",
    "# DataFrame name\n",
    "df_name = \"descr_act_rank\"\n",
    "\n",
    "# Execute the query and store the result in the DataFrame\n",
    "query_df(query, df_name)"
   ]
  },
  {
   "cell_type": "markdown",
   "id": "87a84d2b",
   "metadata": {},
   "source": [
    "Calculate activity rank by description and activity, including most frequent town and overall rank"
   ]
  },
  {
   "cell_type": "code",
   "execution_count": 32,
   "id": "d9e80054",
   "metadata": {},
   "outputs": [
    {
     "data": {
      "text/markdown": [
       "Query: "
      ],
      "text/plain": [
       "<IPython.core.display.Markdown object>"
      ]
     },
     "metadata": {},
     "output_type": "display_data"
    },
    {
     "name": "stdout",
     "output_type": "stream",
     "text": [
      "\n",
      "# Subquery to calculate the rank of activities by description\n",
      "WITH ActivityRank AS (\n",
      "  SELECT\n",
      "    description,\n",
      "    activity,\n",
      "    RANK() OVER (PARTITION BY description ORDER BY COUNT(*) DESC) AS rank_by_description,\n",
      "    COUNT(*) AS record_count\n",
      "  FROM\n",
      "    `bigquery-public-data.catalonian_mobile_coverage_eu.mobile_data_2015_2017`\n",
      "  GROUP BY description, activity\n",
      "),\n",
      "\n",
      "# Subquery to find the most frequent town for each unique pair of description and activity\n",
      "MostFrequentTown AS (\n",
      "  SELECT\n",
      "    description,\n",
      "    activity,\n",
      "    town_name,\n",
      "    RANK() OVER (PARTITION BY description, activity ORDER BY COUNT(*) DESC) AS town_rank\n",
      "  FROM\n",
      "    `bq-analyst-230590.project_cat_mobile_coverage_2015_2017.mobile_data_2015_2017_cleaned`\n",
      "  GROUP BY description, activity, town_name\n",
      ")\n",
      "\n",
      "# Main query to combine the results and calculate overall rank\n",
      "SELECT\n",
      "  ar.description,\n",
      "  ar.activity,\n",
      "  ar.rank_by_description,\n",
      "  RANK() OVER (ORDER BY ar.rank_by_description, ar.record_count DESC) AS overall_rank,\n",
      "  mft.town_name AS most_frequent_town\n",
      "FROM ActivityRank ar\n",
      "# Join with the MostFrequentTown subquery to include the most frequent town\n",
      "JOIN MostFrequentTown mft ON ar.description = mft.description AND ar.activity = mft.activity\n",
      "# Filter for the most frequent town\n",
      "WHERE mft.town_rank = 1 \n",
      "ORDER BY 1, 3 ASC;\n",
      "    \n"
     ]
    },
    {
     "data": {
      "text/markdown": [
       "Dataframe: **descr_act_rank**"
      ],
      "text/plain": [
       "<IPython.core.display.Markdown object>"
      ]
     },
     "metadata": {},
     "output_type": "display_data"
    },
    {
     "data": {
      "text/html": [
       "<div>\n",
       "<style scoped>\n",
       "    .dataframe tbody tr th:only-of-type {\n",
       "        vertical-align: middle;\n",
       "    }\n",
       "\n",
       "    .dataframe tbody tr th {\n",
       "        vertical-align: top;\n",
       "    }\n",
       "\n",
       "    .dataframe thead th {\n",
       "        text-align: right;\n",
       "    }\n",
       "</style>\n",
       "<table border=\"1\" class=\"dataframe\">\n",
       "  <thead>\n",
       "    <tr style=\"text-align: right;\">\n",
       "      <th></th>\n",
       "      <th>description</th>\n",
       "      <th>activity</th>\n",
       "      <th>rank_by_description</th>\n",
       "      <th>overall_rank</th>\n",
       "      <th>most_frequent_town</th>\n",
       "    </tr>\n",
       "  </thead>\n",
       "  <tbody>\n",
       "    <tr>\n",
       "      <th>0</th>\n",
       "      <td>STATE_EMERGENCY_ONLY</td>\n",
       "      <td>IN_VEHICLE</td>\n",
       "      <td>1</td>\n",
       "      <td>1</td>\n",
       "      <td>Barcelona</td>\n",
       "    </tr>\n",
       "    <tr>\n",
       "      <th>1</th>\n",
       "      <td>STATE_EMERGENCY_ONLY</td>\n",
       "      <td>ON_FOOT</td>\n",
       "      <td>2</td>\n",
       "      <td>5</td>\n",
       "      <td>Barcelona</td>\n",
       "    </tr>\n",
       "    <tr>\n",
       "      <th>2</th>\n",
       "      <td>STATE_EMERGENCY_ONLY</td>\n",
       "      <td>STILL</td>\n",
       "      <td>3</td>\n",
       "      <td>9</td>\n",
       "      <td>Barcelona</td>\n",
       "    </tr>\n",
       "    <tr>\n",
       "      <th>3</th>\n",
       "      <td>STATE_EMERGENCY_ONLY</td>\n",
       "      <td>TILTING</td>\n",
       "      <td>4</td>\n",
       "      <td>13</td>\n",
       "      <td>Barcelona</td>\n",
       "    </tr>\n",
       "    <tr>\n",
       "      <th>4</th>\n",
       "      <td>STATE_EMERGENCY_ONLY</td>\n",
       "      <td>UNKNOWN</td>\n",
       "      <td>5</td>\n",
       "      <td>17</td>\n",
       "      <td>Barcelona</td>\n",
       "    </tr>\n",
       "    <tr>\n",
       "      <th>5</th>\n",
       "      <td>STATE_EMERGENCY_ONLY</td>\n",
       "      <td>ON_BICYCLE</td>\n",
       "      <td>6</td>\n",
       "      <td>23</td>\n",
       "      <td>Barcelona</td>\n",
       "    </tr>\n",
       "    <tr>\n",
       "      <th>6</th>\n",
       "      <td>STATE_IN_SERVICE</td>\n",
       "      <td>STILL</td>\n",
       "      <td>1</td>\n",
       "      <td>2</td>\n",
       "      <td>Barcelona</td>\n",
       "    </tr>\n",
       "    <tr>\n",
       "      <th>7</th>\n",
       "      <td>STATE_IN_SERVICE</td>\n",
       "      <td>IN_VEHICLE</td>\n",
       "      <td>2</td>\n",
       "      <td>6</td>\n",
       "      <td>Barcelona</td>\n",
       "    </tr>\n",
       "    <tr>\n",
       "      <th>8</th>\n",
       "      <td>STATE_IN_SERVICE</td>\n",
       "      <td>TILTING</td>\n",
       "      <td>3</td>\n",
       "      <td>10</td>\n",
       "      <td>Barcelona</td>\n",
       "    </tr>\n",
       "    <tr>\n",
       "      <th>9</th>\n",
       "      <td>STATE_IN_SERVICE</td>\n",
       "      <td>ON_FOOT</td>\n",
       "      <td>4</td>\n",
       "      <td>14</td>\n",
       "      <td>Barcelona</td>\n",
       "    </tr>\n",
       "    <tr>\n",
       "      <th>10</th>\n",
       "      <td>STATE_IN_SERVICE</td>\n",
       "      <td>UNKNOWN</td>\n",
       "      <td>5</td>\n",
       "      <td>18</td>\n",
       "      <td>Barcelona</td>\n",
       "    </tr>\n",
       "    <tr>\n",
       "      <th>11</th>\n",
       "      <td>STATE_IN_SERVICE</td>\n",
       "      <td>ON_BICYCLE</td>\n",
       "      <td>6</td>\n",
       "      <td>24</td>\n",
       "      <td>Barcelona</td>\n",
       "    </tr>\n",
       "    <tr>\n",
       "      <th>12</th>\n",
       "      <td>STATE_OUT_OF_SERVICE</td>\n",
       "      <td>STILL</td>\n",
       "      <td>1</td>\n",
       "      <td>4</td>\n",
       "      <td>Santa Coloma de Gramenet</td>\n",
       "    </tr>\n",
       "    <tr>\n",
       "      <th>13</th>\n",
       "      <td>STATE_OUT_OF_SERVICE</td>\n",
       "      <td>IN_VEHICLE</td>\n",
       "      <td>2</td>\n",
       "      <td>8</td>\n",
       "      <td>Barcelona</td>\n",
       "    </tr>\n",
       "    <tr>\n",
       "      <th>14</th>\n",
       "      <td>STATE_OUT_OF_SERVICE</td>\n",
       "      <td>ON_FOOT</td>\n",
       "      <td>3</td>\n",
       "      <td>12</td>\n",
       "      <td>Sant Adrià de Besòs</td>\n",
       "    </tr>\n",
       "    <tr>\n",
       "      <th>15</th>\n",
       "      <td>STATE_OUT_OF_SERVICE</td>\n",
       "      <td>UNKNOWN</td>\n",
       "      <td>4</td>\n",
       "      <td>16</td>\n",
       "      <td>Santa Coloma de Gramenet</td>\n",
       "    </tr>\n",
       "    <tr>\n",
       "      <th>16</th>\n",
       "      <td>STATE_OUT_OF_SERVICE</td>\n",
       "      <td>TILTING</td>\n",
       "      <td>5</td>\n",
       "      <td>20</td>\n",
       "      <td>Lliçà de Vall</td>\n",
       "    </tr>\n",
       "    <tr>\n",
       "      <th>17</th>\n",
       "      <td>STATE_OUT_OF_SERVICE</td>\n",
       "      <td>TILTING</td>\n",
       "      <td>5</td>\n",
       "      <td>20</td>\n",
       "      <td>Sant Adrià de Besòs</td>\n",
       "    </tr>\n",
       "    <tr>\n",
       "      <th>18</th>\n",
       "      <td>STATE_OUT_OF_SERVICE</td>\n",
       "      <td>TILTING</td>\n",
       "      <td>5</td>\n",
       "      <td>20</td>\n",
       "      <td>Vilada</td>\n",
       "    </tr>\n",
       "    <tr>\n",
       "      <th>19</th>\n",
       "      <td>STATE_POWER_OFF</td>\n",
       "      <td>IN_VEHICLE</td>\n",
       "      <td>1</td>\n",
       "      <td>3</td>\n",
       "      <td>Barcelona</td>\n",
       "    </tr>\n",
       "    <tr>\n",
       "      <th>20</th>\n",
       "      <td>STATE_POWER_OFF</td>\n",
       "      <td>ON_FOOT</td>\n",
       "      <td>2</td>\n",
       "      <td>7</td>\n",
       "      <td>Barcelona</td>\n",
       "    </tr>\n",
       "    <tr>\n",
       "      <th>21</th>\n",
       "      <td>STATE_POWER_OFF</td>\n",
       "      <td>TILTING</td>\n",
       "      <td>3</td>\n",
       "      <td>11</td>\n",
       "      <td>Barcelona</td>\n",
       "    </tr>\n",
       "    <tr>\n",
       "      <th>22</th>\n",
       "      <td>STATE_POWER_OFF</td>\n",
       "      <td>STILL</td>\n",
       "      <td>4</td>\n",
       "      <td>15</td>\n",
       "      <td>Barcelona</td>\n",
       "    </tr>\n",
       "    <tr>\n",
       "      <th>23</th>\n",
       "      <td>STATE_POWER_OFF</td>\n",
       "      <td>UNKNOWN</td>\n",
       "      <td>5</td>\n",
       "      <td>19</td>\n",
       "      <td>Barcelona</td>\n",
       "    </tr>\n",
       "    <tr>\n",
       "      <th>24</th>\n",
       "      <td>STATE_POWER_OFF</td>\n",
       "      <td>ON_BICYCLE</td>\n",
       "      <td>6</td>\n",
       "      <td>25</td>\n",
       "      <td>el Brull</td>\n",
       "    </tr>\n",
       "  </tbody>\n",
       "</table>\n",
       "</div>"
      ],
      "text/plain": [
       "             description    activity  rank_by_description  overall_rank  \\\n",
       "0   STATE_EMERGENCY_ONLY  IN_VEHICLE                    1             1   \n",
       "1   STATE_EMERGENCY_ONLY     ON_FOOT                    2             5   \n",
       "2   STATE_EMERGENCY_ONLY       STILL                    3             9   \n",
       "3   STATE_EMERGENCY_ONLY     TILTING                    4            13   \n",
       "4   STATE_EMERGENCY_ONLY     UNKNOWN                    5            17   \n",
       "5   STATE_EMERGENCY_ONLY  ON_BICYCLE                    6            23   \n",
       "6       STATE_IN_SERVICE       STILL                    1             2   \n",
       "7       STATE_IN_SERVICE  IN_VEHICLE                    2             6   \n",
       "8       STATE_IN_SERVICE     TILTING                    3            10   \n",
       "9       STATE_IN_SERVICE     ON_FOOT                    4            14   \n",
       "10      STATE_IN_SERVICE     UNKNOWN                    5            18   \n",
       "11      STATE_IN_SERVICE  ON_BICYCLE                    6            24   \n",
       "12  STATE_OUT_OF_SERVICE       STILL                    1             4   \n",
       "13  STATE_OUT_OF_SERVICE  IN_VEHICLE                    2             8   \n",
       "14  STATE_OUT_OF_SERVICE     ON_FOOT                    3            12   \n",
       "15  STATE_OUT_OF_SERVICE     UNKNOWN                    4            16   \n",
       "16  STATE_OUT_OF_SERVICE     TILTING                    5            20   \n",
       "17  STATE_OUT_OF_SERVICE     TILTING                    5            20   \n",
       "18  STATE_OUT_OF_SERVICE     TILTING                    5            20   \n",
       "19       STATE_POWER_OFF  IN_VEHICLE                    1             3   \n",
       "20       STATE_POWER_OFF     ON_FOOT                    2             7   \n",
       "21       STATE_POWER_OFF     TILTING                    3            11   \n",
       "22       STATE_POWER_OFF       STILL                    4            15   \n",
       "23       STATE_POWER_OFF     UNKNOWN                    5            19   \n",
       "24       STATE_POWER_OFF  ON_BICYCLE                    6            25   \n",
       "\n",
       "          most_frequent_town  \n",
       "0                  Barcelona  \n",
       "1                  Barcelona  \n",
       "2                  Barcelona  \n",
       "3                  Barcelona  \n",
       "4                  Barcelona  \n",
       "5                  Barcelona  \n",
       "6                  Barcelona  \n",
       "7                  Barcelona  \n",
       "8                  Barcelona  \n",
       "9                  Barcelona  \n",
       "10                 Barcelona  \n",
       "11                 Barcelona  \n",
       "12  Santa Coloma de Gramenet  \n",
       "13                 Barcelona  \n",
       "14       Sant Adrià de Besòs  \n",
       "15  Santa Coloma de Gramenet  \n",
       "16             Lliçà de Vall  \n",
       "17       Sant Adrià de Besòs  \n",
       "18                    Vilada  \n",
       "19                 Barcelona  \n",
       "20                 Barcelona  \n",
       "21                 Barcelona  \n",
       "22                 Barcelona  \n",
       "23                 Barcelona  \n",
       "24                  el Brull  "
      ]
     },
     "execution_count": 32,
     "metadata": {},
     "output_type": "execute_result"
    }
   ],
   "source": [
    "# SQL query\n",
    "query = f\"\"\"\n",
    "# Subquery to calculate the rank of activities by description\n",
    "WITH ActivityRank AS (\n",
    "  SELECT\n",
    "    description,\n",
    "    activity,\n",
    "    RANK() OVER (PARTITION BY description ORDER BY COUNT(*) DESC) AS rank_by_description,\n",
    "    COUNT(*) AS record_count\n",
    "  FROM\n",
    "    `bigquery-public-data.catalonian_mobile_coverage_eu.mobile_data_2015_2017`\n",
    "  GROUP BY description, activity\n",
    "),\n",
    "\n",
    "# Subquery to find the most frequent town for each unique pair of description and activity\n",
    "MostFrequentTown AS (\n",
    "  SELECT\n",
    "    description,\n",
    "    activity,\n",
    "    town_name,\n",
    "    RANK() OVER (PARTITION BY description, activity ORDER BY COUNT(*) DESC) AS town_rank\n",
    "  FROM\n",
    "    `{mobile_data_cleaned}`\n",
    "  GROUP BY description, activity, town_name\n",
    ")\n",
    "\n",
    "# Main query to combine the results and calculate overall rank\n",
    "SELECT\n",
    "  ar.description,\n",
    "  ar.activity,\n",
    "  ar.rank_by_description,\n",
    "  RANK() OVER (ORDER BY ar.rank_by_description, ar.record_count DESC) AS overall_rank,\n",
    "  mft.town_name AS most_frequent_town\n",
    "FROM ActivityRank ar\n",
    "# Join with the MostFrequentTown subquery to include the most frequent town\n",
    "JOIN MostFrequentTown mft ON ar.description = mft.description AND ar.activity = mft.activity\n",
    "# Filter for the most frequent town\n",
    "WHERE mft.town_rank = 1 \n",
    "ORDER BY 1, 3 ASC;\n",
    "    \"\"\"\n",
    "# DataFrame name\n",
    "df_name = \"descr_act_rank\"\n",
    "\n",
    "# Execute the query and store the result in the DataFrame\n",
    "query_df(query, df_name)"
   ]
  }
 ],
 "metadata": {
  "kernelspec": {
   "display_name": "Python 3 (ipykernel)",
   "language": "python",
   "name": "python3"
  },
  "language_info": {
   "codemirror_mode": {
    "name": "ipython",
    "version": 3
   },
   "file_extension": ".py",
   "mimetype": "text/x-python",
   "name": "python",
   "nbconvert_exporter": "python",
   "pygments_lexer": "ipython3",
   "version": "3.9.13"
  }
 },
 "nbformat": 4,
 "nbformat_minor": 5
}

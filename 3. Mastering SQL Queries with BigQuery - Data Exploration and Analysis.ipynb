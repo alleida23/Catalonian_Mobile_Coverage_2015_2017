{
 "cells": [
  {
   "cell_type": "markdown",
   "id": "95cfc522",
   "metadata": {},
   "source": [
    "# Mastering SQL Queries with BigQuery: Data Exploration and Analysis"
   ]
  },
  {
   "cell_type": "markdown",
   "id": "87d99014",
   "metadata": {},
   "source": [
    "#### Introduction\n",
    "\n",
    "In this kernel, we embark on a journey of data exploration and analysis using the power of **BigQuery**, Google's cloud-based data warehouse. Our focus will be on **mastering SQL queries** to uncover valuable insights from complex datasets.\n",
    "\n",
    "This project delves into the **\"Catalonian Mobile Coverage\"** dataset, a rich source of information on mobile network coverage, operator activity, and user behavior. The primary dataset, **mobile_data_2015_2017_cleaned**, has undergone thorough cleaning and normalization to ensure data quality."
   ]
  },
  {
   "cell_type": "markdown",
   "id": "be93d0d4",
   "metadata": {},
   "source": [
    "#### Key Data Sources:\n",
    "\n",
    "\n",
    "- **mobile_data_2015_2017_cleaned**: Our main dataset, providing insights into mobile network coverage, operator activity, and user behavior.\n",
    "\n",
    "- **cat_percapita_income_by_province_2015_2017** and **cat_pop_by_province_2015_2017**: Additional datasets supplying data on per capita income and population by province.\n"
   ]
  },
  {
   "cell_type": "markdown",
   "id": "42457ff1",
   "metadata": {},
   "source": [
    "#### Prominent SQL Commands and Functions:\n",
    "\n",
    "   - **SQL SELECT Statements**: Querying data, filtering, sorting, and retrieving relevant information.\n",
    "   - **Grouping and Aggregation**: Summarizing data with COUNT, SUM, AVG, and more.\n",
    "   - **Window Functions**: Calculating rankings, tracking changes, and gaining insights.\n",
    "   - **Conditional Statements**: Categorizing data using CASE statements.\n",
    "   - **Subqueries**: Creating complex queries with embedded subqueries.\n",
    "   - **Views**: Organizing and filtering data for in-depth analysis.\n",
    "   - **Statistical Aggregate Functions**: Computing correlations, covariances, quartiles, and more.\n",
    "   - **Date Functions**: Exploring date ranges, identifying top activity dates, and analyzing monthly and hourly patterns.\n",
    "   - **Plotting and Visualization**: Presenting insights through interactive plots and visualizations."
   ]
  },
  {
   "cell_type": "markdown",
   "id": "f9766632",
   "metadata": {},
   "source": [
    "#### Some Key Insights We Aim to Uncover:\n",
    "\n",
    "- Identifying the top net_provider in Catalonia with the highest activity recorded.\n",
    "- Finding the operator with the highest activity.\n",
    "- Determining which net_provider/operator combination exhibits the highest average signal strength.\n",
    "- Dividing operators into quartiles based on signal strength to assess performance variations.\n",
    "- Analyzing changes in signal strength and net_provider speed within specific nets.\n",
    "- Ranking net_provider and operators by record count and exploring the impact on rankings based on signal strength.\n"
   ]
  },
  {
   "cell_type": "code",
   "execution_count": null,
   "id": "20d8edfa",
   "metadata": {},
   "outputs": [],
   "source": []
  },
  {
   "cell_type": "markdown",
   "id": "c028c4c9",
   "metadata": {},
   "source": [
    "### Import libraries and modules"
   ]
  },
  {
   "cell_type": "code",
   "execution_count": 1,
   "id": "dd359141",
   "metadata": {},
   "outputs": [],
   "source": [
    "import pandas as pd\n",
    "from google.cloud import bigquery\n",
    "from IPython.display import display\n",
    "from IPython.display import Markdown\n",
    "\n",
    "import matplotlib.pyplot as plt\n",
    "import seaborn as sns"
   ]
  },
  {
   "cell_type": "code",
   "execution_count": null,
   "id": "a35e1851",
   "metadata": {},
   "outputs": [],
   "source": []
  },
  {
   "cell_type": "markdown",
   "id": "9cef8ece",
   "metadata": {},
   "source": [
    "### Import function: Interactive SQL Query to Pandas DataFrame Converter"
   ]
  },
  {
   "cell_type": "markdown",
   "id": "14fbcaf0",
   "metadata": {},
   "source": [
    "Import the custom query_df and run_query functions from the 'query_functions.py' file to execute SQL queries using a pre-configured BigQuery client object."
   ]
  },
  {
   "cell_type": "code",
   "execution_count": 2,
   "id": "6b28d6c2",
   "metadata": {},
   "outputs": [],
   "source": [
    "from query_functions import query_df  # Execute the query and return the output as a DataFrame\n",
    "from query_functions import run_query  # Execute the query without returning a DataFrame, used for INSERT, UPDATE, DELETE, etc."
   ]
  },
  {
   "cell_type": "code",
   "execution_count": null,
   "id": "df4226a2",
   "metadata": {},
   "outputs": [],
   "source": []
  },
  {
   "cell_type": "markdown",
   "id": "9e11f924",
   "metadata": {},
   "source": [
    "### Datasets and Tables paths"
   ]
  },
  {
   "cell_type": "code",
   "execution_count": 3,
   "id": "4177a9a7",
   "metadata": {},
   "outputs": [],
   "source": [
    "# Catalonian mobile coverage (2015-2017)\n",
    "mobile_data_cleaned = \"bq-analyst-230590.project_cat_mobile_coverage_2015_2017.mobile_data_2015_2017_cleaned\"\n",
    "\n",
    "# Per capita income by catalan province (2015-2017)\n",
    "percapita_income = \"bq-analyst-230590.project_cat_mobile_coverage_2015_2017.cat_percapita_income_by_province_2015_2017\"\n",
    "\n",
    "# Catalan population and density by province (2015-2017)\n",
    "pop_density = \"bq-analyst-230590.project_cat_mobile_coverage_2015_2017.cat_pop_by_province_2015_2017\""
   ]
  },
  {
   "cell_type": "markdown",
   "id": "8fce2d19",
   "metadata": {},
   "source": [
    "### Preview datasets"
   ]
  },
  {
   "cell_type": "markdown",
   "id": "126b19bb",
   "metadata": {},
   "source": [
    "Mobile Data Cleaned"
   ]
  },
  {
   "cell_type": "code",
   "execution_count": 4,
   "id": "ef51bb75",
   "metadata": {},
   "outputs": [
    {
     "data": {
      "text/html": [
       "<div>\n",
       "<style scoped>\n",
       "    .dataframe tbody tr th:only-of-type {\n",
       "        vertical-align: middle;\n",
       "    }\n",
       "\n",
       "    .dataframe tbody tr th {\n",
       "        vertical-align: top;\n",
       "    }\n",
       "\n",
       "    .dataframe thead th {\n",
       "        text-align: right;\n",
       "    }\n",
       "</style>\n",
       "<table border=\"1\" class=\"dataframe\">\n",
       "  <thead>\n",
       "    <tr style=\"text-align: right;\">\n",
       "      <th></th>\n",
       "      <th>date</th>\n",
       "      <th>hour</th>\n",
       "      <th>lat</th>\n",
       "      <th>long</th>\n",
       "      <th>signal</th>\n",
       "      <th>net_provider</th>\n",
       "      <th>operator</th>\n",
       "      <th>description</th>\n",
       "      <th>net</th>\n",
       "      <th>speed</th>\n",
       "      <th>satellites</th>\n",
       "      <th>precision</th>\n",
       "      <th>position_provider</th>\n",
       "      <th>activity</th>\n",
       "      <th>postal_code</th>\n",
       "      <th>town_name</th>\n",
       "      <th>position_geom</th>\n",
       "      <th>province</th>\n",
       "      <th>year</th>\n",
       "    </tr>\n",
       "  </thead>\n",
       "  <tbody>\n",
       "    <tr>\n",
       "      <th>0</th>\n",
       "      <td>2015-09-10</td>\n",
       "      <td>06:17:19</td>\n",
       "      <td>41.65941</td>\n",
       "      <td>2.45505</td>\n",
       "      <td>7</td>\n",
       "      <td>EE</td>\n",
       "      <td>EE</td>\n",
       "      <td>STATE_EMERGENCY_ONLY</td>\n",
       "      <td>3G</td>\n",
       "      <td>127.0</td>\n",
       "      <td>1.0</td>\n",
       "      <td>31.0</td>\n",
       "      <td>GPS</td>\n",
       "      <td>IN_VEHICLE</td>\n",
       "      <td>082943</td>\n",
       "      <td>Vallgorguina</td>\n",
       "      <td>POINT(2.45505 41.65941)</td>\n",
       "      <td>Barcelona</td>\n",
       "      <td>2015</td>\n",
       "    </tr>\n",
       "    <tr>\n",
       "      <th>1</th>\n",
       "      <td>2015-09-08</td>\n",
       "      <td>23:14:38</td>\n",
       "      <td>41.67443</td>\n",
       "      <td>2.79337</td>\n",
       "      <td>17</td>\n",
       "      <td>EE</td>\n",
       "      <td>EE</td>\n",
       "      <td>STATE_EMERGENCY_ONLY</td>\n",
       "      <td>2G</td>\n",
       "      <td>24.5</td>\n",
       "      <td>2.0</td>\n",
       "      <td>8.0</td>\n",
       "      <td>GPS</td>\n",
       "      <td>IN_VEHICLE</td>\n",
       "      <td>170237</td>\n",
       "      <td>Blanes</td>\n",
       "      <td>POINT(2.79337 41.67443)</td>\n",
       "      <td>Girona</td>\n",
       "      <td>2015</td>\n",
       "    </tr>\n",
       "    <tr>\n",
       "      <th>2</th>\n",
       "      <td>2015-09-09</td>\n",
       "      <td>17:54:37</td>\n",
       "      <td>42.13197</td>\n",
       "      <td>3.09622</td>\n",
       "      <td>11</td>\n",
       "      <td>EE</td>\n",
       "      <td>EE</td>\n",
       "      <td>STATE_EMERGENCY_ONLY</td>\n",
       "      <td>4G</td>\n",
       "      <td>64.9</td>\n",
       "      <td>6.0</td>\n",
       "      <td>25.0</td>\n",
       "      <td>GPS</td>\n",
       "      <td>IN_VEHICLE</td>\n",
       "      <td>170622</td>\n",
       "      <td>l'Escala</td>\n",
       "      <td>POINT(3.09622 42.13197)</td>\n",
       "      <td>Girona</td>\n",
       "      <td>2015</td>\n",
       "    </tr>\n",
       "    <tr>\n",
       "      <th>3</th>\n",
       "      <td>2015-09-08</td>\n",
       "      <td>13:22:48</td>\n",
       "      <td>41.99098</td>\n",
       "      <td>2.79448</td>\n",
       "      <td>6</td>\n",
       "      <td>EE</td>\n",
       "      <td>EE</td>\n",
       "      <td>STATE_EMERGENCY_ONLY</td>\n",
       "      <td>2G</td>\n",
       "      <td>21.5</td>\n",
       "      <td>4.0</td>\n",
       "      <td>20.0</td>\n",
       "      <td>GPS</td>\n",
       "      <td>IN_VEHICLE</td>\n",
       "      <td>170792</td>\n",
       "      <td>Girona</td>\n",
       "      <td>POINT(2.79448 41.99098)</td>\n",
       "      <td>Girona</td>\n",
       "      <td>2015</td>\n",
       "    </tr>\n",
       "    <tr>\n",
       "      <th>4</th>\n",
       "      <td>2015-09-09</td>\n",
       "      <td>16:03:41</td>\n",
       "      <td>41.95650</td>\n",
       "      <td>2.78532</td>\n",
       "      <td>9</td>\n",
       "      <td>EE</td>\n",
       "      <td>EE</td>\n",
       "      <td>STATE_EMERGENCY_ONLY</td>\n",
       "      <td>2G</td>\n",
       "      <td>144.2</td>\n",
       "      <td>10.0</td>\n",
       "      <td>15.0</td>\n",
       "      <td>GPS</td>\n",
       "      <td>IN_VEHICLE</td>\n",
       "      <td>172155</td>\n",
       "      <td>Vilablareix</td>\n",
       "      <td>POINT(2.78532 41.9565)</td>\n",
       "      <td>Girona</td>\n",
       "      <td>2015</td>\n",
       "    </tr>\n",
       "  </tbody>\n",
       "</table>\n",
       "</div>"
      ],
      "text/plain": [
       "         date      hour       lat     long  signal net_provider operator  \\\n",
       "0  2015-09-10  06:17:19  41.65941  2.45505       7           EE       EE   \n",
       "1  2015-09-08  23:14:38  41.67443  2.79337      17           EE       EE   \n",
       "2  2015-09-09  17:54:37  42.13197  3.09622      11           EE       EE   \n",
       "3  2015-09-08  13:22:48  41.99098  2.79448       6           EE       EE   \n",
       "4  2015-09-09  16:03:41  41.95650  2.78532       9           EE       EE   \n",
       "\n",
       "            description net  speed  satellites  precision position_provider  \\\n",
       "0  STATE_EMERGENCY_ONLY  3G  127.0         1.0       31.0               GPS   \n",
       "1  STATE_EMERGENCY_ONLY  2G   24.5         2.0        8.0               GPS   \n",
       "2  STATE_EMERGENCY_ONLY  4G   64.9         6.0       25.0               GPS   \n",
       "3  STATE_EMERGENCY_ONLY  2G   21.5         4.0       20.0               GPS   \n",
       "4  STATE_EMERGENCY_ONLY  2G  144.2        10.0       15.0               GPS   \n",
       "\n",
       "     activity postal_code     town_name            position_geom   province  \\\n",
       "0  IN_VEHICLE      082943  Vallgorguina  POINT(2.45505 41.65941)  Barcelona   \n",
       "1  IN_VEHICLE      170237        Blanes  POINT(2.79337 41.67443)     Girona   \n",
       "2  IN_VEHICLE      170622      l'Escala  POINT(3.09622 42.13197)     Girona   \n",
       "3  IN_VEHICLE      170792        Girona  POINT(2.79448 41.99098)     Girona   \n",
       "4  IN_VEHICLE      172155   Vilablareix   POINT(2.78532 41.9565)     Girona   \n",
       "\n",
       "   year  \n",
       "0  2015  \n",
       "1  2015  \n",
       "2  2015  \n",
       "3  2015  \n",
       "4  2015  "
      ]
     },
     "metadata": {},
     "output_type": "display_data"
    },
    {
     "data": {
      "text/html": [
       "<div>\n",
       "<style scoped>\n",
       "    .dataframe tbody tr th:only-of-type {\n",
       "        vertical-align: middle;\n",
       "    }\n",
       "\n",
       "    .dataframe tbody tr th {\n",
       "        vertical-align: top;\n",
       "    }\n",
       "\n",
       "    .dataframe thead th {\n",
       "        text-align: right;\n",
       "    }\n",
       "</style>\n",
       "<table border=\"1\" class=\"dataframe\">\n",
       "  <thead>\n",
       "    <tr style=\"text-align: right;\">\n",
       "      <th></th>\n",
       "      <th>date</th>\n",
       "      <th>hour</th>\n",
       "      <th>lat</th>\n",
       "      <th>long</th>\n",
       "      <th>signal</th>\n",
       "      <th>net_provider</th>\n",
       "      <th>operator</th>\n",
       "      <th>description</th>\n",
       "      <th>net</th>\n",
       "      <th>speed</th>\n",
       "      <th>satellites</th>\n",
       "      <th>precision</th>\n",
       "      <th>position_provider</th>\n",
       "      <th>activity</th>\n",
       "      <th>postal_code</th>\n",
       "      <th>town_name</th>\n",
       "      <th>position_geom</th>\n",
       "      <th>province</th>\n",
       "      <th>year</th>\n",
       "    </tr>\n",
       "  </thead>\n",
       "  <tbody>\n",
       "    <tr>\n",
       "      <th>95</th>\n",
       "      <td>2015-12-29</td>\n",
       "      <td>11:34:26</td>\n",
       "      <td>41.40571</td>\n",
       "      <td>2.17606</td>\n",
       "      <td>25</td>\n",
       "      <td>Movistar</td>\n",
       "      <td>ONO</td>\n",
       "      <td>STATE_EMERGENCY_ONLY</td>\n",
       "      <td>3G</td>\n",
       "      <td>12.2</td>\n",
       "      <td>2.0</td>\n",
       "      <td>18.0</td>\n",
       "      <td>GPS</td>\n",
       "      <td>IN_VEHICLE</td>\n",
       "      <td>080193</td>\n",
       "      <td>Barcelona</td>\n",
       "      <td>POINT(2.17606 41.40571)</td>\n",
       "      <td>Barcelona</td>\n",
       "      <td>2015</td>\n",
       "    </tr>\n",
       "    <tr>\n",
       "      <th>96</th>\n",
       "      <td>2015-03-20</td>\n",
       "      <td>19:32:01</td>\n",
       "      <td>41.37988</td>\n",
       "      <td>2.14658</td>\n",
       "      <td>14</td>\n",
       "      <td>Movistar</td>\n",
       "      <td>ONO</td>\n",
       "      <td>STATE_EMERGENCY_ONLY</td>\n",
       "      <td>3G</td>\n",
       "      <td>166.6</td>\n",
       "      <td>0.0</td>\n",
       "      <td>12.0</td>\n",
       "      <td>GPS</td>\n",
       "      <td>IN_VEHICLE</td>\n",
       "      <td>080193</td>\n",
       "      <td>Barcelona</td>\n",
       "      <td>POINT(2.14658 41.37988)</td>\n",
       "      <td>Barcelona</td>\n",
       "      <td>2015</td>\n",
       "    </tr>\n",
       "    <tr>\n",
       "      <th>97</th>\n",
       "      <td>2015-12-29</td>\n",
       "      <td>12:54:41</td>\n",
       "      <td>41.38943</td>\n",
       "      <td>2.15378</td>\n",
       "      <td>10</td>\n",
       "      <td>Movistar</td>\n",
       "      <td>ONO</td>\n",
       "      <td>STATE_EMERGENCY_ONLY</td>\n",
       "      <td>3G</td>\n",
       "      <td>2.3</td>\n",
       "      <td>9.0</td>\n",
       "      <td>15.0</td>\n",
       "      <td>GPS</td>\n",
       "      <td>ON_FOOT</td>\n",
       "      <td>080193</td>\n",
       "      <td>Barcelona</td>\n",
       "      <td>POINT(2.15378 41.38943)</td>\n",
       "      <td>Barcelona</td>\n",
       "      <td>2015</td>\n",
       "    </tr>\n",
       "    <tr>\n",
       "      <th>98</th>\n",
       "      <td>2015-05-27</td>\n",
       "      <td>16:59:12</td>\n",
       "      <td>41.40490</td>\n",
       "      <td>2.14568</td>\n",
       "      <td>14</td>\n",
       "      <td>Movistar</td>\n",
       "      <td>ONO</td>\n",
       "      <td>STATE_IN_SERVICE</td>\n",
       "      <td>3G</td>\n",
       "      <td>3.6</td>\n",
       "      <td>1.0</td>\n",
       "      <td>8.0</td>\n",
       "      <td>GPS</td>\n",
       "      <td>ON_FOOT</td>\n",
       "      <td>080193</td>\n",
       "      <td>Barcelona</td>\n",
       "      <td>POINT(2.14568 41.4049)</td>\n",
       "      <td>Barcelona</td>\n",
       "      <td>2015</td>\n",
       "    </tr>\n",
       "    <tr>\n",
       "      <th>99</th>\n",
       "      <td>2015-05-07</td>\n",
       "      <td>13:21:45</td>\n",
       "      <td>41.40514</td>\n",
       "      <td>2.19603</td>\n",
       "      <td>26</td>\n",
       "      <td>Movistar</td>\n",
       "      <td>ONO</td>\n",
       "      <td>STATE_IN_SERVICE</td>\n",
       "      <td>3G</td>\n",
       "      <td>4.3</td>\n",
       "      <td>0.0</td>\n",
       "      <td>4.0</td>\n",
       "      <td>GPS</td>\n",
       "      <td>ON_FOOT</td>\n",
       "      <td>080193</td>\n",
       "      <td>Barcelona</td>\n",
       "      <td>POINT(2.19603 41.40514)</td>\n",
       "      <td>Barcelona</td>\n",
       "      <td>2015</td>\n",
       "    </tr>\n",
       "  </tbody>\n",
       "</table>\n",
       "</div>"
      ],
      "text/plain": [
       "          date      hour       lat     long  signal net_provider operator  \\\n",
       "95  2015-12-29  11:34:26  41.40571  2.17606      25     Movistar      ONO   \n",
       "96  2015-03-20  19:32:01  41.37988  2.14658      14     Movistar      ONO   \n",
       "97  2015-12-29  12:54:41  41.38943  2.15378      10     Movistar      ONO   \n",
       "98  2015-05-27  16:59:12  41.40490  2.14568      14     Movistar      ONO   \n",
       "99  2015-05-07  13:21:45  41.40514  2.19603      26     Movistar      ONO   \n",
       "\n",
       "             description net  speed  satellites  precision position_provider  \\\n",
       "95  STATE_EMERGENCY_ONLY  3G   12.2         2.0       18.0               GPS   \n",
       "96  STATE_EMERGENCY_ONLY  3G  166.6         0.0       12.0               GPS   \n",
       "97  STATE_EMERGENCY_ONLY  3G    2.3         9.0       15.0               GPS   \n",
       "98      STATE_IN_SERVICE  3G    3.6         1.0        8.0               GPS   \n",
       "99      STATE_IN_SERVICE  3G    4.3         0.0        4.0               GPS   \n",
       "\n",
       "      activity postal_code  town_name            position_geom   province  \\\n",
       "95  IN_VEHICLE      080193  Barcelona  POINT(2.17606 41.40571)  Barcelona   \n",
       "96  IN_VEHICLE      080193  Barcelona  POINT(2.14658 41.37988)  Barcelona   \n",
       "97     ON_FOOT      080193  Barcelona  POINT(2.15378 41.38943)  Barcelona   \n",
       "98     ON_FOOT      080193  Barcelona   POINT(2.14568 41.4049)  Barcelona   \n",
       "99     ON_FOOT      080193  Barcelona  POINT(2.19603 41.40514)  Barcelona   \n",
       "\n",
       "    year  \n",
       "95  2015  \n",
       "96  2015  \n",
       "97  2015  \n",
       "98  2015  \n",
       "99  2015  "
      ]
     },
     "metadata": {},
     "output_type": "display_data"
    },
    {
     "name": "stdout",
     "output_type": "stream",
     "text": [
      "Shape: \n",
      " (100, 19)\n"
     ]
    }
   ],
   "source": [
    "# SQL query:\n",
    "query = f\"\"\"\n",
    "    SELECT *\n",
    "    FROM `{mobile_data_cleaned}`\n",
    "    LIMIT 100\n",
    "    \"\"\"\n",
    "\n",
    "# Execute the query and store the result\n",
    "mob_data = query_df(query)\n",
    "\n",
    "# Show table\n",
    "display(mob_data.head(),mob_data.tail())\n",
    "print(\"Shape: \\n\", mob_data.shape)"
   ]
  },
  {
   "cell_type": "code",
   "execution_count": 5,
   "id": "95cd0fe2",
   "metadata": {},
   "outputs": [
    {
     "data": {
      "text/plain": [
       "Index(['date', 'hour', 'lat', 'long', 'signal', 'net_provider', 'operator',\n",
       "       'description', 'net', 'speed', 'satellites', 'precision',\n",
       "       'position_provider', 'activity', 'postal_code', 'town_name',\n",
       "       'position_geom', 'province', 'year'],\n",
       "      dtype='object')"
      ]
     },
     "execution_count": 5,
     "metadata": {},
     "output_type": "execute_result"
    }
   ],
   "source": [
    "# List of columns\n",
    "mob_data.columns"
   ]
  },
  {
   "cell_type": "code",
   "execution_count": 6,
   "id": "d043d896",
   "metadata": {},
   "outputs": [
    {
     "name": "stdout",
     "output_type": "stream",
     "text": [
      "<class 'pandas.core.frame.DataFrame'>\n",
      "RangeIndex: 100 entries, 0 to 99\n",
      "Data columns (total 19 columns):\n",
      " #   Column             Non-Null Count  Dtype  \n",
      "---  ------             --------------  -----  \n",
      " 0   date               100 non-null    object \n",
      " 1   hour               100 non-null    object \n",
      " 2   lat                100 non-null    float64\n",
      " 3   long               100 non-null    float64\n",
      " 4   signal             100 non-null    int64  \n",
      " 5   net_provider       100 non-null    object \n",
      " 6   operator           100 non-null    object \n",
      " 7   description        100 non-null    object \n",
      " 8   net                100 non-null    object \n",
      " 9   speed              100 non-null    float64\n",
      " 10  satellites         100 non-null    float64\n",
      " 11  precision          100 non-null    float64\n",
      " 12  position_provider  100 non-null    object \n",
      " 13  activity           100 non-null    object \n",
      " 14  postal_code        100 non-null    object \n",
      " 15  town_name          100 non-null    object \n",
      " 16  position_geom      100 non-null    object \n",
      " 17  province           100 non-null    object \n",
      " 18  year               100 non-null    int64  \n",
      "dtypes: float64(5), int64(2), object(12)\n",
      "memory usage: 15.0+ KB\n"
     ]
    }
   ],
   "source": [
    "# Column types\n",
    "mob_data.info()"
   ]
  },
  {
   "cell_type": "markdown",
   "id": "e1881aab",
   "metadata": {},
   "source": [
    "As previously mentioned in the earlier kernel, during the retrieval of 'date' and 'hour' from Google BigQuery for the 'SQL Data Cleaning For Mobile Coverage Dataset', these fields were transformed to 'object' types. However, it's important to note that in the original Google BigQuery dataset, their formats are 'date' and 'time', respectively. If there is a need to update these formats in the original table, the required queries are provided below:\n",
    "\n",
    "    (Please be aware that while we are displaying this data as a Python DataFrame for reference, the actual changes should be implemented in the original BigQuery dataset. We will directly query the original dataset, and we won't be utilizing this DataFrame for further analysis.)"
   ]
  },
  {
   "cell_type": "code",
   "execution_count": 7,
   "id": "df07e60f",
   "metadata": {},
   "outputs": [],
   "source": [
    "# SQL query: in BigQuery,convert 'date' to date format and 'hour' to time format\n",
    "query = f\"\"\"\n",
    "    # Convert 'date' column to date data type\n",
    "    UPDATE `{mobile_data_cleaned}`\n",
    "    SET date = CAST(date AS DATE)\n",
    "    \"\"\"\n",
    "# Execute the query\n",
    "# run_query(query)\n",
    "\n",
    "\n",
    "query = f\"\"\"\n",
    "    # Convert 'date' column to date data type\n",
    "    UPDATE `{mobile_data_cleaned}`\n",
    "    SET hour = CAST(hour AS TIME)\n",
    "    \"\"\"\n",
    "\n",
    "# Execute the query\n",
    "# run_query(query)"
   ]
  },
  {
   "cell_type": "code",
   "execution_count": 8,
   "id": "9175af61",
   "metadata": {},
   "outputs": [
    {
     "data": {
      "text/html": [
       "<div>\n",
       "<style scoped>\n",
       "    .dataframe tbody tr th:only-of-type {\n",
       "        vertical-align: middle;\n",
       "    }\n",
       "\n",
       "    .dataframe tbody tr th {\n",
       "        vertical-align: top;\n",
       "    }\n",
       "\n",
       "    .dataframe thead th {\n",
       "        text-align: right;\n",
       "    }\n",
       "</style>\n",
       "<table border=\"1\" class=\"dataframe\">\n",
       "  <thead>\n",
       "    <tr style=\"text-align: right;\">\n",
       "      <th></th>\n",
       "      <th>lat</th>\n",
       "      <th>long</th>\n",
       "      <th>signal</th>\n",
       "      <th>speed</th>\n",
       "      <th>satellites</th>\n",
       "      <th>precision</th>\n",
       "      <th>year</th>\n",
       "    </tr>\n",
       "  </thead>\n",
       "  <tbody>\n",
       "    <tr>\n",
       "      <th>count</th>\n",
       "      <td>100.000000</td>\n",
       "      <td>100.000000</td>\n",
       "      <td>100.000000</td>\n",
       "      <td>100.00000</td>\n",
       "      <td>100.000000</td>\n",
       "      <td>100.000000</td>\n",
       "      <td>100.0</td>\n",
       "    </tr>\n",
       "    <tr>\n",
       "      <th>mean</th>\n",
       "      <td>41.439965</td>\n",
       "      <td>2.214643</td>\n",
       "      <td>16.190000</td>\n",
       "      <td>20.72200</td>\n",
       "      <td>2.810000</td>\n",
       "      <td>18.040000</td>\n",
       "      <td>2015.0</td>\n",
       "    </tr>\n",
       "    <tr>\n",
       "      <th>std</th>\n",
       "      <td>0.128234</td>\n",
       "      <td>0.147043</td>\n",
       "      <td>5.868414</td>\n",
       "      <td>34.83661</td>\n",
       "      <td>2.725469</td>\n",
       "      <td>19.032094</td>\n",
       "      <td>0.0</td>\n",
       "    </tr>\n",
       "    <tr>\n",
       "      <th>min</th>\n",
       "      <td>41.307610</td>\n",
       "      <td>1.870990</td>\n",
       "      <td>3.000000</td>\n",
       "      <td>0.00000</td>\n",
       "      <td>0.000000</td>\n",
       "      <td>3.000000</td>\n",
       "      <td>2015.0</td>\n",
       "    </tr>\n",
       "    <tr>\n",
       "      <th>25%</th>\n",
       "      <td>41.398310</td>\n",
       "      <td>2.167782</td>\n",
       "      <td>13.000000</td>\n",
       "      <td>0.77500</td>\n",
       "      <td>0.000000</td>\n",
       "      <td>8.000000</td>\n",
       "      <td>2015.0</td>\n",
       "    </tr>\n",
       "    <tr>\n",
       "      <th>50%</th>\n",
       "      <td>41.404930</td>\n",
       "      <td>2.197315</td>\n",
       "      <td>14.000000</td>\n",
       "      <td>5.20000</td>\n",
       "      <td>2.000000</td>\n",
       "      <td>12.000000</td>\n",
       "      <td>2015.0</td>\n",
       "    </tr>\n",
       "    <tr>\n",
       "      <th>75%</th>\n",
       "      <td>41.420600</td>\n",
       "      <td>2.209245</td>\n",
       "      <td>20.250000</td>\n",
       "      <td>19.97500</td>\n",
       "      <td>4.000000</td>\n",
       "      <td>20.000000</td>\n",
       "      <td>2015.0</td>\n",
       "    </tr>\n",
       "    <tr>\n",
       "      <th>max</th>\n",
       "      <td>42.131970</td>\n",
       "      <td>3.096220</td>\n",
       "      <td>30.000000</td>\n",
       "      <td>166.60000</td>\n",
       "      <td>12.000000</td>\n",
       "      <td>112.000000</td>\n",
       "      <td>2015.0</td>\n",
       "    </tr>\n",
       "  </tbody>\n",
       "</table>\n",
       "</div>"
      ],
      "text/plain": [
       "              lat        long      signal      speed  satellites   precision  \\\n",
       "count  100.000000  100.000000  100.000000  100.00000  100.000000  100.000000   \n",
       "mean    41.439965    2.214643   16.190000   20.72200    2.810000   18.040000   \n",
       "std      0.128234    0.147043    5.868414   34.83661    2.725469   19.032094   \n",
       "min     41.307610    1.870990    3.000000    0.00000    0.000000    3.000000   \n",
       "25%     41.398310    2.167782   13.000000    0.77500    0.000000    8.000000   \n",
       "50%     41.404930    2.197315   14.000000    5.20000    2.000000   12.000000   \n",
       "75%     41.420600    2.209245   20.250000   19.97500    4.000000   20.000000   \n",
       "max     42.131970    3.096220   30.000000  166.60000   12.000000  112.000000   \n",
       "\n",
       "         year  \n",
       "count   100.0  \n",
       "mean   2015.0  \n",
       "std       0.0  \n",
       "min    2015.0  \n",
       "25%    2015.0  \n",
       "50%    2015.0  \n",
       "75%    2015.0  \n",
       "max    2015.0  "
      ]
     },
     "execution_count": 8,
     "metadata": {},
     "output_type": "execute_result"
    }
   ],
   "source": [
    "# Summary Statistics of numerical features\n",
    "mob_data.describe()"
   ]
  },
  {
   "cell_type": "markdown",
   "id": "c3b4c250",
   "metadata": {},
   "source": [
    "In order to query more efficiently, even though we have a 'date' column in the 'mobile_data_cleaned' dataset (formatted as YYYY-MM-DD), we are going to **add a new column, 'year'**, which extracts the year from 'date'.\n",
    "\n",
    "This simplification will make querying the 'mobile_data_cleaned' dataset more straightforward."
   ]
  },
  {
   "cell_type": "code",
   "execution_count": 9,
   "id": "b79acba3",
   "metadata": {},
   "outputs": [
    {
     "name": "stdout",
     "output_type": "stream",
     "text": [
      "Query successfully executed, and the table has been updated.\n"
     ]
    }
   ],
   "source": [
    "# SQL query:\n",
    "query = f\"\"\"\n",
    "    ALTER TABLE `{mobile_data_cleaned}`\n",
    "    ADD COLUMN IF NOT EXISTS year INT64\n",
    "    \"\"\"\n",
    "# Execute the query\n",
    "run_query(query)"
   ]
  },
  {
   "cell_type": "code",
   "execution_count": 10,
   "id": "cae86a51",
   "metadata": {},
   "outputs": [
    {
     "name": "stdout",
     "output_type": "stream",
     "text": [
      "Query successfully executed, and the table has been updated.\n"
     ]
    }
   ],
   "source": [
    "# SQL query:\n",
    "query = f\"\"\"\n",
    "    UPDATE `{mobile_data_cleaned}`\n",
    "    SET year = EXTRACT(YEAR FROM date)\n",
    "    WHERE year IS NULL\n",
    "    \"\"\"\n",
    "# Execute the query\n",
    "run_query(query)"
   ]
  },
  {
   "cell_type": "code",
   "execution_count": 11,
   "id": "61a44dcb",
   "metadata": {},
   "outputs": [
    {
     "data": {
      "text/html": [
       "<div>\n",
       "<style scoped>\n",
       "    .dataframe tbody tr th:only-of-type {\n",
       "        vertical-align: middle;\n",
       "    }\n",
       "\n",
       "    .dataframe tbody tr th {\n",
       "        vertical-align: top;\n",
       "    }\n",
       "\n",
       "    .dataframe thead th {\n",
       "        text-align: right;\n",
       "    }\n",
       "</style>\n",
       "<table border=\"1\" class=\"dataframe\">\n",
       "  <thead>\n",
       "    <tr style=\"text-align: right;\">\n",
       "      <th></th>\n",
       "      <th>year</th>\n",
       "    </tr>\n",
       "  </thead>\n",
       "  <tbody>\n",
       "    <tr>\n",
       "      <th>0</th>\n",
       "      <td>2017</td>\n",
       "    </tr>\n",
       "    <tr>\n",
       "      <th>1</th>\n",
       "      <td>2016</td>\n",
       "    </tr>\n",
       "    <tr>\n",
       "      <th>2</th>\n",
       "      <td>2015</td>\n",
       "    </tr>\n",
       "  </tbody>\n",
       "</table>\n",
       "</div>"
      ],
      "text/plain": [
       "   year\n",
       "0  2017\n",
       "1  2016\n",
       "2  2015"
      ]
     },
     "execution_count": 11,
     "metadata": {},
     "output_type": "execute_result"
    }
   ],
   "source": [
    "# SQL query:\n",
    "query = f\"\"\"\n",
    "    SELECT\n",
    "        DISTINCT year\n",
    "    FROM `{mobile_data_cleaned}`\n",
    "    \"\"\"\n",
    "# Execute the query\n",
    "query_df(query)"
   ]
  },
  {
   "cell_type": "code",
   "execution_count": null,
   "id": "62c4c12a",
   "metadata": {},
   "outputs": [],
   "source": []
  },
  {
   "cell_type": "markdown",
   "id": "a1b4598e",
   "metadata": {},
   "source": [
    "Per Capita Income"
   ]
  },
  {
   "cell_type": "code",
   "execution_count": 12,
   "id": "d4147aad",
   "metadata": {},
   "outputs": [
    {
     "data": {
      "text/html": [
       "<div>\n",
       "<style scoped>\n",
       "    .dataframe tbody tr th:only-of-type {\n",
       "        vertical-align: middle;\n",
       "    }\n",
       "\n",
       "    .dataframe tbody tr th {\n",
       "        vertical-align: top;\n",
       "    }\n",
       "\n",
       "    .dataframe thead th {\n",
       "        text-align: right;\n",
       "    }\n",
       "</style>\n",
       "<table border=\"1\" class=\"dataframe\">\n",
       "  <thead>\n",
       "    <tr style=\"text-align: right;\">\n",
       "      <th></th>\n",
       "      <th>year</th>\n",
       "      <th>province</th>\n",
       "      <th>per_capita_income</th>\n",
       "    </tr>\n",
       "  </thead>\n",
       "  <tbody>\n",
       "    <tr>\n",
       "      <th>0</th>\n",
       "      <td>2015</td>\n",
       "      <td>Lleida</td>\n",
       "      <td>20136</td>\n",
       "    </tr>\n",
       "    <tr>\n",
       "      <th>1</th>\n",
       "      <td>2015</td>\n",
       "      <td>Tarragona</td>\n",
       "      <td>22486</td>\n",
       "    </tr>\n",
       "    <tr>\n",
       "      <th>2</th>\n",
       "      <td>2015</td>\n",
       "      <td>Barcelona</td>\n",
       "      <td>27214</td>\n",
       "    </tr>\n",
       "    <tr>\n",
       "      <th>3</th>\n",
       "      <td>2015</td>\n",
       "      <td>Girona</td>\n",
       "      <td>25200</td>\n",
       "    </tr>\n",
       "    <tr>\n",
       "      <th>4</th>\n",
       "      <td>2016</td>\n",
       "      <td>Tarragona</td>\n",
       "      <td>23130</td>\n",
       "    </tr>\n",
       "    <tr>\n",
       "      <th>5</th>\n",
       "      <td>2016</td>\n",
       "      <td>Lleida</td>\n",
       "      <td>20713</td>\n",
       "    </tr>\n",
       "    <tr>\n",
       "      <th>6</th>\n",
       "      <td>2016</td>\n",
       "      <td>Barcelona</td>\n",
       "      <td>27913</td>\n",
       "    </tr>\n",
       "    <tr>\n",
       "      <th>7</th>\n",
       "      <td>2016</td>\n",
       "      <td>Girona</td>\n",
       "      <td>25598</td>\n",
       "    </tr>\n",
       "    <tr>\n",
       "      <th>8</th>\n",
       "      <td>2017</td>\n",
       "      <td>Barcelona</td>\n",
       "      <td>28481</td>\n",
       "    </tr>\n",
       "    <tr>\n",
       "      <th>9</th>\n",
       "      <td>2017</td>\n",
       "      <td>Lleida</td>\n",
       "      <td>21091</td>\n",
       "    </tr>\n",
       "    <tr>\n",
       "      <th>10</th>\n",
       "      <td>2017</td>\n",
       "      <td>Tarragona</td>\n",
       "      <td>23534</td>\n",
       "    </tr>\n",
       "    <tr>\n",
       "      <th>11</th>\n",
       "      <td>2017</td>\n",
       "      <td>Girona</td>\n",
       "      <td>25992</td>\n",
       "    </tr>\n",
       "  </tbody>\n",
       "</table>\n",
       "</div>"
      ],
      "text/plain": [
       "    year   province  per_capita_income\n",
       "0   2015     Lleida              20136\n",
       "1   2015  Tarragona              22486\n",
       "2   2015  Barcelona              27214\n",
       "3   2015     Girona              25200\n",
       "4   2016  Tarragona              23130\n",
       "5   2016     Lleida              20713\n",
       "6   2016  Barcelona              27913\n",
       "7   2016     Girona              25598\n",
       "8   2017  Barcelona              28481\n",
       "9   2017     Lleida              21091\n",
       "10  2017  Tarragona              23534\n",
       "11  2017     Girona              25992"
      ]
     },
     "execution_count": 12,
     "metadata": {},
     "output_type": "execute_result"
    }
   ],
   "source": [
    "# SQL query:\n",
    "query = f\"\"\"\n",
    "    SELECT *\n",
    "    FROM `{percapita_income}`\n",
    "    \"\"\"\n",
    "\n",
    "# Execute the query\n",
    "query_df(query)"
   ]
  },
  {
   "cell_type": "code",
   "execution_count": null,
   "id": "8c682c0c",
   "metadata": {},
   "outputs": [],
   "source": []
  },
  {
   "cell_type": "markdown",
   "id": "6dc5e064",
   "metadata": {},
   "source": [
    "Pop Density"
   ]
  },
  {
   "cell_type": "code",
   "execution_count": 13,
   "id": "424cbedd",
   "metadata": {},
   "outputs": [
    {
     "data": {
      "text/html": [
       "<div>\n",
       "<style scoped>\n",
       "    .dataframe tbody tr th:only-of-type {\n",
       "        vertical-align: middle;\n",
       "    }\n",
       "\n",
       "    .dataframe tbody tr th {\n",
       "        vertical-align: top;\n",
       "    }\n",
       "\n",
       "    .dataframe thead th {\n",
       "        text-align: right;\n",
       "    }\n",
       "</style>\n",
       "<table border=\"1\" class=\"dataframe\">\n",
       "  <thead>\n",
       "    <tr style=\"text-align: right;\">\n",
       "      <th></th>\n",
       "      <th>province</th>\n",
       "      <th>year</th>\n",
       "      <th>population</th>\n",
       "      <th>sq_km</th>\n",
       "      <th>density_per_sq_km</th>\n",
       "    </tr>\n",
       "  </thead>\n",
       "  <tbody>\n",
       "    <tr>\n",
       "      <th>0</th>\n",
       "      <td>Girona</td>\n",
       "      <td>2016</td>\n",
       "      <td>766273</td>\n",
       "      <td>5908</td>\n",
       "      <td>129.7</td>\n",
       "    </tr>\n",
       "    <tr>\n",
       "      <th>1</th>\n",
       "      <td>Girona</td>\n",
       "      <td>2017</td>\n",
       "      <td>766705</td>\n",
       "      <td>5908</td>\n",
       "      <td>129.8</td>\n",
       "    </tr>\n",
       "    <tr>\n",
       "      <th>2</th>\n",
       "      <td>Girona</td>\n",
       "      <td>2015</td>\n",
       "      <td>765783</td>\n",
       "      <td>5908</td>\n",
       "      <td>129.6</td>\n",
       "    </tr>\n",
       "    <tr>\n",
       "      <th>3</th>\n",
       "      <td>Lleida</td>\n",
       "      <td>2015</td>\n",
       "      <td>742138</td>\n",
       "      <td>12172</td>\n",
       "      <td>61.0</td>\n",
       "    </tr>\n",
       "    <tr>\n",
       "      <th>4</th>\n",
       "      <td>Lleida</td>\n",
       "      <td>2016</td>\n",
       "      <td>742099</td>\n",
       "      <td>12172</td>\n",
       "      <td>61.0</td>\n",
       "    </tr>\n",
       "    <tr>\n",
       "      <th>5</th>\n",
       "      <td>Lleida</td>\n",
       "      <td>2017</td>\n",
       "      <td>741884</td>\n",
       "      <td>12172</td>\n",
       "      <td>61.0</td>\n",
       "    </tr>\n",
       "    <tr>\n",
       "      <th>6</th>\n",
       "      <td>Barcelona</td>\n",
       "      <td>2015</td>\n",
       "      <td>5618162</td>\n",
       "      <td>7726</td>\n",
       "      <td>727.2</td>\n",
       "    </tr>\n",
       "    <tr>\n",
       "      <th>7</th>\n",
       "      <td>Barcelona</td>\n",
       "      <td>2016</td>\n",
       "      <td>5635085</td>\n",
       "      <td>7726</td>\n",
       "      <td>729.4</td>\n",
       "    </tr>\n",
       "    <tr>\n",
       "      <th>8</th>\n",
       "      <td>Barcelona</td>\n",
       "      <td>2017</td>\n",
       "      <td>5652301</td>\n",
       "      <td>7726</td>\n",
       "      <td>731.6</td>\n",
       "    </tr>\n",
       "    <tr>\n",
       "      <th>9</th>\n",
       "      <td>Tarragona</td>\n",
       "      <td>2015</td>\n",
       "      <td>811089</td>\n",
       "      <td>6303</td>\n",
       "      <td>128.7</td>\n",
       "    </tr>\n",
       "    <tr>\n",
       "      <th>10</th>\n",
       "      <td>Tarragona</td>\n",
       "      <td>2016</td>\n",
       "      <td>810947</td>\n",
       "      <td>6303</td>\n",
       "      <td>128.7</td>\n",
       "    </tr>\n",
       "    <tr>\n",
       "      <th>11</th>\n",
       "      <td>Tarragona</td>\n",
       "      <td>2017</td>\n",
       "      <td>810600</td>\n",
       "      <td>6303</td>\n",
       "      <td>128.6</td>\n",
       "    </tr>\n",
       "  </tbody>\n",
       "</table>\n",
       "</div>"
      ],
      "text/plain": [
       "     province  year  population  sq_km  density_per_sq_km\n",
       "0      Girona  2016      766273   5908              129.7\n",
       "1      Girona  2017      766705   5908              129.8\n",
       "2      Girona  2015      765783   5908              129.6\n",
       "3      Lleida  2015      742138  12172               61.0\n",
       "4      Lleida  2016      742099  12172               61.0\n",
       "5      Lleida  2017      741884  12172               61.0\n",
       "6   Barcelona  2015     5618162   7726              727.2\n",
       "7   Barcelona  2016     5635085   7726              729.4\n",
       "8   Barcelona  2017     5652301   7726              731.6\n",
       "9   Tarragona  2015      811089   6303              128.7\n",
       "10  Tarragona  2016      810947   6303              128.7\n",
       "11  Tarragona  2017      810600   6303              128.6"
      ]
     },
     "execution_count": 13,
     "metadata": {},
     "output_type": "execute_result"
    }
   ],
   "source": [
    "# SQL query:\n",
    "query = f\"\"\"\n",
    "    SELECT *\n",
    "    FROM `{pop_density}`\n",
    "    LIMIT 100\n",
    "    \"\"\"\n",
    "# Execute the query\n",
    "query_df(query)"
   ]
  },
  {
   "cell_type": "code",
   "execution_count": null,
   "id": "93809258",
   "metadata": {},
   "outputs": [],
   "source": []
  },
  {
   "cell_type": "markdown",
   "id": "f36d84c3",
   "metadata": {},
   "source": [
    "### Execute queries:"
   ]
  },
  {
   "cell_type": "markdown",
   "id": "eb16b32a",
   "metadata": {},
   "source": [
    "**1. Filtering and Sorting**\n",
    "\n",
    "**2. Aggregation**\n",
    "\n",
    "**3. Join Operations**\n",
    "\n",
    "**4. Left, Right, Inner and Full Join**\n",
    "\n",
    "**5. Subqueries**\n",
    "\n",
    "**6. Grouping and Aggregation**\n",
    "\n",
    "**7. Data Validation**\n",
    "\n",
    "**8. Case Statements**\n",
    "\n",
    "**9. Statistical Aggregate Functions**\n",
    "\n",
    "**10. Window Functions**\n",
    "\n",
    "**11. Datetime Functions**\n",
    "\n",
    "**12. Brief Exploratory Data Analysis**"
   ]
  },
  {
   "cell_type": "code",
   "execution_count": null,
   "id": "0067055d",
   "metadata": {},
   "outputs": [],
   "source": []
  },
  {
   "cell_type": "markdown",
   "id": "fcc31175",
   "metadata": {},
   "source": [
    "#### 1. Filtering and Sorting"
   ]
  },
  {
   "cell_type": "markdown",
   "id": "b6e6bba8",
   "metadata": {},
   "source": [
    "Retrieve all records from the '{mobile_2015_2017}' table for the year 2016 where the 'signal' strength is above a threshold of 100 and 'net' is not 'Undefined net'."
   ]
  },
  {
   "cell_type": "code",
   "execution_count": 17,
   "id": "853959da",
   "metadata": {},
   "outputs": [
    {
     "data": {
      "text/html": [
       "<div>\n",
       "<style scoped>\n",
       "    .dataframe tbody tr th:only-of-type {\n",
       "        vertical-align: middle;\n",
       "    }\n",
       "\n",
       "    .dataframe tbody tr th {\n",
       "        vertical-align: top;\n",
       "    }\n",
       "\n",
       "    .dataframe thead th {\n",
       "        text-align: right;\n",
       "    }\n",
       "</style>\n",
       "<table border=\"1\" class=\"dataframe\">\n",
       "  <thead>\n",
       "    <tr style=\"text-align: right;\">\n",
       "      <th></th>\n",
       "      <th>year</th>\n",
       "      <th>operator</th>\n",
       "      <th>net</th>\n",
       "      <th>signal</th>\n",
       "    </tr>\n",
       "  </thead>\n",
       "  <tbody>\n",
       "    <tr>\n",
       "      <th>0</th>\n",
       "      <td>2016</td>\n",
       "      <td>Movistar</td>\n",
       "      <td>3G</td>\n",
       "      <td>99</td>\n",
       "    </tr>\n",
       "    <tr>\n",
       "      <th>1</th>\n",
       "      <td>2016</td>\n",
       "      <td>Movistar</td>\n",
       "      <td>2G</td>\n",
       "      <td>99</td>\n",
       "    </tr>\n",
       "    <tr>\n",
       "      <th>2</th>\n",
       "      <td>2016</td>\n",
       "      <td>Orange</td>\n",
       "      <td>3G</td>\n",
       "      <td>99</td>\n",
       "    </tr>\n",
       "    <tr>\n",
       "      <th>3</th>\n",
       "      <td>2016</td>\n",
       "      <td>Movistar</td>\n",
       "      <td>2G</td>\n",
       "      <td>99</td>\n",
       "    </tr>\n",
       "    <tr>\n",
       "      <th>4</th>\n",
       "      <td>2016</td>\n",
       "      <td>Movistar</td>\n",
       "      <td>2G</td>\n",
       "      <td>99</td>\n",
       "    </tr>\n",
       "    <tr>\n",
       "      <th>...</th>\n",
       "      <td>...</td>\n",
       "      <td>...</td>\n",
       "      <td>...</td>\n",
       "      <td>...</td>\n",
       "    </tr>\n",
       "    <tr>\n",
       "      <th>995</th>\n",
       "      <td>2016</td>\n",
       "      <td>Orange</td>\n",
       "      <td>4G</td>\n",
       "      <td>65</td>\n",
       "    </tr>\n",
       "    <tr>\n",
       "      <th>996</th>\n",
       "      <td>2016</td>\n",
       "      <td>Orange</td>\n",
       "      <td>4G</td>\n",
       "      <td>65</td>\n",
       "    </tr>\n",
       "    <tr>\n",
       "      <th>997</th>\n",
       "      <td>2016</td>\n",
       "      <td>Movistar</td>\n",
       "      <td>4G</td>\n",
       "      <td>65</td>\n",
       "    </tr>\n",
       "    <tr>\n",
       "      <th>998</th>\n",
       "      <td>2016</td>\n",
       "      <td>Vodafone</td>\n",
       "      <td>4G</td>\n",
       "      <td>65</td>\n",
       "    </tr>\n",
       "    <tr>\n",
       "      <th>999</th>\n",
       "      <td>2016</td>\n",
       "      <td>Vodafone</td>\n",
       "      <td>4G</td>\n",
       "      <td>65</td>\n",
       "    </tr>\n",
       "  </tbody>\n",
       "</table>\n",
       "<p>1000 rows × 4 columns</p>\n",
       "</div>"
      ],
      "text/plain": [
       "     year  operator net  signal\n",
       "0    2016  Movistar  3G      99\n",
       "1    2016  Movistar  2G      99\n",
       "2    2016    Orange  3G      99\n",
       "3    2016  Movistar  2G      99\n",
       "4    2016  Movistar  2G      99\n",
       "..    ...       ...  ..     ...\n",
       "995  2016    Orange  4G      65\n",
       "996  2016    Orange  4G      65\n",
       "997  2016  Movistar  4G      65\n",
       "998  2016  Vodafone  4G      65\n",
       "999  2016  Vodafone  4G      65\n",
       "\n",
       "[1000 rows x 4 columns]"
      ]
     },
     "execution_count": 17,
     "metadata": {},
     "output_type": "execute_result"
    }
   ],
   "source": [
    "# Datasets: {mobile_data_cleaned}, {pop_density}, {percapita_income}\n",
    "\n",
    "query = f\"\"\"\n",
    "    SELECT \n",
    "        year,\n",
    "        operator,\n",
    "        net,\n",
    "        signal\n",
    "    FROM `{mobile_data_cleaned}`\n",
    "    WHERE \n",
    "        year = 2016\n",
    "        AND signal > 50\n",
    "        AND NET != 'Undefined net'\n",
    "    ORDER BY signal DESC\n",
    "    LIMIT 1000\n",
    "    \"\"\"\n",
    "\n",
    "# Execute the query\n",
    "query_df(query)  "
   ]
  },
  {
   "cell_type": "markdown",
   "id": "f284753f",
   "metadata": {},
   "source": [
    "Retrieve records from the '{mobile_2015_2017}' table for the year 2017 where 'net' is '4G' and 'description' is 'STATE_IN_SERVICE,' and for the year 2016 where 'net' is '3G' and 'signal' strength exceeds the year's average '3G' signal strength."
   ]
  },
  {
   "cell_type": "code",
   "execution_count": 18,
   "id": "4bf52fb8",
   "metadata": {},
   "outputs": [
    {
     "data": {
      "text/html": [
       "<div>\n",
       "<style scoped>\n",
       "    .dataframe tbody tr th:only-of-type {\n",
       "        vertical-align: middle;\n",
       "    }\n",
       "\n",
       "    .dataframe tbody tr th {\n",
       "        vertical-align: top;\n",
       "    }\n",
       "\n",
       "    .dataframe thead th {\n",
       "        text-align: right;\n",
       "    }\n",
       "</style>\n",
       "<table border=\"1\" class=\"dataframe\">\n",
       "  <thead>\n",
       "    <tr style=\"text-align: right;\">\n",
       "      <th></th>\n",
       "      <th>year</th>\n",
       "      <th>operator</th>\n",
       "      <th>net</th>\n",
       "      <th>description</th>\n",
       "      <th>signal</th>\n",
       "      <th>speed</th>\n",
       "    </tr>\n",
       "  </thead>\n",
       "  <tbody>\n",
       "    <tr>\n",
       "      <th>0</th>\n",
       "      <td>2017</td>\n",
       "      <td>Pepephone</td>\n",
       "      <td>4G</td>\n",
       "      <td>STATE_IN_SERVICE</td>\n",
       "      <td>9</td>\n",
       "      <td>113.6</td>\n",
       "    </tr>\n",
       "    <tr>\n",
       "      <th>1</th>\n",
       "      <td>2017</td>\n",
       "      <td>Orange</td>\n",
       "      <td>4G</td>\n",
       "      <td>STATE_IN_SERVICE</td>\n",
       "      <td>3</td>\n",
       "      <td>101.6</td>\n",
       "    </tr>\n",
       "    <tr>\n",
       "      <th>2</th>\n",
       "      <td>2017</td>\n",
       "      <td>Movistar</td>\n",
       "      <td>4G</td>\n",
       "      <td>STATE_IN_SERVICE</td>\n",
       "      <td>8</td>\n",
       "      <td>112.8</td>\n",
       "    </tr>\n",
       "    <tr>\n",
       "      <th>3</th>\n",
       "      <td>2017</td>\n",
       "      <td>Orange</td>\n",
       "      <td>4G</td>\n",
       "      <td>STATE_IN_SERVICE</td>\n",
       "      <td>14</td>\n",
       "      <td>100.8</td>\n",
       "    </tr>\n",
       "    <tr>\n",
       "      <th>4</th>\n",
       "      <td>2017</td>\n",
       "      <td>Movistar</td>\n",
       "      <td>4G</td>\n",
       "      <td>STATE_IN_SERVICE</td>\n",
       "      <td>14</td>\n",
       "      <td>125.1</td>\n",
       "    </tr>\n",
       "    <tr>\n",
       "      <th>...</th>\n",
       "      <td>...</td>\n",
       "      <td>...</td>\n",
       "      <td>...</td>\n",
       "      <td>...</td>\n",
       "      <td>...</td>\n",
       "      <td>...</td>\n",
       "    </tr>\n",
       "    <tr>\n",
       "      <th>995</th>\n",
       "      <td>2016</td>\n",
       "      <td>Orange</td>\n",
       "      <td>3G</td>\n",
       "      <td>STATE_EMERGENCY_ONLY</td>\n",
       "      <td>22</td>\n",
       "      <td>3.3</td>\n",
       "    </tr>\n",
       "    <tr>\n",
       "      <th>996</th>\n",
       "      <td>2016</td>\n",
       "      <td>Orange</td>\n",
       "      <td>3G</td>\n",
       "      <td>STATE_EMERGENCY_ONLY</td>\n",
       "      <td>27</td>\n",
       "      <td>50.7</td>\n",
       "    </tr>\n",
       "    <tr>\n",
       "      <th>997</th>\n",
       "      <td>2016</td>\n",
       "      <td>Simyo</td>\n",
       "      <td>3G</td>\n",
       "      <td>STATE_EMERGENCY_ONLY</td>\n",
       "      <td>24</td>\n",
       "      <td>4.2</td>\n",
       "    </tr>\n",
       "    <tr>\n",
       "      <th>998</th>\n",
       "      <td>2016</td>\n",
       "      <td>Orange</td>\n",
       "      <td>3G</td>\n",
       "      <td>STATE_EMERGENCY_ONLY</td>\n",
       "      <td>16</td>\n",
       "      <td>5.0</td>\n",
       "    </tr>\n",
       "    <tr>\n",
       "      <th>999</th>\n",
       "      <td>2016</td>\n",
       "      <td>Orange</td>\n",
       "      <td>3G</td>\n",
       "      <td>STATE_EMERGENCY_ONLY</td>\n",
       "      <td>18</td>\n",
       "      <td>4.9</td>\n",
       "    </tr>\n",
       "  </tbody>\n",
       "</table>\n",
       "<p>1000 rows × 6 columns</p>\n",
       "</div>"
      ],
      "text/plain": [
       "     year   operator net           description  signal  speed\n",
       "0    2017  Pepephone  4G      STATE_IN_SERVICE       9  113.6\n",
       "1    2017     Orange  4G      STATE_IN_SERVICE       3  101.6\n",
       "2    2017   Movistar  4G      STATE_IN_SERVICE       8  112.8\n",
       "3    2017     Orange  4G      STATE_IN_SERVICE      14  100.8\n",
       "4    2017   Movistar  4G      STATE_IN_SERVICE      14  125.1\n",
       "..    ...        ...  ..                   ...     ...    ...\n",
       "995  2016     Orange  3G  STATE_EMERGENCY_ONLY      22    3.3\n",
       "996  2016     Orange  3G  STATE_EMERGENCY_ONLY      27   50.7\n",
       "997  2016      Simyo  3G  STATE_EMERGENCY_ONLY      24    4.2\n",
       "998  2016     Orange  3G  STATE_EMERGENCY_ONLY      16    5.0\n",
       "999  2016     Orange  3G  STATE_EMERGENCY_ONLY      18    4.9\n",
       "\n",
       "[1000 rows x 6 columns]"
      ]
     },
     "execution_count": 18,
     "metadata": {},
     "output_type": "execute_result"
    }
   ],
   "source": [
    "# Datasets: {mobile_data_cleaned}, {pop_density}, {percapita_income}\n",
    "\n",
    "query = f\"\"\"\n",
    "    SELECT\n",
    "      year,\n",
    "      operator,\n",
    "      net,\n",
    "      description,\n",
    "      signal,\n",
    "      speed\n",
    "    FROM `{mobile_data_cleaned}`\n",
    "    WHERE\n",
    "        # Condition 1: Select records for '4G' net in 2017 with STATE_IN_SERVICE description and speed > 100.0\n",
    "      (year = 2017\n",
    "      AND net = '4G'\n",
    "      AND description = 'STATE_IN_SERVICE'\n",
    "      AND speed > 100.0)\n",
    "        # Condition 2: Select records for 3G network in 2016 with signal greater than the average signal strength for '3G' records in 2016\n",
    "      OR\n",
    "      (year = 2016\n",
    "      AND net = '3G'\n",
    "      AND signal > (\n",
    "          # Subquery to calculate average signal strength for '3G' records in 2016\n",
    "          SELECT\n",
    "              AVG(signal)\n",
    "          FROM `{mobile_data_cleaned}`\n",
    "          WHERE\n",
    "              year = 2016\n",
    "              AND net = '3G')\n",
    "       )\n",
    "    ORDER BY 1 DESC\n",
    "    LIMIT 1000;\n",
    "    \"\"\"\n",
    "# Execute the query\n",
    "query_df(query)    "
   ]
  },
  {
   "cell_type": "markdown",
   "id": "50fbd4d6",
   "metadata": {},
   "source": [
    "Calculate and display the top 3 Orange 'operators' with the highest 'activity count' for the '4G' category, for both the years 2017 and 2016. Organize the results by the number of 'activity counts' in descending order and present the findings."
   ]
  },
  {
   "cell_type": "code",
   "execution_count": 45,
   "id": "ad32a100",
   "metadata": {},
   "outputs": [
    {
     "data": {
      "text/html": [
       "<div>\n",
       "<style scoped>\n",
       "    .dataframe tbody tr th:only-of-type {\n",
       "        vertical-align: middle;\n",
       "    }\n",
       "\n",
       "    .dataframe tbody tr th {\n",
       "        vertical-align: top;\n",
       "    }\n",
       "\n",
       "    .dataframe thead th {\n",
       "        text-align: right;\n",
       "    }\n",
       "</style>\n",
       "<table border=\"1\" class=\"dataframe\">\n",
       "  <thead>\n",
       "    <tr style=\"text-align: right;\">\n",
       "      <th></th>\n",
       "      <th>year</th>\n",
       "      <th>net</th>\n",
       "      <th>operator</th>\n",
       "      <th>activity_count</th>\n",
       "    </tr>\n",
       "  </thead>\n",
       "  <tbody>\n",
       "    <tr>\n",
       "      <th>0</th>\n",
       "      <td>2017</td>\n",
       "      <td>4G</td>\n",
       "      <td>Orange</td>\n",
       "      <td>173988</td>\n",
       "    </tr>\n",
       "    <tr>\n",
       "      <th>1</th>\n",
       "      <td>2017</td>\n",
       "      <td>4G</td>\n",
       "      <td>adamo</td>\n",
       "      <td>13295</td>\n",
       "    </tr>\n",
       "    <tr>\n",
       "      <th>2</th>\n",
       "      <td>2017</td>\n",
       "      <td>4G</td>\n",
       "      <td>Jazztel</td>\n",
       "      <td>11511</td>\n",
       "    </tr>\n",
       "    <tr>\n",
       "      <th>3</th>\n",
       "      <td>2016</td>\n",
       "      <td>4G</td>\n",
       "      <td>Orange</td>\n",
       "      <td>533603</td>\n",
       "    </tr>\n",
       "    <tr>\n",
       "      <th>4</th>\n",
       "      <td>2016</td>\n",
       "      <td>4G</td>\n",
       "      <td>Jazztel</td>\n",
       "      <td>108850</td>\n",
       "    </tr>\n",
       "    <tr>\n",
       "      <th>5</th>\n",
       "      <td>2016</td>\n",
       "      <td>4G</td>\n",
       "      <td>Simyo</td>\n",
       "      <td>15286</td>\n",
       "    </tr>\n",
       "  </tbody>\n",
       "</table>\n",
       "</div>"
      ],
      "text/plain": [
       "   year net operator  activity_count\n",
       "0  2017  4G   Orange          173988\n",
       "1  2017  4G    adamo           13295\n",
       "2  2017  4G  Jazztel           11511\n",
       "3  2016  4G   Orange          533603\n",
       "4  2016  4G  Jazztel          108850\n",
       "5  2016  4G    Simyo           15286"
      ]
     },
     "execution_count": 45,
     "metadata": {},
     "output_type": "execute_result"
    }
   ],
   "source": [
    "# Datasets: {mobile_data_cleaned}, {pop_density}, {percapita_income}\n",
    "\n",
    "query = f\"\"\"\n",
    "WITH OrangeOperators_4G_2017 AS ( \n",
    "    # Common Table Expression (CTE): Top-3 activity count '4G' Orange Operator in 2017\n",
    "    SELECT\n",
    "        year,\n",
    "        net,\n",
    "        operator,\n",
    "        COUNT(*) activity_count\n",
    "    FROM `{mobile_data_cleaned}`\n",
    "    WHERE\n",
    "      net_provider = 'Orange'\n",
    "      AND net = '4G'\n",
    "      AND year = 2017\n",
    "    GROUP BY 1,2,3 \n",
    "    ORDER BY 1 DESC, 2 DESC, 4 DESC\n",
    "    LIMIT 3\n",
    "    ),\n",
    "    \n",
    "    # CTE: Top-3 activity count '4G' Orange Operator in 2016\n",
    "    OrangeOperators_4G_2016 AS ( \n",
    "    SELECT\n",
    "        year,\n",
    "        net,\n",
    "        operator,\n",
    "        COUNT(*) activity_count\n",
    "    FROM `{mobile_data_cleaned}`\n",
    "    WHERE\n",
    "      net_provider = 'Orange'\n",
    "      AND net = '4G'\n",
    "      AND year = 2016\n",
    "    GROUP BY 1,2,3 \n",
    "    ORDER BY 1 DESC, 2 DESC, 4 DESC\n",
    "    LIMIT 3\n",
    "    )\n",
    "\n",
    "SELECT\n",
    "    year,\n",
    "    net,\n",
    "    operator,\n",
    "    activity_count\n",
    "FROM `OrangeOperators_4G_2017`\n",
    "UNION ALL\n",
    "SELECT\n",
    "    year,\n",
    "    net,\n",
    "    operator,\n",
    "    activity_count\n",
    "FROM `OrangeOperators_4G_2016`\n",
    "ORDER BY 1 DESC, 4 DESC\n",
    "    \"\"\"\n",
    "# Execute the query\n",
    "query_df(query) "
   ]
  },
  {
   "cell_type": "markdown",
   "id": "bf13307c",
   "metadata": {},
   "source": [
    "Retrieve the top 10 records from the '{mobile_2015_2017}' table for the year 2017 where the 'net' is '4G' and the 'description' is 'STATE_IN_SERVICE.' Additionally, for the year 2016, obtain the top 10 records where the 'net' is '3G,' and the 'signal' strength exceeds the average '3G' signal strength of the top 10% of '3G' records in terms of 'signal' strength in 2016. Sort the results by 'signal' strength in descending order."
   ]
  },
  {
   "cell_type": "code",
   "execution_count": null,
   "id": "cc38bfe0",
   "metadata": {},
   "outputs": [],
   "source": []
  },
  {
   "cell_type": "markdown",
   "id": "c73a4934",
   "metadata": {},
   "source": [
    "#### 2. Aggregation"
   ]
  },
  {
   "cell_type": "markdown",
   "id": "bb2dc733",
   "metadata": {},
   "source": [
    "1. Calculate the average, maximum and standard deviation 'speed' of mobile data in the 'mobile 2015_2017' table for the year 2017."
   ]
  },
  {
   "cell_type": "code",
   "execution_count": null,
   "id": "bba70089",
   "metadata": {},
   "outputs": [],
   "source": [
    "# Datasets: {mobile_data_cleaned}, {pop_density}, {percapita_income}\n",
    "\n",
    "query = f\"\"\"\n",
    "    SELECT \n",
    "        ROUND(AVG(speed),2) avg_speed_2017,\n",
    "        MAX(speed) max_speed_2017,\n",
    "        ROUND(STDDEV_POP(speed),2) std_speed_2017\n",
    "    FROM `{mobile_data_cleaned}`\n",
    "    WHERE year = 2017\n",
    "    \"\"\"\n",
    "# Execute the query\n",
    "query_df(query)   "
   ]
  },
  {
   "cell_type": "markdown",
   "id": "c489c7c2",
   "metadata": {},
   "source": [
    "2. Calculate the average signal strength (signal) for each month in the year 2017 and order the results in descending order."
   ]
  },
  {
   "cell_type": "code",
   "execution_count": null,
   "id": "7b27a4ee",
   "metadata": {},
   "outputs": [],
   "source": [
    "# Datasets: {mobile_data_cleaned}, {pop_density}, {percapita_income}\n",
    "\n",
    "query = f\"\"\"\n",
    "    SELECT \n",
    "        EXTRACT(MONTH FROM date) month,\n",
    "        ROUND(AVG(signal),2) avg_signal_2017\n",
    "    FROM `{mobile_data_cleaned}`\n",
    "    WHERE year = 2017\n",
    "    GROUP BY 1\n",
    "    ORDER BY 2 DESC\n",
    "    \"\"\"\n",
    "\n",
    "# Execute the query\n",
    "query_df(query)  "
   ]
  },
  {
   "cell_type": "markdown",
   "id": "96a07878",
   "metadata": {},
   "source": [
    "3. Calculate the percentage of records where the activity is 'IN_VEHICLE' and 'net' is NOT 'Undefined net' in the '{mobile_2015_2017}' table for the year 2017."
   ]
  },
  {
   "cell_type": "code",
   "execution_count": null,
   "id": "e1755329",
   "metadata": {},
   "outputs": [],
   "source": [
    "# Datasets: {mobile_data_cleaned}, {pop_density}, {percapita_income}\n",
    "\n",
    "query = f\"\"\"\n",
    "SELECT\n",
    "    net,\n",
    "    ROUND((in_vehicle_2017_count / total_count * 100), 2) AS in_vehicle_2017_perc\n",
    "FROM\n",
    "    \n",
    "    # The first subquery (in_vehicle_subquery) calculates the count of records GROUPED BY 'net' where the activity is\n",
    "    # 'IN_VEHICLE' and the 'net' is not 'Undefined net' for the year 2017.\n",
    "     \n",
    "    (SELECT \n",
    "        net,\n",
    "        COUNT(*) AS in_vehicle_2017_count\n",
    "    FROM `{mobile_data_cleaned}`\n",
    "    WHERE year = 2017\n",
    "        AND activity = 'IN_VEHICLE'\n",
    "        AND net != 'Undefined net'\n",
    "    GROUP BY 1) in_vehicle_subquery,\n",
    "    \n",
    "    # The second subquery (total_subquery) calculates the total count of records where the activity is 'IN_VEHICLE' \n",
    "    # and the 'net' is not 'Undefined net' for the year 2017.\n",
    "    \n",
    "    (SELECT COUNT(*) AS total_count\n",
    "     FROM `{mobile_data_cleaned}`\n",
    "     WHERE year = 2017\n",
    "        AND activity = 'IN_VEHICLE'\n",
    "        AND net != 'Undefined net') total_subquery;\n",
    "\n",
    "    \"\"\"\n",
    "# Execute the query\n",
    "query_df(query)   "
   ]
  },
  {
   "cell_type": "code",
   "execution_count": null,
   "id": "30ce9331",
   "metadata": {},
   "outputs": [],
   "source": []
  },
  {
   "cell_type": "markdown",
   "id": "b6b1030c",
   "metadata": {},
   "source": [
    "#### 3. Join Operations"
   ]
  },
  {
   "cell_type": "markdown",
   "id": "1d6ab15e",
   "metadata": {},
   "source": [
    "1. Join the '{mobile_2015_2017}' table with the '{pop_density}' table to retrieve records from both tables for the year 2016 and calculate the average signal strength (signal) for each 'province'."
   ]
  },
  {
   "cell_type": "code",
   "execution_count": null,
   "id": "531db8cc",
   "metadata": {},
   "outputs": [],
   "source": [
    "# Datasets: {mobile_data_cleaned}, {pop_density}, {percapita_income}\n",
    "\n",
    "query = f\"\"\"\n",
    "    SELECT \n",
    "      m.province,\n",
    "      p.sq_km,\n",
    "      p.population,\n",
    "      p.density_per_sq_km,\n",
    "      ROUND(AVG(m.signal),2) avg_signal\n",
    "    FROM `{mobile_data_cleaned}` m\n",
    "    JOIN `{pop_density}` p \n",
    "      ON m.province = p.province AND m.year = p.year\n",
    "    WHERE m.year = 2016\n",
    "    GROUP BY m.province, p.sq_km, p.population, p.density_per_sq_km\n",
    "    ORDER BY p.density_per_sq_km DESC;\n",
    "    \"\"\"\n",
    "# Execute the query\n",
    "query_df(query) "
   ]
  },
  {
   "cell_type": "markdown",
   "id": "4b03c7ec",
   "metadata": {},
   "source": [
    "2. Join the '{mobile_2015_2017}' table with the '{percapita_income}' table to find the province with the best 4G network coverage (highest number of records with '4G' in the 'net' column) in the year 2015 and retrieve records of its 'per_capita_income'."
   ]
  },
  {
   "cell_type": "code",
   "execution_count": null,
   "id": "38fa9ff6",
   "metadata": {},
   "outputs": [],
   "source": [
    "# Datasets: {mobile_data_cleaned}, {pop_density}, {percapita_income}\n",
    "\n",
    "query = f\"\"\"\n",
    "    SELECT \n",
    "      m.province,\n",
    "      m.net,\n",
    "      COUNT(m.net) records_count_2015,\n",
    "      c.per_capita_income AS per_capita_income_2015\n",
    "    FROM `{mobile_data_cleaned}` m\n",
    "    JOIN `{percapita_income}` c\n",
    "      ON m.year = c.year AND m.province = c.province\n",
    "    WHERE m.net = '4G' AND m.year = 2015\n",
    "    GROUP BY 1,2,4\n",
    "    ORDER BY COUNT(*) DESC\n",
    "    LIMIT 1\n",
    "    \"\"\"\n",
    "# Execute the query\n",
    "query_df(query) "
   ]
  },
  {
   "cell_type": "markdown",
   "id": "c8c9e1a5",
   "metadata": {},
   "source": [
    "3. Find the province with the highest average signal strength (signal) in the year 2017. Then, join this result with the \"{percapita_income}\" table to get the per capita income for that province in 2017.\n"
   ]
  },
  {
   "cell_type": "code",
   "execution_count": null,
   "id": "1a93b29a",
   "metadata": {},
   "outputs": [],
   "source": [
    "# Datasets: {mobile_data_cleaned}, {pop_density}, {percapita_income}\n",
    "\n",
    "query = f\"\"\"\n",
    "    SELECT \n",
    "      m.province,\n",
    "      ROUND(AVG(m.signal),2) avg_signal_2017,\n",
    "      C.per_capita_income\n",
    "    FROM `{mobile_data_cleaned}` m\n",
    "    JOIN `{percapita_income}` c\n",
    "      ON m.province = c.province AND m.year = c.year\n",
    "    WHERE m.year = 2017\n",
    "    GROUP BY m.province, c.per_capita_income\n",
    "    ORDER BY avg_signal_2017 DESC\n",
    "    LIMIT 1;\n",
    "    \"\"\"\n",
    "# Execute the query\n",
    "query_df(query)  "
   ]
  },
  {
   "cell_type": "markdown",
   "id": "b8deeeb2",
   "metadata": {},
   "source": [
    "4. Calculate the correlation coefficient between the average signal strength (signal) and population density for all provinces.\n"
   ]
  },
  {
   "cell_type": "code",
   "execution_count": null,
   "id": "57be923e",
   "metadata": {},
   "outputs": [],
   "source": [
    "# Datasets: {mobile_data_cleaned}, {pop_density}, {percapita_income}\n",
    "\n",
    "query = f\"\"\"\n",
    "WITH avg_signal_table AS (\n",
    "    SELECT\n",
    "        m.year,\n",
    "        m.province,\n",
    "        AVG(m.signal) avg_signal\n",
    "    FROM\n",
    "        `{mobile_data_cleaned}` m\n",
    "    GROUP BY m.year, m.province\n",
    ")\n",
    "\n",
    "SELECT \n",
    "    # Calculate Pearson Correlation\n",
    "    CORR(t.avg_signal, p.density_per_sq_km) corr_signal_density\n",
    "FROM avg_signal_table t\n",
    "JOIN `{pop_density}` p \n",
    "  ON t.province = p.province AND t.year = p.year\n",
    ";\n",
    "\"\"\"\n",
    "# Execute the query\n",
    "query_df(query) "
   ]
  },
  {
   "cell_type": "markdown",
   "id": "efeede63",
   "metadata": {},
   "source": [
    "    -  This value suggests a moderately strong positive linear correlation between the average signal strength (avg_signal) and population density (density_per_sq_km) for the given provinces and years in the dataset. A correlation coefficient of 0.71 indicates that as population density increases, the average signal strength tends to increase as well."
   ]
  },
  {
   "cell_type": "markdown",
   "id": "2631b45a",
   "metadata": {},
   "source": [
    "5. Calculate the correlation coefficient between the average signal strength (signal) and per capita income for all provinces in the year 2017.\n"
   ]
  },
  {
   "cell_type": "code",
   "execution_count": null,
   "id": "962e9793",
   "metadata": {},
   "outputs": [],
   "source": [
    "# Datasets: {mobile_data_cleaned}, {pop_density}, {percapita_income}\n",
    "\n",
    "query = f\"\"\"\n",
    "WITH avg_signal_table AS (\n",
    "    SELECT\n",
    "        m.year,\n",
    "        m.province,\n",
    "        AVG(m.signal) avg_signal\n",
    "    FROM\n",
    "        `{mobile_data_cleaned}` m\n",
    "    GROUP BY m.year, m.province\n",
    ")\n",
    "\n",
    "SELECT \n",
    "    CORR(t.avg_signal, c.per_capita_income) corr_signal_income\n",
    "FROM avg_signal_table t\n",
    "JOIN `{percapita_income}` c \n",
    "  ON t.province = c.province AND t.year = c.year\n",
    ";\n",
    "\"\"\"\n",
    "# Execute the query\n",
    "query_df(query)  "
   ]
  },
  {
   "cell_type": "markdown",
   "id": "af32ff9e",
   "metadata": {},
   "source": [
    "    - This value suggests a positive linear correlation too, but it is weaker than the correlation between average signal strength (avg_signal) and population density (density_per_sq_km) that was calculated in the previous query."
   ]
  },
  {
   "cell_type": "markdown",
   "id": "c5369c80",
   "metadata": {},
   "source": [
    "6. Group the data in the '{mobile_2015_2017}' table by net type (e.g., 2G, 3G, 4G) and calculate the average signal strength for each type. Join this data with the \"{percapita_income}\" table to compare the per capita income by network type in the year 2017.\n"
   ]
  },
  {
   "cell_type": "code",
   "execution_count": null,
   "id": "31677754",
   "metadata": {},
   "outputs": [],
   "source": [
    "# Datasets: {mobile_data_cleaned}, {pop_density}, {percapita_income}\n",
    "\n",
    "query = f\"\"\"\n",
    "WITH income_2017 AS (\n",
    "    SELECT\n",
    "        c.year,\n",
    "        c.province,\n",
    "        c.per_capita_income\n",
    "    FROM\n",
    "        `{percapita_income}` c\n",
    "    WHERE\n",
    "        c.year = 2017\n",
    ")\n",
    "\n",
    "SELECT\n",
    "    m.net,\n",
    "    ROUND(AVG(m.signal), 2) avg_signal,\n",
    "    ROUND(AVG(t.per_capita_income),2) avg_percapita_income\n",
    "FROM\n",
    "    `income_2017` t\n",
    "JOIN `{mobile_data_cleaned}` m \n",
    "ON t.province = m.province AND t.year = m.year\n",
    "GROUP BY 1\n",
    "ORDER BY 2 DESC;\n",
    "\"\"\"\n",
    "# Execute the query\n",
    "query_df(query)"
   ]
  },
  {
   "cell_type": "markdown",
   "id": "22932b97",
   "metadata": {},
   "source": [
    "7. Calculate and compare the annual growth in average signal strength ('signal'), population, and per capita income for each province by joining the '{mobile_data_cleaned},' '{pop_density},' and '{percapita_income}' datasets."
   ]
  },
  {
   "cell_type": "code",
   "execution_count": null,
   "id": "6959c67b",
   "metadata": {},
   "outputs": [],
   "source": [
    "# Datasets: {mobile_data_cleaned}, {pop_density}, {percapita_income}\n",
    "\n",
    "query = f\"\"\"\n",
    "# Create a Common Table Expression (CTE) to retrieve the data for each year and province\n",
    "WITH annual_data AS (\n",
    "    SELECT\n",
    "        m.year,\n",
    "        m.province,\n",
    "        ROUND(AVG(m.signal), 2) avg_signal,\n",
    "        COUNT(*) activity_count,\n",
    "        p.population,\n",
    "        c.per_capita_income\n",
    "    FROM `{mobile_data_cleaned}` m\n",
    "    JOIN `{pop_density}` p\n",
    "        ON m.province = p.province AND m.year = p.year\n",
    "    JOIN `{percapita_income}` c\n",
    "        ON m.province = c.province AND m.year = c.year\n",
    "    GROUP BY 1, 2, 5, 6\n",
    "    ORDER BY 2 ASC, 1 DESC\n",
    ")\n",
    "\n",
    "# Calculate annual growth percentages for each feature and province\n",
    "SELECT\n",
    "    a1.year,\n",
    "    a1.province,\n",
    "    a1.avg_signal,\n",
    "    # Signal Growth\n",
    "    ROUND((a1.avg_signal - a2.avg_signal) / a2.avg_signal * 100, 2) AS avg_signal_growth,\n",
    "    # Activity Count Growth\n",
    "    ROUND((a1.activity_count - a2.activity_count) / a2.activity_count * 100, 2) AS activity_count_growth,\n",
    "    # Population Growth\n",
    "    ROUND((a1.population - a2.population) / a2.population * 100, 2) AS population_growth,\n",
    "    # Per Capita Income Growth\n",
    "    ROUND((a1.per_capita_income - a2.per_capita_income) / a2.per_capita_income * 100, 2) AS per_capita_income_growth\n",
    "FROM annual_data a1\n",
    "# Join the 'annual_data' a2 to compare data for the same province and the next year (a2.year +1)\n",
    "JOIN annual_data a2\n",
    "    ON a1.province = a2.province -- Match data for the same province\n",
    "    AND a1.year = a2.year + 1 -- Compare data for the current year with data from the next year\n",
    "ORDER BY a1.province ASC, a1.year DESC\n",
    "\"\"\"\n",
    "# Execute the query\n",
    "query_df(query)"
   ]
  },
  {
   "cell_type": "markdown",
   "id": "9db874fe",
   "metadata": {},
   "source": [
    "    - Check and compare annual activity_count (focus 2017)"
   ]
  },
  {
   "cell_type": "code",
   "execution_count": null,
   "id": "6b9d1b80",
   "metadata": {},
   "outputs": [],
   "source": [
    "# Datasets: {mobile_data_cleaned}, {pop_density}, {percapita_income}\n",
    "\n",
    "query = f\"\"\"\n",
    "SELECT\n",
    "    year,\n",
    "    COUNT(*) activity_count\n",
    "FROM `{mobile_data_cleaned}`\n",
    "GROUP BY 1\n",
    "ORDER BY 1 DESC\n",
    "\"\"\"\n",
    "# Execute the query\n",
    "query_df(query)"
   ]
  },
  {
   "cell_type": "markdown",
   "id": "1a0e995b",
   "metadata": {},
   "source": [
    "Activity counts for the year 2017 show significantly fewer records compared to 2016 and 2015, which explains the negative growth observed in the previous query."
   ]
  },
  {
   "cell_type": "code",
   "execution_count": null,
   "id": "0219e1d1",
   "metadata": {},
   "outputs": [],
   "source": []
  },
  {
   "cell_type": "markdown",
   "id": "649f1636",
   "metadata": {},
   "source": [
    "#### 4. Left, Right, Inner and Full join:"
   ]
  },
  {
   "cell_type": "markdown",
   "id": "49bbfd66",
   "metadata": {},
   "source": [
    "We will now introduce simulated missing data into the 'pop_density' table by adding rows with NULL values in some of its columns. This step allows us to observe the effects of different types of joins. Subsequently, we will perform a series of join operations with the 'mobile_2015_2017' table."
   ]
  },
  {
   "cell_type": "code",
   "execution_count": null,
   "id": "ce9a5811",
   "metadata": {},
   "outputs": [],
   "source": [
    "# Datasets: {mobile_data_cleaned}, {pop_density}, {percapita_income}\n",
    "\n",
    "# pop_density columns: province, year, population, sq_km, density_per_sq_km\n",
    "\n",
    "query = f\"\"\"\n",
    "    INSERT INTO `{pop_density}`(year, population, sq_km)\n",
    "    VALUES \n",
    "        (2015, 600000, 500),\n",
    "        (2014, 530000, 490),\n",
    "        (2016, 420000, 400),\n",
    "        (2017, 385000, 380);\n",
    "    \n",
    "    INSERT INTO `{pop_density}`(province, year, sq_km)\n",
    "    VALUES\n",
    "        ('Costa Brava', 2017, 678),\n",
    "        ('Pirineus', 2015, 10000);\n",
    "    \"\"\"\n",
    "# Execute the query\n",
    "run_query(query)  "
   ]
  },
  {
   "cell_type": "code",
   "execution_count": null,
   "id": "65de548b",
   "metadata": {},
   "outputs": [],
   "source": [
    "# Datasets: {mobile_data_cleaned}, {pop_density}, {percapita_income}\n",
    "\n",
    "# pop_density columns: province, year, population, sq_km, density_per_sq_km\n",
    "\n",
    "query = f\"\"\"   \n",
    "    INSERT INTO `{pop_density}`(province, year, sq_km)\n",
    "    VALUES\n",
    "        ('Costa Brava', 2017, 678),\n",
    "        ('Pirineus', 2015, 10000);\n",
    "    \"\"\"\n",
    "# Execute the query\n",
    "run_query(query)  "
   ]
  },
  {
   "cell_type": "markdown",
   "id": "eeadc9f7",
   "metadata": {},
   "source": [
    "    - Output:"
   ]
  },
  {
   "cell_type": "code",
   "execution_count": null,
   "id": "8ba11964",
   "metadata": {},
   "outputs": [],
   "source": [
    "# Check updated pop_density dataset\n",
    "\n",
    "query = f\"\"\"\n",
    "    SELECT *\n",
    "    FROM `{pop_density}`;\n",
    "    \n",
    "    \"\"\"\n",
    "# Execute the query\n",
    "query_df(query)  "
   ]
  },
  {
   "cell_type": "markdown",
   "id": "af9a9790",
   "metadata": {},
   "source": [
    "    - a. LEFT JOIN: Count the number of records for each province and year, including provinces with NULL values in the pop_density table."
   ]
  },
  {
   "cell_type": "code",
   "execution_count": null,
   "id": "d2540989",
   "metadata": {},
   "outputs": [],
   "source": [
    "# Datasets: {mobile_data_cleaned}, {pop_density}, {percapita_income}\n",
    "\n",
    "query = f\"\"\"\n",
    "    SELECT\n",
    "      d.province,\n",
    "      d.year,\n",
    "      COUNT(m.signal) activity_count\n",
    "    FROM `{pop_density}` d\n",
    "    LEFT JOIN `{mobile_data_cleaned}` m\n",
    "        ON d.province = m.province\n",
    "        AND d.year = m.year\n",
    "    GROUP BY 1,2\n",
    "    ORDER BY 1,2 DESC;\n",
    "    \"\"\"\n",
    "# Execute the query\n",
    "query_df(query)  "
   ]
  },
  {
   "cell_type": "markdown",
   "id": "ab6ae0bc",
   "metadata": {},
   "source": [
    "Left Join: include all rows from {pop_density} with NULL values in the columns from {mobile_2015_2017}"
   ]
  },
  {
   "cell_type": "markdown",
   "id": "12c6bf24",
   "metadata": {},
   "source": [
    "    - b. RIGHT JOIN: Count the number of records for each province and year, excluding provinces with NULL values in the pop_density table.\n"
   ]
  },
  {
   "cell_type": "code",
   "execution_count": null,
   "id": "2ce843af",
   "metadata": {},
   "outputs": [],
   "source": [
    "# Datasets: {mobile_data_cleaned}, {pop_density}, {percapita_income}\n",
    "\n",
    "query = f\"\"\"\n",
    "    SELECT\n",
    "      d.province,\n",
    "      d.year,\n",
    "      ROUND(AVG(m.signal),2) avg_signal,\n",
    "      ROUND(MAX(m.speed),2) max_speed\n",
    "    FROM `{pop_density}` d\n",
    "    RIGHT JOIN `{mobile_data_cleaned}` m\n",
    "        ON d.province = m.province\n",
    "        AND d.year = m.year\n",
    "    GROUP BY 1,2\n",
    "    ORDER BY 1,2 DESC;\n",
    "    \"\"\"\n",
    "# Execute the query\n",
    "query_df(query) "
   ]
  },
  {
   "cell_type": "markdown",
   "id": "648ec7b4",
   "metadata": {},
   "source": [
    "Right Join: includes all rows from {mobile_2015_2017} and fill in NULL values from {pop_density} where there are no matches."
   ]
  },
  {
   "cell_type": "markdown",
   "id": "5efa8daa",
   "metadata": {},
   "source": [
    "    - c. INNER JOIN: Count the number of records for each province and year, including provinces from the pop_density table and any additional data from the mobile_2015_2017 table."
   ]
  },
  {
   "cell_type": "code",
   "execution_count": null,
   "id": "1c620cf1",
   "metadata": {},
   "outputs": [],
   "source": [
    "# Datasets: {mobile_data_cleaned}, {pop_density}, {percapita_income}\n",
    "\n",
    "query = f\"\"\"\n",
    "    SELECT\n",
    "      d.province,\n",
    "      d.year,\n",
    "      ROUND(AVG(m.signal),2) avg_signal,\n",
    "      ROUND(MAX(m.speed),2) max_speed\n",
    "    FROM `{pop_density}` d\n",
    "    INNER JOIN `{mobile_data_cleaned}` m\n",
    "        ON d.province = m.province\n",
    "        AND d.year = m.year\n",
    "    GROUP BY 1,2\n",
    "    ORDER BY 1,2 DESC;\n",
    "    \"\"\"\n",
    "# Execute the query\n",
    "query_df(query)  "
   ]
  },
  {
   "cell_type": "markdown",
   "id": "b6c390ac",
   "metadata": {},
   "source": [
    "Inner Join: includes only records with matching province values in both tables and exclude rows with NULL values from {pop_density}."
   ]
  },
  {
   "cell_type": "markdown",
   "id": "2a631b59",
   "metadata": {},
   "source": [
    "    - d. FULL JOIN: Count the number of records for each province and year, including all available data from both tables."
   ]
  },
  {
   "cell_type": "code",
   "execution_count": null,
   "id": "84674742",
   "metadata": {},
   "outputs": [],
   "source": [
    "# Datasets: {mobile_data_cleaned}, {pop_density}, {percapita_income}\n",
    "\n",
    "query = f\"\"\"\n",
    "    SELECT\n",
    "      d.province,\n",
    "      d.year,\n",
    "      ROUND(AVG(m.signal),2) avg_signal,\n",
    "      ROUND(MAX(m.speed),2) max_speed\n",
    "    FROM `{pop_density}` d\n",
    "    FULL JOIN `{mobile_data_cleaned}` m\n",
    "        ON d.province = m.province\n",
    "        AND d.year = m.year\n",
    "    GROUP BY 1,2\n",
    "    ORDER BY 1,2 DESC;\n",
    "    \"\"\"\n",
    "# Execute the query\n",
    "query_df(query)    "
   ]
  },
  {
   "cell_type": "markdown",
   "id": "4c31818e",
   "metadata": {},
   "source": [
    "Full join: includes all rows from both tables and provide NULL values for {mobile_2015_2017} where there are no matches."
   ]
  },
  {
   "cell_type": "markdown",
   "id": "41df6958",
   "metadata": {},
   "source": [
    "    - Delete added rows"
   ]
  },
  {
   "cell_type": "code",
   "execution_count": null,
   "id": "fcbf1a3b",
   "metadata": {},
   "outputs": [],
   "source": [
    "# Datasets: {mobile_data_cleaned}, {pop_density}, {percapita_income}\n",
    "\n",
    "# Delete all new rows\n",
    "query = f\"\"\"\n",
    "    DELETE FROM `{pop_density}`\n",
    "    WHERE \n",
    "        province IS NULL \n",
    "        OR province IN ('Costa Brava', 'Pirineus');\n",
    "    \"\"\"\n",
    "# Execute the query\n",
    "run_query(query)    "
   ]
  },
  {
   "cell_type": "code",
   "execution_count": null,
   "id": "2e71d746",
   "metadata": {},
   "outputs": [],
   "source": []
  },
  {
   "cell_type": "markdown",
   "id": "9b9ed07b",
   "metadata": {},
   "source": [
    "#### 4. Subqueries"
   ]
  },
  {
   "cell_type": "markdown",
   "id": "f7ceb1d3",
   "metadata": {},
   "source": [
    "Write a SQL subquery to find the provinces in the 'pop density' table where the population in 2016 is higher than the average population for all provinces."
   ]
  },
  {
   "cell_type": "code",
   "execution_count": null,
   "id": "9b617c67",
   "metadata": {},
   "outputs": [],
   "source": [
    "# Datasets: {mobile_data_cleaned}, {pop_density}, {percapita_income}\n",
    "\n",
    "query = f\"\"\"\n",
    "    SELECT\n",
    "      province,\n",
    "      population\n",
    "    FROM `{pop_density}`\n",
    "    WHERE\n",
    "      year = 2016\n",
    "      AND population > (\n",
    "        SELECT AVG(population)\n",
    "        FROM `{pop_density}`\n",
    "      );\n",
    "    \"\"\"\n",
    "# Execute the query\n",
    "query_df(query)"
   ]
  },
  {
   "cell_type": "code",
   "execution_count": null,
   "id": "342c37cc",
   "metadata": {},
   "outputs": [],
   "source": []
  },
  {
   "cell_type": "markdown",
   "id": "0e1710b8",
   "metadata": {},
   "source": [
    "#### 5. Grouping and Aggregation"
   ]
  },
  {
   "cell_type": "markdown",
   "id": "4875b385",
   "metadata": {},
   "source": [
    "Group the 'mobile 2015_2017' table by 'network' type and calculate the average 'signal' strength and the maximum 'speed' for each network type in the year 2017."
   ]
  },
  {
   "cell_type": "code",
   "execution_count": null,
   "id": "7adf558e",
   "metadata": {},
   "outputs": [],
   "source": [
    "# Datasets: {mobile_data_cleaned}, {pop_density}, {percapita_income}\n",
    "\n",
    "query = f\"\"\"\n",
    "    SELECT\n",
    "      net,\n",
    "      ROUND(AVG(signal),2) avg_signal,\n",
    "      MAX(speed) max_speed\n",
    "    FROM `{mobile_data_cleaned}`\n",
    "    WHERE\n",
    "      year = 2017\n",
    "    GROUP BY 1;\n",
    "    \"\"\"\n",
    "# Execute the query\n",
    "query_df(query) "
   ]
  },
  {
   "cell_type": "code",
   "execution_count": null,
   "id": "d536ef28",
   "metadata": {},
   "outputs": [],
   "source": []
  },
  {
   "cell_type": "markdown",
   "id": "c715f983",
   "metadata": {},
   "source": [
    "#### 7. Data Validation"
   ]
  },
  {
   "cell_type": "markdown",
   "id": "56fbd7ec",
   "metadata": {},
   "source": [
    "1. Identify and list all records in the '{mobile_2015_2017}' table with missing values in the 'position_provider' column."
   ]
  },
  {
   "cell_type": "code",
   "execution_count": null,
   "id": "940b2305",
   "metadata": {},
   "outputs": [],
   "source": [
    "# Datasets: {mobile_data_cleaned}, {pop_density}, {percapita_income}\n",
    "\n",
    "query = f\"\"\"\n",
    "    SELECT\n",
    "     *\n",
    "    FROM `{mobile_data_cleaned}`\n",
    "    WHERE\n",
    "      position_provider IS NULL\n",
    "    LIMIT 1000;\n",
    "    \"\"\"\n",
    "# Execute the query\n",
    "query_df(query)"
   ]
  },
  {
   "cell_type": "code",
   "execution_count": null,
   "id": "45188649",
   "metadata": {},
   "outputs": [],
   "source": []
  },
  {
   "cell_type": "markdown",
   "id": "6e03d5e5",
   "metadata": {},
   "source": [
    "#### 8. Case Statements"
   ]
  },
  {
   "cell_type": "markdown",
   "id": "1cb8a2a9",
   "metadata": {},
   "source": [
    "1. Update the 'signal' column in the '{mobile_2015_2017}' table, setting it to 'Above avg' when the 'signal' is above 14, 'On Avg' when between 13 and 14, and 'Under Avg' when below 13."
   ]
  },
  {
   "cell_type": "code",
   "execution_count": null,
   "id": "debdd590",
   "metadata": {},
   "outputs": [],
   "source": [
    "# Datasets: {mobile_data_cleaned}, {pop_density}, {percapita_income}\n",
    "\n",
    "query = f\"\"\"\n",
    "    SELECT\n",
    "      max(signal) max_signal,\n",
    "      min(signal) min_signal,\n",
    "      avg(signal) avg_signal\n",
    "    FROM `{mobile_data_cleaned}`\n",
    "    \"\"\"\n",
    "# Execute the query\n",
    "query_df(query)   "
   ]
  },
  {
   "cell_type": "markdown",
   "id": "8fa5d2fd",
   "metadata": {},
   "source": [
    "    - Create a new column to store the updated value"
   ]
  },
  {
   "cell_type": "code",
   "execution_count": null,
   "id": "125558d5",
   "metadata": {},
   "outputs": [],
   "source": [
    "# Datasets: {mobile_data_cleaned}, {pop_density}, {percapita_income}\n",
    "\n",
    "# Create a new column to store the updated value\n",
    "query = f\"\"\"\n",
    "    ALTER TABLE `{mobile_data_cleaned}`\n",
    "    ADD COLUMN signal_eval STRING;\n",
    "    \"\"\"\n",
    "\n",
    "# Execute the query\n",
    "run_query(query)    "
   ]
  },
  {
   "cell_type": "markdown",
   "id": "575c84ad",
   "metadata": {},
   "source": [
    "    - Update values"
   ]
  },
  {
   "cell_type": "code",
   "execution_count": null,
   "id": "479ff6e2",
   "metadata": {},
   "outputs": [],
   "source": [
    "# Datasets: {mobile_data_cleaned}, {pop_density}, {percapita_income}\n",
    "\n",
    "# Update values\n",
    "query = f\"\"\"\n",
    "    UPDATE `{mobile_data_cleaned}`\n",
    "    SET signal_eval =\n",
    "        CASE\n",
    "            WHEN signal < 13 THEN 'Under Avg'\n",
    "            WHEN signal BETWEEN 13 AND 14 THEN 'On Avg'\n",
    "            WHEN signal > 14 THEN 'Above Avg'\n",
    "            END\n",
    "        WHERE signal_eval IS NULL;\n",
    "    \"\"\"\n",
    "\n",
    "# Execute the query and store the result in the DataFrame\n",
    "run_query(query)    "
   ]
  },
  {
   "cell_type": "markdown",
   "id": "f9b60425",
   "metadata": {},
   "source": [
    "    - Check output"
   ]
  },
  {
   "cell_type": "code",
   "execution_count": null,
   "id": "aa8a63d1",
   "metadata": {},
   "outputs": [],
   "source": [
    "# Datasets: {mobile_data_cleaned}, {pop_density}, {percapita_income}\n",
    "\n",
    "# Check results\n",
    "query = f\"\"\"\n",
    "    SELECT\n",
    "      signal,\n",
    "      signal_eval\n",
    "    FROM `{mobile_data_cleaned}`\n",
    "    LIMIT 100\n",
    "    \"\"\"\n",
    "# Execute the query\n",
    "query_df(query) "
   ]
  },
  {
   "cell_type": "markdown",
   "id": "378e3acd",
   "metadata": {},
   "source": [
    "    - Delete 'signal_eval' column"
   ]
  },
  {
   "cell_type": "code",
   "execution_count": null,
   "id": "d4865009",
   "metadata": {},
   "outputs": [],
   "source": [
    "# Datasets: {mobile_data_cleaned}, {pop_density}, {percapita_income}\n",
    "\n",
    "# Delete the added column\n",
    "query = f\"\"\"\n",
    "    ALTER TABLE `{mobile_data_cleaned}`\n",
    "    DROP COLUMN signal_eval;\n",
    "    \"\"\"\n",
    "\n",
    "# Execute the query\n",
    "run_query(query)    "
   ]
  },
  {
   "cell_type": "code",
   "execution_count": null,
   "id": "3505cf9e",
   "metadata": {},
   "outputs": [],
   "source": []
  },
  {
   "cell_type": "markdown",
   "id": "5ed6969f",
   "metadata": {},
   "source": [
    "#### 9. Statistical Aggregate Functions"
   ]
  },
  {
   "cell_type": "markdown",
   "id": "2551f765",
   "metadata": {},
   "source": [
    "1. Calculate the Pearson correlation coefficient between different features pairs in the '{mobile_2015_2017}' table for all years in the dataset."
   ]
  },
  {
   "cell_type": "code",
   "execution_count": null,
   "id": "b5075491",
   "metadata": {},
   "outputs": [],
   "source": [
    "# Datasets: {mobile_data_cleaned}, {pop_density}, {percapita_income}\n",
    "\n",
    "query = f\"\"\"\n",
    "    SELECT\n",
    "      CORR(signal, speed) AS signal_speed,\n",
    "      CORR(signal, hour_24h) AS signal_hour,\n",
    "      CORR(signal, CAST(postal_code AS INT64)) AS signal_postalcode,\n",
    "      CORR(lat, long) AS lat_long,\n",
    "      CORR(precission, satellites) AS precision_satellites,\n",
    "      CORR(precission, speed) AS precision_speed,\n",
    "      CORR(precission, signal) AS precision_signal,\n",
    "      CORR(precission, CAST(postal_code AS INT64)) AS precission_postalcode,\n",
    "      CORR(satellites, CAST(postal_code AS INT64)) AS satellites_postalcode\n",
    "    FROM `{mobile_data_cleaned}`\n",
    "    \"\"\"\n",
    "# Execute the query\n",
    "query_df(query)  "
   ]
  },
  {
   "cell_type": "markdown",
   "id": "04d8c105",
   "metadata": {},
   "source": [
    "2. Calculate the covariance between 'signal' strength and 'speed' in the '{mobile_2015_2017}' table."
   ]
  },
  {
   "cell_type": "code",
   "execution_count": null,
   "id": "a687bc78",
   "metadata": {},
   "outputs": [],
   "source": [
    "# Datasets: {mobile_data_cleaned}, {pop_density}, {percapita_income}\n",
    "\n",
    "query = f\"\"\"\n",
    "    SELECT\n",
    "      COVAR_POP(signal, speed) AS COVAR_signal_speed,\n",
    "      CORR(signal, speed) AS CORR_signal_speed\n",
    "    FROM `{mobile_data_cleaned}`\n",
    "    \"\"\"\n",
    "# Execute the query\n",
    "query_df(query)    "
   ]
  },
  {
   "cell_type": "markdown",
   "id": "33f47372",
   "metadata": {},
   "source": [
    "    - Covariance measures the degree to which two variables change together. In this case, the negative value of -0.95 suggests that there is a negative linear relationship between \"signal\" and \"speed.\" When one variable increases, the other tends to decrease, and vice versa. However, the correlation coefficient (that unlike covariance, the correlation coefficient is a standardized measure within the range of -1 to 1.), which is approximately -0.004, indicates an extremely weak linear relationship, close to zero, suggesting that there is no substantial linear correlation between these two variables. In essence, while there is a negative covariance, the correlation coefficient underscores the absence of a strong linear connection between \"signal\" and \"speed\" in the dataset."
   ]
  },
  {
   "cell_type": "markdown",
   "id": "5164778f",
   "metadata": {},
   "source": [
    "3. Calculate the standard deviation of 'signal' strength in the '{mobile_2015_2017}' table for the year 2017."
   ]
  },
  {
   "cell_type": "code",
   "execution_count": null,
   "id": "93f2e807",
   "metadata": {},
   "outputs": [],
   "source": [
    "# Datasets: {mobile_data_cleaned}, {pop_density}, {percapita_income}\n",
    "\n",
    "query = f\"\"\"\n",
    "    SELECT\n",
    "      ROUND(STDDEV_POP(signal),2) AS STD_signal,\n",
    "      ROUND(MIN(signal),2) AS MIN_signal,\n",
    "      ROUND(MAX(signal),2) AS MAX_signal,\n",
    "      ROUND(AVG(signal),2) AS AVG_signal      \n",
    "    FROM `{mobile_data_cleaned}`\n",
    "    WHERE year = 2017\n",
    "    \"\"\"\n",
    "# Execute the query\n",
    "query_df(query)"
   ]
  },
  {
   "cell_type": "markdown",
   "id": "abff250c",
   "metadata": {},
   "source": [
    "    - These statistics provide insights into the variability and range of signal strengths in the dataset for the year 2017. The standard deviation of 7.18 indicates that signal strengths vary from the average by an average of approximately 7.18 units, and the signal strength ranged from 0.0 to 65.0 during that year."
   ]
  },
  {
   "cell_type": "markdown",
   "id": "cec0132b",
   "metadata": {},
   "source": [
    "4. Calculate the variance of 'speed' in the '{mobile_2015_2017}' table for the year 2017."
   ]
  },
  {
   "cell_type": "code",
   "execution_count": null,
   "id": "f6e78c49",
   "metadata": {},
   "outputs": [],
   "source": [
    "# Datasets: {mobile_data_cleaned}, {pop_density}, {percapita_income}\n",
    "\n",
    "query = f\"\"\"\n",
    "    SELECT\n",
    "      VAR_POP(speed) VAR_speed,\n",
    "      STDDEV_POP(speed) AS STD_speed,\n",
    "      MAX(speed) - MIN(speed) AS Range_speed\n",
    "    FROM `{mobile_data_cleaned}`\n",
    "    WHERE year=2017\n",
    "    \"\"\"\n",
    "# Execute the query\n",
    "query_df(query)  "
   ]
  },
  {
   "cell_type": "markdown",
   "id": "8c896ec6",
   "metadata": {},
   "source": [
    "    - The statistics for the 'speed' variable in the year 2017 reveal a substantial degree of variability, as evidenced by the high population variance, standard deviation, and range. This variation suggests that the data points for 'speed' exhibit a wide dispersion from the mean and cover a significant range, reflecting diverse speed measurements throughout the year 2017."
   ]
  },
  {
   "cell_type": "markdown",
   "id": "10485b4b",
   "metadata": {},
   "source": [
    "#### 10. Window Functions"
   ]
  },
  {
   "cell_type": "markdown",
   "id": "bc4afd3d",
   "metadata": {},
   "source": [
    "Before we start working with window functions, we will set the stage by inserting sample data into the {mobile_data_cleaned} table. This data will help us explore the distinctions between the RANK() and DENSE_RANK() window functions when ranking operators within networks.\n",
    "\n",
    "Additionally, we will create a **view**, {netwop_4G_view}, to filter and extract a specific subset of the data, focusing on '4G' networks. This view will serve as the basis for our exploration of window functions, allowing us to rank operators and gain insights into their network activity."
   ]
  },
  {
   "cell_type": "markdown",
   "id": "8a5b67d3",
   "metadata": {},
   "source": [
    "    - Insert new rows"
   ]
  },
  {
   "cell_type": "code",
   "execution_count": null,
   "id": "7eb6d8e5",
   "metadata": {},
   "outputs": [],
   "source": [
    "# Datasets: {mobile_data_cleaned}, {pop_density}, {percapita_income}\n",
    "\n",
    "query = f\"\"\"\n",
    "    INSERT INTO `{mobile_data_cleaned}` (network, operator, net, signal, speed)\n",
    "    VALUES\n",
    "        ('invented_network', 'invented_operator', '4G', 11, 13),\n",
    "        ('invented_network', 'invented_operator', '4G', 12, 14),\n",
    "        ('invented_network', 'invented_operator2', '4G', 12, 14)\n",
    "    \"\"\"\n",
    "\n",
    "# Execute the query\n",
    "run_query(query)  "
   ]
  },
  {
   "cell_type": "code",
   "execution_count": null,
   "id": "9a9dbd98",
   "metadata": {},
   "outputs": [],
   "source": [
    "# Datasets: {mobile_data_cleaned}, {pop_density}, {percapita_income}\n",
    "\n",
    "query = f\"\"\"\n",
    "    SELECT\n",
    "        *\n",
    "    FROM `{mobile_data_cleaned}`\n",
    "    WHERE REGEXP_CONTAINS(operator,'invented')\n",
    "    \"\"\"\n",
    "\n",
    "# Execute the query\n",
    "query_df(query)  "
   ]
  },
  {
   "cell_type": "markdown",
   "id": "345ae17b",
   "metadata": {},
   "source": [
    "    - Create View"
   ]
  },
  {
   "cell_type": "code",
   "execution_count": null,
   "id": "d2a8c17d",
   "metadata": {},
   "outputs": [],
   "source": [
    "# Network & Operator (unique pairs) and 4G net table (2015_2017) path \n",
    "netwop_4G_view = \"bq-analyst-230590.project_cat_mobile_coverage_2015_2017.netw_op_4G_view\""
   ]
  },
  {
   "cell_type": "code",
   "execution_count": null,
   "id": "8729119a",
   "metadata": {},
   "outputs": [],
   "source": [
    "# Datasets: {mobile_data_cleaned}, {pop_density}, {percapita_income}, \n",
    "# Views: {netwop_4G_view}\n",
    "\n",
    "query = f\"\"\"\n",
    "    CREATE OR REPLACE VIEW `{netwop_4G_view}` AS\n",
    "    SELECT\n",
    "      network,\n",
    "      operator,\n",
    "      COUNT(*) AS activity_count,\n",
    "      ROUND(AVG(signal), 2) AS avg_signal,\n",
    "      ROUND(AVG(speed), 2) AS avg_speed\n",
    "    FROM `{mobile_data_cleaned}`\n",
    "    WHERE net = '4G'\n",
    "    GROUP BY network, operator\n",
    "    ORDER BY network\n",
    "    \"\"\"\n",
    "\n",
    "# Execute the query\n",
    "run_query(query)  "
   ]
  },
  {
   "cell_type": "markdown",
   "id": "45e8d43d",
   "metadata": {},
   "source": [
    "    - Output"
   ]
  },
  {
   "cell_type": "code",
   "execution_count": null,
   "id": "8913232f",
   "metadata": {},
   "outputs": [],
   "source": [
    "# Datasets: {mobile_data_cleaned}, {pop_density}, {percapita_income}, \n",
    "# Views: {netwop_4G_view}\n",
    "\n",
    "query = f\"\"\"\n",
    "    SELECT\n",
    "      *\n",
    "    FROM `{netwop_4G_view}`\n",
    "    \"\"\"\n",
    "\n",
    "# Execute the query\n",
    "query_df(query)  "
   ]
  },
  {
   "cell_type": "markdown",
   "id": "77ced408",
   "metadata": {},
   "source": [
    "1. How do networks within the '4G' network rank based on the number of operators, and which networks are at the top 10 in terms of operator count?"
   ]
  },
  {
   "cell_type": "code",
   "execution_count": null,
   "id": "6be9675a",
   "metadata": {},
   "outputs": [],
   "source": [
    "# Datasets: {mobile_data_cleaned}, {pop_density}, {percapita_income}, \n",
    "# Views: {netwop_4G_view}\n",
    "\n",
    "# Rank Vs Dense Rank\n",
    "\n",
    "query = f\"\"\"\n",
    "SELECT\n",
    "  network,\n",
    "  COUNT(operator) operator_count,\n",
    "  RANK() OVER(ORDER BY COUNT(operator) DESC) overall_rank_num_op,\n",
    "  DENSE_RANK() OVER(ORDER BY COUNT(operator) DESC) overall_DENSE_rank_num_op\n",
    "FROM `{netwop_4G_view}`\n",
    "GROUP BY 1\n",
    "ORDER BY 2 DESC\n",
    "LIMIT 10\n",
    "    \"\"\"\n",
    "\n",
    "# Execute the query\n",
    "query_df(query)  "
   ]
  },
  {
   "cell_type": "code",
   "execution_count": null,
   "id": "711e9580",
   "metadata": {},
   "outputs": [],
   "source": []
  },
  {
   "cell_type": "markdown",
   "id": "6c6304f8",
   "metadata": {},
   "source": [
    "    - Drop 'invented' rows from original dataset"
   ]
  },
  {
   "cell_type": "code",
   "execution_count": null,
   "id": "a6141b42",
   "metadata": {},
   "outputs": [],
   "source": [
    "# Datasets: {mobile_data_cleaned}, {pop_density}, {percapita_income}, \n",
    "# Views: {netwop_4G_view}\n",
    "\n",
    "query = f\"\"\"\n",
    "    DELETE FROM `{mobile_data_cleaned}`\n",
    "    WHERE REGEXP_CONTAINS(operator,'invented')\n",
    "    \"\"\"\n",
    "\n",
    "# Execute the query\n",
    "run_query(query)  "
   ]
  },
  {
   "cell_type": "markdown",
   "id": "616c23f1",
   "metadata": {},
   "source": [
    "2. Within '4G' networks with multiple operators, how are operators ranked based on their activity count, and what is the comparative distribution of their rankings within their respective networks?"
   ]
  },
  {
   "cell_type": "code",
   "execution_count": null,
   "id": "85428941",
   "metadata": {},
   "outputs": [],
   "source": [
    "# Datasets: {mobile_data_cleaned}, {pop_density}, {percapita_income}, \n",
    "# Views: {netwop_4G_view}\n",
    "\n",
    "query = f\"\"\"\n",
    "WITH FilteredNetworks AS (\n",
    "  SELECT\n",
    "    network\n",
    "  FROM `{netwop_4G_view}`\n",
    "  GROUP BY network\n",
    "  HAVING COUNT(DISTINCT operator) > 1\n",
    ")\n",
    "\n",
    "SELECT\n",
    "  network,\n",
    "  operator,\n",
    "  activity_count,\n",
    "  RANK() OVER (PARTITION BY network ORDER BY activity_count) AS rank_within_network,\n",
    "  PERCENT_RANK() OVER (PARTITION BY network ORDER BY activity_count) AS percent_rank,\n",
    "  DENSE_RANK() OVER (PARTITION BY network ORDER BY activity_count) AS dense_rank\n",
    "FROM `{netwop_4G_view}`\n",
    "WHERE network IN (SELECT network FROM FilteredNetworks)\n",
    "    \"\"\"\n",
    "\n",
    "# Execute the query\n",
    "query_df(query)  "
   ]
  },
  {
   "cell_type": "markdown",
   "id": "a16d8be8",
   "metadata": {},
   "source": [
    "3. How does the moving average signal strength within the 'Orange' network for each operator compare to their respective average signal strength?"
   ]
  },
  {
   "cell_type": "code",
   "execution_count": null,
   "id": "8e2b7128",
   "metadata": {},
   "outputs": [],
   "source": [
    "# Datasets: {mobile_data_cleaned}, {pop_density}, {percapita_income}, \n",
    "# Views: {netwop_4G_view}\n",
    "\n",
    "query = f\"\"\"\n",
    "SELECT\n",
    "  network,\n",
    "  operator,\n",
    "  avg_signal,\n",
    "  AVG(avg_signal) OVER (PARTITION BY network ORDER BY avg_signal ROWS BETWEEN 2 PRECEDING AND 2 FOLLOWING) AS moving_avg_signal\n",
    "FROM `{netwop_4G_view}`\n",
    "WHERE network = 'Orange'\n",
    "GROUP BY 1,2,3\n",
    "ORDER BY 1, 2 ASC\n",
    "    \"\"\"\n",
    "\n",
    "# Execute the query\n",
    "query_df(query)"
   ]
  },
  {
   "cell_type": "markdown",
   "id": "0492ac97",
   "metadata": {},
   "source": [
    "    - To calculate the moving average, it considers the signal strength values of each operator and computes the average of the surrounding values within a window of two preceding and two following rows (including the operator's value). This provides an estimate of signal strength variations for each operator within the network, which can be useful for identifying trends and deviations in signal strength over time."
   ]
  },
  {
   "cell_type": "markdown",
   "id": "e4f22630",
   "metadata": {},
   "source": [
    "4. Can we divide operators in the '4G' network into quartiles based on their average signal strength, and what insights can we gain into the performance variation within each quartile?"
   ]
  },
  {
   "cell_type": "code",
   "execution_count": null,
   "id": "0a5d7a5c",
   "metadata": {},
   "outputs": [],
   "source": [
    "# Datasets: {mobile_data_cleaned}, {pop_density}, {percapita_income}, \n",
    "# Views: {netwop_4G_view}\n",
    "\n",
    "query = f\"\"\"\n",
    "WITH Quartiles AS (\n",
    "    SELECT\n",
    "        operator,\n",
    "        avg_signal,\n",
    "        # Divide operators into quartiles (1-4), with 1 being the lowest and 4 being the highest signal strength quartile.\n",
    "        NTILE(4) OVER (PARTITION BY network ORDER BY avg_signal) AS signal_quartile \n",
    "    FROM `{netwop_4G_view}`\n",
    "    )\n",
    "\n",
    "SELECT\n",
    "  signal_quartile,\n",
    "  COUNT(operator) AS operator_count,\n",
    "  MIN(avg_signal) AS min_signal,\n",
    "  MAX(avg_signal) AS max_signal,\n",
    "  AVG(avg_signal) AS avg_signal\n",
    "FROM Quartiles\n",
    "GROUP BY signal_quartile\n",
    "ORDER BY signal_quartile\n",
    "    \"\"\"\n",
    "\n",
    "# Execute the query\n",
    "query_df(query)"
   ]
  },
  {
   "cell_type": "code",
   "execution_count": null,
   "id": "443acacb",
   "metadata": {},
   "outputs": [],
   "source": [
    "# Datasets: {mobile_data_cleaned}, {pop_density}, {percapita_income}, \n",
    "# Views: {netwop_4G_view}\n",
    "\n",
    "query = f\"\"\"\n",
    "WITH Quartiles AS (\n",
    "    SELECT\n",
    "        operator,\n",
    "        avg_signal,\n",
    "        # Divide operators into quartiles (1-4), with 1 being the lowest and 4 being the highest signal strength quartile.\n",
    "        NTILE(4) OVER (PARTITION BY network ORDER BY avg_signal) AS signal_quartile \n",
    "    FROM `{netwop_4G_view}`\n",
    "    )\n",
    "\n",
    "SELECT\n",
    "  signal_quartile,\n",
    "  COUNT(operator) AS operator_count,\n",
    "  MIN(avg_signal) AS min_signal,\n",
    "  MAX(avg_signal) AS max_signal,\n",
    "  AVG(avg_signal) AS avg_signal\n",
    "FROM Quartiles\n",
    "GROUP BY signal_quartile\n",
    "ORDER BY signal_quartile\n",
    "    \"\"\"\n",
    "\n",
    "# Execute the query\n",
    "query_df(query)"
   ]
  },
  {
   "cell_type": "markdown",
   "id": "18051782",
   "metadata": {},
   "source": [
    "    - This analysis can be valuable for assessing the performance variation among different telecommunication providers (networks). It helps in understanding how the operators within each provider compare in terms of signal strength. For example, Quartile 4 includes operators with the highest signal strength, while Quartile 1 includes operators with the lowest signal strength. Operators in Quartiles 2 and 3 have signal strengths that fall in between.\n",
    "\n",
    "    - This information can be useful for network administrators and planners who are interested in evaluating signal strength across various telecommunication providers, which enables them to make informed decisions regarding network optimization and performance improvements."
   ]
  },
  {
   "cell_type": "markdown",
   "id": "f3421812",
   "metadata": {},
   "source": [
    "5. What insights can we gain about signal strength changes and network speed variations among operators in the '4G' network, especially within the 'Orange' network category, using LEAD and LAG window functions without considering time-based changes?"
   ]
  },
  {
   "cell_type": "code",
   "execution_count": null,
   "id": "140dea86",
   "metadata": {},
   "outputs": [],
   "source": [
    "# Datasets: {mobile_data_cleaned}, {pop_density}, {percapita_income}, \n",
    "# Views: {netwop_4G_view}\n",
    "\n",
    "query = f\"\"\"\n",
    "SELECT\n",
    "    network,\n",
    "    operator,\n",
    "    avg_signal,\n",
    "    LEAD(avg_signal) OVER (PARTITION BY network ORDER BY avg_signal) lead_avg_signal\n",
    "    FROM `{netwop_4G_view}`\n",
    "WHERE network = 'Orange'\n",
    "GROUP BY 1,2,3\n",
    "ORDER BY 3 ASC\n",
    "    \"\"\"\n",
    "\n",
    "# Execute the query\n",
    "query_df(query)"
   ]
  },
  {
   "cell_type": "code",
   "execution_count": null,
   "id": "ead33172",
   "metadata": {},
   "outputs": [],
   "source": [
    "# Datasets: {mobile_data_cleaned}, {pop_density}, {percapita_income}, \n",
    "# Views: {netwop_4G_view}\n",
    "\n",
    "query = f\"\"\"\n",
    "SELECT\n",
    "    network,\n",
    "    operator,\n",
    "    avg_speed,\n",
    "    # LAG( ,3) takes the avg_speed of row_num - 3.\n",
    "    LAG(avg_speed,3) OVER(PARTITION BY network ORDER BY avg_speed) lag_avg_speed\n",
    "FROM `{netwop_4G_view}`\n",
    "WHERE network = 'Orange'\n",
    "GROUP BY 1,2,3\n",
    "ORDER BY 3 ASC\n",
    "    \"\"\"\n",
    "\n",
    "# Execute the query\n",
    "query_df(query)"
   ]
  },
  {
   "cell_type": "markdown",
   "id": "f1faaa97",
   "metadata": {},
   "source": [
    "    - 6. AAmong 'Orange' operators in the '4G' network, how does their ranking based on signal strength compare to their ranking based on the number of records? Do 'Orange' operators with strong signal strength also have a larger volume of records, and does this impact their overall ranking?"
   ]
  },
  {
   "cell_type": "code",
   "execution_count": null,
   "id": "9a07a136",
   "metadata": {},
   "outputs": [],
   "source": [
    "# Datasets: {mobile_data_cleaned}, {pop_density}, {percapita_income}, \n",
    "# Views: {netwop_4G_view}\n",
    "\n",
    "query = f\"\"\"\n",
    "SELECT\n",
    "    operator,\n",
    "    avg_signal AS signal_strength,\n",
    "    ROW_NUMBER() OVER (PARTITION BY network ORDER BY avg_signal DESC) AS signal_rank,\n",
    "    activity_count AS record_count,\n",
    "    ROW_NUMBER() OVER (PARTITION BY network ORDER BY activity_count DESC) AS record_rank\n",
    "FROM `{netwop_4G_view}`\n",
    "WHERE network = 'Orange'\n",
    "ORDER BY signal_rank;\n",
    "    \"\"\"\n",
    "\n",
    "# Execute the query\n",
    "query_df(query)"
   ]
  },
  {
   "cell_type": "markdown",
   "id": "be7ce9ec",
   "metadata": {},
   "source": [
    "    - We can observe that the ranking based on signal strength doesn't necessarily correlate with the ranking based on the number of records. Operators like RACC, with the third-highest signal strength, are ranked seventh (out of nine) in terms of record count, indicating a low presence in the network."
   ]
  },
  {
   "cell_type": "code",
   "execution_count": null,
   "id": "0ee4f00c",
   "metadata": {},
   "outputs": [],
   "source": [
    "\n"
   ]
  },
  {
   "cell_type": "code",
   "execution_count": null,
   "id": "b904b5bc",
   "metadata": {},
   "outputs": [],
   "source": []
  },
  {
   "cell_type": "markdown",
   "id": "cca0a9ec",
   "metadata": {},
   "source": [
    "### 11. Dates"
   ]
  },
  {
   "cell_type": "markdown",
   "id": "e7700fc4",
   "metadata": {},
   "source": [
    "Date range"
   ]
  },
  {
   "cell_type": "code",
   "execution_count": null,
   "id": "e948ba6a",
   "metadata": {},
   "outputs": [],
   "source": [
    "# SQL query\n",
    "query = f\"\"\"\n",
    "    SELECT\n",
    "        MIN(date) AS first_date_recorded,\n",
    "        MAX(date) AS last_date_recorded,\n",
    "        DATE_DIFF(MAX(date), MIN(date), DAY) AS total_days_recorded\n",
    "    FROM `{mobile_data_cleaned}`\n",
    "    \"\"\"\n",
    "# Execute the query\n",
    "query_df(query) "
   ]
  },
  {
   "cell_type": "markdown",
   "id": "9cad11a3",
   "metadata": {},
   "source": [
    "Top 10 dates with the highest activity"
   ]
  },
  {
   "cell_type": "code",
   "execution_count": null,
   "id": "2e7ec3db",
   "metadata": {},
   "outputs": [],
   "source": [
    "# SQL query\n",
    "query = f\"\"\"\n",
    "    SELECT\n",
    "      date,\n",
    "      COUNT(*) AS record_count\n",
    "    FROM `{mobile_data_cleaned}`\n",
    "    GROUP BY date\n",
    "    ORDER BY record_count DESC\n",
    "    LIMIT 10\n",
    "    \"\"\"\n",
    "# Execute the query\n",
    "query_df(query) "
   ]
  },
  {
   "cell_type": "markdown",
   "id": "8d68af9e",
   "metadata": {},
   "source": [
    "Monthly Activity Rank within Quarters and Across the Year"
   ]
  },
  {
   "cell_type": "code",
   "execution_count": null,
   "id": "d705d867",
   "metadata": {},
   "outputs": [],
   "source": [
    "# SQL query\n",
    "query = f\"\"\"\n",
    "    WITH MonthlyCounts AS (\n",
    "        SELECT\n",
    "            EXTRACT(QUARTER FROM date) AS quarter,\n",
    "            EXTRACT(MONTH FROM date) AS month,\n",
    "            COUNT(*) AS record_count\n",
    "        FROM `{mobile_data_cleaned}`\n",
    "        GROUP BY quarter, month\n",
    "    )\n",
    "\n",
    "    SELECT\n",
    "      quarter,\n",
    "      month,\n",
    "      record_count,\n",
    "      RANK() OVER (ORDER BY record_count DESC) AS month_rank\n",
    "    FROM MonthlyCounts\n",
    "    ORDER BY quarter, record_count DESC;\n",
    "    \"\"\"\n",
    "# Execute the query and store the result in the DataFrame\n",
    "month_rank_df = query_df(query) \n",
    "\n",
    "month_rank_df"
   ]
  },
  {
   "cell_type": "code",
   "execution_count": null,
   "id": "d90d3f90",
   "metadata": {},
   "outputs": [],
   "source": [
    "# Create a custom color palette for each month within a quarter\n",
    "palette = sns.color_palette(\"tab10\", n_colors=12)  # Use n_colors=12 for 12 months\n",
    "\n",
    "# Pivot the DataFrame to have months as columns for stacking\n",
    "stacked_df = month_rank_df.pivot(index='quarter', columns='month', values='record_count')\n",
    "\n",
    "# Bar plot with stacked bars for each quarter and different colors for months\n",
    "plt.figure(figsize=(12, 6))\n",
    "ax = stacked_df.plot(kind='bar', stacked=True, color=palette)\n",
    "plt.title('Stacked Bar Plot of Quarter-wise Record Count')\n",
    "plt.xlabel('Quarter')\n",
    "plt.ylabel('Record Count')\n",
    "plt.legend(title='Month', loc='upper right', bbox_to_anchor=(1.15, 1))\n",
    "plt.ticklabel_format(style='plain', axis='y')  # Disable scientific notation on y-axis\n",
    "plt.show()\n"
   ]
  },
  {
   "cell_type": "code",
   "execution_count": null,
   "id": "08001064",
   "metadata": {},
   "outputs": [],
   "source": [
    "# Define custom color palettes for each quarter\n",
    "colors_first_quarter = sns.color_palette(\"Blues\", n_colors=3)  # Blue colors for months 1, 2, 3\n",
    "colors_second_quarter = sns.color_palette(\"Greens\", n_colors=3)  # Green colors for months 4, 5, 6\n",
    "colors_third_quarter = sns.color_palette(\"Oranges\", n_colors=3)  # Orange colors for months 7, 8, 9\n",
    "colors_fourth_quarter = sns.color_palette(\"Purples\", n_colors=3)  # Purple colors for months 10, 11, 12\n",
    "\n",
    "# Pivot the DataFrame to have months as columns for stacking\n",
    "stacked_df = month_rank_df.pivot(index='quarter', columns='month', values='record_count')\n",
    "\n",
    "# Create a stacked bar plot with distinct colors for each month within a quarter\n",
    "plt.figure(figsize=(12, 6))\n",
    "\n",
    "# Loop through each quarter and plot stacked bars with the custom color palette\n",
    "quarters = stacked_df.index\n",
    "for quarter, color_palette in zip(quarters, [colors_first_quarter, colors_second_quarter, colors_third_quarter, colors_fourth_quarter]):\n",
    "    quarter_data = stacked_df.loc[quarter]\n",
    "    quarter_data.plot(kind='bar', stacked=True, color=color_palette, label=f'Quarter {quarter}')\n",
    "\n",
    "# Calculate the overall average for all values\n",
    "overall_average = stacked_df.stack().mean()\n",
    "\n",
    "# Plot a red horizontal line for the overall average\n",
    "plt.axhline(y=overall_average, color='red', linestyle='--', label=f'Avg. Overall')\n",
    "\n",
    "plt.title('Stacked Bar Plot of Quarter-wise Record Count with Distinct Colors for Months')\n",
    "plt.xlabel('Month')\n",
    "plt.ylabel('Record Count')\n",
    "plt.legend(title='Legend', loc='upper right', bbox_to_anchor=(1.15, 1))\n",
    "plt.ticklabel_format(style='plain', axis='y')  # Disable scientific notation on y-axis\n",
    "plt.show()\n"
   ]
  },
  {
   "cell_type": "markdown",
   "id": "5dfa3490",
   "metadata": {},
   "source": [
    "### Hours"
   ]
  },
  {
   "cell_type": "markdown",
   "id": "815f81c6",
   "metadata": {},
   "source": [
    "Hourly Period Counts"
   ]
  },
  {
   "cell_type": "code",
   "execution_count": null,
   "id": "4f7be2c2",
   "metadata": {},
   "outputs": [],
   "source": [
    "# SQL query\n",
    "query = f\"\"\"\n",
    "    SELECT\n",
    "      CASE\n",
    "        WHEN EXTRACT(HOUR FROM hour) BETWEEN 0 AND 6 THEN 'Dawn'\n",
    "        WHEN EXTRACT(HOUR FROM hour) BETWEEN 7 AND 12 THEN 'Morning'\n",
    "        WHEN EXTRACT(HOUR FROM hour) BETWEEN 13 AND 18 THEN 'Afternoon'\n",
    "        ELSE 'Night'\n",
    "      END AS period,\n",
    "      COUNT(*) AS record_count\n",
    "    FROM `{mobile_data_cleaned}`\n",
    "    GROUP BY 1\n",
    "    ORDER BY 2 DESC\n",
    "    \"\"\"\n",
    "\n",
    "# Execute the query and store the result in the DataFrame\n",
    "hourly_period_counts = query_df(query)\n",
    "\n",
    "hourly_period_counts"
   ]
  },
  {
   "cell_type": "code",
   "execution_count": null,
   "id": "d3445c6a",
   "metadata": {},
   "outputs": [],
   "source": [
    "import plotly.express as px\n",
    "\n",
    "# Define the custom order and colors\n",
    "custom_order = [\"Dawn\", \"Morning\", \"Afternoon\", \"Night\"]\n",
    "\n",
    "# Create an interactive pie chart with Plotly\n",
    "fig = px.pie(hourly_period_counts, values='record_count', names='period', \n",
    "             title='Hourly Period Counts', \n",
    "             hover_data=['record_count'], \n",
    "             labels={'record_count': 'Record Count'},\n",
    "             category_orders={\"period\": custom_order})\n",
    "\n",
    "# Customize the layout (optional)\n",
    "fig.update_traces(textinfo='percent+label', pull=[0.1, 0.1, 0.1, 0.1])\n",
    "\n",
    "# Show the chart\n",
    "fig.show()\n",
    "\n",
    "# Save the plot as an HTML file in the 'Python Plots' folder\n",
    "plot_file_path = \"Python Plots/hourly_period_counts.html\"\n",
    "fig.write_html(plot_file_path)"
   ]
  },
  {
   "cell_type": "markdown",
   "id": "1867dfc7",
   "metadata": {},
   "source": [
    "[View the Plot](./Python%20Plots/hourly_period_counts.html)"
   ]
  },
  {
   "cell_type": "markdown",
   "id": "53bfd0ae",
   "metadata": {},
   "source": [
    "### Towns and Province activity"
   ]
  },
  {
   "cell_type": "markdown",
   "id": "56a9eadf",
   "metadata": {},
   "source": [
    "Top 50 Towns with the Highest Mobile Activity Recorded"
   ]
  },
  {
   "cell_type": "code",
   "execution_count": null,
   "id": "c7875836",
   "metadata": {},
   "outputs": [],
   "source": [
    "# SQL query\n",
    "query = f\"\"\"\n",
    "    SELECT\n",
    "      postal_code,\n",
    "      town_name,\n",
    "      COUNT(*) AS record_count\n",
    "    FROM\n",
    "      `{mobile_data_cleaned}`\n",
    "    WHERE postal_code IS NOT NULL\n",
    "    GROUP BY postal_code, town_name\n",
    "    ORDER BY 3 DESC\n",
    "    LIMIT 50\n",
    "    \"\"\"\n",
    "\n",
    "# Execute the query\n",
    "query_df(query)"
   ]
  },
  {
   "cell_type": "code",
   "execution_count": null,
   "id": "27b27962",
   "metadata": {},
   "outputs": [],
   "source": [
    "# SQL query\n",
    "query = f\"\"\"\n",
    "WITH ProvinceActivity AS (\n",
    "  SELECT\n",
    "      CASE\n",
    "        WHEN LEFT(CAST(postal_code AS STRING), 2) = '08' THEN 'Barcelona'\n",
    "        WHEN LEFT(CAST(postal_code AS STRING), 2) = '25' THEN 'Lleida'\n",
    "        WHEN LEFT(CAST(postal_code AS STRING), 2) = '17' THEN 'Girona'\n",
    "        WHEN LEFT(CAST(postal_code AS STRING), 2) = '43' THEN 'Tarragona'\n",
    "        ELSE 'Not defined'\n",
    "      END AS province,\n",
    "      COUNT(*) AS record_count\n",
    "  FROM `{mobile_data_cleaned}`\n",
    "  GROUP BY province\n",
    ")\n",
    "\n",
    "SELECT\n",
    "    province,\n",
    "    record_count,\n",
    "    ROUND((record_count / SUM(record_count) OVER ()) * 100,2) AS percentage\n",
    "FROM ProvinceActivity\n",
    "ORDER BY 2 DESC;\n",
    "    \"\"\"\n",
    "# Execute the query\n",
    "query_df(query)"
   ]
  },
  {
   "cell_type": "code",
   "execution_count": null,
   "id": "57ee070f",
   "metadata": {},
   "outputs": [],
   "source": []
  },
  {
   "cell_type": "markdown",
   "id": "7c402204",
   "metadata": {},
   "source": [
    "### Network, operators and signal"
   ]
  },
  {
   "cell_type": "code",
   "execution_count": null,
   "id": "3c31e892",
   "metadata": {},
   "outputs": [],
   "source": [
    "# SQL query\n",
    "query = f\"\"\"\n",
    "SELECT\n",
    "  network,\n",
    "  operator,\n",
    "  COUNT(*) record_count,\n",
    "  ROUND(AVG(signal),1) avg_netw_signal\n",
    "FROM\n",
    "  `{mobile_data_cleaned}`\n",
    "GROUP BY 1,2\n",
    "ORDER BY 3 DESC;\n",
    "    \"\"\"\n",
    "\n",
    "# Execute the query and store the result in the DataFrame\n",
    "netw_oper_signal = query_df(query)\n",
    "\n",
    "netw_oper_signal"
   ]
  },
  {
   "cell_type": "code",
   "execution_count": null,
   "id": "f6c9dbf7",
   "metadata": {},
   "outputs": [],
   "source": [
    "networks = netw_oper_signal['network'].nunique()\n",
    "operators = netw_oper_signal['operator'].nunique()\n",
    "\n",
    "display(Markdown(f\"There are {networks} unique networks and {operators} distinct operators\"))"
   ]
  },
  {
   "cell_type": "markdown",
   "id": "ee26ce29",
   "metadata": {},
   "source": [
    "Which (national) network has the highest activity recorded?"
   ]
  },
  {
   "cell_type": "code",
   "execution_count": null,
   "id": "17c35052",
   "metadata": {},
   "outputs": [],
   "source": [
    "# Group the DataFrame by the \"network\" column and calculate the total activity\n",
    "network_activity = netw_oper_signal.groupby('network')['record_count'].sum().reset_index()\n",
    "\n",
    "# Find the network with the highest total activity\n",
    "max_activity_network = network_activity[network_activity['record_count'] == network_activity['record_count'].max()]\n",
    "\n",
    "# Print the network with the highest total activity\n",
    "max_activity_network"
   ]
  },
  {
   "cell_type": "markdown",
   "id": "ab4adbf7",
   "metadata": {},
   "source": [
    "And the operator?"
   ]
  },
  {
   "cell_type": "code",
   "execution_count": null,
   "id": "334d3ddc",
   "metadata": {},
   "outputs": [],
   "source": [
    "# Group the DataFrame by the \"operator\" column and calculate the total activity\n",
    "operator_activity = netw_oper_signal.groupby('operator')['record_count'].sum().reset_index()\n",
    "\n",
    "# Find the operator with the highest total activity\n",
    "max_activity_operator = operator_activity[operator_activity['record_count'] == operator_activity['record_count'].max()]\n",
    "\n",
    "# Print the operator with the highest total activity\n",
    "max_activity_operator"
   ]
  },
  {
   "cell_type": "markdown",
   "id": "c2c0c14f",
   "metadata": {},
   "source": [
    "Which network/operator has the highest average signal?"
   ]
  },
  {
   "cell_type": "code",
   "execution_count": null,
   "id": "8c1cf360",
   "metadata": {},
   "outputs": [],
   "source": [
    "# Find the index of the row with the maximum \"avg_netw_signal\"\n",
    "max_signal_index = netw_oper_signal['avg_netw_signal'].idxmax()\n",
    "\n",
    "# Retrieve the corresponding row with the maximum \"avg_netw_signal\"\n",
    "top_signal = netw_oper_signal.loc[max_signal_index]\n",
    "\n",
    "# Display the row with the maximum \"avg_netw_signal\"\n",
    "top_signal"
   ]
  },
  {
   "cell_type": "markdown",
   "id": "3f756bb4",
   "metadata": {},
   "source": [
    "Which network/operator has the highest average signal among the top 25% of recorded activities?"
   ]
  },
  {
   "cell_type": "code",
   "execution_count": null,
   "id": "dad75bde",
   "metadata": {},
   "outputs": [],
   "source": [
    "# Calculate the threshold for the top 25% percentile of \"record_count\"\n",
    "threshold = netw_oper_signal['record_count'].quantile(0.75)\n",
    "\n",
    "# Filter the DataFrame to select rows with \"record_count\" greater than or equal to the threshold\n",
    "top_25_percentile = netw_oper_signal[netw_oper_signal['record_count'] >= threshold]\n",
    "\n",
    "# Find the row with the maximum \"avg_netw_signal\" within the filtered DataFrame\n",
    "max_avg_netw_signal_row = top_25_percentile.loc[top_25_percentile['avg_netw_signal'].idxmax()]\n",
    "\n",
    "# Display the row with the maximum \"avg_netw_signal\"\n",
    "max_avg_netw_signal_row"
   ]
  },
  {
   "cell_type": "markdown",
   "id": "1e2e10f8",
   "metadata": {},
   "source": [
    "Top Signal Strength by Operator and Net_Provider (top 10% record_count, excluding null values)"
   ]
  },
  {
   "cell_type": "code",
   "execution_count": 21,
   "id": "e9ebbab0",
   "metadata": {},
   "outputs": [
    {
     "data": {
      "text/html": [
       "<div>\n",
       "<style scoped>\n",
       "    .dataframe tbody tr th:only-of-type {\n",
       "        vertical-align: middle;\n",
       "    }\n",
       "\n",
       "    .dataframe tbody tr th {\n",
       "        vertical-align: top;\n",
       "    }\n",
       "\n",
       "    .dataframe thead th {\n",
       "        text-align: right;\n",
       "    }\n",
       "</style>\n",
       "<table border=\"1\" class=\"dataframe\">\n",
       "  <thead>\n",
       "    <tr style=\"text-align: right;\">\n",
       "      <th></th>\n",
       "      <th>net_provider</th>\n",
       "      <th>num_operator</th>\n",
       "      <th>record_count</th>\n",
       "      <th>record_count_rank</th>\n",
       "      <th>avg_signal</th>\n",
       "    </tr>\n",
       "  </thead>\n",
       "  <tbody>\n",
       "    <tr>\n",
       "      <th>0</th>\n",
       "      <td>vodafone</td>\n",
       "      <td>4</td>\n",
       "      <td>2648415</td>\n",
       "      <td>3</td>\n",
       "      <td>13.9</td>\n",
       "    </tr>\n",
       "    <tr>\n",
       "      <th>1</th>\n",
       "      <td>orange</td>\n",
       "      <td>12</td>\n",
       "      <td>2774131</td>\n",
       "      <td>2</td>\n",
       "      <td>13.2</td>\n",
       "    </tr>\n",
       "    <tr>\n",
       "      <th>2</th>\n",
       "      <td>yoigo</td>\n",
       "      <td>1</td>\n",
       "      <td>357852</td>\n",
       "      <td>4</td>\n",
       "      <td>13.0</td>\n",
       "    </tr>\n",
       "    <tr>\n",
       "      <th>3</th>\n",
       "      <td>movistar</td>\n",
       "      <td>5</td>\n",
       "      <td>4663075</td>\n",
       "      <td>1</td>\n",
       "      <td>12.9</td>\n",
       "    </tr>\n",
       "    <tr>\n",
       "      <th>4</th>\n",
       "      <td>jazztel</td>\n",
       "      <td>1</td>\n",
       "      <td>28351</td>\n",
       "      <td>6</td>\n",
       "      <td>11.9</td>\n",
       "    </tr>\n",
       "    <tr>\n",
       "      <th>5</th>\n",
       "      <td>eroski movil</td>\n",
       "      <td>1</td>\n",
       "      <td>39868</td>\n",
       "      <td>5</td>\n",
       "      <td>11.0</td>\n",
       "    </tr>\n",
       "  </tbody>\n",
       "</table>\n",
       "</div>"
      ],
      "text/plain": [
       "   net_provider  num_operator  record_count  record_count_rank  avg_signal\n",
       "0      vodafone             4       2648415                  3        13.9\n",
       "1        orange            12       2774131                  2        13.2\n",
       "2         yoigo             1        357852                  4        13.0\n",
       "3      movistar             5       4663075                  1        12.9\n",
       "4       jazztel             1         28351                  6        11.9\n",
       "5  eroski movil             1         39868                  5        11.0"
      ]
     },
     "execution_count": 21,
     "metadata": {},
     "output_type": "execute_result"
    }
   ],
   "source": [
    "# SQL query: Top Signal Strength by Operator and Network (top 10% record_count, excluding null values)\n",
    "query = f\"\"\"\n",
    "WITH Top10Percent AS (\n",
    "  \n",
    "  # Subquery to prepare data to calculate the number of operators for each network\n",
    "  SELECT\n",
    "    net_provider,\n",
    "    num_operator,\n",
    "    record_count,\n",
    "    RANK() OVER (ORDER BY record_count DESC) AS record_count_rank,\n",
    "    avg_signal,\n",
    "    quartile\n",
    "  FROM (\n",
    "    SELECT\n",
    "      LOWER(net_provider) AS net_provider,\n",
    "      \n",
    "      # Calculate the number of distinct operators for each network\n",
    "      COUNT(DISTINCT LOWER(operator)) AS num_operator,\n",
    "      \n",
    "      COUNT(*) AS record_count,\n",
    "      ROUND(AVG(signal), 1) AS avg_signal,\n",
    "      NTILE(10) OVER (ORDER BY COUNT(*) DESC) AS quartile\n",
    "    FROM\n",
    "      `{mobile_data_cleaned}`\n",
    "    WHERE\n",
    "    \n",
    "    # Exclude rows with network 'null' (stored as string)\n",
    "      net_provider != 'null'\n",
    "    GROUP BY 1\n",
    "  )\n",
    ")\n",
    "\n",
    "SELECT\n",
    "  net_provider,\n",
    "  num_operator,\n",
    "  record_count,\n",
    "  record_count_rank,\n",
    "  avg_signal\n",
    "FROM\n",
    "  Top10Percent\n",
    "WHERE\n",
    "  quartile = 1\n",
    "ORDER BY\n",
    "  avg_signal DESC;\n",
    "    \"\"\"\n",
    "# Execute the query\n",
    "query_df(query)"
   ]
  },
  {
   "cell_type": "markdown",
   "id": "cb0a7ae2",
   "metadata": {},
   "source": [
    "Top Network and Operator by Record Count for Each Province"
   ]
  },
  {
   "cell_type": "code",
   "execution_count": null,
   "id": "ea315c8a",
   "metadata": {},
   "outputs": [],
   "source": [
    "# SQL query\n",
    "query = f\"\"\"\n",
    "WITH ProvinceActivity AS (\n",
    "  SELECT\n",
    "    CASE\n",
    "      WHEN LEFT(CAST(postal_code AS STRING), 2) = '08' THEN 'Barcelona'\n",
    "      WHEN LEFT(CAST(postal_code AS STRING), 2) = '25' THEN 'Lleida'\n",
    "      WHEN LEFT(CAST(postal_code AS STRING), 2) = '17' THEN 'Girona'\n",
    "      WHEN LEFT(CAST(postal_code AS STRING), 2) = '43' THEN 'Tarragona'\n",
    "      ELSE 'Not defined'\n",
    "    END AS province,\n",
    "    LOWER(network) AS network,\n",
    "    LOWER(operator) AS operator,\n",
    "    COUNT(*) AS record_count\n",
    "  FROM `{mobile_data_cleaned}`\n",
    "  GROUP BY province, network, operator\n",
    ")\n",
    "\n",
    "# Find the Rank of Network and Operator by Record Count for Each Province\n",
    ", RankedNetwork AS (\n",
    "  SELECT\n",
    "    province,\n",
    "    network,\n",
    "    operator,\n",
    "    record_count,\n",
    "    RANK() OVER (PARTITION BY province ORDER BY record_count DESC) AS network_rank\n",
    "  FROM ProvinceActivity\n",
    ")\n",
    "\n",
    ", RankedOperator AS (\n",
    "  SELECT\n",
    "    province,\n",
    "    network,\n",
    "    operator,\n",
    "    record_count,\n",
    "    RANK() OVER (PARTITION BY province ORDER BY record_count DESC) AS operator_rank\n",
    "  FROM ProvinceActivity\n",
    ")\n",
    "\n",
    "# Select the Top Network and Top Operator for Each Province\n",
    "SELECT\n",
    "  p.province,\n",
    "  n.network AS top_network,\n",
    "  o.operator AS top_operator\n",
    "  #n.record_count AS network_record_count,\n",
    "  #o.record_count AS operator_record_count\n",
    "FROM RankedNetwork n\n",
    "JOIN RankedOperator o ON n.province = o.province AND n.network_rank = 1 AND o.operator_rank = 1\n",
    "JOIN (SELECT DISTINCT province FROM ProvinceActivity) p ON n.province = p.province\n",
    "ORDER BY p.province;\n",
    "    \"\"\"\n",
    "# Execute the query\n",
    "query_df(query)"
   ]
  },
  {
   "cell_type": "markdown",
   "id": "99747ec9",
   "metadata": {},
   "source": [
    "### Description and activity"
   ]
  },
  {
   "cell_type": "markdown",
   "id": "98d98998",
   "metadata": {},
   "source": [
    "Description:\n",
    "    \n",
    "    - STATE_IN_SERVICE (0),\n",
    "    - STATE_OUT_OF_SERVICE (1),\n",
    "    - STATE_EMERGENCY_ONLY (2),\n",
    "    - STATE_POWER_OFF (3)\n",
    "    \n",
    "User Activity:\n",
    "\n",
    "    - IN_VEHICLE\n",
    "    - STILL\n",
    "    - ON_FOOT\n",
    "    - TILTING\n",
    "    - UNKNOWN\n",
    "    - ON_BICYCLE"
   ]
  },
  {
   "cell_type": "markdown",
   "id": "32deb8af",
   "metadata": {},
   "source": [
    "Activity Rank by Description with Overall Rank"
   ]
  },
  {
   "cell_type": "code",
   "execution_count": null,
   "id": "9e5d7a88",
   "metadata": {},
   "outputs": [],
   "source": [
    "# SQL query\n",
    "query = f\"\"\"\n",
    "# Activity Rank by Description with Overall Rank\n",
    "WITH ActivityRank AS (\n",
    "  SELECT\n",
    "    description,\n",
    "    activity,\n",
    "    RANK() OVER (PARTITION BY description ORDER BY COUNT(*) DESC) AS rank_by_description,\n",
    "    COUNT(*) AS record_count\n",
    "  FROM\n",
    "    `{mobile_data_cleaned}`\n",
    "  GROUP BY 1, 2\n",
    ")\n",
    "\n",
    "SELECT\n",
    "  description,\n",
    "  activity,\n",
    "  rank_by_description,\n",
    "  #record_count,\n",
    "  RANK() OVER (ORDER BY rank_by_description, record_count DESC) AS overall_rank\n",
    "FROM ActivityRank\n",
    "ORDER BY 1, 4 ASC;\n",
    "    \"\"\"\n",
    "# Execute the query\n",
    "query_df(query)"
   ]
  },
  {
   "cell_type": "markdown",
   "id": "87a84d2b",
   "metadata": {},
   "source": [
    "Calculate activity rank by description and activity, including most frequent town and overall rank"
   ]
  },
  {
   "cell_type": "code",
   "execution_count": null,
   "id": "d9e80054",
   "metadata": {},
   "outputs": [],
   "source": [
    "# SQL query\n",
    "query = f\"\"\"\n",
    "# Subquery to calculate the rank of activities by description\n",
    "WITH ActivityRank AS (\n",
    "  SELECT\n",
    "    description,\n",
    "    activity,\n",
    "    RANK() OVER (PARTITION BY description ORDER BY COUNT(*) DESC) AS rank_by_description,\n",
    "    COUNT(*) AS record_count\n",
    "  FROM\n",
    "    `bigquery-public-data.catalonian_mobile_coverage_eu.mobile_data_2015_2017`\n",
    "  GROUP BY description, activity\n",
    "),\n",
    "\n",
    "# Subquery to find the most frequent town for each unique pair of description and activity\n",
    "MostFrequentTown AS (\n",
    "  SELECT\n",
    "    description,\n",
    "    activity,\n",
    "    town_name,\n",
    "    RANK() OVER (PARTITION BY description, activity ORDER BY COUNT(*) DESC) AS town_rank\n",
    "  FROM\n",
    "    `{mobile_data_cleaned}`\n",
    "  GROUP BY description, activity, town_name\n",
    ")\n",
    "\n",
    "# Main query to combine the results and calculate overall rank\n",
    "SELECT\n",
    "  ar.description,\n",
    "  ar.activity,\n",
    "  ar.rank_by_description,\n",
    "  RANK() OVER (ORDER BY ar.rank_by_description, ar.record_count DESC) AS overall_rank,\n",
    "  mft.town_name AS most_frequent_town\n",
    "FROM ActivityRank ar\n",
    "# Join with the MostFrequentTown subquery to include the most frequent town\n",
    "JOIN MostFrequentTown mft ON ar.description = mft.description AND ar.activity = mft.activity\n",
    "# Filter for the most frequent town\n",
    "WHERE mft.town_rank = 1 \n",
    "ORDER BY 1, 3 ASC;\n",
    "    \"\"\"\n",
    "# Execute the query\n",
    "query_df(query)"
   ]
  }
 ],
 "metadata": {
  "kernelspec": {
   "display_name": "Python 3 (ipykernel)",
   "language": "python",
   "name": "python3"
  },
  "language_info": {
   "codemirror_mode": {
    "name": "ipython",
    "version": 3
   },
   "file_extension": ".py",
   "mimetype": "text/x-python",
   "name": "python",
   "nbconvert_exporter": "python",
   "pygments_lexer": "ipython3",
   "version": "3.9.13"
  }
 },
 "nbformat": 4,
 "nbformat_minor": 5
}
